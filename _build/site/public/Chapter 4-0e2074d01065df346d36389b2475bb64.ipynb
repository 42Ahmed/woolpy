{
 "cells": [
  {
   "cell_type": "markdown",
   "id": "492421da",
   "metadata": {},
   "source": [
    "# Multiple Regression Analysis: Inference"
   ]
  }
 ],
 "metadata": {
  "language_info": {
   "name": "python"
  }
 },
 "nbformat": 4,
 "nbformat_minor": 5
}
