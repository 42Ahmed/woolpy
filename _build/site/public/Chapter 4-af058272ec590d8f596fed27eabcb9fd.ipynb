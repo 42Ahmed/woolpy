{
 "cells": [
  {
   "cell_type": "markdown",
   "id": "492421da",
   "metadata": {},
   "source": [
    "# Multiple Regression Analysis: Inference"
   ]
  },
  {
   "cell_type": "markdown",
   "id": "5125d364",
   "metadata": {},
   "source": []
  }
 ],
 "metadata": {
  "language_info": {
   "name": "python"
  }
 },
 "nbformat": 4,
 "nbformat_minor": 5
}
