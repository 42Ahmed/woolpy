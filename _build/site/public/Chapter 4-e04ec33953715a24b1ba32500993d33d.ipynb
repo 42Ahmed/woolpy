{
 "cells": [
  {
   "cell_type": "markdown",
   "id": "492421da",
   "metadata": {},
   "source": [
    "# Multiple Regression Analysis: Inference"
   ]
  },
  {
   "cell_type": "code",
   "execution_count": null,
   "id": "5125d364",
   "metadata": {},
   "outputs": [],
   "source": [
    "import pandas as pd\n",
    "import numpy as np\n",
    "import wooldridge\n",
    "import statsmodels.formula.api as smf"
   ]
  },
  {
   "cell_type": "code",
   "execution_count": null,
   "id": "4d24bc25",
   "metadata": {},
   "outputs": [],
   "source": [
    "wooldridge.data()"
   ]
  },
  {
   "cell_type": "code",
   "execution_count": null,
   "id": "0d3793cd",
   "metadata": {},
   "outputs": [],
   "source": []
  }
 ],
 "metadata": {
  "kernelspec": {
   "display_name": "base",
   "language": "python",
   "name": "python3"
  },
  "language_info": {
   "codemirror_mode": {
    "name": "ipython",
    "version": 3
   },
   "file_extension": ".py",
   "mimetype": "text/x-python",
   "name": "python",
   "nbconvert_exporter": "python",
   "pygments_lexer": "ipython3",
   "version": "3.12.11"
  }
 },
 "nbformat": 4,
 "nbformat_minor": 5
}
