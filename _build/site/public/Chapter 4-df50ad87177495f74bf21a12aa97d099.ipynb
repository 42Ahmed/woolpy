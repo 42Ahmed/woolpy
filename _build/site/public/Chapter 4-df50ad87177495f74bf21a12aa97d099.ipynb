{
 "cells": [
  {
   "cell_type": "markdown",
   "id": "492421da",
   "metadata": {},
   "source": [
    "# Multiple Regression Analysis: Inference"
   ]
  },
  {
   "cell_type": "markdown",
   "id": "5125d364",
   "metadata": {},
   "source": [
    "import pandas as pd\n",
    "import numpy as np\n",
    "import wooldridge\n",
    "import statsmodels.formula.api as smf"
   ]
  }
 ],
 "metadata": {
  "language_info": {
   "name": "python"
  }
 },
 "nbformat": 4,
 "nbformat_minor": 5
}
