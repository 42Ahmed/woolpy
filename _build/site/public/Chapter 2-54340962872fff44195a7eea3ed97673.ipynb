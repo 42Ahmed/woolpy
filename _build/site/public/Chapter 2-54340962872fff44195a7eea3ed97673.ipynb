{
 "cells": [
  {
   "cell_type": "markdown",
   "id": "2101e3f5",
   "metadata": {},
   "source": [
    "# The Simple Regression Model"
   ]
  },
  {
   "cell_type": "code",
   "execution_count": 1,
   "id": "78c5d3f4",
   "metadata": {},
   "outputs": [],
   "source": [
    "import pandas as pd\n",
    "import numpy as np\n",
    "import wooldridge\n",
    "import statsmodels.formula.api as smf\n",
    "import seaborn as sns\n",
    "import matplotlib.pyplot as plt"
   ]
  },
  {
   "cell_type": "code",
   "execution_count": 2,
   "id": "a9b32272",
   "metadata": {},
   "outputs": [
    {
     "name": "stdout",
     "output_type": "stream",
     "text": [
      "  J.M. Wooldridge (2019) Introductory Econometrics: A Modern Approach,\n",
      "  Cengage Learning, 6th edition.\n",
      "\n",
      "  401k       401ksubs    admnrev       affairs     airfare\n",
      "  alcohol    apple       approval      athlet1     athlet2\n",
      "  attend     audit       barium        beauty      benefits\n",
      "  beveridge  big9salary  bwght         bwght2      campus\n",
      "  card       catholic    cement        census2000  ceosal1\n",
      "  ceosal2    charity     consump       corn        countymurders\n",
      "  cps78_85   cps91       crime1        crime2      crime3\n",
      "  crime4     discrim     driving       earns       econmath\n",
      "  elem94_95  engin       expendshares  ezanders    ezunem\n",
      "  fair       fertil1     fertil2       fertil3     fish\n",
      "  fringe     gpa1        gpa2          gpa3        happiness\n",
      "  hprice1    hprice2     hprice3       hseinv      htv\n",
      "  infmrt     injury      intdef        intqrt      inven\n",
      "  jtrain     jtrain2     jtrain3       kielmc      lawsch85\n",
      "  loanapp    lowbrth     mathpnl       meap00_01   meap01\n",
      "  meap93     meapsingle  minwage       mlb1        mroz\n",
      "  murder     nbasal      nyse          okun        openness\n",
      "  pension    phillips    pntsprd       prison      prminwge\n",
      "  rdchem     rdtelec     recid         rental      return\n",
      "  saving     sleep75     slp75_81      smoke       traffic1\n",
      "  traffic2   twoyear     volat         vote1       vote2\n",
      "  voucher    wage1       wage2         wagepan     wageprc\n",
      "  wine\n"
     ]
    }
   ],
   "source": [
    "wooldridge.data()"
   ]
  },
  {
   "cell_type": "markdown",
   "id": "adc0bd4e",
   "metadata": {},
   "source": [
    "## Examples"
   ]
  },
  {
   "cell_type": "code",
   "execution_count": 3,
   "id": "d5786985",
   "metadata": {},
   "outputs": [],
   "source": [
    "ceosal1 = wooldridge.data('ceosal1')\n",
    "wage1 = wooldridge.data('wage1')\n",
    "vote1 = wooldridge.data('vote1')\n",
    "meap93 = wooldridge.data('meap93')\n",
    "jtrain2 = wooldridge.data('jtrain2')"
   ]
  },
  {
   "cell_type": "markdown",
   "id": "64a63f56",
   "metadata": {},
   "source": [
    "### 2.1 Soybean Yield and Fertilizer"
   ]
  },
  {
   "cell_type": "markdown",
   "id": "73864903",
   "metadata": {},
   "source": [
    "$$ yield = \\beta_0 + \\beta_1 \\, fertilizer + u $$"
   ]
  },
  {
   "cell_type": "markdown",
   "id": "ace62149",
   "metadata": {},
   "source": [
    "$\\beta_1$ is ceteris paribus effect of fertilizer on yield  \n",
    "$u$ contains omitted factors  \n",
    "$$ \\Delta yield = \\beta_1 \\Delta fertilizer$$"
   ]
  },
  {
   "cell_type": "markdown",
   "id": "4521d0b8",
   "metadata": {},
   "source": [
    "### 2.2 A Simple Wage Equation"
   ]
  },
  {
   "cell_type": "markdown",
   "id": "75add221",
   "metadata": {},
   "source": [
    "$$ wage = \\beta_0 + \\beta_1 \\, educ + u$$"
   ]
  },
  {
   "cell_type": "markdown",
   "id": "0313ea1e",
   "metadata": {},
   "source": [
    "$\\beta_1$ measures change of wage associated with extra year of education, ceteris paribus"
   ]
  },
  {
   "cell_type": "markdown",
   "id": "7762f6d7",
   "metadata": {},
   "source": [
    "### 2.3 CEO Salary and Return on Equity"
   ]
  },
  {
   "cell_type": "code",
   "execution_count": 4,
   "id": "035fc715",
   "metadata": {},
   "outputs": [
    {
     "name": "stdout",
     "output_type": "stream",
     "text": [
      "name of dataset: ceosal1\n",
      "no of variables: 12\n",
      "no of observations: 209\n",
      "\n",
      "+----------+-------------------------------+\n",
      "| variable | label                         |\n",
      "+----------+-------------------------------+\n",
      "| salary   | 1990 salary, thousands $      |\n",
      "| pcsalary | % change salary, 89-90        |\n",
      "| sales    | 1990 firm sales, millions $   |\n",
      "| roe      | return on equity, 88-90 avg   |\n",
      "| pcroe    | % change roe, 88-90           |\n",
      "| ros      | return on firm's stock, 88-90 |\n",
      "| indus    | =1 if industrial firm         |\n",
      "| finance  | =1 if financial firm          |\n",
      "| consprod | =1 if consumer product firm   |\n",
      "| utility  | =1 if transport. or utilties  |\n",
      "| lsalary  | natural log of salary         |\n",
      "| lsales   | natural log of sales          |\n",
      "+----------+-------------------------------+\n",
      "\n",
      "I took a random sample of data reported in the May 6, 1991 issue of\n",
      "Businessweek.\n"
     ]
    }
   ],
   "source": [
    "wooldridge.data('ceosal1', description= True)"
   ]
  },
  {
   "cell_type": "code",
   "execution_count": 5,
   "id": "91ae7d90",
   "metadata": {},
   "outputs": [
    {
     "data": {
      "text/plain": [
       "(Intercept    963.191336\n",
       " roe           18.501186\n",
       " dtype: float64,\n",
       " 209.0)"
      ]
     },
     "execution_count": 5,
     "metadata": {},
     "output_type": "execute_result"
    }
   ],
   "source": [
    "model03 = smf.ols('salary ~ roe', data = ceosal1).fit()\n",
    "model03.params, model03.nobs"
   ]
  },
  {
   "cell_type": "markdown",
   "id": "45368d17",
   "metadata": {},
   "source": [
    "Salary is $\\beta_0$ = $963,191 if return on equity is 0 [salary is measured in thousands]"
   ]
  },
  {
   "cell_type": "markdown",
   "id": "23b2c38d",
   "metadata": {},
   "source": [
    "roe is defined of net income as a percentage of common equity  \n",
    "If return on equity increases by one percentage point, salary will increase by $18,500"
   ]
  },
  {
   "cell_type": "markdown",
   "id": "405ff630",
   "metadata": {},
   "source": [
    "if roe=30, salary is expected to be $(963.191 + 18.501(30)) * 1000 = 1,518,221$"
   ]
  },
  {
   "cell_type": "markdown",
   "id": "c6d7afb1",
   "metadata": {},
   "source": [
    "### 2.4 Wage and Education"
   ]
  },
  {
   "cell_type": "code",
   "execution_count": 6,
   "id": "fbcc828a",
   "metadata": {},
   "outputs": [
    {
     "name": "stdout",
     "output_type": "stream",
     "text": [
      "name of dataset: wage1\n",
      "no of variables: 24\n",
      "no of observations: 526\n",
      "\n",
      "+----------+---------------------------------+\n",
      "| variable | label                           |\n",
      "+----------+---------------------------------+\n",
      "| wage     | average hourly earnings         |\n",
      "| educ     | years of education              |\n",
      "| exper    | years potential experience      |\n",
      "| tenure   | years with current employer     |\n",
      "| nonwhite | =1 if nonwhite                  |\n",
      "| female   | =1 if female                    |\n",
      "| married  | =1 if married                   |\n",
      "| numdep   | number of dependents            |\n",
      "| smsa     | =1 if live in SMSA              |\n",
      "| northcen | =1 if live in north central U.S |\n",
      "| south    | =1 if live in southern region   |\n",
      "| west     | =1 if live in western region    |\n",
      "| construc | =1 if work in construc. indus.  |\n",
      "| ndurman  | =1 if in nondur. manuf. indus.  |\n",
      "| trcommpu | =1 if in trans, commun, pub ut  |\n",
      "| trade    | =1 if in wholesale or retail    |\n",
      "| services | =1 if in services indus.        |\n",
      "| profserv | =1 if in prof. serv. indus.     |\n",
      "| profocc  | =1 if in profess. occupation    |\n",
      "| clerocc  | =1 if in clerical occupation    |\n",
      "| servocc  | =1 if in service occupation     |\n",
      "| lwage    | log(wage)                       |\n",
      "| expersq  | exper^2                         |\n",
      "| tenursq  | tenure^2                        |\n",
      "+----------+---------------------------------+\n",
      "\n",
      "These are data from the 1976 Current Population Survey, collected by\n",
      "Henry Farber when he and I were colleagues at MIT in 1988.\n"
     ]
    }
   ],
   "source": [
    "wooldridge.data('wage1', description = True)"
   ]
  },
  {
   "cell_type": "code",
   "execution_count": 7,
   "id": "330dec56",
   "metadata": {},
   "outputs": [
    {
     "data": {
      "text/plain": [
       "(Intercept   -0.904852\n",
       " educ         0.541359\n",
       " dtype: float64,\n",
       " 526.0)"
      ]
     },
     "execution_count": 7,
     "metadata": {},
     "output_type": "execute_result"
    }
   ],
   "source": [
    "model04 = smf.ols('wage~educ', data=wage1).fit()\n",
    "model04.params, model04.nobs"
   ]
  },
  {
   "cell_type": "code",
   "execution_count": 8,
   "id": "2a5a521b",
   "metadata": {},
   "outputs": [
    {
     "data": {
      "text/plain": [
       "<Axes: ylabel='Frequency'>"
      ]
     },
     "execution_count": 8,
     "metadata": {},
     "output_type": "execute_result"
    },
    {
     "data": {
      "image/png": "[encoded data removed]",
      "text/plain": [
       "<Figure size 640x480 with 1 Axes>"
      ]
     },
     "metadata": {},
     "output_type": "display_data"
    }
   ],
   "source": [
    "wage1['educ'].plot(kind = 'hist')"
   ]
  },
  {
   "cell_type": "markdown",
   "id": "95b28c2f",
   "metadata": {},
   "source": [
    "A person with no education is predicted to have an hourly wage of $-0.9. We got this result because the regression extrapolated"
   ]
  },
  {
   "cell_type": "markdown",
   "id": "78670841",
   "metadata": {},
   "source": [
    "One more year of education is expected to increase predicted wage by $0.54"
   ]
  },
  {
   "cell_type": "markdown",
   "id": "f5b4aa09",
   "metadata": {},
   "source": [
    "### 2.5 Voting Outcomes and Campaign Expenditures"
   ]
  },
  {
   "cell_type": "code",
   "execution_count": 9,
   "id": "b64865a9",
   "metadata": {},
   "outputs": [
    {
     "name": "stdout",
     "output_type": "stream",
     "text": [
      "name of dataset: vote1\n",
      "no of variables: 10\n",
      "no of observations: 173\n",
      "\n",
      "+----------+---------------------------------+\n",
      "| variable | label                           |\n",
      "+----------+---------------------------------+\n",
      "| state    | state postal code               |\n",
      "| district | congressional district          |\n",
      "| democA   | =1 if A is democrat             |\n",
      "| voteA    | percent vote for A              |\n",
      "| expendA  | camp. expends. by A, $1000s     |\n",
      "| expendB  | camp. expends. by B, $1000s     |\n",
      "| prtystrA | % vote for president            |\n",
      "| lexpendA | log(expendA)                    |\n",
      "| lexpendB | log(expendB)                    |\n",
      "| shareA   | 100*(expendA/(expendA+expendB)) |\n",
      "+----------+---------------------------------+\n",
      "\n",
      "From M. Barone and G. Ujifusa, The Almanac of American Politics, 1992.\n",
      "Washington, DC: National Journal.\n"
     ]
    }
   ],
   "source": [
    "wooldridge.data('vote1', description = True)"
   ]
  },
  {
   "cell_type": "code",
   "execution_count": 10,
   "id": "b6f45b0c",
   "metadata": {},
   "outputs": [
    {
     "data": {
      "text/plain": [
       "(Intercept    26.812214\n",
       " shareA        0.463827\n",
       " dtype: float64,\n",
       " 173.0)"
      ]
     },
     "execution_count": 10,
     "metadata": {},
     "output_type": "execute_result"
    }
   ],
   "source": [
    "model05 = smf.ols('voteA ~ shareA', data = vote1).fit()\n",
    "model05.params, model05.nobs"
   ]
  },
  {
   "cell_type": "markdown",
   "id": "6a31427e",
   "metadata": {},
   "source": [
    "voteA and shareA are both percentages  \n",
    "one more percentage point change in shareA results in almost half percentage point increase of total vote"
   ]
  },
  {
   "cell_type": "markdown",
   "id": "322c50c0",
   "metadata": {},
   "source": [
    "### 2.6 CEO Salary and Return on Equity"
   ]
  },
  {
   "cell_type": "code",
   "execution_count": 11,
   "id": "fa0d92c6",
   "metadata": {},
   "outputs": [
    {
     "data": {
      "text/html": [
       "<div>\n",
       "<style scoped>\n",
       "    .dataframe tbody tr th:only-of-type {\n",
       "        vertical-align: middle;\n",
       "    }\n",
       "\n",
       "    .dataframe tbody tr th {\n",
       "        vertical-align: top;\n",
       "    }\n",
       "\n",
       "    .dataframe thead th {\n",
       "        text-align: right;\n",
       "    }\n",
       "</style>\n",
       "<table border=\"1\" class=\"dataframe\">\n",
       "  <thead>\n",
       "    <tr style=\"text-align: right;\">\n",
       "      <th></th>\n",
       "      <th>roe</th>\n",
       "      <th>salary</th>\n",
       "      <th>salary_hat</th>\n",
       "      <th>u</th>\n",
       "    </tr>\n",
       "  </thead>\n",
       "  <tbody>\n",
       "    <tr>\n",
       "      <th>0</th>\n",
       "      <td>14.100000</td>\n",
       "      <td>1095</td>\n",
       "      <td>1224.058071</td>\n",
       "      <td>-129.058071</td>\n",
       "    </tr>\n",
       "    <tr>\n",
       "      <th>1</th>\n",
       "      <td>10.900000</td>\n",
       "      <td>1001</td>\n",
       "      <td>1164.854261</td>\n",
       "      <td>-163.854261</td>\n",
       "    </tr>\n",
       "    <tr>\n",
       "      <th>2</th>\n",
       "      <td>23.500000</td>\n",
       "      <td>1122</td>\n",
       "      <td>1397.969216</td>\n",
       "      <td>-275.969216</td>\n",
       "    </tr>\n",
       "    <tr>\n",
       "      <th>3</th>\n",
       "      <td>5.900000</td>\n",
       "      <td>578</td>\n",
       "      <td>1072.348338</td>\n",
       "      <td>-494.348338</td>\n",
       "    </tr>\n",
       "    <tr>\n",
       "      <th>4</th>\n",
       "      <td>13.800000</td>\n",
       "      <td>1368</td>\n",
       "      <td>1218.507712</td>\n",
       "      <td>149.492288</td>\n",
       "    </tr>\n",
       "    <tr>\n",
       "      <th>5</th>\n",
       "      <td>20.000000</td>\n",
       "      <td>1145</td>\n",
       "      <td>1333.215063</td>\n",
       "      <td>-188.215063</td>\n",
       "    </tr>\n",
       "    <tr>\n",
       "      <th>6</th>\n",
       "      <td>16.400000</td>\n",
       "      <td>1078</td>\n",
       "      <td>1266.610785</td>\n",
       "      <td>-188.610785</td>\n",
       "    </tr>\n",
       "    <tr>\n",
       "      <th>7</th>\n",
       "      <td>16.299999</td>\n",
       "      <td>1094</td>\n",
       "      <td>1264.760660</td>\n",
       "      <td>-170.760660</td>\n",
       "    </tr>\n",
       "    <tr>\n",
       "      <th>8</th>\n",
       "      <td>10.500000</td>\n",
       "      <td>1237</td>\n",
       "      <td>1157.453793</td>\n",
       "      <td>79.546207</td>\n",
       "    </tr>\n",
       "    <tr>\n",
       "      <th>9</th>\n",
       "      <td>26.299999</td>\n",
       "      <td>833</td>\n",
       "      <td>1449.772523</td>\n",
       "      <td>-616.772523</td>\n",
       "    </tr>\n",
       "  </tbody>\n",
       "</table>\n",
       "</div>"
      ],
      "text/plain": [
       "         roe  salary   salary_hat           u\n",
       "0  14.100000    1095  1224.058071 -129.058071\n",
       "1  10.900000    1001  1164.854261 -163.854261\n",
       "2  23.500000    1122  1397.969216 -275.969216\n",
       "3   5.900000     578  1072.348338 -494.348338\n",
       "4  13.800000    1368  1218.507712  149.492288\n",
       "5  20.000000    1145  1333.215063 -188.215063\n",
       "6  16.400000    1078  1266.610785 -188.610785\n",
       "7  16.299999    1094  1264.760660 -170.760660\n",
       "8  10.500000    1237  1157.453793   79.546207\n",
       "9  26.299999     833  1449.772523 -616.772523"
      ]
     },
     "execution_count": 11,
     "metadata": {},
     "output_type": "execute_result"
    }
   ],
   "source": [
    "df = wooldridge.data('ceosal1')\n",
    "model06 = smf.ols('salary ~ roe', data = df).fit()\n",
    "\n",
    "df['salary_hat'] = model06.fittedvalues\n",
    "df['u'] = model06.resid\n",
    "df[['roe', 'salary', 'salary_hat', 'u']].head(10)"
   ]
  },
  {
   "cell_type": "code",
   "execution_count": 12,
   "id": "dc6f6bb5",
   "metadata": {},
   "outputs": [
    {
     "data": {
      "text/plain": [
       "0"
      ]
     },
     "execution_count": 12,
     "metadata": {},
     "output_type": "execute_result"
    }
   ],
   "source": [
    "int(df['u'].sum())"
   ]
  },
  {
   "cell_type": "markdown",
   "id": "da4ad5bd",
   "metadata": {},
   "source": [
    "The $\\beta's$ are chosen to make sum of residuals = 0"
   ]
  },
  {
   "cell_type": "markdown",
   "id": "dd460d09",
   "metadata": {},
   "source": [
    "### 2.7 Wage and Education"
   ]
  },
  {
   "cell_type": "code",
   "execution_count": 13,
   "id": "14cd41aa",
   "metadata": {},
   "outputs": [
    {
     "data": {
      "text/plain": [
       "(Intercept   -0.904852\n",
       " educ         0.541359\n",
       " dtype: float64,\n",
       " 526.0)"
      ]
     },
     "execution_count": 13,
     "metadata": {},
     "output_type": "execute_result"
    }
   ],
   "source": [
    "model07 = smf.ols('wage~educ', data=wage1).fit()\n",
    "model07.params, model07.nobs"
   ]
  },
  {
   "cell_type": "code",
   "execution_count": 14,
   "id": "d8bd235c",
   "metadata": {},
   "outputs": [
    {
     "data": {
      "text/plain": [
       "(np.float64(12.56), np.float64(5.9))"
      ]
     },
     "execution_count": 14,
     "metadata": {},
     "output_type": "execute_result"
    }
   ],
   "source": [
    "round(wage1['educ'].mean(),2), round(wage1['wage'].mean(),2)"
   ]
  },
  {
   "cell_type": "code",
   "execution_count": 15,
   "id": "ee611f12",
   "metadata": {},
   "outputs": [
    {
     "data": {
      "text/plain": [
       "0    5.894621\n",
       "dtype: float64"
      ]
     },
     "execution_count": 15,
     "metadata": {},
     "output_type": "execute_result"
    }
   ],
   "source": [
    "new_data = pd.DataFrame({'educ': [12.56]})\n",
    "model07.predict(new_data)"
   ]
  },
  {
   "cell_type": "markdown",
   "id": "780e9d8c",
   "metadata": {},
   "source": [
    "Rergerssion equation must pass through the mean points"
   ]
  },
  {
   "cell_type": "markdown",
   "id": "2908c28a",
   "metadata": {},
   "source": [
    "### 2.8 CEO Salary and Return on Equity"
   ]
  },
  {
   "cell_type": "code",
   "execution_count": 16,
   "id": "04e013e7",
   "metadata": {},
   "outputs": [
    {
     "data": {
      "text/plain": [
       "np.float64(0.01318862408103405)"
      ]
     },
     "execution_count": 16,
     "metadata": {},
     "output_type": "execute_result"
    }
   ],
   "source": [
    "model08 = smf.ols('salary ~ roe', data = ceosal1).fit()\n",
    "model08.rsquared"
   ]
  },
  {
   "cell_type": "markdown",
   "id": "32f9c4dd",
   "metadata": {},
   "source": [
    "Firm return on equity explains 1.3% of the total variation in salary"
   ]
  },
  {
   "cell_type": "markdown",
   "id": "5ab8c7ee",
   "metadata": {},
   "source": [
    "### 2.9 Voting Outcomes and Campaign Expenditures"
   ]
  },
  {
   "cell_type": "code",
   "execution_count": 17,
   "id": "d4fce081",
   "metadata": {},
   "outputs": [
    {
     "data": {
      "text/plain": [
       "np.float64(0.8561408655827665)"
      ]
     },
     "execution_count": 17,
     "metadata": {},
     "output_type": "execute_result"
    }
   ],
   "source": [
    "model09 = smf.ols('voteA ~ shareA', data = vote1).fit()\n",
    "model09.rsquared"
   ]
  },
  {
   "cell_type": "markdown",
   "id": "e308fa2c",
   "metadata": {},
   "source": [
    "Share of campaign expenditures explains 85% of the variation in the election outcome"
   ]
  },
  {
   "cell_type": "markdown",
   "id": "f702f94f",
   "metadata": {},
   "source": [
    "### 2.10 A log Wage Equation"
   ]
  },
  {
   "cell_type": "code",
   "execution_count": 18,
   "id": "579aaf4c",
   "metadata": {},
   "outputs": [
    {
     "data": {
      "text/plain": [
       "(Intercept    0.583773\n",
       " educ         0.082744\n",
       " dtype: float64,\n",
       " 526.0,\n",
       " np.float64(0.18580647728823507))"
      ]
     },
     "execution_count": 18,
     "metadata": {},
     "output_type": "execute_result"
    }
   ],
   "source": [
    "model010 = smf.ols('np.log(wage)~educ', data=wage1).fit()\n",
    "model010.params, model010.nobs, model010.rsquared"
   ]
  },
  {
   "cell_type": "markdown",
   "id": "69750513",
   "metadata": {},
   "source": [
    "For every year of education, wage increases by $0.083 * 100 = 8.3\\%$\n",
    "\n",
    "Note: adding log allowed to get constant percentage change interpretation"
   ]
  },
  {
   "cell_type": "markdown",
   "id": "bfa418b7",
   "metadata": {},
   "source": [
    "### 2.11 CEO Salary and Firm Sales"
   ]
  },
  {
   "cell_type": "code",
   "execution_count": 19,
   "id": "c0270f16",
   "metadata": {},
   "outputs": [
    {
     "data": {
      "text/plain": [
       "Intercept        4.821996\n",
       "np.log(sales)    0.256672\n",
       "dtype: float64"
      ]
     },
     "execution_count": 19,
     "metadata": {},
     "output_type": "execute_result"
    }
   ],
   "source": [
    "model011 = smf.ols('np.log(salary) ~ np.log(sales)', data = ceosal1).fit()\n",
    "model011.params"
   ]
  },
  {
   "cell_type": "markdown",
   "id": "c1005e94",
   "metadata": {},
   "source": [
    "A 1% increase in firm sales increases CEO salary by about 0.257% [elasticity model]"
   ]
  },
  {
   "cell_type": "markdown",
   "id": "31e0afe2",
   "metadata": {},
   "source": [
    "### 2.12 Student Math Performance and the School Lunch Program"
   ]
  },
  {
   "cell_type": "code",
   "execution_count": 20,
   "id": "74ed37b1",
   "metadata": {},
   "outputs": [
    {
     "name": "stdout",
     "output_type": "stream",
     "text": [
      "name of dataset: meap93\n",
      "no of variables: 17\n",
      "no of observations: 408\n",
      "\n",
      "+----------+---------------------------------+\n",
      "| variable | label                           |\n",
      "+----------+---------------------------------+\n",
      "| lnchprg  | perc of studs in sch lnch prog  |\n",
      "| enroll   | school enrollment               |\n",
      "| staff    | staff per 1000 students         |\n",
      "| expend   | expend. per stud, $             |\n",
      "| salary   | avg. teacher salary, $          |\n",
      "| benefits | avg. teacher benefits, $        |\n",
      "| droprate | school dropout rate, perc       |\n",
      "| gradrate | school graduation rate, perc    |\n",
      "| math10   | perc studs passing MEAP math    |\n",
      "| sci11    | perc studs passing MEAP science |\n",
      "| totcomp  | salary + benefits               |\n",
      "| ltotcomp | log(totcomp)                    |\n",
      "| lexpend  | log of expend                   |\n",
      "| lenroll  | log(enroll)                     |\n",
      "| lstaff   | log(staff)                      |\n",
      "| bensal   | benefits/salary                 |\n",
      "| lsalary  | log(salary)                     |\n",
      "+----------+---------------------------------+\n",
      "\n",
      "I collected these data from the old Michigan Department of Education\n",
      "web site. See MATHPNL.RAW for the current web site. I used data on\n",
      "most high schools in the state of Michigan for 1993. I dropped some\n",
      "high schools that had suspicious-looking data.\n"
     ]
    }
   ],
   "source": [
    "wooldridge.data('meap93', description = True)"
   ]
  },
  {
   "cell_type": "code",
   "execution_count": 21,
   "id": "361fcc6e",
   "metadata": {},
   "outputs": [
    {
     "data": {
      "text/plain": [
       "Intercept    32.142712\n",
       "lnchprg      -0.318864\n",
       "dtype: float64"
      ]
     },
     "execution_count": 21,
     "metadata": {},
     "output_type": "execute_result"
    }
   ],
   "source": [
    "model012 = smf.ols('math10 ~ lnchprg', data = meap93).fit()\n",
    "model012.params"
   ]
  },
  {
   "cell_type": "markdown",
   "id": "c2ac513e",
   "metadata": {},
   "source": [
    "If student eligibility in lunch program increases by 10 percentage points, his math results falls by 3.2 percentage points \n",
    "\n",
    "Note: nonsensical data, which shows that error term is correlated with the independent variable"
   ]
  },
  {
   "cell_type": "markdown",
   "id": "d5de0ca9",
   "metadata": {},
   "source": [
    "### 2.13 Heteroskedasticity in a Wage Equation"
   ]
  },
  {
   "cell_type": "code",
   "execution_count": 22,
   "id": "b838e775",
   "metadata": {},
   "outputs": [
    {
     "data": {
      "image/png": "[encoded data removed]",
      "text/plain": [
       "<Figure size 500x500 with 1 Axes>"
      ]
     },
     "metadata": {},
     "output_type": "display_data"
    }
   ],
   "source": [
    "sns.lmplot(x='educ', y='wage', data=wage1, ci=None, line_kws={'color': 'red'})\n",
    "\n",
    "\n",
    "plt.title('Wage vs. Education (Check for Heteroscedasticity)')\n",
    "plt.xlabel('Years of Education')\n",
    "plt.ylabel('Wage')\n",
    "plt.show()"
   ]
  },
  {
   "cell_type": "markdown",
   "id": "1be0cc4c",
   "metadata": {},
   "source": [
    "as years of education increases, variability in wage increases"
   ]
  },
  {
   "cell_type": "markdown",
   "id": "616fb600",
   "metadata": {},
   "source": [
    "### 2.14 Evaluating a Job Training Program"
   ]
  },
  {
   "cell_type": "code",
   "execution_count": 23,
   "id": "3b09271e",
   "metadata": {},
   "outputs": [
    {
     "name": "stdout",
     "output_type": "stream",
     "text": [
      "name of dataset: jtrain2\n",
      "no of variables: 19\n",
      "no of observations: 445\n",
      "\n",
      "+----------+---------------------------------+\n",
      "| variable | label                           |\n",
      "+----------+---------------------------------+\n",
      "| train    | =1 if assigned to job training  |\n",
      "| age      | age in 1977                     |\n",
      "| educ     | years of education              |\n",
      "| black    | =1 if black                     |\n",
      "| hisp     | =1 if Hispanic                  |\n",
      "| married  | =1 if married                   |\n",
      "| nodegree | =1 if no high school degree     |\n",
      "| mosinex  | # mnths prior to 1/78 in expmnt |\n",
      "| re74     | real earns., 1974, $1000s       |\n",
      "| re75     | real earns., 1975, $1000s       |\n",
      "| re78     | real earns., 1978, $1000s       |\n",
      "| unem74   | =1 if unem. all of 1974         |\n",
      "| unem75   | =1 if unem. all of 1975         |\n",
      "| unem78   | =1 if unem. all of 1978         |\n",
      "| lre74    | log(re74); zero if re74 == 0    |\n",
      "| lre75    | log(re75); zero if re75 == 0    |\n",
      "| lre78    | log(re78); zero if re78 == 0    |\n",
      "| agesq    | age^2                           |\n",
      "| mostrn   | months in training              |\n",
      "+----------+---------------------------------+\n",
      "\n",
      "R.J. Lalonde (1986), “Evaluating the Econometric Evaluations of\n",
      "Training Programs with Experimental Data,” American Economic Review\n",
      "76, 604-620. Professor Jeff Biddle, at MSU, kindly passed the data set\n",
      "along to me. He obtained it from Professor Lalonde.\n"
     ]
    }
   ],
   "source": [
    "wooldridge.data('jtrain2', description = True)"
   ]
  },
  {
   "cell_type": "code",
   "execution_count": 24,
   "id": "ed262ea6",
   "metadata": {},
   "outputs": [
    {
     "data": {
      "text/plain": [
       "(Intercept    4.554802\n",
       " train        1.794343\n",
       " dtype: float64,\n",
       " np.float64(0.01782339297778035))"
      ]
     },
     "execution_count": 24,
     "metadata": {},
     "output_type": "execute_result"
    }
   ],
   "source": [
    "model014 = smf.ols('re78 ~ train', data = jtrain2).fit()\n",
    "model014.params, model014.rsquared"
   ]
  },
  {
   "cell_type": "markdown",
   "id": "dae13633",
   "metadata": {},
   "source": [
    "Workers who participated in the program earned $1790 more than those who did not, OLS assumptions are met due to random assignment\n",
    "\n",
    "$R^2 = 1.8\\%$ shows that $var(u) > var(y)$"
   ]
  },
  {
   "cell_type": "markdown",
   "id": "267eff21",
   "metadata": {},
   "source": [
    "## Computer Problems"
   ]
  },
  {
   "cell_type": "markdown",
   "id": "64d6c516",
   "metadata": {},
   "source": [
    "### C1 The data in 401K\n",
    "are a subset of data analyzed by Papke (1995) to study the relationship between participation in a 401(k) pension plan and the generosity of the plan.\n",
    "\n",
    " The variable prate is the percentage of eligible workers with an active account; this is the variable we would like to explain. \n",
    " \n",
    "The measure of generosity is the plan match rate, mrate. This variable gives the average amount the firm\n",
    "contributes to each worker’s plan for each $1 contribution by the worker.\n",
    "\n",
    " For example, if mrate = 0.50, then a $1 contribution by the worker is matched by a 50¢ contribution by the firm"
   ]
  },
  {
   "cell_type": "code",
   "execution_count": 25,
   "id": "e868ba96",
   "metadata": {},
   "outputs": [
    {
     "name": "stdout",
     "output_type": "stream",
     "text": [
      "name of dataset: 401k\n",
      "no of variables: 8\n",
      "no of observations: 1534\n",
      "\n",
      "+----------+---------------------------------+\n",
      "| variable | label                           |\n",
      "+----------+---------------------------------+\n",
      "| prate    | participation rate, percent     |\n",
      "| mrate    | 401k plan match rate            |\n",
      "| totpart  | total 401k participants         |\n",
      "| totelg   | total eligible for 401k plan    |\n",
      "| age      | age of 401k plan                |\n",
      "| totemp   | total number of firm employees  |\n",
      "| sole     | = 1 if 401k is firm's sole plan |\n",
      "| ltotemp  | log of totemp                   |\n",
      "+----------+---------------------------------+\n",
      "\n",
      "L.E. Papke (1995), “Participation in and Contributions to 401(k)\n",
      "Pension Plans:Evidence from Plan Data,” Journal of Human Resources 30,\n",
      "311-325. Professor Papke kindly provided these data. She gathered them\n",
      "from the Internal Revenue Service’s Form 5500 tapes.\n"
     ]
    }
   ],
   "source": [
    "wooldridge.data('401k', description=True)"
   ]
  },
  {
   "cell_type": "code",
   "execution_count": 26,
   "id": "d570ddcb",
   "metadata": {},
   "outputs": [
    {
     "data": {
      "text/html": [
       "<div>\n",
       "<style scoped>\n",
       "    .dataframe tbody tr th:only-of-type {\n",
       "        vertical-align: middle;\n",
       "    }\n",
       "\n",
       "    .dataframe tbody tr th {\n",
       "        vertical-align: top;\n",
       "    }\n",
       "\n",
       "    .dataframe thead th {\n",
       "        text-align: right;\n",
       "    }\n",
       "</style>\n",
       "<table border=\"1\" class=\"dataframe\">\n",
       "  <thead>\n",
       "    <tr style=\"text-align: right;\">\n",
       "      <th></th>\n",
       "      <th>prate</th>\n",
       "      <th>mrate</th>\n",
       "      <th>totpart</th>\n",
       "      <th>totelg</th>\n",
       "      <th>age</th>\n",
       "      <th>totemp</th>\n",
       "      <th>sole</th>\n",
       "      <th>ltotemp</th>\n",
       "    </tr>\n",
       "  </thead>\n",
       "  <tbody>\n",
       "    <tr>\n",
       "      <th>0</th>\n",
       "      <td>26.100000</td>\n",
       "      <td>0.21</td>\n",
       "      <td>1653.0</td>\n",
       "      <td>6322.0</td>\n",
       "      <td>8</td>\n",
       "      <td>8709.0</td>\n",
       "      <td>0</td>\n",
       "      <td>9.072112</td>\n",
       "    </tr>\n",
       "    <tr>\n",
       "      <th>1</th>\n",
       "      <td>100.000000</td>\n",
       "      <td>1.42</td>\n",
       "      <td>262.0</td>\n",
       "      <td>262.0</td>\n",
       "      <td>6</td>\n",
       "      <td>315.0</td>\n",
       "      <td>1</td>\n",
       "      <td>5.752573</td>\n",
       "    </tr>\n",
       "    <tr>\n",
       "      <th>2</th>\n",
       "      <td>97.599998</td>\n",
       "      <td>0.91</td>\n",
       "      <td>166.0</td>\n",
       "      <td>170.0</td>\n",
       "      <td>10</td>\n",
       "      <td>275.0</td>\n",
       "      <td>1</td>\n",
       "      <td>5.616771</td>\n",
       "    </tr>\n",
       "    <tr>\n",
       "      <th>3</th>\n",
       "      <td>100.000000</td>\n",
       "      <td>0.42</td>\n",
       "      <td>257.0</td>\n",
       "      <td>257.0</td>\n",
       "      <td>7</td>\n",
       "      <td>500.0</td>\n",
       "      <td>0</td>\n",
       "      <td>6.214608</td>\n",
       "    </tr>\n",
       "    <tr>\n",
       "      <th>4</th>\n",
       "      <td>82.500000</td>\n",
       "      <td>0.53</td>\n",
       "      <td>591.0</td>\n",
       "      <td>716.0</td>\n",
       "      <td>28</td>\n",
       "      <td>933.0</td>\n",
       "      <td>1</td>\n",
       "      <td>6.838405</td>\n",
       "    </tr>\n",
       "  </tbody>\n",
       "</table>\n",
       "</div>"
      ],
      "text/plain": [
       "        prate  mrate  totpart  totelg  age  totemp  sole   ltotemp\n",
       "0   26.100000   0.21   1653.0  6322.0    8  8709.0     0  9.072112\n",
       "1  100.000000   1.42    262.0   262.0    6   315.0     1  5.752573\n",
       "2   97.599998   0.91    166.0   170.0   10   275.0     1  5.616771\n",
       "3  100.000000   0.42    257.0   257.0    7   500.0     0  6.214608\n",
       "4   82.500000   0.53    591.0   716.0   28   933.0     1  6.838405"
      ]
     },
     "execution_count": 26,
     "metadata": {},
     "output_type": "execute_result"
    }
   ],
   "source": [
    "df = wooldridge.data('401k')\n",
    "df.head()"
   ]
  },
  {
   "cell_type": "markdown",
   "id": "4d427ad6",
   "metadata": {},
   "source": [
    "#### i. Find the average participation rate and the average match rate in the sample of plans"
   ]
  },
  {
   "cell_type": "code",
   "execution_count": 27,
   "id": "f2e260a8",
   "metadata": {},
   "outputs": [
    {
     "data": {
      "text/plain": [
       "(np.float64(87.3629074562948), np.float64(0.7315123849943027))"
      ]
     },
     "execution_count": 27,
     "metadata": {},
     "output_type": "execute_result"
    }
   ],
   "source": [
    "df['prate'].mean(), df['mrate'].mean()"
   ]
  },
  {
   "cell_type": "markdown",
   "id": "2af4c889",
   "metadata": {},
   "source": [
    "The average prate is $87.36$ and average mrate is $0.73$"
   ]
  },
  {
   "cell_type": "markdown",
   "id": "bdcef717",
   "metadata": {},
   "source": [
    "#### (II) Now, estimate the simple regression equation and report the results along with the sample size and R-squared."
   ]
  },
  {
   "cell_type": "code",
   "execution_count": 28,
   "id": "a4cbf683",
   "metadata": {},
   "outputs": [],
   "source": [
    "model = smf.ols(formula='prate ~ mrate', data = df).fit()"
   ]
  },
  {
   "cell_type": "code",
   "execution_count": 29,
   "id": "33795c8a",
   "metadata": {},
   "outputs": [
    {
     "data": {
      "text/html": [
       "<div>\n",
       "<style scoped>\n",
       "    .dataframe tbody tr th:only-of-type {\n",
       "        vertical-align: middle;\n",
       "    }\n",
       "\n",
       "    .dataframe tbody tr th {\n",
       "        vertical-align: top;\n",
       "    }\n",
       "\n",
       "    .dataframe thead th {\n",
       "        text-align: right;\n",
       "    }\n",
       "</style>\n",
       "<table border=\"1\" class=\"dataframe\">\n",
       "  <thead>\n",
       "    <tr style=\"text-align: right;\">\n",
       "      <th></th>\n",
       "      <th>term</th>\n",
       "      <th>coefficient</th>\n",
       "      <th>nobs</th>\n",
       "      <th>rsquared</th>\n",
       "    </tr>\n",
       "  </thead>\n",
       "  <tbody>\n",
       "    <tr>\n",
       "      <th>0</th>\n",
       "      <td>Intercept</td>\n",
       "      <td>83.075455</td>\n",
       "      <td>1534.0</td>\n",
       "      <td>0.074703</td>\n",
       "    </tr>\n",
       "    <tr>\n",
       "      <th>1</th>\n",
       "      <td>mrate</td>\n",
       "      <td>5.861079</td>\n",
       "      <td>1534.0</td>\n",
       "      <td>0.074703</td>\n",
       "    </tr>\n",
       "  </tbody>\n",
       "</table>\n",
       "</div>"
      ],
      "text/plain": [
       "        term  coefficient    nobs  rsquared\n",
       "0  Intercept    83.075455  1534.0  0.074703\n",
       "1      mrate     5.861079  1534.0  0.074703"
      ]
     },
     "execution_count": 29,
     "metadata": {},
     "output_type": "execute_result"
    }
   ],
   "source": [
    "summary_df = pd.DataFrame({\n",
    "    'term': model.params.index,\n",
    "    'coefficient': model.params.values\n",
    "})\n",
    "summary_df['nobs'] = model.nobs\n",
    "summary_df['rsquared'] = model.rsquared\n",
    "\n",
    "summary_df"
   ]
  },
  {
   "cell_type": "markdown",
   "id": "2b9ff365",
   "metadata": {},
   "source": [
    "The intercept is 83.07, $\\beta$ is 5.86, n = 1534, $R^2$ = 0.75"
   ]
  },
  {
   "cell_type": "markdown",
   "id": "9625f275",
   "metadata": {},
   "source": [
    "#### (iii) Interpret the intercept in your equation. Interpret the coefficient on mrate.\n"
   ]
  },
  {
   "cell_type": "markdown",
   "id": "f5a2102e",
   "metadata": {},
   "source": [
    "intercept = 83.75:- if mrate is zero, predicted participation rate is 83.05\n",
    "mrate = 5.86:- one dollar increase in mrate will cause prate to increase by 5.86 (given the prate range allows this increase)"
   ]
  },
  {
   "cell_type": "markdown",
   "id": "1c675703",
   "metadata": {},
   "source": [
    "#### (iv) Find the predicted prate when mrate = 3.5. Is this a reasonable prediction? Explain what is happening here"
   ]
  },
  {
   "cell_type": "code",
   "execution_count": 30,
   "id": "9629b17c",
   "metadata": {},
   "outputs": [
    {
     "data": {
      "text/plain": [
       "0    103.589233\n",
       "dtype: float64"
      ]
     },
     "execution_count": 30,
     "metadata": {},
     "output_type": "execute_result"
    }
   ],
   "source": [
    "new_data = pd.DataFrame({'mrate': [3.50]})\n",
    "model.predict(new_data)"
   ]
  },
  {
   "cell_type": "code",
   "execution_count": 31,
   "id": "03dfc5d6",
   "metadata": {},
   "outputs": [
    {
     "data": {
      "text/plain": [
       "np.float64(103.58923260345671)"
      ]
     },
     "execution_count": 31,
     "metadata": {},
     "output_type": "execute_result"
    }
   ],
   "source": [
    "model.params['Intercept'] + model.params['mrate'] * 3.5"
   ]
  },
  {
   "cell_type": "markdown",
   "id": "6c338a7e",
   "metadata": {},
   "source": [
    "if mrate = 3.5, prate = 103.5 which isn't possible because prate is bounded by range 0 to 100"
   ]
  },
  {
   "cell_type": "markdown",
   "id": "8c9ca554",
   "metadata": {},
   "source": [
    "#### (v) How much of the variation in prate is explained by mrate? Is this a lot in your opinion?"
   ]
  },
  {
   "cell_type": "code",
   "execution_count": 32,
   "id": "e38cc332",
   "metadata": {},
   "outputs": [
    {
     "data": {
      "text/plain": [
       "np.float64(7.4703098402918)"
      ]
     },
     "execution_count": 32,
     "metadata": {},
     "output_type": "execute_result"
    }
   ],
   "source": [
    "model.rsquared * 100"
   ]
  },
  {
   "cell_type": "markdown",
   "id": "fedfa38e",
   "metadata": {},
   "source": [
    "The model explains 7.5% from the variation in prate, indicating the inlfuence of other factors on prate "
   ]
  },
  {
   "cell_type": "markdown",
   "id": "637afa0a",
   "metadata": {},
   "source": [
    "### The data set in CEOSAL2 \n",
    "contains information on chief executive officers for U.S. corporations. The\n",
    "variable salary is annual compensation, in thousands of dollars, and ceoten is prior number of years as company CEO"
   ]
  },
  {
   "cell_type": "code",
   "execution_count": 33,
   "id": "a2aceaa5",
   "metadata": {},
   "outputs": [
    {
     "name": "stdout",
     "output_type": "stream",
     "text": [
      "name of dataset: ceosal2\n",
      "no of variables: 15\n",
      "no of observations: 177\n",
      "\n",
      "+----------+--------------------------------+\n",
      "| variable | label                          |\n",
      "+----------+--------------------------------+\n",
      "| salary   | 1990 compensation, $1000s      |\n",
      "| age      | in years                       |\n",
      "| college  | =1 if attended college         |\n",
      "| grad     | =1 if attended graduate school |\n",
      "| comten   | years with company             |\n",
      "| ceoten   | years as ceo with company      |\n",
      "| sales    | 1990 firm sales, millions      |\n",
      "| profits  | 1990 profits, millions         |\n",
      "| mktval   | market value, end 1990, mills. |\n",
      "| lsalary  | log(salary)                    |\n",
      "| lsales   | log(sales)                     |\n",
      "| lmktval  | log(mktval)                    |\n",
      "| comtensq | comten^2                       |\n",
      "| ceotensq | ceoten^2                       |\n",
      "| profmarg | profits as % of sales          |\n",
      "+----------+--------------------------------+\n",
      "\n",
      "See CEOSAL1.RAW\n"
     ]
    }
   ],
   "source": [
    "wooldridge.data('ceosal2', description= True)"
   ]
  },
  {
   "cell_type": "code",
   "execution_count": 34,
   "id": "af1cfb21",
   "metadata": {},
   "outputs": [
    {
     "data": {
      "text/html": [
       "<div>\n",
       "<style scoped>\n",
       "    .dataframe tbody tr th:only-of-type {\n",
       "        vertical-align: middle;\n",
       "    }\n",
       "\n",
       "    .dataframe tbody tr th {\n",
       "        vertical-align: top;\n",
       "    }\n",
       "\n",
       "    .dataframe thead th {\n",
       "        text-align: right;\n",
       "    }\n",
       "</style>\n",
       "<table border=\"1\" class=\"dataframe\">\n",
       "  <thead>\n",
       "    <tr style=\"text-align: right;\">\n",
       "      <th></th>\n",
       "      <th>salary</th>\n",
       "      <th>age</th>\n",
       "      <th>college</th>\n",
       "      <th>grad</th>\n",
       "      <th>comten</th>\n",
       "      <th>ceoten</th>\n",
       "      <th>sales</th>\n",
       "      <th>profits</th>\n",
       "      <th>mktval</th>\n",
       "      <th>lsalary</th>\n",
       "      <th>lsales</th>\n",
       "      <th>lmktval</th>\n",
       "      <th>comtensq</th>\n",
       "      <th>ceotensq</th>\n",
       "      <th>profmarg</th>\n",
       "    </tr>\n",
       "  </thead>\n",
       "  <tbody>\n",
       "    <tr>\n",
       "      <th>0</th>\n",
       "      <td>1161</td>\n",
       "      <td>49</td>\n",
       "      <td>1</td>\n",
       "      <td>1</td>\n",
       "      <td>9</td>\n",
       "      <td>2</td>\n",
       "      <td>6200.0</td>\n",
       "      <td>966</td>\n",
       "      <td>23200.0</td>\n",
       "      <td>7.057037</td>\n",
       "      <td>8.732305</td>\n",
       "      <td>10.051908</td>\n",
       "      <td>81</td>\n",
       "      <td>4</td>\n",
       "      <td>15.580646</td>\n",
       "    </tr>\n",
       "    <tr>\n",
       "      <th>1</th>\n",
       "      <td>600</td>\n",
       "      <td>43</td>\n",
       "      <td>1</td>\n",
       "      <td>1</td>\n",
       "      <td>10</td>\n",
       "      <td>10</td>\n",
       "      <td>283.0</td>\n",
       "      <td>48</td>\n",
       "      <td>1100.0</td>\n",
       "      <td>6.396930</td>\n",
       "      <td>5.645447</td>\n",
       "      <td>7.003066</td>\n",
       "      <td>100</td>\n",
       "      <td>100</td>\n",
       "      <td>16.961130</td>\n",
       "    </tr>\n",
       "    <tr>\n",
       "      <th>2</th>\n",
       "      <td>379</td>\n",
       "      <td>51</td>\n",
       "      <td>1</td>\n",
       "      <td>1</td>\n",
       "      <td>9</td>\n",
       "      <td>3</td>\n",
       "      <td>169.0</td>\n",
       "      <td>40</td>\n",
       "      <td>1100.0</td>\n",
       "      <td>5.937536</td>\n",
       "      <td>5.129899</td>\n",
       "      <td>7.003066</td>\n",
       "      <td>81</td>\n",
       "      <td>9</td>\n",
       "      <td>23.668638</td>\n",
       "    </tr>\n",
       "    <tr>\n",
       "      <th>3</th>\n",
       "      <td>651</td>\n",
       "      <td>55</td>\n",
       "      <td>1</td>\n",
       "      <td>0</td>\n",
       "      <td>22</td>\n",
       "      <td>22</td>\n",
       "      <td>1100.0</td>\n",
       "      <td>-54</td>\n",
       "      <td>1000.0</td>\n",
       "      <td>6.478509</td>\n",
       "      <td>7.003066</td>\n",
       "      <td>6.907755</td>\n",
       "      <td>484</td>\n",
       "      <td>484</td>\n",
       "      <td>-4.909091</td>\n",
       "    </tr>\n",
       "    <tr>\n",
       "      <th>4</th>\n",
       "      <td>497</td>\n",
       "      <td>44</td>\n",
       "      <td>1</td>\n",
       "      <td>1</td>\n",
       "      <td>8</td>\n",
       "      <td>6</td>\n",
       "      <td>351.0</td>\n",
       "      <td>28</td>\n",
       "      <td>387.0</td>\n",
       "      <td>6.208590</td>\n",
       "      <td>5.860786</td>\n",
       "      <td>5.958425</td>\n",
       "      <td>64</td>\n",
       "      <td>36</td>\n",
       "      <td>7.977208</td>\n",
       "    </tr>\n",
       "  </tbody>\n",
       "</table>\n",
       "</div>"
      ],
      "text/plain": [
       "   salary  age  college  grad  comten  ceoten   sales  profits   mktval  \\\n",
       "0    1161   49        1     1       9       2  6200.0      966  23200.0   \n",
       "1     600   43        1     1      10      10   283.0       48   1100.0   \n",
       "2     379   51        1     1       9       3   169.0       40   1100.0   \n",
       "3     651   55        1     0      22      22  1100.0      -54   1000.0   \n",
       "4     497   44        1     1       8       6   351.0       28    387.0   \n",
       "\n",
       "    lsalary    lsales    lmktval  comtensq  ceotensq   profmarg  \n",
       "0  7.057037  8.732305  10.051908        81         4  15.580646  \n",
       "1  6.396930  5.645447   7.003066       100       100  16.961130  \n",
       "2  5.937536  5.129899   7.003066        81         9  23.668638  \n",
       "3  6.478509  7.003066   6.907755       484       484  -4.909091  \n",
       "4  6.208590  5.860786   5.958425        64        36   7.977208  "
      ]
     },
     "execution_count": 34,
     "metadata": {},
     "output_type": "execute_result"
    }
   ],
   "source": [
    "df = wooldridge.data('ceosal2')\n",
    "df.head()"
   ]
  },
  {
   "cell_type": "markdown",
   "id": "e07e009d",
   "metadata": {},
   "source": [
    "#### (i) Find the average salary and the average tenure in the sample"
   ]
  },
  {
   "cell_type": "code",
   "execution_count": 35,
   "id": "39016a77",
   "metadata": {},
   "outputs": [
    {
     "data": {
      "text/plain": [
       "(np.float64(865.8644067796611), np.float64(7.954802259887006))"
      ]
     },
     "execution_count": 35,
     "metadata": {},
     "output_type": "execute_result"
    }
   ],
   "source": [
    "df['salary'].mean(), df['ceoten'].mean()"
   ]
  },
  {
   "cell_type": "markdown",
   "id": "2c0a7c54",
   "metadata": {},
   "source": [
    "Average salary is $865,864. Average years is about 8 years"
   ]
  },
  {
   "cell_type": "markdown",
   "id": "ead248ba",
   "metadata": {},
   "source": [
    "#### (ii) How many CEOs are in their first year as CEO (that is, ceoten 5 0)? What is the longest tenure as a CEO?"
   ]
  },
  {
   "cell_type": "code",
   "execution_count": 36,
   "id": "ba356ebe",
   "metadata": {},
   "outputs": [
    {
     "data": {
      "text/plain": [
       "(np.int64(5), 37)"
      ]
     },
     "execution_count": 36,
     "metadata": {},
     "output_type": "execute_result"
    }
   ],
   "source": [
    "(df['ceoten'] == 0).sum(), df['ceoten'].max()"
   ]
  },
  {
   "cell_type": "markdown",
   "id": "b446607b",
   "metadata": {},
   "source": [
    "There are five CEO with ceoten = 0, Longest ceoten is 37"
   ]
  },
  {
   "cell_type": "markdown",
   "id": "19310ae7",
   "metadata": {},
   "source": [
    "#### (iii) Estimate the simple regression model $\\log(\\text{salary}) = \\beta_0 + \\beta_1 \\text{ceoten} + u $ and report your results in the usual form. What is the (approximate) predicted percentage increase in salary given one more year as a CEO?\n"
   ]
  },
  {
   "cell_type": "code",
   "execution_count": 37,
   "id": "0f5a3332",
   "metadata": {},
   "outputs": [
    {
     "data": {
      "text/plain": [
       "(Intercept    6.505498\n",
       " ceoten       0.009724\n",
       " dtype: float64,\n",
       " 177.0,\n",
       " np.float64(0.013162517743660396))"
      ]
     },
     "execution_count": 37,
     "metadata": {},
     "output_type": "execute_result"
    }
   ],
   "source": [
    "model = smf.ols(formula= 'np.log(salary) ~ ceoten', data=df).fit()\n",
    "model.params, model.nobs, model.rsquared"
   ]
  },
  {
   "cell_type": "markdown",
   "id": "222bb70d",
   "metadata": {},
   "source": [
    "One more year of ceoten will increase salary by $0.0097 * 100 = 0.97\\%$ "
   ]
  },
  {
   "cell_type": "markdown",
   "id": "9bdbf701",
   "metadata": {},
   "source": [
    "### C3 Use the data in SLEEP75 \n",
    "from Biddle and Hamermesh (1990) to study whether there is a tradeoff\n",
    "between the time spent sleeping per week and the time spent in paid work.\n",
    "\n",
    " We could use either variable as the dependent variable. For concreteness, estimate the model\n",
    " $$ sleep = \\beta_0 + \\beta_1 totwrk + u $$\n",
    " where sleep is minutes spent sleeping at night per week and totwrk is total minutes worked during the week."
   ]
  },
  {
   "cell_type": "code",
   "execution_count": 38,
   "id": "e14d2bdc",
   "metadata": {},
   "outputs": [
    {
     "name": "stdout",
     "output_type": "stream",
     "text": [
      "name of dataset: sleep75\n",
      "no of variables: 34\n",
      "no of observations: 706\n",
      "\n",
      "+----------+--------------------------------+\n",
      "| variable | label                          |\n",
      "+----------+--------------------------------+\n",
      "| age      | in years                       |\n",
      "| black    | =1 if black                    |\n",
      "| case     | identifier                     |\n",
      "| clerical | =1 if clerical worker          |\n",
      "| construc | =1 if construction worker      |\n",
      "| educ     | years of schooling             |\n",
      "| earns74  | total earnings, 1974           |\n",
      "| gdhlth   | =1 if in good or excel. health |\n",
      "| inlf     | =1 if in labor force           |\n",
      "| leis1    | sleep - totwrk                 |\n",
      "| leis2    | slpnaps - totwrk               |\n",
      "| leis3    | rlxall - totwrk                |\n",
      "| smsa     | =1 if live in smsa             |\n",
      "| lhrwage  | log hourly wage                |\n",
      "| lothinc  | log othinc, unless othinc < 0  |\n",
      "| male     | =1 if male                     |\n",
      "| marr     | =1 if married                  |\n",
      "| prot     | =1 if Protestant               |\n",
      "| rlxall   | slpnaps + personal activs      |\n",
      "| selfe    | =1 if self employed            |\n",
      "| sleep    | mins sleep at night, per wk    |\n",
      "| slpnaps  | minutes sleep, inc. naps       |\n",
      "| south    | =1 if live in south            |\n",
      "| spsepay  | spousal wage income            |\n",
      "| spwrk75  | =1 if spouse works             |\n",
      "| totwrk   | mins worked per week           |\n",
      "| union    | =1 if belong to union          |\n",
      "| worknrm  | mins work main job             |\n",
      "| workscnd | mins work second job           |\n",
      "| exper    | age - educ - 6                 |\n",
      "| yngkid   | =1 if children < 3 present     |\n",
      "| yrsmarr  | years married                  |\n",
      "| hrwage   | hourly wage                    |\n",
      "| agesq    | age^2                          |\n",
      "+----------+--------------------------------+\n",
      "\n",
      "J.E. Biddle and D.S. Hamermesh (1990), “Sleep and the Allocation of\n",
      "Time,” Journal of Political Economy 98, 922-943. Professor Biddle\n",
      "kindly provided the data.\n"
     ]
    }
   ],
   "source": [
    "wooldridge.data('sleep75', description= True)"
   ]
  },
  {
   "cell_type": "code",
   "execution_count": 39,
   "id": "fad3269a",
   "metadata": {},
   "outputs": [
    {
     "data": {
      "text/html": [
       "<div>\n",
       "<style scoped>\n",
       "    .dataframe tbody tr th:only-of-type {\n",
       "        vertical-align: middle;\n",
       "    }\n",
       "\n",
       "    .dataframe tbody tr th {\n",
       "        vertical-align: top;\n",
       "    }\n",
       "\n",
       "    .dataframe thead th {\n",
       "        text-align: right;\n",
       "    }\n",
       "</style>\n",
       "<table border=\"1\" class=\"dataframe\">\n",
       "  <thead>\n",
       "    <tr style=\"text-align: right;\">\n",
       "      <th></th>\n",
       "      <th>age</th>\n",
       "      <th>black</th>\n",
       "      <th>case</th>\n",
       "      <th>clerical</th>\n",
       "      <th>construc</th>\n",
       "      <th>educ</th>\n",
       "      <th>earns74</th>\n",
       "      <th>gdhlth</th>\n",
       "      <th>inlf</th>\n",
       "      <th>leis1</th>\n",
       "      <th>...</th>\n",
       "      <th>spwrk75</th>\n",
       "      <th>totwrk</th>\n",
       "      <th>union</th>\n",
       "      <th>worknrm</th>\n",
       "      <th>workscnd</th>\n",
       "      <th>exper</th>\n",
       "      <th>yngkid</th>\n",
       "      <th>yrsmarr</th>\n",
       "      <th>hrwage</th>\n",
       "      <th>agesq</th>\n",
       "    </tr>\n",
       "  </thead>\n",
       "  <tbody>\n",
       "    <tr>\n",
       "      <th>0</th>\n",
       "      <td>32</td>\n",
       "      <td>0</td>\n",
       "      <td>1</td>\n",
       "      <td>0.0</td>\n",
       "      <td>0.0</td>\n",
       "      <td>12</td>\n",
       "      <td>0.0</td>\n",
       "      <td>0</td>\n",
       "      <td>1</td>\n",
       "      <td>3529</td>\n",
       "      <td>...</td>\n",
       "      <td>0</td>\n",
       "      <td>3438</td>\n",
       "      <td>0</td>\n",
       "      <td>3438</td>\n",
       "      <td>0</td>\n",
       "      <td>14</td>\n",
       "      <td>0</td>\n",
       "      <td>13</td>\n",
       "      <td>7.070004</td>\n",
       "      <td>1024</td>\n",
       "    </tr>\n",
       "    <tr>\n",
       "      <th>1</th>\n",
       "      <td>31</td>\n",
       "      <td>0</td>\n",
       "      <td>2</td>\n",
       "      <td>0.0</td>\n",
       "      <td>0.0</td>\n",
       "      <td>14</td>\n",
       "      <td>9500.0</td>\n",
       "      <td>1</td>\n",
       "      <td>1</td>\n",
       "      <td>2140</td>\n",
       "      <td>...</td>\n",
       "      <td>0</td>\n",
       "      <td>5020</td>\n",
       "      <td>0</td>\n",
       "      <td>5020</td>\n",
       "      <td>0</td>\n",
       "      <td>11</td>\n",
       "      <td>0</td>\n",
       "      <td>0</td>\n",
       "      <td>1.429999</td>\n",
       "      <td>961</td>\n",
       "    </tr>\n",
       "    <tr>\n",
       "      <th>2</th>\n",
       "      <td>44</td>\n",
       "      <td>0</td>\n",
       "      <td>3</td>\n",
       "      <td>0.0</td>\n",
       "      <td>0.0</td>\n",
       "      <td>17</td>\n",
       "      <td>42500.0</td>\n",
       "      <td>1</td>\n",
       "      <td>1</td>\n",
       "      <td>4595</td>\n",
       "      <td>...</td>\n",
       "      <td>1</td>\n",
       "      <td>2815</td>\n",
       "      <td>0</td>\n",
       "      <td>2815</td>\n",
       "      <td>0</td>\n",
       "      <td>21</td>\n",
       "      <td>0</td>\n",
       "      <td>0</td>\n",
       "      <td>20.529997</td>\n",
       "      <td>1936</td>\n",
       "    </tr>\n",
       "    <tr>\n",
       "      <th>3</th>\n",
       "      <td>30</td>\n",
       "      <td>0</td>\n",
       "      <td>4</td>\n",
       "      <td>0.0</td>\n",
       "      <td>0.0</td>\n",
       "      <td>12</td>\n",
       "      <td>42500.0</td>\n",
       "      <td>1</td>\n",
       "      <td>1</td>\n",
       "      <td>3211</td>\n",
       "      <td>...</td>\n",
       "      <td>1</td>\n",
       "      <td>3786</td>\n",
       "      <td>0</td>\n",
       "      <td>3786</td>\n",
       "      <td>0</td>\n",
       "      <td>12</td>\n",
       "      <td>0</td>\n",
       "      <td>12</td>\n",
       "      <td>9.619998</td>\n",
       "      <td>900</td>\n",
       "    </tr>\n",
       "    <tr>\n",
       "      <th>4</th>\n",
       "      <td>64</td>\n",
       "      <td>0</td>\n",
       "      <td>5</td>\n",
       "      <td>0.0</td>\n",
       "      <td>0.0</td>\n",
       "      <td>14</td>\n",
       "      <td>2500.0</td>\n",
       "      <td>1</td>\n",
       "      <td>1</td>\n",
       "      <td>4052</td>\n",
       "      <td>...</td>\n",
       "      <td>1</td>\n",
       "      <td>2580</td>\n",
       "      <td>0</td>\n",
       "      <td>2580</td>\n",
       "      <td>0</td>\n",
       "      <td>44</td>\n",
       "      <td>0</td>\n",
       "      <td>33</td>\n",
       "      <td>2.750000</td>\n",
       "      <td>4096</td>\n",
       "    </tr>\n",
       "  </tbody>\n",
       "</table>\n",
       "<p>5 rows × 34 columns</p>\n",
       "</div>"
      ],
      "text/plain": [
       "   age  black  case  clerical  construc  educ  earns74  gdhlth  inlf  leis1  \\\n",
       "0   32      0     1       0.0       0.0    12      0.0       0     1   3529   \n",
       "1   31      0     2       0.0       0.0    14   9500.0       1     1   2140   \n",
       "2   44      0     3       0.0       0.0    17  42500.0       1     1   4595   \n",
       "3   30      0     4       0.0       0.0    12  42500.0       1     1   3211   \n",
       "4   64      0     5       0.0       0.0    14   2500.0       1     1   4052   \n",
       "\n",
       "   ...  spwrk75  totwrk  union  worknrm  workscnd  exper  yngkid  yrsmarr  \\\n",
       "0  ...        0    3438      0     3438         0     14       0       13   \n",
       "1  ...        0    5020      0     5020         0     11       0        0   \n",
       "2  ...        1    2815      0     2815         0     21       0        0   \n",
       "3  ...        1    3786      0     3786         0     12       0       12   \n",
       "4  ...        1    2580      0     2580         0     44       0       33   \n",
       "\n",
       "      hrwage  agesq  \n",
       "0   7.070004   1024  \n",
       "1   1.429999    961  \n",
       "2  20.529997   1936  \n",
       "3   9.619998    900  \n",
       "4   2.750000   4096  \n",
       "\n",
       "[5 rows x 34 columns]"
      ]
     },
     "execution_count": 39,
     "metadata": {},
     "output_type": "execute_result"
    }
   ],
   "source": [
    "df = wooldridge.data('sleep75')\n",
    "df.head()"
   ]
  },
  {
   "cell_type": "markdown",
   "id": "bd2aa733",
   "metadata": {},
   "source": [
    "#### (i) Report your results in equation form along with the number of observations and R2. What does the intercept in this equation mean?"
   ]
  },
  {
   "cell_type": "code",
   "execution_count": 40,
   "id": "cde50e98",
   "metadata": {},
   "outputs": [
    {
     "data": {
      "text/plain": [
       "(Intercept    3586.376952\n",
       " totwrk         -0.150746\n",
       " dtype: float64,\n",
       " 706.0,\n",
       " np.float64(0.10328737572903668))"
      ]
     },
     "execution_count": 40,
     "metadata": {},
     "output_type": "execute_result"
    }
   ],
   "source": [
    "model = smf.ols(formula= 'sleep ~ totwrk', data = df).fit()\n",
    "model.params, model.nobs, model.rsquared"
   ]
  },
  {
   "cell_type": "markdown",
   "id": "c2bd5d26",
   "metadata": {},
   "source": [
    "Intercept is 3586.4:- if someone doesn't work, he will sleep on average 3586.4 minutes per week, or 59.7 hours per week meaning 8.5 hours per day\n",
    "\n",
    "totwrk = -0.15:- for every minute a person spends working, his sleeping time is reduced by 0.15 minute"
   ]
  },
  {
   "cell_type": "markdown",
   "id": "27a9e5d2",
   "metadata": {},
   "source": [
    "#### (ii) If totwrk increases by 2 hours, by how much is sleep estimated to fall? Do you find this to be a large effect?"
   ]
  },
  {
   "cell_type": "code",
   "execution_count": 41,
   "id": "c2a7510d",
   "metadata": {},
   "outputs": [
    {
     "data": {
      "text/plain": [
       "np.float64(-18.08949889427928)"
      ]
     },
     "execution_count": 41,
     "metadata": {},
     "output_type": "execute_result"
    }
   ],
   "source": [
    "model.params['totwrk']*120"
   ]
  },
  {
   "cell_type": "markdown",
   "id": "b84c7480",
   "metadata": {},
   "source": [
    "If a person works two more hours per week, his sleeping time will decrease by 18 minutes per week. Implying 2.57 minutes per day"
   ]
  },
  {
   "cell_type": "markdown",
   "id": "efdeafc0",
   "metadata": {},
   "source": [
    "### C4 Use the data in WAGE2 \n",
    "to estimate a simple regression explaining monthly salary (wage) in terms of IQ score (IQ)"
   ]
  },
  {
   "cell_type": "code",
   "execution_count": 42,
   "id": "c549ce4d",
   "metadata": {},
   "outputs": [
    {
     "name": "stdout",
     "output_type": "stream",
     "text": [
      "name of dataset: wage2\n",
      "no of variables: 17\n",
      "no of observations: 935\n",
      "\n",
      "+----------+-------------------------------+\n",
      "| variable | label                         |\n",
      "+----------+-------------------------------+\n",
      "| wage     | monthly earnings              |\n",
      "| hours    | average weekly hours          |\n",
      "| IQ       | IQ score                      |\n",
      "| KWW      | knowledge of world work score |\n",
      "| educ     | years of education            |\n",
      "| exper    | years of work experience      |\n",
      "| tenure   | years with current employer   |\n",
      "| age      | age in years                  |\n",
      "| married  | =1 if married                 |\n",
      "| black    | =1 if black                   |\n",
      "| south    | =1 if live in south           |\n",
      "| urban    | =1 if live in SMSA            |\n",
      "| sibs     | number of siblings            |\n",
      "| brthord  | birth order                   |\n",
      "| meduc    | mother's education            |\n",
      "| feduc    | father's education            |\n",
      "| lwage    | natural log of wage           |\n",
      "+----------+-------------------------------+\n",
      "\n",
      "M. Blackburn and D. Neumark (1992), “Unobserved Ability, Efficiency\n",
      "Wages, and Interindustry Wage Differentials,” Quarterly Journal of\n",
      "Economics 107, 1421-1436. Professor Neumark kindly provided the data,\n",
      "of which I used just the data for 1980.\n"
     ]
    }
   ],
   "source": [
    "wooldridge.data('wage2', description= True)"
   ]
  },
  {
   "cell_type": "code",
   "execution_count": 43,
   "id": "8d8eceec",
   "metadata": {},
   "outputs": [
    {
     "data": {
      "text/html": [
       "<div>\n",
       "<style scoped>\n",
       "    .dataframe tbody tr th:only-of-type {\n",
       "        vertical-align: middle;\n",
       "    }\n",
       "\n",
       "    .dataframe tbody tr th {\n",
       "        vertical-align: top;\n",
       "    }\n",
       "\n",
       "    .dataframe thead th {\n",
       "        text-align: right;\n",
       "    }\n",
       "</style>\n",
       "<table border=\"1\" class=\"dataframe\">\n",
       "  <thead>\n",
       "    <tr style=\"text-align: right;\">\n",
       "      <th></th>\n",
       "      <th>wage</th>\n",
       "      <th>hours</th>\n",
       "      <th>IQ</th>\n",
       "      <th>KWW</th>\n",
       "      <th>educ</th>\n",
       "      <th>exper</th>\n",
       "      <th>tenure</th>\n",
       "      <th>age</th>\n",
       "      <th>married</th>\n",
       "      <th>black</th>\n",
       "      <th>south</th>\n",
       "      <th>urban</th>\n",
       "      <th>sibs</th>\n",
       "      <th>brthord</th>\n",
       "      <th>meduc</th>\n",
       "      <th>feduc</th>\n",
       "      <th>lwage</th>\n",
       "    </tr>\n",
       "  </thead>\n",
       "  <tbody>\n",
       "    <tr>\n",
       "      <th>0</th>\n",
       "      <td>769</td>\n",
       "      <td>40</td>\n",
       "      <td>93</td>\n",
       "      <td>35</td>\n",
       "      <td>12</td>\n",
       "      <td>11</td>\n",
       "      <td>2</td>\n",
       "      <td>31</td>\n",
       "      <td>1</td>\n",
       "      <td>0</td>\n",
       "      <td>0</td>\n",
       "      <td>1</td>\n",
       "      <td>1</td>\n",
       "      <td>2.0</td>\n",
       "      <td>8.0</td>\n",
       "      <td>8.0</td>\n",
       "      <td>6.645091</td>\n",
       "    </tr>\n",
       "    <tr>\n",
       "      <th>1</th>\n",
       "      <td>808</td>\n",
       "      <td>50</td>\n",
       "      <td>119</td>\n",
       "      <td>41</td>\n",
       "      <td>18</td>\n",
       "      <td>11</td>\n",
       "      <td>16</td>\n",
       "      <td>37</td>\n",
       "      <td>1</td>\n",
       "      <td>0</td>\n",
       "      <td>0</td>\n",
       "      <td>1</td>\n",
       "      <td>1</td>\n",
       "      <td>NaN</td>\n",
       "      <td>14.0</td>\n",
       "      <td>14.0</td>\n",
       "      <td>6.694562</td>\n",
       "    </tr>\n",
       "    <tr>\n",
       "      <th>2</th>\n",
       "      <td>825</td>\n",
       "      <td>40</td>\n",
       "      <td>108</td>\n",
       "      <td>46</td>\n",
       "      <td>14</td>\n",
       "      <td>11</td>\n",
       "      <td>9</td>\n",
       "      <td>33</td>\n",
       "      <td>1</td>\n",
       "      <td>0</td>\n",
       "      <td>0</td>\n",
       "      <td>1</td>\n",
       "      <td>1</td>\n",
       "      <td>2.0</td>\n",
       "      <td>14.0</td>\n",
       "      <td>14.0</td>\n",
       "      <td>6.715384</td>\n",
       "    </tr>\n",
       "    <tr>\n",
       "      <th>3</th>\n",
       "      <td>650</td>\n",
       "      <td>40</td>\n",
       "      <td>96</td>\n",
       "      <td>32</td>\n",
       "      <td>12</td>\n",
       "      <td>13</td>\n",
       "      <td>7</td>\n",
       "      <td>32</td>\n",
       "      <td>1</td>\n",
       "      <td>0</td>\n",
       "      <td>0</td>\n",
       "      <td>1</td>\n",
       "      <td>4</td>\n",
       "      <td>3.0</td>\n",
       "      <td>12.0</td>\n",
       "      <td>12.0</td>\n",
       "      <td>6.476973</td>\n",
       "    </tr>\n",
       "    <tr>\n",
       "      <th>4</th>\n",
       "      <td>562</td>\n",
       "      <td>40</td>\n",
       "      <td>74</td>\n",
       "      <td>27</td>\n",
       "      <td>11</td>\n",
       "      <td>14</td>\n",
       "      <td>5</td>\n",
       "      <td>34</td>\n",
       "      <td>1</td>\n",
       "      <td>0</td>\n",
       "      <td>0</td>\n",
       "      <td>1</td>\n",
       "      <td>10</td>\n",
       "      <td>6.0</td>\n",
       "      <td>6.0</td>\n",
       "      <td>11.0</td>\n",
       "      <td>6.331502</td>\n",
       "    </tr>\n",
       "  </tbody>\n",
       "</table>\n",
       "</div>"
      ],
      "text/plain": [
       "   wage  hours   IQ  KWW  educ  exper  tenure  age  married  black  south  \\\n",
       "0   769     40   93   35    12     11       2   31        1      0      0   \n",
       "1   808     50  119   41    18     11      16   37        1      0      0   \n",
       "2   825     40  108   46    14     11       9   33        1      0      0   \n",
       "3   650     40   96   32    12     13       7   32        1      0      0   \n",
       "4   562     40   74   27    11     14       5   34        1      0      0   \n",
       "\n",
       "   urban  sibs  brthord  meduc  feduc     lwage  \n",
       "0      1     1      2.0    8.0    8.0  6.645091  \n",
       "1      1     1      NaN   14.0   14.0  6.694562  \n",
       "2      1     1      2.0   14.0   14.0  6.715384  \n",
       "3      1     4      3.0   12.0   12.0  6.476973  \n",
       "4      1    10      6.0    6.0   11.0  6.331502  "
      ]
     },
     "execution_count": 43,
     "metadata": {},
     "output_type": "execute_result"
    }
   ],
   "source": [
    "df = wooldridge.data('wage2')\n",
    "df.head()"
   ]
  },
  {
   "cell_type": "markdown",
   "id": "d5eb65ac",
   "metadata": {},
   "source": [
    "#### (i) Find the average salary and average IQ in the sample. What is the sample standard deviation of IQ? (IQ scores are standardized so that the average in the population is 100 with a standard deviation equal to 15.)"
   ]
  },
  {
   "cell_type": "code",
   "execution_count": 44,
   "id": "4a4ccb9b",
   "metadata": {},
   "outputs": [
    {
     "data": {
      "text/plain": [
       "(np.float64(957.9454545454546),\n",
       " np.float64(101.28235294117647),\n",
       " 15.0526363702651)"
      ]
     },
     "execution_count": 44,
     "metadata": {},
     "output_type": "execute_result"
    }
   ],
   "source": [
    "df['wage'].mean(), df['IQ'].mean(), df['IQ'].std(ddof= 1)"
   ]
  },
  {
   "cell_type": "markdown",
   "id": "f96588de",
   "metadata": {},
   "source": [
    "Average salary is $957.95, Average IQ is 101.28. Sample standard deviation for IQ is 15.05"
   ]
  },
  {
   "cell_type": "markdown",
   "id": "30303000",
   "metadata": {},
   "source": [
    "#### (ii) Estimate a simple regression model where a one-point increase in IQ changes wage by a constant dollar amount. Use this model to find the predicted increase in wage for an increase in IQ of 15 points. Does IQ explain most of the variation in wage?"
   ]
  },
  {
   "cell_type": "code",
   "execution_count": 45,
   "id": "4d37aa50",
   "metadata": {},
   "outputs": [
    {
     "data": {
      "text/plain": [
       "(Intercept    116.991565\n",
       " IQ             8.303064\n",
       " dtype: float64,\n",
       " 935.0,\n",
       " np.float64(0.09553528456778504))"
      ]
     },
     "execution_count": 45,
     "metadata": {},
     "output_type": "execute_result"
    }
   ],
   "source": [
    "model = smf.ols(formula= 'wage ~ IQ', data = df).fit()\n",
    "model.params, model.nobs, model.rsquared"
   ]
  },
  {
   "cell_type": "code",
   "execution_count": 46,
   "id": "f1a1c0cd",
   "metadata": {},
   "outputs": [
    {
     "data": {
      "text/plain": [
       "np.float64(124.5459646235166)"
      ]
     },
     "execution_count": 46,
     "metadata": {},
     "output_type": "execute_result"
    }
   ],
   "source": [
    "model.params['IQ']*15"
   ]
  },
  {
   "cell_type": "markdown",
   "id": "8c46c52d",
   "metadata": {},
   "source": [
    "According to the model results, an increase of IQ by 15 points will result into increase of salary by $124.5\n",
    "IQ explains only 10% from the variation in wage "
   ]
  },
  {
   "cell_type": "markdown",
   "id": "78cd8514",
   "metadata": {},
   "source": [
    "(iii) Now, estimate a model where each one-point increase in IQ has the same percentage effect on wage. If IQ increases by 15 points, what is the approximate percentage increase in predicted wage?"
   ]
  },
  {
   "cell_type": "code",
   "execution_count": 47,
   "id": "b712eefa",
   "metadata": {},
   "outputs": [
    {
     "data": {
      "text/plain": [
       "(Intercept    5.886994\n",
       " IQ           0.008807\n",
       " dtype: float64,\n",
       " 935.0,\n",
       " np.float64(0.09909129613279599))"
      ]
     },
     "execution_count": 47,
     "metadata": {},
     "output_type": "execute_result"
    }
   ],
   "source": [
    "model = smf.ols(formula= 'np.log(wage) ~ IQ', data = df).fit()\n",
    "model.params, model.nobs, model.rsquared"
   ]
  },
  {
   "cell_type": "code",
   "execution_count": 48,
   "id": "d14794b7",
   "metadata": {},
   "outputs": [
    {
     "data": {
      "text/plain": [
       "np.float64(13.210734614214326)"
      ]
     },
     "execution_count": 48,
     "metadata": {},
     "output_type": "execute_result"
    }
   ],
   "source": [
    "model.params['IQ']*15 * 100"
   ]
  },
  {
   "cell_type": "markdown",
   "id": "0989e117",
   "metadata": {},
   "source": [
    "An increase of IQ by 15 points will result into increase of salary by 13.2%"
   ]
  }
 ],
 "metadata": {
  "kernelspec": {
   "display_name": "base",
   "language": "python",
   "name": "python3"
  },
  "language_info": {
   "codemirror_mode": {
    "name": "ipython",
    "version": 3
   },
   "file_extension": ".py",
   "mimetype": "text/x-python",
   "name": "python",
   "nbconvert_exporter": "python",
   "pygments_lexer": "ipython3",
   "version": "3.12.11"
  }
 },
 "nbformat": 4,
 "nbformat_minor": 5
}
