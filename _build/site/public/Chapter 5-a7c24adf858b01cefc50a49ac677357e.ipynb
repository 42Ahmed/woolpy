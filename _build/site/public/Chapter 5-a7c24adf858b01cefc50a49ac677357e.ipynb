{
 "cells": [
  {
   "cell_type": "markdown",
   "id": "10ff5665",
   "metadata": {},
   "source": [
    "# Multiple Regression Analysis: OLS Asymptotics"
   ]
  },
  {
   "cell_type": "code",
   "execution_count": 1,
   "id": "6751b19f",
   "metadata": {},
   "outputs": [],
   "source": [
    "import pandas as pd\n",
    "import numpy as np\n",
    "import wooldridge\n",
    "import statsmodels.formula.api as smf\n",
    "import matplotlib.pyplot as plt"
   ]
  },
  {
   "cell_type": "markdown",
   "id": "fea220c6",
   "metadata": {},
   "source": [
    "## Examples"
   ]
  },
  {
   "cell_type": "code",
   "execution_count": 2,
   "id": "a3a7ca54",
   "metadata": {},
   "outputs": [],
   "source": [
    "bwght = wooldridge.data('bwght')\n",
    "crime1 = wooldridge.data('crime1')"
   ]
  },
  {
   "cell_type": "markdown",
   "id": "9022f8ff",
   "metadata": {},
   "source": [
    "### 5.1 Housing Prices and Distances From an Incinerator"
   ]
  },
  {
   "cell_type": "markdown",
   "id": "a56331f2",
   "metadata": {},
   "source": [
    "$$ y = \\beta_0 + \\beta_1 x_1 + \\beta_2 x_2 + u$$\n",
    "$y$: house price, $x_1$: distance from incinerator, $x_2$: quality of house "
   ]
  },
  {
   "cell_type": "markdown",
   "id": "0fd7bb62",
   "metadata": {},
   "source": [
    "we expect $\\beta_1 >0$ and $\\beta_2 > 0$ so if $x_2$ is omitted and positively correlated with $x_1$, OLS estimators are inconsistent"
   ]
  },
  {
   "cell_type": "markdown",
   "id": "c48ec654",
   "metadata": {},
   "source": [
    "### 5.2 Standard Errors in a Birth Weight Equation"
   ]
  },
  {
   "cell_type": "code",
   "execution_count": 3,
   "id": "2aaedf29",
   "metadata": {},
   "outputs": [
    {
     "name": "stdout",
     "output_type": "stream",
     "text": [
      "name of dataset: bwght\n",
      "no of variables: 14\n",
      "no of observations: 1388\n",
      "\n",
      "+----------+--------------------------------+\n",
      "| variable | label                          |\n",
      "+----------+--------------------------------+\n",
      "| faminc   | 1988 family income, $1000s     |\n",
      "| cigtax   | cig. tax in home state, 1988   |\n",
      "| cigprice | cig. price in home state, 1988 |\n",
      "| bwght    | birth weight, ounces           |\n",
      "| fatheduc | father's yrs of educ           |\n",
      "| motheduc | mother's yrs of educ           |\n",
      "| parity   | birth order of child           |\n",
      "| male     | =1 if male child               |\n",
      "| white    | =1 if white                    |\n",
      "| cigs     | cigs smked per day while preg  |\n",
      "| lbwght   | log of bwght                   |\n",
      "| bwghtlbs | birth weight, pounds           |\n",
      "| packs    | packs smked per day while preg |\n",
      "| lfaminc  | log(faminc)                    |\n",
      "+----------+--------------------------------+\n",
      "\n",
      "J. Mullahy (1997), “Instrumental-Variable Estimation of Count Data\n",
      "Models: Applications to Models of Cigarette Smoking Behavior,” Review\n",
      "of Economics and Statistics 79, 596-593. Professor Mullahy kindly\n",
      "provided the data. He obtained them from the 1988 National Health\n",
      "Interview Survey.\n"
     ]
    }
   ],
   "source": [
    "wooldridge.data('bwght', description= True)"
   ]
  },
  {
   "cell_type": "code",
   "execution_count": 4,
   "id": "7aad81d7",
   "metadata": {},
   "outputs": [
    {
     "data": {
      "text/html": [
       "<div>\n",
       "<style scoped>\n",
       "    .dataframe tbody tr th:only-of-type {\n",
       "        vertical-align: middle;\n",
       "    }\n",
       "\n",
       "    .dataframe tbody tr th {\n",
       "        vertical-align: top;\n",
       "    }\n",
       "\n",
       "    .dataframe thead th {\n",
       "        text-align: right;\n",
       "    }\n",
       "</style>\n",
       "<table border=\"1\" class=\"dataframe\">\n",
       "  <thead>\n",
       "    <tr style=\"text-align: right;\">\n",
       "      <th></th>\n",
       "      <th>Coef.</th>\n",
       "      <th>Std.Err.</th>\n",
       "    </tr>\n",
       "  </thead>\n",
       "  <tbody>\n",
       "    <tr>\n",
       "      <th>Intercept</th>\n",
       "      <td>4.718594</td>\n",
       "      <td>0.018244</td>\n",
       "    </tr>\n",
       "    <tr>\n",
       "      <th>cigs</th>\n",
       "      <td>-0.004082</td>\n",
       "      <td>0.000858</td>\n",
       "    </tr>\n",
       "    <tr>\n",
       "      <th>lfaminc</th>\n",
       "      <td>0.016266</td>\n",
       "      <td>0.005583</td>\n",
       "    </tr>\n",
       "  </tbody>\n",
       "</table>\n",
       "</div>"
      ],
      "text/plain": [
       "              Coef.  Std.Err.\n",
       "Intercept  4.718594  0.018244\n",
       "cigs      -0.004082  0.000858\n",
       "lfaminc    0.016266  0.005583"
      ]
     },
     "execution_count": 4,
     "metadata": {},
     "output_type": "execute_result"
    }
   ],
   "source": [
    "model02 = smf.ols('lbwght ~ cigs + lfaminc', data = bwght).fit()\n",
    "model02.summary2().tables[1].iloc[:, :2]"
   ]
  },
  {
   "cell_type": "code",
   "execution_count": 5,
   "id": "070ccf40",
   "metadata": {},
   "outputs": [
    {
     "data": {
      "text/html": [
       "<div>\n",
       "<style scoped>\n",
       "    .dataframe tbody tr th:only-of-type {\n",
       "        vertical-align: middle;\n",
       "    }\n",
       "\n",
       "    .dataframe tbody tr th {\n",
       "        vertical-align: top;\n",
       "    }\n",
       "\n",
       "    .dataframe thead th {\n",
       "        text-align: right;\n",
       "    }\n",
       "</style>\n",
       "<table border=\"1\" class=\"dataframe\">\n",
       "  <thead>\n",
       "    <tr style=\"text-align: right;\">\n",
       "      <th></th>\n",
       "      <th>Coef.</th>\n",
       "      <th>Std.Err.</th>\n",
       "    </tr>\n",
       "  </thead>\n",
       "  <tbody>\n",
       "    <tr>\n",
       "      <th>Intercept</th>\n",
       "      <td>4.705583</td>\n",
       "      <td>0.027053</td>\n",
       "    </tr>\n",
       "    <tr>\n",
       "      <th>cigs</th>\n",
       "      <td>-0.004637</td>\n",
       "      <td>0.001332</td>\n",
       "    </tr>\n",
       "    <tr>\n",
       "      <th>lfaminc</th>\n",
       "      <td>0.019404</td>\n",
       "      <td>0.008188</td>\n",
       "    </tr>\n",
       "  </tbody>\n",
       "</table>\n",
       "</div>"
      ],
      "text/plain": [
       "              Coef.  Std.Err.\n",
       "Intercept  4.705583  0.027053\n",
       "cigs      -0.004637  0.001332\n",
       "lfaminc    0.019404  0.008188"
      ]
     },
     "execution_count": 5,
     "metadata": {},
     "output_type": "execute_result"
    }
   ],
   "source": [
    "df = bwght.iloc[:len(bwght)//2]\n",
    "model021 = smf.ols('lbwght ~ cigs + lfaminc', data = df).fit()\n",
    "model021.summary2().tables[1].iloc[:, :2]"
   ]
  },
  {
   "cell_type": "code",
   "execution_count": 6,
   "id": "3caffda9",
   "metadata": {},
   "outputs": [
    {
     "data": {
      "text/plain": [
       "(1388, 694)"
      ]
     },
     "execution_count": 6,
     "metadata": {},
     "output_type": "execute_result"
    }
   ],
   "source": [
    "len(bwght), len(df)"
   ]
  },
  {
   "cell_type": "markdown",
   "id": "f8e0fb3e",
   "metadata": {},
   "source": [
    "Using half the dataset, the standard error for cigs is $0.0013$ but becomes $0.00086$ if we use the whole dataset. Ratio of standard errors is $0.00086/ 0.0013 = 0.662$ which is equal to the approcimation $\\sqrt{694/1388} = 0.707$"
   ]
  },
  {
   "cell_type": "markdown",
   "id": "669d0f2a",
   "metadata": {},
   "source": [
    "$$ \\dfrac{SE_{new}}{SE_{old}} = \\sqrt{\\dfrac{n_{old}}{n_{new}}} $$"
   ]
  },
  {
   "cell_type": "markdown",
   "id": "875e14a3",
   "metadata": {},
   "source": [
    "### 5.3 Economic Model of Crime "
   ]
  },
  {
   "cell_type": "code",
   "execution_count": 7,
   "id": "543356da",
   "metadata": {},
   "outputs": [
    {
     "name": "stdout",
     "output_type": "stream",
     "text": [
      "name of dataset: crime1\n",
      "no of variables: 16\n",
      "no of observations: 2725\n",
      "\n",
      "+----------+---------------------------------+\n",
      "| variable | label                           |\n",
      "+----------+---------------------------------+\n",
      "| narr86   | # times arrested, 1986          |\n",
      "| nfarr86  | # felony arrests, 1986          |\n",
      "| nparr86  | # property crme arr., 1986      |\n",
      "| pcnv     | proportion of prior convictions |\n",
      "| avgsen   | avg sentence length, mos.       |\n",
      "| tottime  | time in prison since 18 (mos.)  |\n",
      "| ptime86  | mos. in prison during 1986      |\n",
      "| qemp86   | # quarters employed, 1986       |\n",
      "| inc86    | legal income, 1986, $100s       |\n",
      "| durat    | recent unemp duration           |\n",
      "| black    | =1 if black                     |\n",
      "| hispan   | =1 if Hispanic                  |\n",
      "| born60   | =1 if born in 1960              |\n",
      "| pcnvsq   | pcnv^2                          |\n",
      "| pt86sq   | ptime86^2                       |\n",
      "| inc86sq  | inc86^2                         |\n",
      "+----------+---------------------------------+\n",
      "\n",
      "J. Grogger (1991), “Certainty vs. Severity of Punishment,” Economic\n",
      "Inquiry 29, 297-309. Professor Grogger kindly provided a subset of the\n",
      "data he used in his article.\n"
     ]
    }
   ],
   "source": [
    "wooldridge.data('crime1', description= True)"
   ]
  },
  {
   "cell_type": "code",
   "execution_count": 8,
   "id": "5afc4011",
   "metadata": {},
   "outputs": [
    {
     "data": {
      "text/html": [
       "<div>\n",
       "<style scoped>\n",
       "    .dataframe tbody tr th:only-of-type {\n",
       "        vertical-align: middle;\n",
       "    }\n",
       "\n",
       "    .dataframe tbody tr th {\n",
       "        vertical-align: top;\n",
       "    }\n",
       "\n",
       "    .dataframe thead th {\n",
       "        text-align: right;\n",
       "    }\n",
       "</style>\n",
       "<table border=\"1\" class=\"dataframe\">\n",
       "  <thead>\n",
       "    <tr style=\"text-align: right;\">\n",
       "      <th></th>\n",
       "      <th>Coef.</th>\n",
       "      <th>Std.Err.</th>\n",
       "    </tr>\n",
       "  </thead>\n",
       "  <tbody>\n",
       "    <tr>\n",
       "      <th>Intercept</th>\n",
       "      <td>0.706061</td>\n",
       "      <td>0.033152</td>\n",
       "    </tr>\n",
       "    <tr>\n",
       "      <th>pcnv</th>\n",
       "      <td>-0.151225</td>\n",
       "      <td>0.040855</td>\n",
       "    </tr>\n",
       "    <tr>\n",
       "      <th>avgsen</th>\n",
       "      <td>-0.007049</td>\n",
       "      <td>0.012412</td>\n",
       "    </tr>\n",
       "    <tr>\n",
       "      <th>tottime</th>\n",
       "      <td>0.012095</td>\n",
       "      <td>0.009577</td>\n",
       "    </tr>\n",
       "    <tr>\n",
       "      <th>ptime86</th>\n",
       "      <td>-0.039259</td>\n",
       "      <td>0.008917</td>\n",
       "    </tr>\n",
       "    <tr>\n",
       "      <th>qemp86</th>\n",
       "      <td>-0.103091</td>\n",
       "      <td>0.010397</td>\n",
       "    </tr>\n",
       "  </tbody>\n",
       "</table>\n",
       "</div>"
      ],
      "text/plain": [
       "              Coef.  Std.Err.\n",
       "Intercept  0.706061  0.033152\n",
       "pcnv      -0.151225  0.040855\n",
       "avgsen    -0.007049  0.012412\n",
       "tottime    0.012095  0.009577\n",
       "ptime86   -0.039259  0.008917\n",
       "qemp86    -0.103091  0.010397"
      ]
     },
     "execution_count": 8,
     "metadata": {},
     "output_type": "execute_result"
    }
   ],
   "source": [
    "model03 = smf.ols('narr86 ~ pcnv + avgsen + tottime + ptime86 + qemp86', data = crime1).fit()\n",
    "model03.summary2().tables[1].iloc[:, :2]"
   ]
  },
  {
   "cell_type": "markdown",
   "id": "56d75c3a",
   "metadata": {},
   "source": [
    "To test that $avgsen, tottime$ have no effect using LM statistic"
   ]
  },
  {
   "cell_type": "code",
   "execution_count": 10,
   "id": "3e3942a5",
   "metadata": {},
   "outputs": [],
   "source": [
    "model032 = smf.ols('narr86 ~ pcnv  + ptime86 + qemp86', data = crime1).fit()\n",
    "residuals = model032.resid"
   ]
  },
  {
   "cell_type": "code",
   "execution_count": null,
   "id": "9b4c279a",
   "metadata": {},
   "outputs": [
    {
     "data": {
      "text/plain": [
       "np.float64(0.0014938456737877415)"
      ]
     },
     "execution_count": 11,
     "metadata": {},
     "output_type": "execute_result"
    }
   ],
   "source": [
    "df = crime1.copy()\n",
    "df['residuals'] = residuals\n",
    "model033 = smf.ols('residuals ~ pcnv  + ptime86 + qemp86 + avgsen + tottime', data = df).fit()\n",
    "rsquared = model033.rsquared"
   ]
  },
  {
   "cell_type": "code",
   "execution_count": null,
   "id": "1c302af1",
   "metadata": {},
   "outputs": [],
   "source": [
    "LM = rsquared * len(df)"
   ]
  }
 ],
 "metadata": {
  "kernelspec": {
   "display_name": "base",
   "language": "python",
   "name": "python3"
  },
  "language_info": {
   "codemirror_mode": {
    "name": "ipython",
    "version": 3
   },
   "file_extension": ".py",
   "mimetype": "text/x-python",
   "name": "python",
   "nbconvert_exporter": "python",
   "pygments_lexer": "ipython3",
   "version": "3.12.11"
  }
 },
 "nbformat": 4,
 "nbformat_minor": 5
}
