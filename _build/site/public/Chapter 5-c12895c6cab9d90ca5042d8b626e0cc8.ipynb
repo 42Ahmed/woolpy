{
 "cells": [
  {
   "cell_type": "markdown",
   "id": "10ff5665",
   "metadata": {},
   "source": [
    "# Multiple Regression Analysis: OLS Asymptotics"
   ]
  },
  {
   "cell_type": "code",
   "execution_count": 19,
   "id": "6751b19f",
   "metadata": {},
   "outputs": [],
   "source": [
    "import pandas as pd\n",
    "import numpy as np\n",
    "import wooldridge\n",
    "import statsmodels.formula.api as smf\n",
    "import matplotlib.pyplot as plt\n",
    "from scipy.stats import chi2"
   ]
  },
  {
   "cell_type": "code",
   "execution_count": 20,
   "id": "d355f8a6",
   "metadata": {},
   "outputs": [],
   "source": [
    "def lm_test(data, dependent, control_vars, test_vars):\n",
    "    # Create formulas\n",
    "    controls = ' + '.join(control_vars)\n",
    "    unrestricted = controls + ' + ' + ' + '.join(test_vars)\n",
    "    \n",
    "    # Fit unrestricted model\n",
    "    formula = f\"{dependent} ~ {unrestricted}\"\n",
    "    model = smf.ols(formula, data=data).fit()\n",
    "    \n",
    "    # Compute LM statistic\n",
    "    r_squared = model.rsquared\n",
    "    n = model.nobs\n",
    "    q = len(test_vars)  # number of restrictions\n",
    "    lm_stat = r_squared * n\n",
    "    p_value = 1 - chi2.cdf(lm_stat, df=q)\n",
    "\n",
    "    return lm_stat, p_value"
   ]
  },
  {
   "cell_type": "markdown",
   "id": "fea220c6",
   "metadata": {},
   "source": [
    "## Examples"
   ]
  },
  {
   "cell_type": "code",
   "execution_count": 2,
   "id": "a3a7ca54",
   "metadata": {},
   "outputs": [],
   "source": [
    "bwght = wooldridge.data('bwght')\n",
    "crime1 = wooldridge.data('crime1')"
   ]
  },
  {
   "cell_type": "markdown",
   "id": "9022f8ff",
   "metadata": {},
   "source": [
    "### 5.1 Housing Prices and Distances From an Incinerator"
   ]
  },
  {
   "cell_type": "markdown",
   "id": "a56331f2",
   "metadata": {},
   "source": [
    "$$ y = \\beta_0 + \\beta_1 x_1 + \\beta_2 x_2 + u$$\n",
    "$y$: house price, $x_1$: distance from incinerator, $x_2$: quality of house "
   ]
  },
  {
   "cell_type": "markdown",
   "id": "0fd7bb62",
   "metadata": {},
   "source": [
    "we expect $\\beta_1 >0$ and $\\beta_2 > 0$ so if $x_2$ is omitted and positively correlated with $x_1$, OLS estimators are inconsistent"
   ]
  },
  {
   "cell_type": "markdown",
   "id": "c48ec654",
   "metadata": {},
   "source": [
    "### 5.2 Standard Errors in a Birth Weight Equation"
   ]
  },
  {
   "cell_type": "code",
   "execution_count": 3,
   "id": "2aaedf29",
   "metadata": {},
   "outputs": [
    {
     "name": "stdout",
     "output_type": "stream",
     "text": [
      "name of dataset: bwght\n",
      "no of variables: 14\n",
      "no of observations: 1388\n",
      "\n",
      "+----------+--------------------------------+\n",
      "| variable | label                          |\n",
      "+----------+--------------------------------+\n",
      "| faminc   | 1988 family income, $1000s     |\n",
      "| cigtax   | cig. tax in home state, 1988   |\n",
      "| cigprice | cig. price in home state, 1988 |\n",
      "| bwght    | birth weight, ounces           |\n",
      "| fatheduc | father's yrs of educ           |\n",
      "| motheduc | mother's yrs of educ           |\n",
      "| parity   | birth order of child           |\n",
      "| male     | =1 if male child               |\n",
      "| white    | =1 if white                    |\n",
      "| cigs     | cigs smked per day while preg  |\n",
      "| lbwght   | log of bwght                   |\n",
      "| bwghtlbs | birth weight, pounds           |\n",
      "| packs    | packs smked per day while preg |\n",
      "| lfaminc  | log(faminc)                    |\n",
      "+----------+--------------------------------+\n",
      "\n",
      "J. Mullahy (1997), “Instrumental-Variable Estimation of Count Data\n",
      "Models: Applications to Models of Cigarette Smoking Behavior,” Review\n",
      "of Economics and Statistics 79, 596-593. Professor Mullahy kindly\n",
      "provided the data. He obtained them from the 1988 National Health\n",
      "Interview Survey.\n"
     ]
    }
   ],
   "source": [
    "wooldridge.data('bwght', description= True)"
   ]
  },
  {
   "cell_type": "code",
   "execution_count": 4,
   "id": "7aad81d7",
   "metadata": {},
   "outputs": [
    {
     "data": {
      "text/html": [
       "<div>\n",
       "<style scoped>\n",
       "    .dataframe tbody tr th:only-of-type {\n",
       "        vertical-align: middle;\n",
       "    }\n",
       "\n",
       "    .dataframe tbody tr th {\n",
       "        vertical-align: top;\n",
       "    }\n",
       "\n",
       "    .dataframe thead th {\n",
       "        text-align: right;\n",
       "    }\n",
       "</style>\n",
       "<table border=\"1\" class=\"dataframe\">\n",
       "  <thead>\n",
       "    <tr style=\"text-align: right;\">\n",
       "      <th></th>\n",
       "      <th>Coef.</th>\n",
       "      <th>Std.Err.</th>\n",
       "    </tr>\n",
       "  </thead>\n",
       "  <tbody>\n",
       "    <tr>\n",
       "      <th>Intercept</th>\n",
       "      <td>4.718594</td>\n",
       "      <td>0.018244</td>\n",
       "    </tr>\n",
       "    <tr>\n",
       "      <th>cigs</th>\n",
       "      <td>-0.004082</td>\n",
       "      <td>0.000858</td>\n",
       "    </tr>\n",
       "    <tr>\n",
       "      <th>lfaminc</th>\n",
       "      <td>0.016266</td>\n",
       "      <td>0.005583</td>\n",
       "    </tr>\n",
       "  </tbody>\n",
       "</table>\n",
       "</div>"
      ],
      "text/plain": [
       "              Coef.  Std.Err.\n",
       "Intercept  4.718594  0.018244\n",
       "cigs      -0.004082  0.000858\n",
       "lfaminc    0.016266  0.005583"
      ]
     },
     "execution_count": 4,
     "metadata": {},
     "output_type": "execute_result"
    }
   ],
   "source": [
    "model02 = smf.ols('lbwght ~ cigs + lfaminc', data = bwght).fit()\n",
    "model02.summary2().tables[1].iloc[:, :2]"
   ]
  },
  {
   "cell_type": "code",
   "execution_count": 5,
   "id": "070ccf40",
   "metadata": {},
   "outputs": [
    {
     "data": {
      "text/html": [
       "<div>\n",
       "<style scoped>\n",
       "    .dataframe tbody tr th:only-of-type {\n",
       "        vertical-align: middle;\n",
       "    }\n",
       "\n",
       "    .dataframe tbody tr th {\n",
       "        vertical-align: top;\n",
       "    }\n",
       "\n",
       "    .dataframe thead th {\n",
       "        text-align: right;\n",
       "    }\n",
       "</style>\n",
       "<table border=\"1\" class=\"dataframe\">\n",
       "  <thead>\n",
       "    <tr style=\"text-align: right;\">\n",
       "      <th></th>\n",
       "      <th>Coef.</th>\n",
       "      <th>Std.Err.</th>\n",
       "    </tr>\n",
       "  </thead>\n",
       "  <tbody>\n",
       "    <tr>\n",
       "      <th>Intercept</th>\n",
       "      <td>4.705583</td>\n",
       "      <td>0.027053</td>\n",
       "    </tr>\n",
       "    <tr>\n",
       "      <th>cigs</th>\n",
       "      <td>-0.004637</td>\n",
       "      <td>0.001332</td>\n",
       "    </tr>\n",
       "    <tr>\n",
       "      <th>lfaminc</th>\n",
       "      <td>0.019404</td>\n",
       "      <td>0.008188</td>\n",
       "    </tr>\n",
       "  </tbody>\n",
       "</table>\n",
       "</div>"
      ],
      "text/plain": [
       "              Coef.  Std.Err.\n",
       "Intercept  4.705583  0.027053\n",
       "cigs      -0.004637  0.001332\n",
       "lfaminc    0.019404  0.008188"
      ]
     },
     "execution_count": 5,
     "metadata": {},
     "output_type": "execute_result"
    }
   ],
   "source": [
    "df = bwght.iloc[:len(bwght)//2]\n",
    "model021 = smf.ols('lbwght ~ cigs + lfaminc', data = df).fit()\n",
    "model021.summary2().tables[1].iloc[:, :2]"
   ]
  },
  {
   "cell_type": "code",
   "execution_count": 6,
   "id": "3caffda9",
   "metadata": {},
   "outputs": [
    {
     "data": {
      "text/plain": [
       "(1388, 694)"
      ]
     },
     "execution_count": 6,
     "metadata": {},
     "output_type": "execute_result"
    }
   ],
   "source": [
    "len(bwght), len(df)"
   ]
  },
  {
   "cell_type": "markdown",
   "id": "f8e0fb3e",
   "metadata": {},
   "source": [
    "Using half the dataset, the standard error for cigs is $0.0013$ but becomes $0.00086$ if we use the whole dataset. Ratio of standard errors is $0.00086/ 0.0013 = 0.662$ which is equal to the approcimation $\\sqrt{694/1388} = 0.707$"
   ]
  },
  {
   "cell_type": "markdown",
   "id": "669d0f2a",
   "metadata": {},
   "source": [
    "$$ \\dfrac{SE_{new}}{SE_{old}} = \\sqrt{\\dfrac{n_{old}}{n_{new}}} $$"
   ]
  },
  {
   "cell_type": "markdown",
   "id": "875e14a3",
   "metadata": {},
   "source": [
    "### 5.3 Economic Model of Crime "
   ]
  },
  {
   "cell_type": "code",
   "execution_count": 7,
   "id": "543356da",
   "metadata": {},
   "outputs": [
    {
     "name": "stdout",
     "output_type": "stream",
     "text": [
      "name of dataset: crime1\n",
      "no of variables: 16\n",
      "no of observations: 2725\n",
      "\n",
      "+----------+---------------------------------+\n",
      "| variable | label                           |\n",
      "+----------+---------------------------------+\n",
      "| narr86   | # times arrested, 1986          |\n",
      "| nfarr86  | # felony arrests, 1986          |\n",
      "| nparr86  | # property crme arr., 1986      |\n",
      "| pcnv     | proportion of prior convictions |\n",
      "| avgsen   | avg sentence length, mos.       |\n",
      "| tottime  | time in prison since 18 (mos.)  |\n",
      "| ptime86  | mos. in prison during 1986      |\n",
      "| qemp86   | # quarters employed, 1986       |\n",
      "| inc86    | legal income, 1986, $100s       |\n",
      "| durat    | recent unemp duration           |\n",
      "| black    | =1 if black                     |\n",
      "| hispan   | =1 if Hispanic                  |\n",
      "| born60   | =1 if born in 1960              |\n",
      "| pcnvsq   | pcnv^2                          |\n",
      "| pt86sq   | ptime86^2                       |\n",
      "| inc86sq  | inc86^2                         |\n",
      "+----------+---------------------------------+\n",
      "\n",
      "J. Grogger (1991), “Certainty vs. Severity of Punishment,” Economic\n",
      "Inquiry 29, 297-309. Professor Grogger kindly provided a subset of the\n",
      "data he used in his article.\n"
     ]
    }
   ],
   "source": [
    "wooldridge.data('crime1', description= True)"
   ]
  },
  {
   "cell_type": "code",
   "execution_count": 8,
   "id": "5afc4011",
   "metadata": {},
   "outputs": [
    {
     "data": {
      "text/html": [
       "<div>\n",
       "<style scoped>\n",
       "    .dataframe tbody tr th:only-of-type {\n",
       "        vertical-align: middle;\n",
       "    }\n",
       "\n",
       "    .dataframe tbody tr th {\n",
       "        vertical-align: top;\n",
       "    }\n",
       "\n",
       "    .dataframe thead th {\n",
       "        text-align: right;\n",
       "    }\n",
       "</style>\n",
       "<table border=\"1\" class=\"dataframe\">\n",
       "  <thead>\n",
       "    <tr style=\"text-align: right;\">\n",
       "      <th></th>\n",
       "      <th>Coef.</th>\n",
       "      <th>Std.Err.</th>\n",
       "    </tr>\n",
       "  </thead>\n",
       "  <tbody>\n",
       "    <tr>\n",
       "      <th>Intercept</th>\n",
       "      <td>0.706061</td>\n",
       "      <td>0.033152</td>\n",
       "    </tr>\n",
       "    <tr>\n",
       "      <th>pcnv</th>\n",
       "      <td>-0.151225</td>\n",
       "      <td>0.040855</td>\n",
       "    </tr>\n",
       "    <tr>\n",
       "      <th>avgsen</th>\n",
       "      <td>-0.007049</td>\n",
       "      <td>0.012412</td>\n",
       "    </tr>\n",
       "    <tr>\n",
       "      <th>tottime</th>\n",
       "      <td>0.012095</td>\n",
       "      <td>0.009577</td>\n",
       "    </tr>\n",
       "    <tr>\n",
       "      <th>ptime86</th>\n",
       "      <td>-0.039259</td>\n",
       "      <td>0.008917</td>\n",
       "    </tr>\n",
       "    <tr>\n",
       "      <th>qemp86</th>\n",
       "      <td>-0.103091</td>\n",
       "      <td>0.010397</td>\n",
       "    </tr>\n",
       "  </tbody>\n",
       "</table>\n",
       "</div>"
      ],
      "text/plain": [
       "              Coef.  Std.Err.\n",
       "Intercept  0.706061  0.033152\n",
       "pcnv      -0.151225  0.040855\n",
       "avgsen    -0.007049  0.012412\n",
       "tottime    0.012095  0.009577\n",
       "ptime86   -0.039259  0.008917\n",
       "qemp86    -0.103091  0.010397"
      ]
     },
     "execution_count": 8,
     "metadata": {},
     "output_type": "execute_result"
    }
   ],
   "source": [
    "model03 = smf.ols('narr86 ~ pcnv + avgsen + tottime + ptime86 + qemp86', data = crime1).fit()\n",
    "model03.summary2().tables[1].iloc[:, :2]"
   ]
  },
  {
   "cell_type": "markdown",
   "id": "56d75c3a",
   "metadata": {},
   "source": [
    "To test that $avgsen, tottime$ have no effect using LM statistic"
   ]
  },
  {
   "cell_type": "code",
   "execution_count": 10,
   "id": "3e3942a5",
   "metadata": {},
   "outputs": [],
   "source": [
    "model032 = smf.ols('narr86 ~ pcnv  + ptime86 + qemp86', data = crime1).fit()\n",
    "residuals = model032.resid"
   ]
  },
  {
   "cell_type": "code",
   "execution_count": 13,
   "id": "9b4c279a",
   "metadata": {},
   "outputs": [],
   "source": [
    "df = crime1.copy()\n",
    "df['residuals'] = residuals\n",
    "model033 = smf.ols('residuals ~ pcnv  + ptime86 + qemp86 + avgsen + tottime', data = df).fit()\n",
    "rsquared = model033.rsquared"
   ]
  },
  {
   "cell_type": "code",
   "execution_count": 14,
   "id": "1c302af1",
   "metadata": {},
   "outputs": [
    {
     "data": {
      "text/plain": [
       "np.float64(4.070729461071595)"
      ]
     },
     "execution_count": 14,
     "metadata": {},
     "output_type": "execute_result"
    }
   ],
   "source": [
    "LM = rsquared * len(df)\n",
    "LM"
   ]
  },
  {
   "cell_type": "markdown",
   "id": "1ab434b9",
   "metadata": {},
   "source": [
    "The 10% critical value in a chi square distribution with 2 degrees of freedom is 4.61, so we fail to reject the null hypothesis"
   ]
  },
  {
   "cell_type": "code",
   "execution_count": 18,
   "id": "59be1413",
   "metadata": {},
   "outputs": [
    {
     "data": {
      "text/plain": [
       "np.float64(0.13063282803267184)"
      ]
     },
     "execution_count": 18,
     "metadata": {},
     "output_type": "execute_result"
    }
   ],
   "source": [
    "pval = 1 - chi2.cdf(LM, df=2)\n",
    "pval"
   ]
  },
  {
   "cell_type": "markdown",
   "id": "414d685a",
   "metadata": {},
   "source": [
    "Using a ready made function"
   ]
  },
  {
   "cell_type": "code",
   "execution_count": 21,
   "id": "6893731e",
   "metadata": {},
   "outputs": [
    {
     "ename": "PatsyError",
     "evalue": "expected a noun, but instead the expression ended\n    narr86 ~ pcnv + ptime86 +  qemp86 +\n                                      ^",
     "output_type": "error",
     "traceback": [
      "\u001b[31m---------------------------------------------------------------------------\u001b[39m",
      "\u001b[31mPatsyError\u001b[39m                                Traceback (most recent call last)",
      "\u001b[36mCell\u001b[39m\u001b[36m \u001b[39m\u001b[32mIn[21]\u001b[39m\u001b[32m, line 1\u001b[39m\n\u001b[32m----> \u001b[39m\u001b[32m1\u001b[39m lm_test(crime1, \u001b[33m'\u001b[39m\u001b[33mnarr86\u001b[39m\u001b[33m'\u001b[39m, [\u001b[33m'\u001b[39m\u001b[33mpcnv\u001b[39m\u001b[33m'\u001b[39m,\u001b[33m'\u001b[39m\u001b[33mptime86\u001b[39m\u001b[33m'\u001b[39m,\u001b[33m'\u001b[39m\u001b[33m qemp86\u001b[39m\u001b[33m'\u001b[39m], [])\n",
      "\u001b[36mCell\u001b[39m\u001b[36m \u001b[39m\u001b[32mIn[20]\u001b[39m\u001b[32m, line 8\u001b[39m, in \u001b[36mlm_test\u001b[39m\u001b[34m(data, dependent, control_vars, test_vars)\u001b[39m\n\u001b[32m      6\u001b[39m \u001b[38;5;66;03m# Fit unrestricted model\u001b[39;00m\n\u001b[32m      7\u001b[39m formula = \u001b[33mf\u001b[39m\u001b[33m\"\u001b[39m\u001b[38;5;132;01m{\u001b[39;00mdependent\u001b[38;5;132;01m}\u001b[39;00m\u001b[33m ~ \u001b[39m\u001b[38;5;132;01m{\u001b[39;00munrestricted\u001b[38;5;132;01m}\u001b[39;00m\u001b[33m\"\u001b[39m\n\u001b[32m----> \u001b[39m\u001b[32m8\u001b[39m model = smf.ols(formula, data=data).fit()\n\u001b[32m     10\u001b[39m \u001b[38;5;66;03m# Compute LM statistic\u001b[39;00m\n\u001b[32m     11\u001b[39m r_squared = model.rsquared\n",
      "\u001b[36mFile \u001b[39m\u001b[32me:\\miniconda3\\Lib\\site-packages\\statsmodels\\base\\model.py:203\u001b[39m, in \u001b[36mModel.from_formula\u001b[39m\u001b[34m(cls, formula, data, subset, drop_cols, *args, **kwargs)\u001b[39m\n\u001b[32m    200\u001b[39m \u001b[38;5;28;01mif\u001b[39;00m missing == \u001b[33m'\u001b[39m\u001b[33mnone\u001b[39m\u001b[33m'\u001b[39m:  \u001b[38;5;66;03m# with patsy it's drop or raise. let's raise.\u001b[39;00m\n\u001b[32m    201\u001b[39m     missing = \u001b[33m'\u001b[39m\u001b[33mraise\u001b[39m\u001b[33m'\u001b[39m\n\u001b[32m--> \u001b[39m\u001b[32m203\u001b[39m tmp = handle_formula_data(data, \u001b[38;5;28;01mNone\u001b[39;00m, formula, depth=eval_env,\n\u001b[32m    204\u001b[39m                           missing=missing)\n\u001b[32m    205\u001b[39m ((endog, exog), missing_idx, design_info) = tmp\n\u001b[32m    206\u001b[39m max_endog = \u001b[38;5;28mcls\u001b[39m._formula_max_endog\n",
      "\u001b[36mFile \u001b[39m\u001b[32me:\\miniconda3\\Lib\\site-packages\\statsmodels\\formula\\formulatools.py:63\u001b[39m, in \u001b[36mhandle_formula_data\u001b[39m\u001b[34m(Y, X, formula, depth, missing)\u001b[39m\n\u001b[32m     61\u001b[39m \u001b[38;5;28;01melse\u001b[39;00m:\n\u001b[32m     62\u001b[39m     \u001b[38;5;28;01mif\u001b[39;00m data_util._is_using_pandas(Y, \u001b[38;5;28;01mNone\u001b[39;00m):\n\u001b[32m---> \u001b[39m\u001b[32m63\u001b[39m         result = dmatrices(formula, Y, depth, return_type=\u001b[33m'\u001b[39m\u001b[33mdataframe\u001b[39m\u001b[33m'\u001b[39m,\n\u001b[32m     64\u001b[39m                            NA_action=na_action)\n\u001b[32m     65\u001b[39m     \u001b[38;5;28;01melse\u001b[39;00m:\n\u001b[32m     66\u001b[39m         result = dmatrices(formula, Y, depth, return_type=\u001b[33m'\u001b[39m\u001b[33mdataframe\u001b[39m\u001b[33m'\u001b[39m,\n\u001b[32m     67\u001b[39m                            NA_action=na_action)\n",
      "\u001b[36mFile \u001b[39m\u001b[32me:\\miniconda3\\Lib\\site-packages\\patsy\\highlevel.py:319\u001b[39m, in \u001b[36mdmatrices\u001b[39m\u001b[34m(formula_like, data, eval_env, NA_action, return_type)\u001b[39m\n\u001b[32m    309\u001b[39m \u001b[38;5;250m\u001b[39m\u001b[33;03m\"\"\"Construct two design matrices given a formula_like and data.\u001b[39;00m\n\u001b[32m    310\u001b[39m \n\u001b[32m    311\u001b[39m \u001b[33;03mThis function is identical to :func:`dmatrix`, except that it requires\u001b[39;00m\n\u001b[32m   (...)\u001b[39m\u001b[32m    316\u001b[39m \u001b[33;03mSee :func:`dmatrix` for details.\u001b[39;00m\n\u001b[32m    317\u001b[39m \u001b[33;03m\"\"\"\u001b[39;00m\n\u001b[32m    318\u001b[39m eval_env = EvalEnvironment.capture(eval_env, reference=\u001b[32m1\u001b[39m)\n\u001b[32m--> \u001b[39m\u001b[32m319\u001b[39m (lhs, rhs) = _do_highlevel_design(\n\u001b[32m    320\u001b[39m     formula_like, data, eval_env, NA_action, return_type\n\u001b[32m    321\u001b[39m )\n\u001b[32m    322\u001b[39m \u001b[38;5;28;01mif\u001b[39;00m lhs.shape[\u001b[32m1\u001b[39m] == \u001b[32m0\u001b[39m:\n\u001b[32m    323\u001b[39m     \u001b[38;5;28;01mraise\u001b[39;00m PatsyError(\u001b[33m\"\u001b[39m\u001b[33mmodel is missing required outcome variables\u001b[39m\u001b[33m\"\u001b[39m)\n",
      "\u001b[36mFile \u001b[39m\u001b[32me:\\miniconda3\\Lib\\site-packages\\patsy\\highlevel.py:164\u001b[39m, in \u001b[36m_do_highlevel_design\u001b[39m\u001b[34m(formula_like, data, eval_env, NA_action, return_type)\u001b[39m\n\u001b[32m    161\u001b[39m \u001b[38;5;28;01mdef\u001b[39;00m\u001b[38;5;250m \u001b[39m\u001b[34mdata_iter_maker\u001b[39m():\n\u001b[32m    162\u001b[39m     \u001b[38;5;28;01mreturn\u001b[39;00m \u001b[38;5;28miter\u001b[39m([data])\n\u001b[32m--> \u001b[39m\u001b[32m164\u001b[39m design_infos = _try_incr_builders(\n\u001b[32m    165\u001b[39m     formula_like, data_iter_maker, eval_env, NA_action\n\u001b[32m    166\u001b[39m )\n\u001b[32m    167\u001b[39m \u001b[38;5;28;01mif\u001b[39;00m design_infos \u001b[38;5;129;01mis\u001b[39;00m \u001b[38;5;129;01mnot\u001b[39;00m \u001b[38;5;28;01mNone\u001b[39;00m:\n\u001b[32m    168\u001b[39m     \u001b[38;5;28;01mreturn\u001b[39;00m build_design_matrices(\n\u001b[32m    169\u001b[39m         design_infos, data, NA_action=NA_action, return_type=return_type\n\u001b[32m    170\u001b[39m     )\n",
      "\u001b[36mFile \u001b[39m\u001b[32me:\\miniconda3\\Lib\\site-packages\\patsy\\highlevel.py:52\u001b[39m, in \u001b[36m_try_incr_builders\u001b[39m\u001b[34m(formula_like, data_iter_maker, eval_env, NA_action)\u001b[39m\n\u001b[32m     50\u001b[39m     \u001b[38;5;66;03m# fallthrough\u001b[39;00m\n\u001b[32m     51\u001b[39m \u001b[38;5;28;01mif\u001b[39;00m \u001b[38;5;28misinstance\u001b[39m(formula_like, \u001b[38;5;28mstr\u001b[39m):\n\u001b[32m---> \u001b[39m\u001b[32m52\u001b[39m     formula_like = ModelDesc.from_formula(formula_like)\n\u001b[32m     53\u001b[39m     \u001b[38;5;66;03m# fallthrough\u001b[39;00m\n\u001b[32m     54\u001b[39m \u001b[38;5;28;01mif\u001b[39;00m \u001b[38;5;28misinstance\u001b[39m(formula_like, ModelDesc):\n",
      "\u001b[36mFile \u001b[39m\u001b[32me:\\miniconda3\\Lib\\site-packages\\patsy\\desc.py:176\u001b[39m, in \u001b[36mModelDesc.from_formula\u001b[39m\u001b[34m(cls, tree_or_string)\u001b[39m\n\u001b[32m    174\u001b[39m     tree = tree_or_string\n\u001b[32m    175\u001b[39m \u001b[38;5;28;01melse\u001b[39;00m:\n\u001b[32m--> \u001b[39m\u001b[32m176\u001b[39m     tree = parse_formula(tree_or_string)\n\u001b[32m    177\u001b[39m value = Evaluator().eval(tree, require_evalexpr=\u001b[38;5;28;01mFalse\u001b[39;00m)\n\u001b[32m    178\u001b[39m \u001b[38;5;28;01massert\u001b[39;00m \u001b[38;5;28misinstance\u001b[39m(value, \u001b[38;5;28mcls\u001b[39m)\n",
      "\u001b[36mFile \u001b[39m\u001b[32me:\\miniconda3\\Lib\\site-packages\\patsy\\parse_formula.py:150\u001b[39m, in \u001b[36mparse_formula\u001b[39m\u001b[34m(code, extra_operators)\u001b[39m\n\u001b[32m    148\u001b[39m operators = _default_ops + extra_operators\n\u001b[32m    149\u001b[39m operator_strings = [op.token_type \u001b[38;5;28;01mfor\u001b[39;00m op \u001b[38;5;129;01min\u001b[39;00m operators]\n\u001b[32m--> \u001b[39m\u001b[32m150\u001b[39m tree = infix_parse(\n\u001b[32m    151\u001b[39m     _tokenize_formula(code, operator_strings), operators, _atomic_token_types\n\u001b[32m    152\u001b[39m )\n\u001b[32m    153\u001b[39m \u001b[38;5;28;01mif\u001b[39;00m \u001b[38;5;129;01mnot\u001b[39;00m \u001b[38;5;28misinstance\u001b[39m(tree, ParseNode) \u001b[38;5;129;01mor\u001b[39;00m tree.type != \u001b[33m\"\u001b[39m\u001b[33m~\u001b[39m\u001b[33m\"\u001b[39m:\n\u001b[32m    154\u001b[39m     tree = ParseNode(\u001b[33m\"\u001b[39m\u001b[33m~\u001b[39m\u001b[33m\"\u001b[39m, \u001b[38;5;28;01mNone\u001b[39;00m, [tree], tree.origin)\n",
      "\u001b[36mFile \u001b[39m\u001b[32me:\\miniconda3\\Lib\\site-packages\\patsy\\infix_parser.py:241\u001b[39m, in \u001b[36minfix_parse\u001b[39m\u001b[34m(tokens, operators, atomic_types, trace)\u001b[39m\n\u001b[32m    238\u001b[39m     \u001b[38;5;28mprint\u001b[39m(\u001b[33m\"\u001b[39m\u001b[33mEnd of token stream\u001b[39m\u001b[33m\"\u001b[39m)\n\u001b[32m    240\u001b[39m \u001b[38;5;28;01mif\u001b[39;00m want_noun:\n\u001b[32m--> \u001b[39m\u001b[32m241\u001b[39m     \u001b[38;5;28;01mraise\u001b[39;00m PatsyError(\n\u001b[32m    242\u001b[39m         \u001b[33m\"\u001b[39m\u001b[33mexpected a noun, but instead the expression ended\u001b[39m\u001b[33m\"\u001b[39m,\n\u001b[32m    243\u001b[39m         c.op_stack[-\u001b[32m1\u001b[39m].token.origin,\n\u001b[32m    244\u001b[39m     )\n\u001b[32m    246\u001b[39m \u001b[38;5;28;01mwhile\u001b[39;00m c.op_stack:\n\u001b[32m    247\u001b[39m     \u001b[38;5;28;01mif\u001b[39;00m c.op_stack[-\u001b[32m1\u001b[39m].op.token_type == Token.LPAREN:\n",
      "\u001b[31mPatsyError\u001b[39m: expected a noun, but instead the expression ended\n    narr86 ~ pcnv + ptime86 +  qemp86 +\n                                      ^"
     ]
    }
   ],
   "source": [
    "lm_test(crime1, 'narr86', ['pcnv','ptime86',' qemp86'], [])"
   ]
  },
  {
   "cell_type": "code",
   "execution_count": null,
   "id": "7cdb6638",
   "metadata": {},
   "outputs": [],
   "source": []
  }
 ],
 "metadata": {
  "kernelspec": {
   "display_name": "base",
   "language": "python",
   "name": "python3"
  },
  "language_info": {
   "codemirror_mode": {
    "name": "ipython",
    "version": 3
   },
   "file_extension": ".py",
   "mimetype": "text/x-python",
   "name": "python",
   "nbconvert_exporter": "python",
   "pygments_lexer": "ipython3",
   "version": "3.12.11"
  }
 },
 "nbformat": 4,
 "nbformat_minor": 5
}
