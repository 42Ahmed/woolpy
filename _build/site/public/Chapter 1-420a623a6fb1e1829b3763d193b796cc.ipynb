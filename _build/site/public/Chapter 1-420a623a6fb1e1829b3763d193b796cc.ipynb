{
 "cells": [
  {
   "cell_type": "markdown",
   "metadata": {},
   "source": [
    "# The Nature of Econometrics and Economic Data"
   ]
  },
  {
   "cell_type": "code",
   "execution_count": 1,
   "metadata": {},
   "outputs": [],
   "source": [
    "import wooldridge\n",
    "import pandas as pd"
   ]
  },
  {
   "cell_type": "code",
   "execution_count": 2,
   "metadata": {},
   "outputs": [
    {
     "name": "stdout",
     "output_type": "stream",
     "text": [
      "  J.M. Wooldridge (2019) Introductory Econometrics: A Modern Approach,\n",
      "  Cengage Learning, 6th edition.\n",
      "\n",
      "  401k       401ksubs    admnrev       affairs     airfare\n",
      "  alcohol    apple       approval      athlet1     athlet2\n",
      "  attend     audit       barium        beauty      benefits\n",
      "  beveridge  big9salary  bwght         bwght2      campus\n",
      "  card       catholic    cement        census2000  ceosal1\n",
      "  ceosal2    charity     consump       corn        countymurders\n",
      "  cps78_85   cps91       crime1        crime2      crime3\n",
      "  crime4     discrim     driving       earns       econmath\n",
      "  elem94_95  engin       expendshares  ezanders    ezunem\n",
      "  fair       fertil1     fertil2       fertil3     fish\n",
      "  fringe     gpa1        gpa2          gpa3        happiness\n",
      "  hprice1    hprice2     hprice3       hseinv      htv\n",
      "  infmrt     injury      intdef        intqrt      inven\n",
      "  jtrain     jtrain2     jtrain3       kielmc      lawsch85\n",
      "  loanapp    lowbrth     mathpnl       meap00_01   meap01\n",
      "  meap93     meapsingle  minwage       mlb1        mroz\n",
      "  murder     nbasal      nyse          okun        openness\n",
      "  pension    phillips    pntsprd       prison      prminwge\n",
      "  rdchem     rdtelec     recid         rental      return\n",
      "  saving     sleep75     slp75_81      smoke       traffic1\n",
      "  traffic2   twoyear     volat         vote1       vote2\n",
      "  voucher    wage1       wage2         wagepan     wageprc\n",
      "  wine\n"
     ]
    }
   ],
   "source": [
    "wooldridge.data()"
   ]
  },
  {
   "cell_type": "markdown",
   "metadata": {},
   "source": [
    "## Computer problems"
   ]
  },
  {
   "cell_type": "markdown",
   "metadata": {},
   "source": [
    "### C1 Use the data in Wage1 for this exercise"
   ]
  },
  {
   "cell_type": "code",
   "execution_count": 3,
   "metadata": {},
   "outputs": [
    {
     "name": "stdout",
     "output_type": "stream",
     "text": [
      "name of dataset: wage1\n",
      "no of variables: 24\n",
      "no of observations: 526\n",
      "\n",
      "+----------+---------------------------------+\n",
      "| variable | label                           |\n",
      "+----------+---------------------------------+\n",
      "| wage     | average hourly earnings         |\n",
      "| educ     | years of education              |\n",
      "| exper    | years potential experience      |\n",
      "| tenure   | years with current employer     |\n",
      "| nonwhite | =1 if nonwhite                  |\n",
      "| female   | =1 if female                    |\n",
      "| married  | =1 if married                   |\n",
      "| numdep   | number of dependents            |\n",
      "| smsa     | =1 if live in SMSA              |\n",
      "| northcen | =1 if live in north central U.S |\n",
      "| south    | =1 if live in southern region   |\n",
      "| west     | =1 if live in western region    |\n",
      "| construc | =1 if work in construc. indus.  |\n",
      "| ndurman  | =1 if in nondur. manuf. indus.  |\n",
      "| trcommpu | =1 if in trans, commun, pub ut  |\n",
      "| trade    | =1 if in wholesale or retail    |\n",
      "| services | =1 if in services indus.        |\n",
      "| profserv | =1 if in prof. serv. indus.     |\n",
      "| profocc  | =1 if in profess. occupation    |\n",
      "| clerocc  | =1 if in clerical occupation    |\n",
      "| servocc  | =1 if in service occupation     |\n",
      "| lwage    | log(wage)                       |\n",
      "| expersq  | exper^2                         |\n",
      "| tenursq  | tenure^2                        |\n",
      "+----------+---------------------------------+\n",
      "\n",
      "These are data from the 1976 Current Population Survey, collected by\n",
      "Henry Farber when he and I were colleagues at MIT in 1988.\n"
     ]
    }
   ],
   "source": [
    "wooldridge.data('wage1', description=True)"
   ]
  },
  {
   "cell_type": "code",
   "execution_count": 4,
   "metadata": {},
   "outputs": [
    {
     "data": {
      "text/html": [
       "<div>\n",
       "<style scoped>\n",
       "    .dataframe tbody tr th:only-of-type {\n",
       "        vertical-align: middle;\n",
       "    }\n",
       "\n",
       "    .dataframe tbody tr th {\n",
       "        vertical-align: top;\n",
       "    }\n",
       "\n",
       "    .dataframe thead th {\n",
       "        text-align: right;\n",
       "    }\n",
       "</style>\n",
       "<table border=\"1\" class=\"dataframe\">\n",
       "  <thead>\n",
       "    <tr style=\"text-align: right;\">\n",
       "      <th></th>\n",
       "      <th>wage</th>\n",
       "      <th>educ</th>\n",
       "      <th>exper</th>\n",
       "      <th>tenure</th>\n",
       "      <th>nonwhite</th>\n",
       "      <th>female</th>\n",
       "      <th>married</th>\n",
       "      <th>numdep</th>\n",
       "      <th>smsa</th>\n",
       "      <th>northcen</th>\n",
       "      <th>...</th>\n",
       "      <th>trcommpu</th>\n",
       "      <th>trade</th>\n",
       "      <th>services</th>\n",
       "      <th>profserv</th>\n",
       "      <th>profocc</th>\n",
       "      <th>clerocc</th>\n",
       "      <th>servocc</th>\n",
       "      <th>lwage</th>\n",
       "      <th>expersq</th>\n",
       "      <th>tenursq</th>\n",
       "    </tr>\n",
       "  </thead>\n",
       "  <tbody>\n",
       "    <tr>\n",
       "      <th>0</th>\n",
       "      <td>3.10</td>\n",
       "      <td>11</td>\n",
       "      <td>2</td>\n",
       "      <td>0</td>\n",
       "      <td>0</td>\n",
       "      <td>1</td>\n",
       "      <td>0</td>\n",
       "      <td>2</td>\n",
       "      <td>1</td>\n",
       "      <td>0</td>\n",
       "      <td>...</td>\n",
       "      <td>0</td>\n",
       "      <td>0</td>\n",
       "      <td>0</td>\n",
       "      <td>0</td>\n",
       "      <td>0</td>\n",
       "      <td>0</td>\n",
       "      <td>0</td>\n",
       "      <td>1.131402</td>\n",
       "      <td>4</td>\n",
       "      <td>0</td>\n",
       "    </tr>\n",
       "    <tr>\n",
       "      <th>1</th>\n",
       "      <td>3.24</td>\n",
       "      <td>12</td>\n",
       "      <td>22</td>\n",
       "      <td>2</td>\n",
       "      <td>0</td>\n",
       "      <td>1</td>\n",
       "      <td>1</td>\n",
       "      <td>3</td>\n",
       "      <td>1</td>\n",
       "      <td>0</td>\n",
       "      <td>...</td>\n",
       "      <td>0</td>\n",
       "      <td>0</td>\n",
       "      <td>1</td>\n",
       "      <td>0</td>\n",
       "      <td>0</td>\n",
       "      <td>0</td>\n",
       "      <td>1</td>\n",
       "      <td>1.175573</td>\n",
       "      <td>484</td>\n",
       "      <td>4</td>\n",
       "    </tr>\n",
       "    <tr>\n",
       "      <th>2</th>\n",
       "      <td>3.00</td>\n",
       "      <td>11</td>\n",
       "      <td>2</td>\n",
       "      <td>0</td>\n",
       "      <td>0</td>\n",
       "      <td>0</td>\n",
       "      <td>0</td>\n",
       "      <td>2</td>\n",
       "      <td>0</td>\n",
       "      <td>0</td>\n",
       "      <td>...</td>\n",
       "      <td>0</td>\n",
       "      <td>1</td>\n",
       "      <td>0</td>\n",
       "      <td>0</td>\n",
       "      <td>0</td>\n",
       "      <td>0</td>\n",
       "      <td>0</td>\n",
       "      <td>1.098612</td>\n",
       "      <td>4</td>\n",
       "      <td>0</td>\n",
       "    </tr>\n",
       "    <tr>\n",
       "      <th>3</th>\n",
       "      <td>6.00</td>\n",
       "      <td>8</td>\n",
       "      <td>44</td>\n",
       "      <td>28</td>\n",
       "      <td>0</td>\n",
       "      <td>0</td>\n",
       "      <td>1</td>\n",
       "      <td>0</td>\n",
       "      <td>1</td>\n",
       "      <td>0</td>\n",
       "      <td>...</td>\n",
       "      <td>0</td>\n",
       "      <td>0</td>\n",
       "      <td>0</td>\n",
       "      <td>0</td>\n",
       "      <td>0</td>\n",
       "      <td>1</td>\n",
       "      <td>0</td>\n",
       "      <td>1.791759</td>\n",
       "      <td>1936</td>\n",
       "      <td>784</td>\n",
       "    </tr>\n",
       "    <tr>\n",
       "      <th>4</th>\n",
       "      <td>5.30</td>\n",
       "      <td>12</td>\n",
       "      <td>7</td>\n",
       "      <td>2</td>\n",
       "      <td>0</td>\n",
       "      <td>0</td>\n",
       "      <td>1</td>\n",
       "      <td>1</td>\n",
       "      <td>0</td>\n",
       "      <td>0</td>\n",
       "      <td>...</td>\n",
       "      <td>0</td>\n",
       "      <td>0</td>\n",
       "      <td>0</td>\n",
       "      <td>0</td>\n",
       "      <td>0</td>\n",
       "      <td>0</td>\n",
       "      <td>0</td>\n",
       "      <td>1.667707</td>\n",
       "      <td>49</td>\n",
       "      <td>4</td>\n",
       "    </tr>\n",
       "  </tbody>\n",
       "</table>\n",
       "<p>5 rows × 24 columns</p>\n",
       "</div>"
      ],
      "text/plain": [
       "   wage  educ  exper  tenure  nonwhite  female  married  numdep  smsa  \\\n",
       "0  3.10    11      2       0         0       1        0       2     1   \n",
       "1  3.24    12     22       2         0       1        1       3     1   \n",
       "2  3.00    11      2       0         0       0        0       2     0   \n",
       "3  6.00     8     44      28         0       0        1       0     1   \n",
       "4  5.30    12      7       2         0       0        1       1     0   \n",
       "\n",
       "   northcen  ...  trcommpu  trade  services  profserv  profocc  clerocc  \\\n",
       "0         0  ...         0      0         0         0        0        0   \n",
       "1         0  ...         0      0         1         0        0        0   \n",
       "2         0  ...         0      1         0         0        0        0   \n",
       "3         0  ...         0      0         0         0        0        1   \n",
       "4         0  ...         0      0         0         0        0        0   \n",
       "\n",
       "   servocc     lwage  expersq  tenursq  \n",
       "0        0  1.131402        4        0  \n",
       "1        1  1.175573      484        4  \n",
       "2        0  1.098612        4        0  \n",
       "3        0  1.791759     1936      784  \n",
       "4        0  1.667707       49        4  \n",
       "\n",
       "[5 rows x 24 columns]"
      ]
     },
     "execution_count": 4,
     "metadata": {},
     "output_type": "execute_result"
    }
   ],
   "source": [
    "wage = wooldridge.data('wage1')\n",
    "wage.head()"
   ]
  },
  {
   "cell_type": "markdown",
   "metadata": {},
   "source": [
    "#### (i) Find the average education level in the sample. What are the lowest and highest years of education?"
   ]
  },
  {
   "cell_type": "code",
   "execution_count": 5,
   "metadata": {},
   "outputs": [
    {
     "data": {
      "text/plain": [
       "count    526.000000\n",
       "mean      12.562738\n",
       "std        2.769022\n",
       "min        0.000000\n",
       "25%       12.000000\n",
       "50%       12.000000\n",
       "75%       14.000000\n",
       "max       18.000000\n",
       "Name: educ, dtype: float64"
      ]
     },
     "execution_count": 5,
     "metadata": {},
     "output_type": "execute_result"
    }
   ],
   "source": [
    "wage['educ'].describe()"
   ]
  },
  {
   "cell_type": "markdown",
   "metadata": {},
   "source": [
    "Average years of education is $12.56$, minimum years of education is $0$ and maximum is 18"
   ]
  },
  {
   "cell_type": "markdown",
   "metadata": {},
   "source": [
    "#### (ii) Find the average hourly wage in the sample."
   ]
  },
  {
   "cell_type": "code",
   "execution_count": 6,
   "metadata": {},
   "outputs": [
    {
     "data": {
      "text/plain": [
       "np.float64(5.896102674787035)"
      ]
     },
     "execution_count": 6,
     "metadata": {},
     "output_type": "execute_result"
    }
   ],
   "source": [
    "wage['wage'].mean()"
   ]
  },
  {
   "cell_type": "markdown",
   "metadata": {},
   "source": [
    "The wage in 1976 had an average $5.9$ "
   ]
  },
  {
   "cell_type": "markdown",
   "metadata": {},
   "source": [
    "#### (iii) How many women are in the sample? How many men?"
   ]
  },
  {
   "cell_type": "code",
   "execution_count": 7,
   "metadata": {},
   "outputs": [
    {
     "data": {
      "text/plain": [
       "Index(['wage', 'educ', 'exper', 'tenure', 'nonwhite', 'female', 'married',\n",
       "       'numdep', 'smsa', 'northcen', 'south', 'west', 'construc', 'ndurman',\n",
       "       'trcommpu', 'trade', 'services', 'profserv', 'profocc', 'clerocc',\n",
       "       'servocc', 'lwage', 'expersq', 'tenursq'],\n",
       "      dtype='object')"
      ]
     },
     "execution_count": 7,
     "metadata": {},
     "output_type": "execute_result"
    }
   ],
   "source": [
    "wage.columns"
   ]
  },
  {
   "cell_type": "code",
   "execution_count": 8,
   "metadata": {},
   "outputs": [
    {
     "data": {
      "text/plain": [
       "female\n",
       "0    274\n",
       "1    252\n",
       "Name: count, dtype: int64"
      ]
     },
     "execution_count": 8,
     "metadata": {},
     "output_type": "execute_result"
    }
   ],
   "source": [
    "wage.female.value_counts()"
   ]
  },
  {
   "cell_type": "markdown",
   "metadata": {},
   "source": [
    "There are $274$ males and $252$ females in the dataset"
   ]
  },
  {
   "cell_type": "markdown",
   "metadata": {},
   "source": [
    "### C2 Use the data in BWGHT to answer this question."
   ]
  },
  {
   "cell_type": "code",
   "execution_count": 9,
   "metadata": {},
   "outputs": [
    {
     "name": "stdout",
     "output_type": "stream",
     "text": [
      "name of dataset: bwght\n",
      "no of variables: 14\n",
      "no of observations: 1388\n",
      "\n",
      "+----------+--------------------------------+\n",
      "| variable | label                          |\n",
      "+----------+--------------------------------+\n",
      "| faminc   | 1988 family income, $1000s     |\n",
      "| cigtax   | cig. tax in home state, 1988   |\n",
      "| cigprice | cig. price in home state, 1988 |\n",
      "| bwght    | birth weight, ounces           |\n",
      "| fatheduc | father's yrs of educ           |\n",
      "| motheduc | mother's yrs of educ           |\n",
      "| parity   | birth order of child           |\n",
      "| male     | =1 if male child               |\n",
      "| white    | =1 if white                    |\n",
      "| cigs     | cigs smked per day while preg  |\n",
      "| lbwght   | log of bwght                   |\n",
      "| bwghtlbs | birth weight, pounds           |\n",
      "| packs    | packs smked per day while preg |\n",
      "| lfaminc  | log(faminc)                    |\n",
      "+----------+--------------------------------+\n",
      "\n",
      "J. Mullahy (1997), “Instrumental-Variable Estimation of Count Data\n",
      "Models: Applications to Models of Cigarette Smoking Behavior,” Review\n",
      "of Economics and Statistics 79, 596-593. Professor Mullahy kindly\n",
      "provided the data. He obtained them from the 1988 National Health\n",
      "Interview Survey.\n"
     ]
    }
   ],
   "source": [
    "wooldridge.data('bwght', description=True)"
   ]
  },
  {
   "cell_type": "code",
   "execution_count": 10,
   "metadata": {},
   "outputs": [
    {
     "data": {
      "text/html": [
       "<div>\n",
       "<style scoped>\n",
       "    .dataframe tbody tr th:only-of-type {\n",
       "        vertical-align: middle;\n",
       "    }\n",
       "\n",
       "    .dataframe tbody tr th {\n",
       "        vertical-align: top;\n",
       "    }\n",
       "\n",
       "    .dataframe thead th {\n",
       "        text-align: right;\n",
       "    }\n",
       "</style>\n",
       "<table border=\"1\" class=\"dataframe\">\n",
       "  <thead>\n",
       "    <tr style=\"text-align: right;\">\n",
       "      <th></th>\n",
       "      <th>faminc</th>\n",
       "      <th>cigtax</th>\n",
       "      <th>cigprice</th>\n",
       "      <th>bwght</th>\n",
       "      <th>fatheduc</th>\n",
       "      <th>motheduc</th>\n",
       "      <th>parity</th>\n",
       "      <th>male</th>\n",
       "      <th>white</th>\n",
       "      <th>cigs</th>\n",
       "      <th>lbwght</th>\n",
       "      <th>bwghtlbs</th>\n",
       "      <th>packs</th>\n",
       "      <th>lfaminc</th>\n",
       "    </tr>\n",
       "  </thead>\n",
       "  <tbody>\n",
       "    <tr>\n",
       "      <th>0</th>\n",
       "      <td>13.5</td>\n",
       "      <td>16.5</td>\n",
       "      <td>122.300003</td>\n",
       "      <td>109</td>\n",
       "      <td>12.0</td>\n",
       "      <td>12.0</td>\n",
       "      <td>1</td>\n",
       "      <td>1</td>\n",
       "      <td>1</td>\n",
       "      <td>0</td>\n",
       "      <td>4.691348</td>\n",
       "      <td>6.8125</td>\n",
       "      <td>0.0</td>\n",
       "      <td>2.602690</td>\n",
       "    </tr>\n",
       "    <tr>\n",
       "      <th>1</th>\n",
       "      <td>7.5</td>\n",
       "      <td>16.5</td>\n",
       "      <td>122.300003</td>\n",
       "      <td>133</td>\n",
       "      <td>6.0</td>\n",
       "      <td>12.0</td>\n",
       "      <td>2</td>\n",
       "      <td>1</td>\n",
       "      <td>0</td>\n",
       "      <td>0</td>\n",
       "      <td>4.890349</td>\n",
       "      <td>8.3125</td>\n",
       "      <td>0.0</td>\n",
       "      <td>2.014903</td>\n",
       "    </tr>\n",
       "    <tr>\n",
       "      <th>2</th>\n",
       "      <td>0.5</td>\n",
       "      <td>16.5</td>\n",
       "      <td>122.300003</td>\n",
       "      <td>129</td>\n",
       "      <td>NaN</td>\n",
       "      <td>12.0</td>\n",
       "      <td>2</td>\n",
       "      <td>0</td>\n",
       "      <td>0</td>\n",
       "      <td>0</td>\n",
       "      <td>4.859812</td>\n",
       "      <td>8.0625</td>\n",
       "      <td>0.0</td>\n",
       "      <td>-0.693147</td>\n",
       "    </tr>\n",
       "    <tr>\n",
       "      <th>3</th>\n",
       "      <td>15.5</td>\n",
       "      <td>16.5</td>\n",
       "      <td>122.300003</td>\n",
       "      <td>126</td>\n",
       "      <td>12.0</td>\n",
       "      <td>12.0</td>\n",
       "      <td>2</td>\n",
       "      <td>1</td>\n",
       "      <td>0</td>\n",
       "      <td>0</td>\n",
       "      <td>4.836282</td>\n",
       "      <td>7.8750</td>\n",
       "      <td>0.0</td>\n",
       "      <td>2.740840</td>\n",
       "    </tr>\n",
       "    <tr>\n",
       "      <th>4</th>\n",
       "      <td>27.5</td>\n",
       "      <td>16.5</td>\n",
       "      <td>122.300003</td>\n",
       "      <td>134</td>\n",
       "      <td>14.0</td>\n",
       "      <td>12.0</td>\n",
       "      <td>2</td>\n",
       "      <td>1</td>\n",
       "      <td>1</td>\n",
       "      <td>0</td>\n",
       "      <td>4.897840</td>\n",
       "      <td>8.3750</td>\n",
       "      <td>0.0</td>\n",
       "      <td>3.314186</td>\n",
       "    </tr>\n",
       "  </tbody>\n",
       "</table>\n",
       "</div>"
      ],
      "text/plain": [
       "   faminc  cigtax    cigprice  bwght  fatheduc  motheduc  parity  male  white  \\\n",
       "0    13.5    16.5  122.300003    109      12.0      12.0       1     1      1   \n",
       "1     7.5    16.5  122.300003    133       6.0      12.0       2     1      0   \n",
       "2     0.5    16.5  122.300003    129       NaN      12.0       2     0      0   \n",
       "3    15.5    16.5  122.300003    126      12.0      12.0       2     1      0   \n",
       "4    27.5    16.5  122.300003    134      14.0      12.0       2     1      1   \n",
       "\n",
       "   cigs    lbwght  bwghtlbs  packs   lfaminc  \n",
       "0     0  4.691348    6.8125    0.0  2.602690  \n",
       "1     0  4.890349    8.3125    0.0  2.014903  \n",
       "2     0  4.859812    8.0625    0.0 -0.693147  \n",
       "3     0  4.836282    7.8750    0.0  2.740840  \n",
       "4     0  4.897840    8.3750    0.0  3.314186  "
      ]
     },
     "execution_count": 10,
     "metadata": {},
     "output_type": "execute_result"
    }
   ],
   "source": [
    "df2 = wooldridge.data('bwght')\n",
    "df2.head()"
   ]
  },
  {
   "cell_type": "markdown",
   "metadata": {},
   "source": [
    "#### (i) How many women are in the sample, and how many report smoking during pregnancy?"
   ]
  },
  {
   "cell_type": "code",
   "execution_count": 11,
   "metadata": {},
   "outputs": [
    {
     "data": {
      "text/plain": [
       "1388"
      ]
     },
     "execution_count": 11,
     "metadata": {},
     "output_type": "execute_result"
    }
   ],
   "source": [
    "len(df2)"
   ]
  },
  {
   "cell_type": "code",
   "execution_count": 12,
   "metadata": {},
   "outputs": [
    {
     "data": {
      "text/plain": [
       "212"
      ]
     },
     "execution_count": 12,
     "metadata": {},
     "output_type": "execute_result"
    }
   ],
   "source": [
    "df2[df2[\"cigs\"] != 0].shape[0]"
   ]
  },
  {
   "cell_type": "code",
   "execution_count": 13,
   "metadata": {},
   "outputs": [
    {
     "data": {
      "text/plain": [
       "0.15273775216138327"
      ]
     },
     "execution_count": 13,
     "metadata": {},
     "output_type": "execute_result"
    }
   ],
   "source": [
    "df2[df2[\"cigs\"] != 0].shape[0] / len(df2)"
   ]
  },
  {
   "cell_type": "markdown",
   "metadata": {},
   "source": [
    "There are $1388$ women in the dataset, $212$ of them reported smoking during pregnancy which repesents $15.3\\%$ of the women in the dataset"
   ]
  },
  {
   "cell_type": "markdown",
   "metadata": {},
   "source": [
    "#### (ii) What is the average number of cigarettes smoked per day? Is the average a good measure of the“typical” woman in this case? Explain."
   ]
  },
  {
   "cell_type": "code",
   "execution_count": 14,
   "metadata": {},
   "outputs": [
    {
     "data": {
      "text/plain": [
       "<Axes: xlabel='cigs'>"
      ]
     },
     "execution_count": 14,
     "metadata": {},
     "output_type": "execute_result"
    },
    {
     "data": {
      "image/png": "[encoded data removed]",
      "text/plain": [
       "<Figure size 640x480 with 1 Axes>"
      ]
     },
     "metadata": {},
     "output_type": "display_data"
    }
   ],
   "source": [
    "df2[\"cigs\"].value_counts().sort_index().plot(kind=\"bar\")"
   ]
  },
  {
   "cell_type": "code",
   "execution_count": 15,
   "metadata": {},
   "outputs": [
    {
     "data": {
      "text/plain": [
       "<Axes: xlabel='cigs'>"
      ]
     },
     "execution_count": 15,
     "metadata": {},
     "output_type": "execute_result"
    },
    {
     "data": {
      "image/png": "[encoded data removed]",
      "text/plain": [
       "<Figure size 640x480 with 1 Axes>"
      ]
     },
     "metadata": {},
     "output_type": "display_data"
    }
   ],
   "source": [
    "df2[df2[\"cigs\"] != 0][\"cigs\"].value_counts().sort_index().plot(kind=\"bar\")"
   ]
  },
  {
   "cell_type": "code",
   "execution_count": 16,
   "metadata": {},
   "outputs": [
    {
     "data": {
      "text/plain": [
       "np.float64(2.0871757925072045)"
      ]
     },
     "execution_count": 16,
     "metadata": {},
     "output_type": "execute_result"
    }
   ],
   "source": [
    "df2['cigs'].mean()"
   ]
  },
  {
   "cell_type": "code",
   "execution_count": 17,
   "metadata": {},
   "outputs": [
    {
     "data": {
      "text/plain": [
       "np.float64(13.665094339622641)"
      ]
     },
     "execution_count": 17,
     "metadata": {},
     "output_type": "execute_result"
    }
   ],
   "source": [
    "df2[df2['cigs'] != 0]['cigs'].mean()"
   ]
  },
  {
   "cell_type": "markdown",
   "metadata": {},
   "source": [
    "Average ciggaretes per day is roughly $2$ but its not representative cuz it is zero inflated. $1176$ women did not smoke representing $85\\%$ of the data. If the zero inflation is removed, average becomes $13.7$"
   ]
  },
  {
   "cell_type": "markdown",
   "metadata": {},
   "source": [
    "#### (iii) Among women who smoked during pregnancy, what is the average number of cigarettes"
   ]
  },
  {
   "cell_type": "markdown",
   "metadata": {},
   "source": [
    "The average ciggaretes consumed by women who smoke during pregnancy is $13.7$ ciggaretes per day"
   ]
  },
  {
   "cell_type": "markdown",
   "metadata": {},
   "source": [
    "#### (iv) Find the average of fatheduc in the sample. Why are only 1,192 observations used to compute this average?"
   ]
  },
  {
   "cell_type": "code",
   "execution_count": 18,
   "metadata": {},
   "outputs": [
    {
     "data": {
      "text/plain": [
       "<Axes: xlabel='fatheduc'>"
      ]
     },
     "execution_count": 18,
     "metadata": {},
     "output_type": "execute_result"
    },
    {
     "data": {
      "image/png": "[encoded data removed]",
      "text/plain": [
       "<Figure size 640x480 with 1 Axes>"
      ]
     },
     "metadata": {},
     "output_type": "display_data"
    }
   ],
   "source": [
    "df2['fatheduc'].value_counts().sort_index().plot(kind=\"bar\")"
   ]
  },
  {
   "cell_type": "code",
   "execution_count": 19,
   "metadata": {},
   "outputs": [
    {
     "data": {
      "text/plain": [
       "count    1192.000000\n",
       "mean       13.186242\n",
       "std         2.745985\n",
       "min         1.000000\n",
       "25%        12.000000\n",
       "50%        12.000000\n",
       "75%        16.000000\n",
       "max        18.000000\n",
       "Name: fatheduc, dtype: float64"
      ]
     },
     "execution_count": 19,
     "metadata": {},
     "output_type": "execute_result"
    }
   ],
   "source": [
    "df2['fatheduc'].describe()"
   ]
  },
  {
   "cell_type": "code",
   "execution_count": 20,
   "metadata": {},
   "outputs": [
    {
     "data": {
      "text/plain": [
       "np.int64(196)"
      ]
     },
     "execution_count": 20,
     "metadata": {},
     "output_type": "execute_result"
    }
   ],
   "source": [
    "df2['fatheduc'].isnull().sum()"
   ]
  },
  {
   "cell_type": "markdown",
   "metadata": {},
   "source": [
    "The average years of education of the fathers is $13.2$. This average is based on $1192$ father only cuz we have missing data for $196$ fathers"
   ]
  },
  {
   "cell_type": "markdown",
   "metadata": {},
   "source": [
    "#### (v) Report the average family income and its standard deviation in dollars."
   ]
  },
  {
   "cell_type": "code",
   "execution_count": 21,
   "metadata": {},
   "outputs": [
    {
     "data": {
      "text/plain": [
       "(np.float64(29.026657060518733), np.float64(18.73928463224534))"
      ]
     },
     "execution_count": 21,
     "metadata": {},
     "output_type": "execute_result"
    }
   ],
   "source": [
    "df2['faminc'].mean(), df2['faminc'].std()"
   ]
  },
  {
   "cell_type": "markdown",
   "metadata": {},
   "source": [
    "Average family income is $\\$ 29,027$ with a standard deviation of $\\$ 18,739$"
   ]
  },
  {
   "cell_type": "markdown",
   "metadata": {},
   "source": [
    "### C3 The data in MEAP01 are for the state of Michigan in the year 2001. Use these data to answer the following questions."
   ]
  },
  {
   "cell_type": "code",
   "execution_count": 22,
   "metadata": {},
   "outputs": [
    {
     "name": "stdout",
     "output_type": "stream",
     "text": [
      "name of dataset: meap01\n",
      "no of variables: 11\n",
      "no of observations: 1823\n",
      "\n",
      "+----------+-----------------------------------------------+\n",
      "| variable | label                                         |\n",
      "+----------+-----------------------------------------------+\n",
      "| dcode    | district code                                 |\n",
      "| bcode    | building code                                 |\n",
      "| math4    | % students satisfactory, 4th grade math       |\n",
      "| read4    | % students satisfactory, 4th grade reading    |\n",
      "| lunch    | % students eligible for free or reduced lunch |\n",
      "| enroll   | school enrollment                             |\n",
      "| expend   | total spending, $                             |\n",
      "| exppp    | expenditures per pupil: expend/enroll         |\n",
      "| lenroll  | log(enroll)                                   |\n",
      "| lexpend  | log(expend)                                   |\n",
      "| lexppp   | log(exppp)                                    |\n",
      "+----------+-----------------------------------------------+\n",
      "\n",
      "Michigan Department of Education, www.michigan.gov/mde\n"
     ]
    }
   ],
   "source": [
    "wooldridge.data('meap01', description=True)"
   ]
  },
  {
   "cell_type": "code",
   "execution_count": 23,
   "metadata": {},
   "outputs": [],
   "source": [
    "df3 = wooldridge.data('meap01')"
   ]
  },
  {
   "cell_type": "markdown",
   "metadata": {},
   "source": [
    "#### (i) Find the largest and smallest values of math4. Does the range make sense? Explain"
   ]
  },
  {
   "cell_type": "code",
   "execution_count": 24,
   "metadata": {},
   "outputs": [
    {
     "data": {
      "text/plain": [
       "count    1823.000000\n",
       "mean       71.908996\n",
       "std        19.954092\n",
       "min         0.000000\n",
       "25%        61.600000\n",
       "50%        76.400002\n",
       "75%        87.000000\n",
       "max       100.000000\n",
       "Name: math4, dtype: float64"
      ]
     },
     "execution_count": 24,
     "metadata": {},
     "output_type": "execute_result"
    }
   ],
   "source": [
    "df3['math4'].describe()"
   ]
  },
  {
   "cell_type": "markdown",
   "metadata": {},
   "source": [
    "The smallest is $0$ while the largest is $100$. The range between smallest and largest values is massive. "
   ]
  },
  {
   "cell_type": "markdown",
   "metadata": {},
   "source": [
    "#### (ii) How many schools have a perfect pass rate on the math test? What percentage is this of the total sample?"
   ]
  },
  {
   "cell_type": "code",
   "execution_count": 45,
   "metadata": {},
   "outputs": [
    {
     "data": {
      "text/plain": [
       "<Axes: ylabel='Frequency'>"
      ]
     },
     "execution_count": 45,
     "metadata": {},
     "output_type": "execute_result"
    },
    {
     "data": {
      "image/png": "[encoded data removed]",
      "text/plain": [
       "<Figure size 640x480 with 1 Axes>"
      ]
     },
     "metadata": {},
     "output_type": "display_data"
    }
   ],
   "source": [
    "df3['math4'].plot(kind=\"hist\", edgecolor='black', density=True, bins=10)"
   ]
  },
  {
   "cell_type": "code",
   "execution_count": 42,
   "metadata": {},
   "outputs": [
    {
     "data": {
      "text/plain": [
       "np.int64(38)"
      ]
     },
     "execution_count": 42,
     "metadata": {},
     "output_type": "execute_result"
    }
   ],
   "source": [
    "df3[df3['math4'] == 100]['math4'].count()"
   ]
  },
  {
   "cell_type": "code",
   "execution_count": 44,
   "metadata": {},
   "outputs": [
    {
     "data": {
      "text/plain": [
       "np.float64(0.020844761382336808)"
      ]
     },
     "execution_count": 44,
     "metadata": {},
     "output_type": "execute_result"
    }
   ],
   "source": [
    "df3[df3['math4'] == 100]['math4'].count() / len(df3)"
   ]
  },
  {
   "cell_type": "code",
   "execution_count": 46,
   "metadata": {},
   "outputs": [
    {
     "data": {
      "text/plain": [
       "1823"
      ]
     },
     "execution_count": 46,
     "metadata": {},
     "output_type": "execute_result"
    }
   ],
   "source": [
    "len(df3)"
   ]
  },
  {
   "cell_type": "markdown",
   "metadata": {},
   "source": [
    "$38$ out of $1823$ schools have a perfect school representing $2.1\\%$ of the dataset"
   ]
  },
  {
   "cell_type": "markdown",
   "metadata": {},
   "source": [
    "#### (iii) How many schools have math pass rates of exactly 50%?"
   ]
  },
  {
   "cell_type": "code",
   "execution_count": 47,
   "metadata": {},
   "outputs": [
    {
     "data": {
      "text/plain": [
       "np.int64(17)"
      ]
     },
     "execution_count": 47,
     "metadata": {},
     "output_type": "execute_result"
    }
   ],
   "source": [
    "df3[df3['math4'] == 50]['math4'].count()"
   ]
  },
  {
   "cell_type": "markdown",
   "metadata": {},
   "source": [
    "$17$ schools"
   ]
  },
  {
   "cell_type": "markdown",
   "metadata": {},
   "source": [
    "#### (iv) Compare the average pass rates for the math and reading scores. Which test is harder to pass?"
   ]
  },
  {
   "cell_type": "code",
   "execution_count": 48,
   "metadata": {},
   "outputs": [
    {
     "data": {
      "text/plain": [
       "(np.float64(71.90899606805154), np.float64(60.06187602862904))"
      ]
     },
     "execution_count": 48,
     "metadata": {},
     "output_type": "execute_result"
    }
   ],
   "source": [
    "df3['math4'].mean(), df3['read4'].mean()"
   ]
  },
  {
   "cell_type": "markdown",
   "metadata": {},
   "source": [
    "Based on average pass rates, reading was harder to pass in 2001"
   ]
  },
  {
   "cell_type": "markdown",
   "metadata": {},
   "source": [
    "(v) Find the correlation between math4 and read4. What do you conclude?"
   ]
  },
  {
   "cell_type": "code",
   "execution_count": 51,
   "metadata": {},
   "outputs": [],
   "source": [
    "import numpy as np"
   ]
  },
  {
   "cell_type": "code",
   "execution_count": 53,
   "metadata": {},
   "outputs": [
    {
     "data": {
      "text/plain": [
       "np.float64(0.8427281457721156)"
      ]
     },
     "execution_count": 53,
     "metadata": {},
     "output_type": "execute_result"
    }
   ],
   "source": [
    "df3['math4'].corr(df3['read4'])"
   ]
  },
  {
   "cell_type": "code",
   "execution_count": 55,
   "metadata": {},
   "outputs": [
    {
     "data": {
      "text/plain": [
       "<Axes: xlabel='math4', ylabel='read4'>"
      ]
     },
     "execution_count": 55,
     "metadata": {},
     "output_type": "execute_result"
    },
    {
     "data": {
      "image/png": "[encoded data removed]",
      "text/plain": [
       "<Figure size 640x480 with 1 Axes>"
      ]
     },
     "metadata": {},
     "output_type": "display_data"
    }
   ],
   "source": [
    "df3.plot(kind='scatter', x='math4', y='read4')"
   ]
  },
  {
   "cell_type": "markdown",
   "metadata": {},
   "source": [
    "The sample correlation is 0.843 showing high linear association between the two tests. This indicates that schools that have high pass rates on one test is likely to have high pass rates for the other test"
   ]
  },
  {
   "cell_type": "markdown",
   "metadata": {},
   "source": [
    "(vi) The variable exppp is expenditure per pupil. Find the average of exppp along with its standard deviation. Would you say there is wide variation in per pupil spending?"
   ]
  },
  {
   "cell_type": "code",
   "execution_count": 59,
   "metadata": {},
   "outputs": [
    {
     "data": {
      "text/plain": [
       "<Axes: ylabel='Frequency'>"
      ]
     },
     "execution_count": 59,
     "metadata": {},
     "output_type": "execute_result"
    },
    {
     "data": {
      "image/png": "[encoded data removed]",
      "text/plain": [
       "<Figure size 640x480 with 1 Axes>"
      ]
     },
     "metadata": {},
     "output_type": "display_data"
    }
   ],
   "source": [
    "df3['exppp'].plot(kind='hist', edgecolor='black', density=True)"
   ]
  },
  {
   "cell_type": "code",
   "execution_count": 64,
   "metadata": {},
   "outputs": [
    {
     "data": {
      "text/plain": [
       "(np.float64(5195.0), np.float64(1092.0))"
      ]
     },
     "execution_count": 64,
     "metadata": {},
     "output_type": "execute_result"
    }
   ],
   "source": [
    "df3['exppp'].mean().round(), df3['exppp'].std().round()"
   ]
  },
  {
   "cell_type": "markdown",
   "metadata": {},
   "source": [
    "The mean is $5195$ with a standard variation of $1092$ showing high variability in the data"
   ]
  },
  {
   "cell_type": "markdown",
   "metadata": {},
   "source": [
    "(vii) Suppose School A spends $6,000 per student and School B spends $5,500 per student. By whatpercentage does School A’s spending exceed School B’s? Compare this to 100 · [log(6,000) –log(5,500)]"
   ]
  },
  {
   "cell_type": "markdown",
   "metadata": {},
   "source": [
    "$$\n",
    "\\begin{align*}\n",
    "\\text{Percentage difference} &= \\dfrac{\\text{A - B}}{\\text{B}}\\times 100 \\\\&= \\dfrac{6000-5500}{5500} \\times 100 \\\\&= 9\n",
    "\\\\ &= 100 \\times [\\log(6000) - \\log(5500)]\\\\\n",
    "&= 8.7\n",
    "\\end{align*}\n",
    "$$"
   ]
  },
  {
   "cell_type": "markdown",
   "metadata": {},
   "source": [
    "### C4 The data in JTRAIN2 come from a job training experiment conducted for low-income men during 1976–1977; see Lalonde (1986)."
   ]
  },
  {
   "cell_type": "code",
   "execution_count": 65,
   "metadata": {},
   "outputs": [
    {
     "name": "stdout",
     "output_type": "stream",
     "text": [
      "name of dataset: jtrain2\n",
      "no of variables: 19\n",
      "no of observations: 445\n",
      "\n",
      "+----------+---------------------------------+\n",
      "| variable | label                           |\n",
      "+----------+---------------------------------+\n",
      "| train    | =1 if assigned to job training  |\n",
      "| age      | age in 1977                     |\n",
      "| educ     | years of education              |\n",
      "| black    | =1 if black                     |\n",
      "| hisp     | =1 if Hispanic                  |\n",
      "| married  | =1 if married                   |\n",
      "| nodegree | =1 if no high school degree     |\n",
      "| mosinex  | # mnths prior to 1/78 in expmnt |\n",
      "| re74     | real earns., 1974, $1000s       |\n",
      "| re75     | real earns., 1975, $1000s       |\n",
      "| re78     | real earns., 1978, $1000s       |\n",
      "| unem74   | =1 if unem. all of 1974         |\n",
      "| unem75   | =1 if unem. all of 1975         |\n",
      "| unem78   | =1 if unem. all of 1978         |\n",
      "| lre74    | log(re74); zero if re74 == 0    |\n",
      "| lre75    | log(re75); zero if re75 == 0    |\n",
      "| lre78    | log(re78); zero if re78 == 0    |\n",
      "| agesq    | age^2                           |\n",
      "| mostrn   | months in training              |\n",
      "+----------+---------------------------------+\n",
      "\n",
      "R.J. Lalonde (1986), “Evaluating the Econometric Evaluations of\n",
      "Training Programs with Experimental Data,” American Economic Review\n",
      "76, 604-620. Professor Jeff Biddle, at MSU, kindly passed the data set\n",
      "along to me. He obtained it from Professor Lalonde.\n"
     ]
    }
   ],
   "source": [
    "wooldridge.data('jtrain2', description=True)"
   ]
  },
  {
   "cell_type": "code",
   "execution_count": 66,
   "metadata": {},
   "outputs": [],
   "source": [
    "df4 = wooldridge.data('jtrain2')"
   ]
  },
  {
   "cell_type": "markdown",
   "metadata": {},
   "source": [
    " (i) Use the indicator variable train to determine the fraction of men receiving job training."
   ]
  },
  {
   "cell_type": "code",
   "execution_count": 67,
   "metadata": {},
   "outputs": [
    {
     "data": {
      "text/plain": [
       "train\n",
       "0    260\n",
       "1    185\n",
       "Name: count, dtype: int64"
      ]
     },
     "execution_count": 67,
     "metadata": {},
     "output_type": "execute_result"
    }
   ],
   "source": [
    "df4['train'].value_counts()"
   ]
  },
  {
   "cell_type": "code",
   "execution_count": 73,
   "metadata": {},
   "outputs": [
    {
     "data": {
      "text/plain": [
       "np.float64(0.4157303370786517)"
      ]
     },
     "execution_count": 73,
     "metadata": {},
     "output_type": "execute_result"
    }
   ],
   "source": [
    "(df4['train'] == 1).mean()"
   ]
  },
  {
   "cell_type": "markdown",
   "metadata": {},
   "source": [
    "$185$  men recieved the training representing $41.6\\%$"
   ]
  },
  {
   "cell_type": "markdown",
   "metadata": {},
   "source": [
    "(ii) The variable re78 is earnings from 1978, measured in thousands of 1982 dollars. Find the\n",
    "averages of re78 for the sample of men receiving job training and the sample not receiving job\n",
    "training. Is the difference economically large?"
   ]
  },
  {
   "cell_type": "code",
   "execution_count": 79,
   "metadata": {},
   "outputs": [
    {
     "data": {
      "text/plain": [
       "train\n",
       "0    4.555\n",
       "1    6.349\n",
       "Name: re78, dtype: float64"
      ]
     },
     "execution_count": 79,
     "metadata": {},
     "output_type": "execute_result"
    }
   ],
   "source": [
    "df4['re78'].groupby(df4['train']).mean().round(3)"
   ]
  },
  {
   "cell_type": "markdown",
   "metadata": {},
   "source": [
    "Men who recieved the training had average earnings of $6,349$ while men who did not recieve the training had an average of $4,555$"
   ]
  },
  {
   "cell_type": "code",
   "execution_count": 80,
   "metadata": {},
   "outputs": [
    {
     "data": {
      "text/plain": [
       "(np.float64(4.554802284088845), np.float64(6.349145357189951))"
      ]
     },
     "execution_count": 80,
     "metadata": {},
     "output_type": "execute_result"
    }
   ],
   "source": [
    "train_0 = df4['re78'].groupby(df4['train']).mean()[0]\n",
    "train_1 = df4['re78'].groupby(df4['train']).mean()[1]\n",
    "\n",
    "train_0, train_1"
   ]
  },
  {
   "cell_type": "code",
   "execution_count": 81,
   "metadata": {},
   "outputs": [
    {
     "data": {
      "text/plain": [
       "np.float64(0.39394532653354264)"
      ]
     },
     "execution_count": 81,
     "metadata": {},
     "output_type": "execute_result"
    }
   ],
   "source": [
    "(train_1 - train_0) / train_0"
   ]
  },
  {
   "cell_type": "markdown",
   "metadata": {},
   "source": [
    "Those who trained has an earnings increase of $40\\%$ which is very large"
   ]
  },
  {
   "cell_type": "markdown",
   "metadata": {},
   "source": [
    "(iii) The variable unem78 is an indicator of whether a man is unemployed or not in 1978. What fraction of the men who received job training are unemployed? What about for men who did not receive job training? Comment on the difference."
   ]
  },
  {
   "cell_type": "code",
   "execution_count": 86,
   "metadata": {},
   "outputs": [
    {
     "data": {
      "text/plain": [
       "train  unem78\n",
       "0      0         168\n",
       "       1          92\n",
       "1      0         140\n",
       "       1          45\n",
       "Name: count, dtype: int64"
      ]
     },
     "execution_count": 86,
     "metadata": {},
     "output_type": "execute_result"
    }
   ],
   "source": [
    "df4['unem78'].groupby(df4['train']).value_counts()"
   ]
  },
  {
   "cell_type": "code",
   "execution_count": 87,
   "metadata": {},
   "outputs": [
    {
     "data": {
      "text/plain": [
       "train\n",
       "0    0.354\n",
       "1    0.243\n",
       "Name: unem78, dtype: float64"
      ]
     },
     "execution_count": 87,
     "metadata": {},
     "output_type": "execute_result"
    }
   ],
   "source": [
    "df4['unem78'].groupby(df4['train']).mean().round(3)"
   ]
  },
  {
   "cell_type": "markdown",
   "metadata": {},
   "source": [
    "$24.3\\%$ of those who trained were unemployed, while $35.4\\%$ of those who did noy train were unemployed. The difference in percentages seems large."
   ]
  },
  {
   "cell_type": "markdown",
   "metadata": {},
   "source": [
    "From parts (ii) and (iii), does it appear that the job training program was effective? What would make our conclusions more convincing?"
   ]
  },
  {
   "cell_type": "markdown",
   "metadata": {},
   "source": [
    "The difference in earnings and unemployment is large indicating that training had a positive effect.\n",
    "We need to statistically test the difference to know if its significant or due to random error"
   ]
  }
 ],
 "metadata": {
  "kernelspec": {
   "display_name": "echo",
   "language": "python",
   "name": "python3"
  },
  "language_info": {
   "codemirror_mode": {
    "name": "ipython",
    "version": 3
   },
   "file_extension": ".py",
   "mimetype": "text/x-python",
   "name": "python",
   "nbconvert_exporter": "python",
   "pygments_lexer": "ipython3",
   "version": "3.13.1"
  }
 },
 "nbformat": 4,
 "nbformat_minor": 2
}
