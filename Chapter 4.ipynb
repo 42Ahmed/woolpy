{
 "cells": [
  {
   "cell_type": "markdown",
   "id": "492421da",
   "metadata": {},
   "source": [
    "# Multiple Regression Analysis: Inference"
   ]
  },
  {
   "cell_type": "code",
   "execution_count": 1,
   "id": "5125d364",
   "metadata": {},
   "outputs": [],
   "source": [
    "import pandas as pd\n",
    "import numpy as np\n",
    "import wooldridge\n",
    "import statsmodels.formula.api as smf\n",
    "import matplotlib.pyplot as plt"
   ]
  },
  {
   "cell_type": "code",
   "execution_count": 2,
   "id": "4d24bc25",
   "metadata": {},
   "outputs": [
    {
     "name": "stdout",
     "output_type": "stream",
     "text": [
      "  J.M. Wooldridge (2019) Introductory Econometrics: A Modern Approach,\n",
      "  Cengage Learning, 6th edition.\n",
      "\n",
      "  401k       401ksubs    admnrev       affairs     airfare\n",
      "  alcohol    apple       approval      athlet1     athlet2\n",
      "  attend     audit       barium        beauty      benefits\n",
      "  beveridge  big9salary  bwght         bwght2      campus\n",
      "  card       catholic    cement        census2000  ceosal1\n",
      "  ceosal2    charity     consump       corn        countymurders\n",
      "  cps78_85   cps91       crime1        crime2      crime3\n",
      "  crime4     discrim     driving       earns       econmath\n",
      "  elem94_95  engin       expendshares  ezanders    ezunem\n",
      "  fair       fertil1     fertil2       fertil3     fish\n",
      "  fringe     gpa1        gpa2          gpa3        happiness\n",
      "  hprice1    hprice2     hprice3       hseinv      htv\n",
      "  infmrt     injury      intdef        intqrt      inven\n",
      "  jtrain     jtrain2     jtrain3       kielmc      lawsch85\n",
      "  loanapp    lowbrth     mathpnl       meap00_01   meap01\n",
      "  meap93     meapsingle  minwage       mlb1        mroz\n",
      "  murder     nbasal      nyse          okun        openness\n",
      "  pension    phillips    pntsprd       prison      prminwge\n",
      "  rdchem     rdtelec     recid         rental      return\n",
      "  saving     sleep75     slp75_81      smoke       traffic1\n",
      "  traffic2   twoyear     volat         vote1       vote2\n",
      "  voucher    wage1       wage2         wagepan     wageprc\n",
      "  wine\n"
     ]
    }
   ],
   "source": [
    "wooldridge.data()"
   ]
  },
  {
   "cell_type": "markdown",
   "id": "0d3793cd",
   "metadata": {},
   "source": [
    "## Examples"
   ]
  },
  {
   "cell_type": "code",
   "execution_count": null,
   "id": "36c3f0ac",
   "metadata": {},
   "outputs": [],
   "source": [
    "wage1 = wooldridge.data(\"wage1\")\n",
    "meap93 = wooldridge.data(\"meap93\")\n",
    "gpa1 = wooldridge.data(\"gpa1\")\n",
    "campus = wooldridge.data(\"campus\")\n",
    "hprice2 = wooldridge.data(\"hprice2\")\n",
    "k401 = wooldridge.data(\"401k\")\n",
    "jtrain = wooldridge.data(\"jtrain\")\n",
    "rdchem = wooldridge.data(\"rdchem\")\n",
    "bwght = wooldridge.data(\"bwght\")"
   ]
  },
  {
   "cell_type": "markdown",
   "id": "74552403",
   "metadata": {},
   "source": [
    "### 4.1 Hourly Wage Equation"
   ]
  },
  {
   "cell_type": "code",
   "execution_count": null,
   "id": "12aad665",
   "metadata": {},
   "outputs": [
    {
     "name": "stdout",
     "output_type": "stream",
     "text": [
      "name of dataset: wage1\n",
      "no of variables: 24\n",
      "no of observations: 526\n",
      "\n",
      "+----------+---------------------------------+\n",
      "| variable | label                           |\n",
      "+----------+---------------------------------+\n",
      "| wage     | average hourly earnings         |\n",
      "| educ     | years of education              |\n",
      "| exper    | years potential experience      |\n",
      "| tenure   | years with current employer     |\n",
      "| nonwhite | =1 if nonwhite                  |\n",
      "| female   | =1 if female                    |\n",
      "| married  | =1 if married                   |\n",
      "| numdep   | number of dependents            |\n",
      "| smsa     | =1 if live in SMSA              |\n",
      "| northcen | =1 if live in north central U.S |\n",
      "| south    | =1 if live in southern region   |\n",
      "| west     | =1 if live in western region    |\n",
      "| construc | =1 if work in construc. indus.  |\n",
      "| ndurman  | =1 if in nondur. manuf. indus.  |\n",
      "| trcommpu | =1 if in trans, commun, pub ut  |\n",
      "| trade    | =1 if in wholesale or retail    |\n",
      "| services | =1 if in services indus.        |\n",
      "| profserv | =1 if in prof. serv. indus.     |\n",
      "| profocc  | =1 if in profess. occupation    |\n",
      "| clerocc  | =1 if in clerical occupation    |\n",
      "| servocc  | =1 if in service occupation     |\n",
      "| lwage    | log(wage)                       |\n",
      "| expersq  | exper^2                         |\n",
      "| tenursq  | tenure^2                        |\n",
      "+----------+---------------------------------+\n",
      "\n",
      "These are data from the 1976 Current Population Survey, collected by\n",
      "Henry Farber when he and I were colleagues at MIT in 1988.\n"
     ]
    }
   ],
   "source": [
    "wooldridge.data(\"wage1\", description=True)"
   ]
  },
  {
   "cell_type": "code",
   "execution_count": null,
   "id": "2e29ccde",
   "metadata": {},
   "outputs": [
    {
     "data": {
      "text/html": [
       "<div>\n",
       "<style scoped>\n",
       "    .dataframe tbody tr th:only-of-type {\n",
       "        vertical-align: middle;\n",
       "    }\n",
       "\n",
       "    .dataframe tbody tr th {\n",
       "        vertical-align: top;\n",
       "    }\n",
       "\n",
       "    .dataframe thead th {\n",
       "        text-align: right;\n",
       "    }\n",
       "</style>\n",
       "<table border=\"1\" class=\"dataframe\">\n",
       "  <thead>\n",
       "    <tr style=\"text-align: right;\">\n",
       "      <th></th>\n",
       "      <th>Coef.</th>\n",
       "      <th>Std.Err.</th>\n",
       "    </tr>\n",
       "  </thead>\n",
       "  <tbody>\n",
       "    <tr>\n",
       "      <th>Intercept</th>\n",
       "      <td>0.284360</td>\n",
       "      <td>0.104190</td>\n",
       "    </tr>\n",
       "    <tr>\n",
       "      <th>educ</th>\n",
       "      <td>0.092029</td>\n",
       "      <td>0.007330</td>\n",
       "    </tr>\n",
       "    <tr>\n",
       "      <th>exper</th>\n",
       "      <td>0.004121</td>\n",
       "      <td>0.001723</td>\n",
       "    </tr>\n",
       "    <tr>\n",
       "      <th>tenure</th>\n",
       "      <td>0.022067</td>\n",
       "      <td>0.003094</td>\n",
       "    </tr>\n",
       "  </tbody>\n",
       "</table>\n",
       "</div>"
      ],
      "text/plain": [
       "              Coef.  Std.Err.\n",
       "Intercept  0.284360  0.104190\n",
       "educ       0.092029  0.007330\n",
       "exper      0.004121  0.001723\n",
       "tenure     0.022067  0.003094"
      ]
     },
     "execution_count": 5,
     "metadata": {},
     "output_type": "execute_result"
    }
   ],
   "source": [
    "model01 = smf.ols(\"np.log(wage) ~ educ + exper + tenure\", data=wage1).fit()\n",
    "model01.summary2().tables[1].iloc[:, :2]"
   ]
  },
  {
   "cell_type": "markdown",
   "id": "900cde5c",
   "metadata": {},
   "source": [
    "$$H_0: \\beta_{exper} = 0 \\qquad H_0: \\beta_{exper} > 0 $$"
   ]
  },
  {
   "cell_type": "markdown",
   "id": "dd804836",
   "metadata": {},
   "source": [
    "We got exper has $\\beta = 0.0041$ with a standard error of $0.0017$  \n",
    "SO the t statistic is $0.0041/0.0017 = 2.41$, t critical is 1.645 at 5\\% and 2.326 at 1\\%,   \n",
    "t statistic > t critical  $\\rightarrow$ we reject the null hypothesis at 1\\% significance level\n",
    "\n",
    "$\\hat \\beta_{exper}$ is greater than zero"
   ]
  },
  {
   "cell_type": "markdown",
   "id": "86f9b62e",
   "metadata": {},
   "source": [
    "### 4.2 Student Performance And School Size"
   ]
  },
  {
   "cell_type": "code",
   "execution_count": null,
   "id": "31cd20ed",
   "metadata": {},
   "outputs": [
    {
     "name": "stdout",
     "output_type": "stream",
     "text": [
      "name of dataset: meap93\n",
      "no of variables: 17\n",
      "no of observations: 408\n",
      "\n",
      "+----------+---------------------------------+\n",
      "| variable | label                           |\n",
      "+----------+---------------------------------+\n",
      "| lnchprg  | perc of studs in sch lnch prog  |\n",
      "| enroll   | school enrollment               |\n",
      "| staff    | staff per 1000 students         |\n",
      "| expend   | expend. per stud, $             |\n",
      "| salary   | avg. teacher salary, $          |\n",
      "| benefits | avg. teacher benefits, $        |\n",
      "| droprate | school dropout rate, perc       |\n",
      "| gradrate | school graduation rate, perc    |\n",
      "| math10   | perc studs passing MEAP math    |\n",
      "| sci11    | perc studs passing MEAP science |\n",
      "| totcomp  | salary + benefits               |\n",
      "| ltotcomp | log(totcomp)                    |\n",
      "| lexpend  | log of expend                   |\n",
      "| lenroll  | log(enroll)                     |\n",
      "| lstaff   | log(staff)                      |\n",
      "| bensal   | benefits/salary                 |\n",
      "| lsalary  | log(salary)                     |\n",
      "+----------+---------------------------------+\n",
      "\n",
      "I collected these data from the old Michigan Department of Education\n",
      "web site. See MATHPNL.RAW for the current web site. I used data on\n",
      "most high schools in the state of Michigan for 1993. I dropped some\n",
      "high schools that had suspicious-looking data.\n"
     ]
    }
   ],
   "source": [
    "wooldridge.data(\"meap93\", description=True)"
   ]
  },
  {
   "cell_type": "code",
   "execution_count": null,
   "id": "a1678cd5",
   "metadata": {},
   "outputs": [
    {
     "data": {
      "text/html": [
       "<div>\n",
       "<style scoped>\n",
       "    .dataframe tbody tr th:only-of-type {\n",
       "        vertical-align: middle;\n",
       "    }\n",
       "\n",
       "    .dataframe tbody tr th {\n",
       "        vertical-align: top;\n",
       "    }\n",
       "\n",
       "    .dataframe thead th {\n",
       "        text-align: right;\n",
       "    }\n",
       "</style>\n",
       "<table border=\"1\" class=\"dataframe\">\n",
       "  <thead>\n",
       "    <tr style=\"text-align: right;\">\n",
       "      <th></th>\n",
       "      <th>Coef.</th>\n",
       "      <th>Std.Err.</th>\n",
       "    </tr>\n",
       "  </thead>\n",
       "  <tbody>\n",
       "    <tr>\n",
       "      <th>Intercept</th>\n",
       "      <td>2.274021</td>\n",
       "      <td>6.113794</td>\n",
       "    </tr>\n",
       "    <tr>\n",
       "      <th>totcomp</th>\n",
       "      <td>0.000459</td>\n",
       "      <td>0.000100</td>\n",
       "    </tr>\n",
       "    <tr>\n",
       "      <th>staff</th>\n",
       "      <td>0.047920</td>\n",
       "      <td>0.039814</td>\n",
       "    </tr>\n",
       "    <tr>\n",
       "      <th>enroll</th>\n",
       "      <td>-0.000198</td>\n",
       "      <td>0.000215</td>\n",
       "    </tr>\n",
       "  </tbody>\n",
       "</table>\n",
       "</div>"
      ],
      "text/plain": [
       "              Coef.  Std.Err.\n",
       "Intercept  2.274021  6.113794\n",
       "totcomp    0.000459  0.000100\n",
       "staff      0.047920  0.039814\n",
       "enroll    -0.000198  0.000215"
      ]
     },
     "execution_count": 7,
     "metadata": {},
     "output_type": "execute_result"
    }
   ],
   "source": [
    "model02 = smf.ols(\"math10 ~ totcomp + staff + enroll\", data=meap93).fit()\n",
    "model02.summary2().tables[1].iloc[:, :2]"
   ]
  },
  {
   "cell_type": "markdown",
   "id": "f92a6d60",
   "metadata": {},
   "source": [
    "$$H_0: \\beta_{enroll} = 0 \\qquad H_0: \\beta_{enroll} < 0 $$"
   ]
  },
  {
   "cell_type": "markdown",
   "id": "70deb412",
   "metadata": {},
   "source": [
    "It is believed that smaller schools are associated with higher test scores  \n",
    "We get $\\beta = -0.0002$ similar to the conjecture  \n",
    "The critical t is $t =-1.65$ at degree of freedoms $n-k-1 = 408-4=404$\n",
    "t statistic is $0.0002 / 0.00022 \\approx -0.91 \\rightarrow$ we fail to reject $H_0$  \n",
    "school size is not statistically significant"
   ]
  },
  {
   "cell_type": "code",
   "execution_count": null,
   "id": "82d666ff",
   "metadata": {},
   "outputs": [
    {
     "data": {
      "text/html": [
       "<div>\n",
       "<style scoped>\n",
       "    .dataframe tbody tr th:only-of-type {\n",
       "        vertical-align: middle;\n",
       "    }\n",
       "\n",
       "    .dataframe tbody tr th {\n",
       "        vertical-align: top;\n",
       "    }\n",
       "\n",
       "    .dataframe thead th {\n",
       "        text-align: right;\n",
       "    }\n",
       "</style>\n",
       "<table border=\"1\" class=\"dataframe\">\n",
       "  <thead>\n",
       "    <tr style=\"text-align: right;\">\n",
       "      <th></th>\n",
       "      <th>Coef.</th>\n",
       "      <th>Std.Err.</th>\n",
       "    </tr>\n",
       "  </thead>\n",
       "  <tbody>\n",
       "    <tr>\n",
       "      <th>Intercept</th>\n",
       "      <td>-207.664785</td>\n",
       "      <td>48.703125</td>\n",
       "    </tr>\n",
       "    <tr>\n",
       "      <th>ltotcomp</th>\n",
       "      <td>21.154997</td>\n",
       "      <td>4.055549</td>\n",
       "    </tr>\n",
       "    <tr>\n",
       "      <th>lstaff</th>\n",
       "      <td>3.980018</td>\n",
       "      <td>4.189660</td>\n",
       "    </tr>\n",
       "    <tr>\n",
       "      <th>lenroll</th>\n",
       "      <td>-1.268046</td>\n",
       "      <td>0.693204</td>\n",
       "    </tr>\n",
       "  </tbody>\n",
       "</table>\n",
       "</div>"
      ],
      "text/plain": [
       "                Coef.   Std.Err.\n",
       "Intercept -207.664785  48.703125\n",
       "ltotcomp    21.154997   4.055549\n",
       "lstaff       3.980018   4.189660\n",
       "lenroll     -1.268046   0.693204"
      ]
     },
     "execution_count": 8,
     "metadata": {},
     "output_type": "execute_result"
    }
   ],
   "source": [
    "model022 = smf.ols(\"math10 ~ ltotcomp + lstaff + lenroll\", data=meap93).fit()\n",
    "model022.summary2().tables[1].iloc[:, :2]"
   ]
  },
  {
   "cell_type": "markdown",
   "id": "f27899e8",
   "metadata": {},
   "source": [
    "If we take level log form, $t = -1.268/0.6932 \\approx -1.87 \\rightarrow$ we reject $H_0$  \n",
    "If enrollment increases by 10%, math score is expected to decrease by 0.13 percentage points"
   ]
  },
  {
   "cell_type": "code",
   "execution_count": 9,
   "id": "512d590d",
   "metadata": {},
   "outputs": [
    {
     "data": {
      "text/plain": [
       "(np.float64(0.0540626230832697), np.float64(0.06537749365652679))"
      ]
     },
     "execution_count": 9,
     "metadata": {},
     "output_type": "execute_result"
    }
   ],
   "source": [
    "model02.rsquared, model022.rsquared"
   ]
  },
  {
   "cell_type": "markdown",
   "id": "c3b13a52",
   "metadata": {},
   "source": [
    "level log model has higher $R^2$ so its better than level level model"
   ]
  },
  {
   "cell_type": "markdown",
   "id": "eb3b05b8",
   "metadata": {},
   "source": [
    "### 4.3 Determinants of College GPA"
   ]
  },
  {
   "cell_type": "code",
   "execution_count": null,
   "id": "e032b8a5",
   "metadata": {},
   "outputs": [
    {
     "name": "stdout",
     "output_type": "stream",
     "text": [
      "name of dataset: gpa1\n",
      "no of variables: 29\n",
      "no of observations: 141\n",
      "\n",
      "+----------+--------------------------------+\n",
      "| variable | label                          |\n",
      "+----------+--------------------------------+\n",
      "| age      | in years                       |\n",
      "| soph     | =1 if sophomore                |\n",
      "| junior   | =1 if junior                   |\n",
      "| senior   | =1 if senior                   |\n",
      "| senior5  | =1 if fifth year senior        |\n",
      "| male     | =1 if male                     |\n",
      "| campus   | =1 if live on campus           |\n",
      "| business | =1 if business major           |\n",
      "| engineer | =1 if engineering major        |\n",
      "| colGPA   | MSU GPA                        |\n",
      "| hsGPA    | high school GPA                |\n",
      "| ACT      | 'achievement' score            |\n",
      "| job19    | =1 if job <= 19 hours          |\n",
      "| job20    | =1 if job >= 20 hours          |\n",
      "| drive    | =1 if drive to campus          |\n",
      "| bike     | =1 if bicycle to campus        |\n",
      "| walk     | =1 if walk to campus           |\n",
      "| voluntr  | =1 if do volunteer work        |\n",
      "| PC       | =1 of pers computer at sch     |\n",
      "| greek    | =1 if fraternity or sorority   |\n",
      "| car      | =1 if own car                  |\n",
      "| siblings | =1 if have siblings            |\n",
      "| bgfriend | =1 if boy- or girlfriend       |\n",
      "| clubs    | =1 if belong to MSU club       |\n",
      "| skipped  | avg lectures missed per week   |\n",
      "| alcohol  | avg # days per week drink alc. |\n",
      "| gradMI   | =1 if Michigan high school     |\n",
      "| fathcoll | =1 if father college grad      |\n",
      "| mothcoll | =1 if mother college grad      |\n",
      "+----------+--------------------------------+\n",
      "\n",
      "Christopher Lemmon, a former MSU undergraduate, collected these data\n",
      "from a survey he took of MSU students in Fall 1994.\n"
     ]
    }
   ],
   "source": [
    "wooldridge.data(\"gpa1\", description=True)"
   ]
  },
  {
   "cell_type": "code",
   "execution_count": null,
   "id": "4aa71e84",
   "metadata": {},
   "outputs": [
    {
     "data": {
      "text/html": [
       "<div>\n",
       "<style scoped>\n",
       "    .dataframe tbody tr th:only-of-type {\n",
       "        vertical-align: middle;\n",
       "    }\n",
       "\n",
       "    .dataframe tbody tr th {\n",
       "        vertical-align: top;\n",
       "    }\n",
       "\n",
       "    .dataframe thead th {\n",
       "        text-align: right;\n",
       "    }\n",
       "</style>\n",
       "<table border=\"1\" class=\"dataframe\">\n",
       "  <thead>\n",
       "    <tr style=\"text-align: right;\">\n",
       "      <th></th>\n",
       "      <th>Coef.</th>\n",
       "      <th>Std.Err.</th>\n",
       "    </tr>\n",
       "  </thead>\n",
       "  <tbody>\n",
       "    <tr>\n",
       "      <th>Intercept</th>\n",
       "      <td>1.389554</td>\n",
       "      <td>0.331554</td>\n",
       "    </tr>\n",
       "    <tr>\n",
       "      <th>hsGPA</th>\n",
       "      <td>0.411816</td>\n",
       "      <td>0.093674</td>\n",
       "    </tr>\n",
       "    <tr>\n",
       "      <th>ACT</th>\n",
       "      <td>0.014720</td>\n",
       "      <td>0.010565</td>\n",
       "    </tr>\n",
       "    <tr>\n",
       "      <th>skipped</th>\n",
       "      <td>-0.083113</td>\n",
       "      <td>0.025999</td>\n",
       "    </tr>\n",
       "  </tbody>\n",
       "</table>\n",
       "</div>"
      ],
      "text/plain": [
       "              Coef.  Std.Err.\n",
       "Intercept  1.389554  0.331554\n",
       "hsGPA      0.411816  0.093674\n",
       "ACT        0.014720  0.010565\n",
       "skipped   -0.083113  0.025999"
      ]
     },
     "execution_count": 11,
     "metadata": {},
     "output_type": "execute_result"
    }
   ],
   "source": [
    "model03 = smf.ols(\"colGPA ~ hsGPA + ACT + skipped\", data=gpa1).fit()\n",
    "model03.summary2().tables[1].iloc[:, :2]"
   ]
  },
  {
   "cell_type": "markdown",
   "id": "60f99a9c",
   "metadata": {},
   "source": [
    "$$H_0: \\beta = 0 \\qquad H_0: \\beta \\neq 0 $$"
   ]
  },
  {
   "cell_type": "markdown",
   "id": "2a44ba74",
   "metadata": {},
   "source": [
    "In two sided alternatives, 5% critical value is 1.96 at df = $141-4=147$ and 1% at 2.58  \n",
    "hsGPA has $t = 4.38 \\rightarrow$  \n",
    "ACT has small coefficient and is practically and statistically insignificant  \n",
    "skipped has $t= -3.19 \\rightarrow$ statistically significant"
   ]
  },
  {
   "cell_type": "markdown",
   "id": "69a240f7",
   "metadata": {},
   "source": [
    "### 4.4 Campus Crime and Enrollment"
   ]
  },
  {
   "cell_type": "code",
   "execution_count": null,
   "id": "c000a617",
   "metadata": {},
   "outputs": [
    {
     "name": "stdout",
     "output_type": "stream",
     "text": [
      "name of dataset: campus\n",
      "no of variables: 7\n",
      "no of observations: 97\n",
      "\n",
      "+----------+-----------------------+\n",
      "| variable | label                 |\n",
      "+----------+-----------------------+\n",
      "| enroll   | total enrollment      |\n",
      "| priv     | =1 if private college |\n",
      "| police   | employed officers     |\n",
      "| crime    | total campus crimes   |\n",
      "| lcrime   | log(crime)            |\n",
      "| lenroll  | log(enroll)           |\n",
      "| lpolice  | log(police)           |\n",
      "+----------+-----------------------+\n",
      "\n",
      "These data were collected by Daniel Martin, a former MSU\n",
      "undergraduate, for a final project. They come from the FBI Uniform\n",
      "Crime Reports and are for the year 1992.\n"
     ]
    }
   ],
   "source": [
    "wooldridge.data(\"campus\", description=True)"
   ]
  },
  {
   "cell_type": "code",
   "execution_count": null,
   "id": "ee666885",
   "metadata": {},
   "outputs": [
    {
     "data": {
      "text/html": [
       "<div>\n",
       "<style scoped>\n",
       "    .dataframe tbody tr th:only-of-type {\n",
       "        vertical-align: middle;\n",
       "    }\n",
       "\n",
       "    .dataframe tbody tr th {\n",
       "        vertical-align: top;\n",
       "    }\n",
       "\n",
       "    .dataframe thead th {\n",
       "        text-align: right;\n",
       "    }\n",
       "</style>\n",
       "<table border=\"1\" class=\"dataframe\">\n",
       "  <thead>\n",
       "    <tr style=\"text-align: right;\">\n",
       "      <th></th>\n",
       "      <th>Coef.</th>\n",
       "      <th>Std.Err.</th>\n",
       "    </tr>\n",
       "  </thead>\n",
       "  <tbody>\n",
       "    <tr>\n",
       "      <th>Intercept</th>\n",
       "      <td>-6.63137</td>\n",
       "      <td>1.033540</td>\n",
       "    </tr>\n",
       "    <tr>\n",
       "      <th>lenroll</th>\n",
       "      <td>1.26976</td>\n",
       "      <td>0.109776</td>\n",
       "    </tr>\n",
       "  </tbody>\n",
       "</table>\n",
       "</div>"
      ],
      "text/plain": [
       "             Coef.  Std.Err.\n",
       "Intercept -6.63137  1.033540\n",
       "lenroll    1.26976  0.109776"
      ]
     },
     "execution_count": 13,
     "metadata": {},
     "output_type": "execute_result"
    }
   ],
   "source": [
    "model04 = smf.ols(\"lcrime ~ lenroll\", data=campus).fit()\n",
    "model04.summary2().tables[1].iloc[:, :2]"
   ]
  },
  {
   "cell_type": "markdown",
   "id": "ad55dfe5",
   "metadata": {},
   "source": [
    "$$H_0: \\beta_1 =1 \\qquad H_1: \\beta_1 >1 $$"
   ]
  },
  {
   "cell_type": "markdown",
   "id": "2bd48de2",
   "metadata": {},
   "source": [
    "We didn't test for $\\beta_1 = 0$ cuz its expected, $\\beta_1 =1$ is more interesting, if $\\beta_1 >1$, then crime is a big problem on large campuses  \n",
    "$$ crime = \\exp(\\beta_0)enroll^{\\beta_1}\\exp(u)$$"
   ]
  },
  {
   "cell_type": "code",
   "execution_count": null,
   "id": "1278b1eb",
   "metadata": {},
   "outputs": [
    {
     "data": {
      "image/png": "[encoded data removed]",
      "text/plain": [
       "<Figure size 1000x600 with 1 Axes>"
      ]
     },
     "metadata": {},
     "output_type": "display_data"
    }
   ],
   "source": [
    "enroll = np.linspace(0.000001, 2, 100)\n",
    "\n",
    "\n",
    "crime_elastic_05 = np.exp(0.5 * np.log(enroll))  # β = 0.5\n",
    "crime_elastic_1 = np.exp(1.0 * np.log(enroll))  # β = 1.0\n",
    "crime_elastic_15 = np.exp(1.5 * np.log(enroll))  # β = 1.5\n",
    "\n",
    "plt.figure(figsize=(10, 6))\n",
    "plt.plot(enroll, crime_elastic_05, label=r\"$\\beta_1 = 0.5$\", linestyle=\"--\")\n",
    "plt.plot(enroll, crime_elastic_1, label=r\"$\\beta_1 = 1$\", linestyle=\"-\")\n",
    "plt.plot(enroll, crime_elastic_15, label=r\"$\\beta_1 = 1.5$\", linestyle=\":\")\n",
    "\n",
    "plt.xlabel(\"Enrollment\")\n",
    "plt.ylabel(\"Crime\")\n",
    "plt.title(\"Elasticity Models: log(Crime) ~ β * log(Enroll)\")\n",
    "plt.legend()\n",
    "plt.grid(True)\n",
    "plt.tight_layout()\n",
    "plt.show()"
   ]
  },
  {
   "cell_type": "markdown",
   "id": "61f53abb",
   "metadata": {},
   "source": [
    "the t statistic reported $0.11$ is for testing $\\beta = 0$  \n",
    "The t statistic we need is\n",
    "$$ \\dfrac{1.27 - 1}{0.11} \\approx 2.45 $$  \n",
    "reject $H_0$"
   ]
  },
  {
   "cell_type": "code",
   "execution_count": 15,
   "id": "d2cc5346",
   "metadata": {},
   "outputs": [
    {
     "data": {
      "text/plain": [
       "array([2.45736997])"
      ]
     },
     "execution_count": 15,
     "metadata": {},
     "output_type": "execute_result"
    }
   ],
   "source": [
    "model04.t_test(\"lenroll = 1\").tvalue[0]"
   ]
  },
  {
   "cell_type": "markdown",
   "id": "095b0ca0",
   "metadata": {},
   "source": [
    "### 4.5 Housing Prices and Air Pollution"
   ]
  },
  {
   "cell_type": "code",
   "execution_count": null,
   "id": "d1311552",
   "metadata": {},
   "outputs": [
    {
     "name": "stdout",
     "output_type": "stream",
     "text": [
      "name of dataset: hprice2\n",
      "no of variables: 12\n",
      "no of observations: 506\n",
      "\n",
      "+----------+-------------------------------+\n",
      "| variable | label                         |\n",
      "+----------+-------------------------------+\n",
      "| price    | median housing price, $       |\n",
      "| crime    | crimes committed per capita   |\n",
      "| nox      | nit ox concen; parts per 100m |\n",
      "| rooms    | avg number of rooms           |\n",
      "| dist     | wght dist to 5 employ centers |\n",
      "| radial   | access. index to rad. hghwys  |\n",
      "| proptax  | property tax per $1000        |\n",
      "| stratio  | average student-teacher ratio |\n",
      "| lowstat  | perc of people 'lower status' |\n",
      "| lprice   | log(price)                    |\n",
      "| lnox     | log(nox)                      |\n",
      "| lproptax | log(proptax)                  |\n",
      "+----------+-------------------------------+\n",
      "\n",
      "D. Harrison and D.L. Rubinfeld (1978), “Hedonic Housing Prices and the\n",
      "Demand for Clean Air,” by Harrison, D. and D.L.Rubinfeld, Journal of\n",
      "Environmental Economics and Management 5, 81-102. Diego Garcia, a\n",
      "former Ph.D. student in economics at MIT, kindly provided these data,\n",
      "which he obtained from the book Regression Diagnostics: Identifying\n",
      "Influential Data and Sources of Collinearity, by D.A. Belsey, E. Kuh,\n",
      "and R. Welsch, 1990. New York: Wiley.\n"
     ]
    }
   ],
   "source": [
    "wooldridge.data(\"hprice2\", description=True)"
   ]
  },
  {
   "cell_type": "code",
   "execution_count": null,
   "id": "804462c5",
   "metadata": {},
   "outputs": [
    {
     "data": {
      "text/html": [
       "<div>\n",
       "<style scoped>\n",
       "    .dataframe tbody tr th:only-of-type {\n",
       "        vertical-align: middle;\n",
       "    }\n",
       "\n",
       "    .dataframe tbody tr th {\n",
       "        vertical-align: top;\n",
       "    }\n",
       "\n",
       "    .dataframe thead th {\n",
       "        text-align: right;\n",
       "    }\n",
       "</style>\n",
       "<table border=\"1\" class=\"dataframe\">\n",
       "  <thead>\n",
       "    <tr style=\"text-align: right;\">\n",
       "      <th></th>\n",
       "      <th>Coef.</th>\n",
       "      <th>Std.Err.</th>\n",
       "    </tr>\n",
       "  </thead>\n",
       "  <tbody>\n",
       "    <tr>\n",
       "      <th>Intercept</th>\n",
       "      <td>11.083862</td>\n",
       "      <td>0.318111</td>\n",
       "    </tr>\n",
       "    <tr>\n",
       "      <th>lnox</th>\n",
       "      <td>-0.953539</td>\n",
       "      <td>0.116742</td>\n",
       "    </tr>\n",
       "    <tr>\n",
       "      <th>np.log(dist)</th>\n",
       "      <td>-0.134339</td>\n",
       "      <td>0.043103</td>\n",
       "    </tr>\n",
       "    <tr>\n",
       "      <th>rooms</th>\n",
       "      <td>0.254527</td>\n",
       "      <td>0.018530</td>\n",
       "    </tr>\n",
       "    <tr>\n",
       "      <th>stratio</th>\n",
       "      <td>-0.052451</td>\n",
       "      <td>0.005897</td>\n",
       "    </tr>\n",
       "  </tbody>\n",
       "</table>\n",
       "</div>"
      ],
      "text/plain": [
       "                  Coef.  Std.Err.\n",
       "Intercept     11.083862  0.318111\n",
       "lnox          -0.953539  0.116742\n",
       "np.log(dist)  -0.134339  0.043103\n",
       "rooms          0.254527  0.018530\n",
       "stratio       -0.052451  0.005897"
      ]
     },
     "execution_count": 17,
     "metadata": {},
     "output_type": "execute_result"
    }
   ],
   "source": [
    "model05 = smf.ols(\"lprice ~ lnox + np.log(dist) + rooms + stratio\", data=hprice2).fit()\n",
    "model05.summary2().tables[1].iloc[:, :2]"
   ]
  },
  {
   "cell_type": "markdown",
   "id": "2df9904d",
   "metadata": {},
   "source": [
    "$$H_0: \\beta_1 = -1 \\qquad H_1: \\beta_1 \\neq -1 $$"
   ]
  },
  {
   "cell_type": "markdown",
   "id": "cc6357d6",
   "metadata": {},
   "source": [
    "$$ t = \\frac{-0.954 + 1}{0.117} = 0.393$$  \n",
    "t is so small, we fail to reject $H_0$"
   ]
  },
  {
   "cell_type": "code",
   "execution_count": 18,
   "id": "a7eca336",
   "metadata": {},
   "outputs": [
    {
     "data": {
      "text/plain": [
       "array([0.3979827])"
      ]
     },
     "execution_count": 18,
     "metadata": {},
     "output_type": "execute_result"
    }
   ],
   "source": [
    "model05.t_test(\"lnox = -1\").tvalue[0]"
   ]
  },
  {
   "cell_type": "markdown",
   "id": "d746f771",
   "metadata": {},
   "source": [
    "### 4.6 Participation Rates in 401(k) Plans"
   ]
  },
  {
   "cell_type": "code",
   "execution_count": null,
   "id": "8824827a",
   "metadata": {},
   "outputs": [
    {
     "name": "stdout",
     "output_type": "stream",
     "text": [
      "name of dataset: 401k\n",
      "no of variables: 8\n",
      "no of observations: 1534\n",
      "\n",
      "+----------+---------------------------------+\n",
      "| variable | label                           |\n",
      "+----------+---------------------------------+\n",
      "| prate    | participation rate, percent     |\n",
      "| mrate    | 401k plan match rate            |\n",
      "| totpart  | total 401k participants         |\n",
      "| totelg   | total eligible for 401k plan    |\n",
      "| age      | age of 401k plan                |\n",
      "| totemp   | total number of firm employees  |\n",
      "| sole     | = 1 if 401k is firm's sole plan |\n",
      "| ltotemp  | log of totemp                   |\n",
      "+----------+---------------------------------+\n",
      "\n",
      "L.E. Papke (1995), “Participation in and Contributions to 401(k)\n",
      "Pension Plans:Evidence from Plan Data,” Journal of Human Resources 30,\n",
      "311-325. Professor Papke kindly provided these data. She gathered them\n",
      "from the Internal Revenue Service’s Form 5500 tapes.\n"
     ]
    }
   ],
   "source": [
    "wooldridge.data(\"401k\", description=True)"
   ]
  },
  {
   "cell_type": "code",
   "execution_count": null,
   "id": "efa76e4e",
   "metadata": {},
   "outputs": [
    {
     "data": {
      "text/html": [
       "<div>\n",
       "<style scoped>\n",
       "    .dataframe tbody tr th:only-of-type {\n",
       "        vertical-align: middle;\n",
       "    }\n",
       "\n",
       "    .dataframe tbody tr th {\n",
       "        vertical-align: top;\n",
       "    }\n",
       "\n",
       "    .dataframe thead th {\n",
       "        text-align: right;\n",
       "    }\n",
       "</style>\n",
       "<table border=\"1\" class=\"dataframe\">\n",
       "  <thead>\n",
       "    <tr style=\"text-align: right;\">\n",
       "      <th></th>\n",
       "      <th>Coef.</th>\n",
       "      <th>Std.Err.</th>\n",
       "      <th>t</th>\n",
       "      <th>P&gt;|t|</th>\n",
       "    </tr>\n",
       "  </thead>\n",
       "  <tbody>\n",
       "    <tr>\n",
       "      <th>Intercept</th>\n",
       "      <td>80.294053</td>\n",
       "      <td>0.777727</td>\n",
       "      <td>103.241902</td>\n",
       "      <td>0.000000e+00</td>\n",
       "    </tr>\n",
       "    <tr>\n",
       "      <th>mrate</th>\n",
       "      <td>5.442221</td>\n",
       "      <td>0.524419</td>\n",
       "      <td>10.377620</td>\n",
       "      <td>1.982834e-24</td>\n",
       "    </tr>\n",
       "    <tr>\n",
       "      <th>age</th>\n",
       "      <td>0.269198</td>\n",
       "      <td>0.045145</td>\n",
       "      <td>5.962976</td>\n",
       "      <td>3.070325e-09</td>\n",
       "    </tr>\n",
       "    <tr>\n",
       "      <th>totemp</th>\n",
       "      <td>-0.000129</td>\n",
       "      <td>0.000037</td>\n",
       "      <td>-3.520881</td>\n",
       "      <td>4.427334e-04</td>\n",
       "    </tr>\n",
       "  </tbody>\n",
       "</table>\n",
       "</div>"
      ],
      "text/plain": [
       "               Coef.  Std.Err.           t         P>|t|\n",
       "Intercept  80.294053  0.777727  103.241902  0.000000e+00\n",
       "mrate       5.442221  0.524419   10.377620  1.982834e-24\n",
       "age         0.269198  0.045145    5.962976  3.070325e-09\n",
       "totemp     -0.000129  0.000037   -3.520881  4.427334e-04"
      ]
     },
     "execution_count": 20,
     "metadata": {},
     "output_type": "execute_result"
    }
   ],
   "source": [
    "model06 = smf.ols(\"prate ~ mrate + age + totemp\", data=k401).fit()\n",
    "model06.summary2().tables[1].iloc[:, :4]"
   ]
  },
  {
   "cell_type": "markdown",
   "id": "b9a5f87c",
   "metadata": {},
   "source": [
    "All variables are statistically significant, but totemp has very small coefficient making it practically insignificant"
   ]
  },
  {
   "cell_type": "markdown",
   "id": "fd7f18cd",
   "metadata": {},
   "source": [
    "### 4.7 Effect of Job Training On Firm Scrap Rates"
   ]
  },
  {
   "cell_type": "code",
   "execution_count": null,
   "id": "7704dbc7",
   "metadata": {},
   "outputs": [
    {
     "name": "stdout",
     "output_type": "stream",
     "text": [
      "name of dataset: jtrain\n",
      "no of variables: 30\n",
      "no of observations: 471\n",
      "\n",
      "+----------+---------------------------------+\n",
      "| variable | label                           |\n",
      "+----------+---------------------------------+\n",
      "| year     | 1987, 1988, or 1989             |\n",
      "| fcode    | firm code number                |\n",
      "| employ   | # employees at plant            |\n",
      "| sales    | annual sales, $                 |\n",
      "| avgsal   | average employee salary         |\n",
      "| scrap    | scrap rate (per 100 items)      |\n",
      "| rework   | rework rate (per 100 items)     |\n",
      "| tothrs   | total hours training            |\n",
      "| union    | =1 if unionized                 |\n",
      "| grant    | = 1 if received grant           |\n",
      "| d89      | = 1 if year = 1989              |\n",
      "| d88      | = 1 if year = 1988              |\n",
      "| totrain  | total employees trained         |\n",
      "| hrsemp   | tothrs/totrain                  |\n",
      "| lscrap   | log(scrap)                      |\n",
      "| lemploy  | log(employ)                     |\n",
      "| lsales   | log(sales)                      |\n",
      "| lrework  | log(rework)                     |\n",
      "| lhrsemp  | log(1 + hrsemp)                 |\n",
      "| lscrap_1 | lagged lscrap; missing 1987     |\n",
      "| grant_1  | lagged grant; assumed 0 in 1987 |\n",
      "| clscrap  | lscrap - lscrap_1; year > 1987  |\n",
      "| cgrant   | grant - grant_1                 |\n",
      "| clemploy | lemploy - lemploy[_n-1]         |\n",
      "| clsales  | lavgsal - lavgsal[_n-1]         |\n",
      "| lavgsal  | log(avgsal)                     |\n",
      "| clavgsal | lavgsal - lavgsal[_n-1]         |\n",
      "| cgrant_1 | cgrant[_n-1]                    |\n",
      "| chrsemp  | hrsemp - hrsemp[_n-1]           |\n",
      "| clhrsemp | lhrsemp - lhrsemp[_n-1]         |\n",
      "+----------+---------------------------------+\n",
      "\n",
      "H. Holzer, R. Block, M. Cheatham, and J. Knott (1993), “Are Training\n",
      "Subsidies Effective? The Michigan Experience,” Industrial and Labor\n",
      "Relations Review 46, 625-636. The authors kindly provided the data.\n"
     ]
    }
   ],
   "source": [
    "wooldridge.data(\"jtrain\", description=True)"
   ]
  },
  {
   "cell_type": "code",
   "execution_count": null,
   "id": "5e708f21",
   "metadata": {},
   "outputs": [
    {
     "data": {
      "text/html": [
       "<div>\n",
       "<style scoped>\n",
       "    .dataframe tbody tr th:only-of-type {\n",
       "        vertical-align: middle;\n",
       "    }\n",
       "\n",
       "    .dataframe tbody tr th {\n",
       "        vertical-align: top;\n",
       "    }\n",
       "\n",
       "    .dataframe thead th {\n",
       "        text-align: right;\n",
       "    }\n",
       "</style>\n",
       "<table border=\"1\" class=\"dataframe\">\n",
       "  <thead>\n",
       "    <tr style=\"text-align: right;\">\n",
       "      <th></th>\n",
       "      <th>Coef.</th>\n",
       "      <th>Std.Err.</th>\n",
       "      <th>t</th>\n",
       "      <th>P&gt;|t|</th>\n",
       "    </tr>\n",
       "  </thead>\n",
       "  <tbody>\n",
       "    <tr>\n",
       "      <th>Intercept</th>\n",
       "      <td>12.458372</td>\n",
       "      <td>5.686771</td>\n",
       "      <td>2.190764</td>\n",
       "      <td>0.038007</td>\n",
       "    </tr>\n",
       "    <tr>\n",
       "      <th>hrsemp</th>\n",
       "      <td>-0.029269</td>\n",
       "      <td>0.022805</td>\n",
       "      <td>-1.283453</td>\n",
       "      <td>0.211103</td>\n",
       "    </tr>\n",
       "    <tr>\n",
       "      <th>np.log(sales)</th>\n",
       "      <td>-0.962027</td>\n",
       "      <td>0.452518</td>\n",
       "      <td>-2.125941</td>\n",
       "      <td>0.043564</td>\n",
       "    </tr>\n",
       "    <tr>\n",
       "      <th>np.log(employ)</th>\n",
       "      <td>0.761470</td>\n",
       "      <td>0.407433</td>\n",
       "      <td>1.868947</td>\n",
       "      <td>0.073390</td>\n",
       "    </tr>\n",
       "  </tbody>\n",
       "</table>\n",
       "</div>"
      ],
      "text/plain": [
       "                    Coef.  Std.Err.         t     P>|t|\n",
       "Intercept       12.458372  5.686771  2.190764  0.038007\n",
       "hrsemp          -0.029269  0.022805 -1.283453  0.211103\n",
       "np.log(sales)   -0.962027  0.452518 -2.125941  0.043564\n",
       "np.log(employ)   0.761470  0.407433  1.868947  0.073390"
      ]
     },
     "execution_count": 22,
     "metadata": {},
     "output_type": "execute_result"
    }
   ],
   "source": [
    "df = jtrain[(jtrain[\"year\"] == 1987) & (jtrain[\"union\"] == 0)]\n",
    "\n",
    "model07 = smf.ols(\n",
    "    \"np.log(scrap)~hrsemp + np.log(sales) + np.log(employ)\", data=df\n",
    ").fit()\n",
    "model07.summary2().tables[1].iloc[:, :4]"
   ]
  },
  {
   "cell_type": "markdown",
   "id": "00720f39",
   "metadata": {},
   "source": [
    "One more hour of training per employee [hrsemp] lowers scrap by 2.9%  \n",
    "t statistic is small, its not statistically significant"
   ]
  },
  {
   "cell_type": "code",
   "execution_count": 23,
   "id": "49d90820",
   "metadata": {},
   "outputs": [
    {
     "data": {
      "text/plain": [
       "29.0"
      ]
     },
     "execution_count": 23,
     "metadata": {},
     "output_type": "execute_result"
    }
   ],
   "source": [
    "model07.nobs"
   ]
  },
  {
   "cell_type": "code",
   "execution_count": 24,
   "id": "e5f8ec75",
   "metadata": {},
   "outputs": [
    {
     "data": {
      "text/plain": [
       "126"
      ]
     },
     "execution_count": 24,
     "metadata": {},
     "output_type": "execute_result"
    }
   ],
   "source": [
    "len(df)"
   ]
  },
  {
   "cell_type": "code",
   "execution_count": null,
   "id": "cb44444c",
   "metadata": {},
   "outputs": [
    {
     "data": {
      "text/plain": [
       "29"
      ]
     },
     "execution_count": 25,
     "metadata": {},
     "output_type": "execute_result"
    }
   ],
   "source": [
    "cols = [\"scrap\", \"hrsemp\", \"sales\", \"employ\"]\n",
    "df[cols].dropna().shape[0]"
   ]
  },
  {
   "cell_type": "markdown",
   "id": "a9e99fa9",
   "metadata": {},
   "source": [
    "Although the data has 126 rows, only 29 rows have no missing data in the rows of columns we use in the regression"
   ]
  },
  {
   "cell_type": "code",
   "execution_count": null,
   "id": "002f78e7",
   "metadata": {},
   "outputs": [
    {
     "data": {
      "text/plain": [
       "np.float64(0.10555164060312987)"
      ]
     },
     "execution_count": 26,
     "metadata": {},
     "output_type": "execute_result"
    }
   ],
   "source": [
    "from scipy import stats\n",
    "\n",
    "coef = model07.params[\"hrsemp\"]\n",
    "se = model07.bse[\"hrsemp\"]\n",
    "\n",
    "t_stat = coef / se\n",
    "\n",
    "# One-sided p-value (lower tail)\n",
    "stats.t.cdf(t_stat, df=model07.df_resid)"
   ]
  },
  {
   "cell_type": "markdown",
   "id": "d2650c6b",
   "metadata": {},
   "source": [
    "Due to the small sample size, we calculate p value for one sided test at 10% significance level and get 0.106, its almost rejected"
   ]
  },
  {
   "cell_type": "markdown",
   "id": "4b24c2f3",
   "metadata": {},
   "source": [
    "### 4.8 Model of R&D Expenditures"
   ]
  },
  {
   "cell_type": "code",
   "execution_count": null,
   "id": "9547159c",
   "metadata": {},
   "outputs": [
    {
     "name": "stdout",
     "output_type": "stream",
     "text": [
      "name of dataset: rdchem\n",
      "no of variables: 8\n",
      "no of observations: 32\n",
      "\n",
      "+----------+-----------------------------+\n",
      "| variable | label                       |\n",
      "+----------+-----------------------------+\n",
      "| rd       | R&D spending, millions      |\n",
      "| sales    | firm sales, millions        |\n",
      "| profits  | profits, millions           |\n",
      "| rdintens | rd as percent of sales      |\n",
      "| profmarg | profits as percent of sales |\n",
      "| salessq  | sales^2                     |\n",
      "| lsales   | log(sales)                  |\n",
      "| lrd      | log(rd)                     |\n",
      "+----------+-----------------------------+\n",
      "\n",
      "From Businessweek R&D Scoreboard, October 25, 1991.\n"
     ]
    }
   ],
   "source": [
    "wooldridge.data(\"rdchem\", description=True)"
   ]
  },
  {
   "cell_type": "code",
   "execution_count": null,
   "id": "e0c56bd0",
   "metadata": {},
   "outputs": [
    {
     "data": {
      "text/html": [
       "<div>\n",
       "<style scoped>\n",
       "    .dataframe tbody tr th:only-of-type {\n",
       "        vertical-align: middle;\n",
       "    }\n",
       "\n",
       "    .dataframe tbody tr th {\n",
       "        vertical-align: top;\n",
       "    }\n",
       "\n",
       "    .dataframe thead th {\n",
       "        text-align: right;\n",
       "    }\n",
       "</style>\n",
       "<table border=\"1\" class=\"dataframe\">\n",
       "  <thead>\n",
       "    <tr style=\"text-align: right;\">\n",
       "      <th></th>\n",
       "      <th>Coef.</th>\n",
       "      <th>Std.Err.</th>\n",
       "      <th>t</th>\n",
       "      <th>P&gt;|t|</th>\n",
       "      <th>[0.025</th>\n",
       "      <th>0.975]</th>\n",
       "    </tr>\n",
       "  </thead>\n",
       "  <tbody>\n",
       "    <tr>\n",
       "      <th>Intercept</th>\n",
       "      <td>-4.378273</td>\n",
       "      <td>0.468018</td>\n",
       "      <td>-9.354915</td>\n",
       "      <td>2.930084e-10</td>\n",
       "      <td>-5.335479</td>\n",
       "      <td>-3.421068</td>\n",
       "    </tr>\n",
       "    <tr>\n",
       "      <th>lsales</th>\n",
       "      <td>1.084220</td>\n",
       "      <td>0.060195</td>\n",
       "      <td>18.011789</td>\n",
       "      <td>2.746717e-17</td>\n",
       "      <td>0.961107</td>\n",
       "      <td>1.207333</td>\n",
       "    </tr>\n",
       "    <tr>\n",
       "      <th>profmarg</th>\n",
       "      <td>0.021656</td>\n",
       "      <td>0.012783</td>\n",
       "      <td>1.694150</td>\n",
       "      <td>1.009521e-01</td>\n",
       "      <td>-0.004488</td>\n",
       "      <td>0.047799</td>\n",
       "    </tr>\n",
       "  </tbody>\n",
       "</table>\n",
       "</div>"
      ],
      "text/plain": [
       "              Coef.  Std.Err.          t         P>|t|    [0.025    0.975]\n",
       "Intercept -4.378273  0.468018  -9.354915  2.930084e-10 -5.335479 -3.421068\n",
       "lsales     1.084220  0.060195  18.011789  2.746717e-17  0.961107  1.207333\n",
       "profmarg   0.021656  0.012783   1.694150  1.009521e-01 -0.004488  0.047799"
      ]
     },
     "execution_count": 30,
     "metadata": {},
     "output_type": "execute_result"
    }
   ],
   "source": [
    "model08 = smf.ols(\"lrd ~ lsales + profmarg\", data=rdchem).fit()\n",
    "model08.summary2().tables[1]"
   ]
  },
  {
   "cell_type": "markdown",
   "id": "41270ad1",
   "metadata": {},
   "source": [
    "Holding profit margin fixed, 1% increase in sales is associated with 1.084% increase in R&D spending  \n",
    "The 95% Confidence interval is [0.96 - 1.21] which doesn't include 0 leading to rejection of $H_0$  \n",
    "But it includes the unity 1, so 1% increase in sales is associated with 1% increase in R&D spending"
   ]
  },
  {
   "cell_type": "markdown",
   "id": "d87ec548",
   "metadata": {},
   "source": [
    "The 95% Confidence interval for profit margin is [-0.005, 0.05] which includes the zero, we fail to reject $H_0$ at the 5% significance level using a two-sided test \n",
    "However, using a one-sided alternative hypothesis $H_1: \\beta_2 > 0$, the one-sided p-value is 0.0504, making the coefficient statistically significant at the 5% level.   \n",
    "This suggests that a 1-unit increase in profit margin, holding sales constant, is associated with a 2.2% increase in R&D spending, on average."
   ]
  },
  {
   "cell_type": "code",
   "execution_count": null,
   "id": "c5b21202",
   "metadata": {},
   "outputs": [
    {
     "data": {
      "text/plain": [
       "np.float64(0.05047604323767163)"
      ]
     },
     "execution_count": 31,
     "metadata": {},
     "output_type": "execute_result"
    }
   ],
   "source": [
    "coef = model08.params[\"profmarg\"]\n",
    "se = model08.bse[\"profmarg\"]\n",
    "\n",
    "t_stat = coef / se\n",
    "\n",
    "# One-sided p-value (upper tail)\n",
    "1 - stats.t.cdf(t_stat, df=model08.df_resid)"
   ]
  },
  {
   "cell_type": "markdown",
   "id": "ccbf45ef",
   "metadata": {},
   "source": [
    "### 4.9 Parents Education in a Birth Weight Equation"
   ]
  },
  {
   "cell_type": "code",
   "execution_count": null,
   "id": "81e62753",
   "metadata": {},
   "outputs": [
    {
     "name": "stdout",
     "output_type": "stream",
     "text": [
      "name of dataset: bwght\n",
      "no of variables: 14\n",
      "no of observations: 1388\n",
      "\n",
      "+----------+--------------------------------+\n",
      "| variable | label                          |\n",
      "+----------+--------------------------------+\n",
      "| faminc   | 1988 family income, $1000s     |\n",
      "| cigtax   | cig. tax in home state, 1988   |\n",
      "| cigprice | cig. price in home state, 1988 |\n",
      "| bwght    | birth weight, ounces           |\n",
      "| fatheduc | father's yrs of educ           |\n",
      "| motheduc | mother's yrs of educ           |\n",
      "| parity   | birth order of child           |\n",
      "| male     | =1 if male child               |\n",
      "| white    | =1 if white                    |\n",
      "| cigs     | cigs smked per day while preg  |\n",
      "| lbwght   | log of bwght                   |\n",
      "| bwghtlbs | birth weight, pounds           |\n",
      "| packs    | packs smked per day while preg |\n",
      "| lfaminc  | log(faminc)                    |\n",
      "+----------+--------------------------------+\n",
      "\n",
      "J. Mullahy (1997), “Instrumental-Variable Estimation of Count Data\n",
      "Models: Applications to Models of Cigarette Smoking Behavior,” Review\n",
      "of Economics and Statistics 79, 596-593. Professor Mullahy kindly\n",
      "provided the data. He obtained them from the 1988 National Health\n",
      "Interview Survey.\n"
     ]
    }
   ],
   "source": [
    "wooldridge.data(\"bwght\", description=True)"
   ]
  },
  {
   "cell_type": "code",
   "execution_count": null,
   "id": "00df9df7",
   "metadata": {},
   "outputs": [
    {
     "data": {
      "text/html": [
       "<div>\n",
       "<style scoped>\n",
       "    .dataframe tbody tr th:only-of-type {\n",
       "        vertical-align: middle;\n",
       "    }\n",
       "\n",
       "    .dataframe tbody tr th {\n",
       "        vertical-align: top;\n",
       "    }\n",
       "\n",
       "    .dataframe thead th {\n",
       "        text-align: right;\n",
       "    }\n",
       "</style>\n",
       "<table border=\"1\" class=\"dataframe\">\n",
       "  <thead>\n",
       "    <tr style=\"text-align: right;\">\n",
       "      <th></th>\n",
       "      <th>Coef.</th>\n",
       "      <th>Std.Err.</th>\n",
       "      <th>t</th>\n",
       "      <th>P&gt;|t|</th>\n",
       "      <th>[0.025</th>\n",
       "      <th>0.975]</th>\n",
       "    </tr>\n",
       "  </thead>\n",
       "  <tbody>\n",
       "    <tr>\n",
       "      <th>Intercept</th>\n",
       "      <td>114.524328</td>\n",
       "      <td>3.728453</td>\n",
       "      <td>30.716314</td>\n",
       "      <td>6.865252e-153</td>\n",
       "      <td>107.209223</td>\n",
       "      <td>121.839433</td>\n",
       "    </tr>\n",
       "    <tr>\n",
       "      <th>cigs</th>\n",
       "      <td>-0.595936</td>\n",
       "      <td>0.110348</td>\n",
       "      <td>-5.400524</td>\n",
       "      <td>8.023483e-08</td>\n",
       "      <td>-0.812435</td>\n",
       "      <td>-0.379437</td>\n",
       "    </tr>\n",
       "    <tr>\n",
       "      <th>parity</th>\n",
       "      <td>1.787603</td>\n",
       "      <td>0.659406</td>\n",
       "      <td>2.710932</td>\n",
       "      <td>6.806379e-03</td>\n",
       "      <td>0.493871</td>\n",
       "      <td>3.081336</td>\n",
       "    </tr>\n",
       "    <tr>\n",
       "      <th>faminc</th>\n",
       "      <td>0.056041</td>\n",
       "      <td>0.036562</td>\n",
       "      <td>1.532794</td>\n",
       "      <td>1.255936e-01</td>\n",
       "      <td>-0.015691</td>\n",
       "      <td>0.127774</td>\n",
       "    </tr>\n",
       "    <tr>\n",
       "      <th>motheduc</th>\n",
       "      <td>-0.370450</td>\n",
       "      <td>0.319855</td>\n",
       "      <td>-1.158182</td>\n",
       "      <td>2.470233e-01</td>\n",
       "      <td>-0.997996</td>\n",
       "      <td>0.257095</td>\n",
       "    </tr>\n",
       "    <tr>\n",
       "      <th>fatheduc</th>\n",
       "      <td>0.472394</td>\n",
       "      <td>0.282643</td>\n",
       "      <td>1.671345</td>\n",
       "      <td>9.491758e-02</td>\n",
       "      <td>-0.082143</td>\n",
       "      <td>1.026931</td>\n",
       "    </tr>\n",
       "  </tbody>\n",
       "</table>\n",
       "</div>"
      ],
      "text/plain": [
       "                Coef.  Std.Err.          t          P>|t|      [0.025  \\\n",
       "Intercept  114.524328  3.728453  30.716314  6.865252e-153  107.209223   \n",
       "cigs        -0.595936  0.110348  -5.400524   8.023483e-08   -0.812435   \n",
       "parity       1.787603  0.659406   2.710932   6.806379e-03    0.493871   \n",
       "faminc       0.056041  0.036562   1.532794   1.255936e-01   -0.015691   \n",
       "motheduc    -0.370450  0.319855  -1.158182   2.470233e-01   -0.997996   \n",
       "fatheduc     0.472394  0.282643   1.671345   9.491758e-02   -0.082143   \n",
       "\n",
       "               0.975]  \n",
       "Intercept  121.839433  \n",
       "cigs        -0.379437  \n",
       "parity       3.081336  \n",
       "faminc       0.127774  \n",
       "motheduc     0.257095  \n",
       "fatheduc     1.026931  "
      ]
     },
     "execution_count": 46,
     "metadata": {},
     "output_type": "execute_result"
    }
   ],
   "source": [
    "df = bwght[[\"bwght\", \"cigs\", \"parity\", \"faminc\", \"motheduc\", \"fatheduc\"]].dropna()\n",
    "\n",
    "model09 = smf.ols(\"bwght ~ cigs + parity + faminc + motheduc + fatheduc\", data=df).fit()\n",
    "model09.summary2().tables[1]"
   ]
  },
  {
   "cell_type": "code",
   "execution_count": null,
   "id": "528dcba8",
   "metadata": {},
   "outputs": [
    {
     "data": {
      "text/html": [
       "<div>\n",
       "<style scoped>\n",
       "    .dataframe tbody tr th:only-of-type {\n",
       "        vertical-align: middle;\n",
       "    }\n",
       "\n",
       "    .dataframe tbody tr th {\n",
       "        vertical-align: top;\n",
       "    }\n",
       "\n",
       "    .dataframe thead th {\n",
       "        text-align: right;\n",
       "    }\n",
       "</style>\n",
       "<table border=\"1\" class=\"dataframe\">\n",
       "  <thead>\n",
       "    <tr style=\"text-align: right;\">\n",
       "      <th></th>\n",
       "      <th>Coef.</th>\n",
       "      <th>Std.Err.</th>\n",
       "      <th>t</th>\n",
       "      <th>P&gt;|t|</th>\n",
       "      <th>[0.025</th>\n",
       "      <th>0.975]</th>\n",
       "    </tr>\n",
       "  </thead>\n",
       "  <tbody>\n",
       "    <tr>\n",
       "      <th>Intercept</th>\n",
       "      <td>115.469925</td>\n",
       "      <td>1.655898</td>\n",
       "      <td>69.732508</td>\n",
       "      <td>0.000000e+00</td>\n",
       "      <td>112.221112</td>\n",
       "      <td>118.718738</td>\n",
       "    </tr>\n",
       "    <tr>\n",
       "      <th>cigs</th>\n",
       "      <td>-0.597852</td>\n",
       "      <td>0.108770</td>\n",
       "      <td>-5.496474</td>\n",
       "      <td>4.739231e-08</td>\n",
       "      <td>-0.811255</td>\n",
       "      <td>-0.384449</td>\n",
       "    </tr>\n",
       "    <tr>\n",
       "      <th>parity</th>\n",
       "      <td>1.832274</td>\n",
       "      <td>0.657540</td>\n",
       "      <td>2.786558</td>\n",
       "      <td>5.411973e-03</td>\n",
       "      <td>0.542203</td>\n",
       "      <td>3.122345</td>\n",
       "    </tr>\n",
       "    <tr>\n",
       "      <th>faminc</th>\n",
       "      <td>0.067062</td>\n",
       "      <td>0.032394</td>\n",
       "      <td>2.070204</td>\n",
       "      <td>3.864909e-02</td>\n",
       "      <td>0.003506</td>\n",
       "      <td>0.130617</td>\n",
       "    </tr>\n",
       "  </tbody>\n",
       "</table>\n",
       "</div>"
      ],
      "text/plain": [
       "                Coef.  Std.Err.          t         P>|t|      [0.025  \\\n",
       "Intercept  115.469925  1.655898  69.732508  0.000000e+00  112.221112   \n",
       "cigs        -0.597852  0.108770  -5.496474  4.739231e-08   -0.811255   \n",
       "parity       1.832274  0.657540   2.786558  5.411973e-03    0.542203   \n",
       "faminc       0.067062  0.032394   2.070204  3.864909e-02    0.003506   \n",
       "\n",
       "               0.975]  \n",
       "Intercept  118.718738  \n",
       "cigs        -0.384449  \n",
       "parity       3.122345  \n",
       "faminc       0.130617  "
      ]
     },
     "execution_count": 48,
     "metadata": {},
     "output_type": "execute_result"
    }
   ],
   "source": [
    "model09r = smf.ols(\"bwght ~ cigs + parity + faminc\", data=df).fit()\n",
    "model09r.summary2().tables[1]"
   ]
  },
  {
   "cell_type": "code",
   "execution_count": null,
   "id": "939e4202",
   "metadata": {},
   "outputs": [],
   "source": [
    "R2_ur = model09.rsquared\n",
    "R2_r = model09r.rsquared\n",
    "n = model09.nobs\n",
    "k_ur = model09.df_model + 1\n",
    "q = 2"
   ]
  },
  {
   "cell_type": "code",
   "execution_count": 50,
   "id": "eff69ded",
   "metadata": {},
   "outputs": [
    {
     "data": {
      "text/plain": [
       "np.float64(1.437268638975128)"
      ]
     },
     "execution_count": 50,
     "metadata": {},
     "output_type": "execute_result"
    }
   ],
   "source": [
    "numerator = (R2_ur - R2_r) / q\n",
    "denominator = (1 - R2_ur) / (n - k_ur)\n",
    "F_stat = numerator / denominator\n",
    "F_stat"
   ]
  },
  {
   "cell_type": "markdown",
   "id": "205779af",
   "metadata": {},
   "source": [
    "$$H_0: \\beta_4 =0, \\beta_5 = 0$$"
   ]
  },
  {
   "cell_type": "markdown",
   "id": "9f2c9d18",
   "metadata": {},
   "source": [
    "To test the joint significance of parents' education, we must ensure both the unrestricted and restricted models use the same observations.\n",
    "\n",
    "Therefore, we first subset the data to exclude any rows with missing values in the unrestricted model. This ensures both models are estimated on the same sample, allowing a valid comparison.\n",
    "\n",
    "Note: If you use statsmodels's built-in .f_test() function after fitting the unrestricted model, it automatically uses the correct sample. So you do not need to drop missing values manually in that case."
   ]
  },
  {
   "cell_type": "code",
   "execution_count": null,
   "id": "2347e507",
   "metadata": {},
   "outputs": [
    {
     "data": {
      "text/plain": [
       "<class 'statsmodels.stats.contrast.ContrastResults'>\n",
       "<F test: F=1.4372686389751854, p=0.23798962194786966, df_denom=1.18e+03, df_num=2>"
      ]
     },
     "execution_count": 54,
     "metadata": {},
     "output_type": "execute_result"
    }
   ],
   "source": [
    "model092 = smf.ols(\n",
    "    \"bwght ~ cigs + parity + faminc + motheduc + fatheduc\", data=bwght\n",
    ").fit()\n",
    "\n",
    "\n",
    "\n",
    "model092.f_test(\"motheduc = 0, fatheduc = 0\")"
   ]
  },
  {
   "cell_type": "markdown",
   "id": "8029a654",
   "metadata": {},
   "source": [
    "We fail to reject the null hypothesis. In other words, parents education is jointly insignificant"
   ]
  },
  {
   "cell_type": "markdown",
   "id": "bc22136a",
   "metadata": {},
   "source": [
    "### 4.10 Salary-Pension Tradeoff for Teachers"
   ]
  },
  {
   "cell_type": "markdown",
   "id": "f38d2936",
   "metadata": {},
   "source": [
    "if totcomp [total compensation] includes annual salary of teacher and benefits [like insurance]  \n",
    "then\n",
    "$$ totcomp = salary + benefits$$\n",
    "which can be rewritten as\n",
    "$$ totcomp = salary \\left( 1 + \\dfrac{benefits}{salary} \\right)$$\n",
    "take the log to get\n",
    "$$ \\log(totcomp) = \\log(salary) + \\log \\left(1+ \\dfrac b s \\right) $$\n",
    "for small $\\dfrac b s$, we have the approximation\n",
    "$$ \\log(totcomp) = \\log(salary) + \\dfrac b s  $$\n",
    "To understandard salary-benefits tradeoffs, get the econometric model\n",
    "$$ \\log(salary) = \\beta_0 + \\beta_1 \\dfrac b s + u$$"
   ]
  },
  {
   "cell_type": "markdown",
   "id": "9e19959f",
   "metadata": {},
   "source": [
    "To test salary benefits tradeoff, test $H_0: \\beta_1 = -1$  \n",
    "The simple regression fails to reject the null, but it becomes significant after adding controls"
   ]
  },
  {
   "cell_type": "code",
   "execution_count": null,
   "id": "f7e30ddb",
   "metadata": {},
   "outputs": [
    {
     "data": {
      "text/html": [
       "<div>\n",
       "<style scoped>\n",
       "    .dataframe tbody tr th:only-of-type {\n",
       "        vertical-align: middle;\n",
       "    }\n",
       "\n",
       "    .dataframe tbody tr th {\n",
       "        vertical-align: top;\n",
       "    }\n",
       "\n",
       "    .dataframe thead th {\n",
       "        text-align: right;\n",
       "    }\n",
       "</style>\n",
       "<table border=\"1\" class=\"dataframe\">\n",
       "  <thead>\n",
       "    <tr style=\"text-align: right;\">\n",
       "      <th></th>\n",
       "      <th>Coef.</th>\n",
       "      <th>Std.Err.</th>\n",
       "      <th>t</th>\n",
       "      <th>P&gt;|t|</th>\n",
       "    </tr>\n",
       "  </thead>\n",
       "  <tbody>\n",
       "    <tr>\n",
       "      <th>Intercept</th>\n",
       "      <td>10.523181</td>\n",
       "      <td>0.041560</td>\n",
       "      <td>253.203306</td>\n",
       "      <td>0.000000</td>\n",
       "    </tr>\n",
       "    <tr>\n",
       "      <th>bs_ratio</th>\n",
       "      <td>-0.825395</td>\n",
       "      <td>0.199895</td>\n",
       "      <td>-4.129144</td>\n",
       "      <td>0.000044</td>\n",
       "    </tr>\n",
       "  </tbody>\n",
       "</table>\n",
       "</div>"
      ],
      "text/plain": [
       "               Coef.  Std.Err.           t     P>|t|\n",
       "Intercept  10.523181  0.041560  253.203306  0.000000\n",
       "bs_ratio   -0.825395  0.199895   -4.129144  0.000044"
      ]
     },
     "execution_count": 60,
     "metadata": {},
     "output_type": "execute_result"
    }
   ],
   "source": [
    "df = meap93.copy()\n",
    "df[\"bs_ratio\"] = df[\"benefits\"] / df[\"salary\"]\n",
    "model010 = smf.ols(\"lsalary ~ bs_ratio\", data=df).fit()\n",
    "model010.summary2().tables[1].iloc[:, :4]"
   ]
  },
  {
   "cell_type": "code",
   "execution_count": null,
   "id": "23befaa4",
   "metadata": {},
   "outputs": [
    {
     "data": {
      "text/plain": [
       "<class 'statsmodels.stats.contrast.ContrastResults'>\n",
       "                             Test for Constraints                             \n",
       "==============================================================================\n",
       "                 coef    std err          t      P>|t|      [0.025      0.975]\n",
       "------------------------------------------------------------------------------\n",
       "c0            -0.8254      0.200      0.873      0.383      -1.218      -0.432\n",
       "=============================================================================="
      ]
     },
     "execution_count": 61,
     "metadata": {},
     "output_type": "execute_result"
    }
   ],
   "source": [
    "model010.t_test(\"bs_ratio = -1\")"
   ]
  },
  {
   "cell_type": "markdown",
   "id": "5accbe51",
   "metadata": {},
   "source": [
    "### 4.11 Evaluating a Job Training Program"
   ]
  },
  {
   "cell_type": "markdown",
   "id": "60495302",
   "metadata": {},
   "source": [
    "## 🚧 Computer Exercises"
   ]
  }
 ],
 "metadata": {
  "kernelspec": {
   "display_name": "base",
   "language": "python",
   "name": "python3"
  },
  "language_info": {
   "codemirror_mode": {
    "name": "ipython",
    "version": 3
   },
   "file_extension": ".py",
   "mimetype": "text/x-python",
   "name": "python",
   "nbconvert_exporter": "python",
   "pygments_lexer": "ipython3",
   "version": "3.12.11"
  }
 },
 "nbformat": 4,
 "nbformat_minor": 5
}
