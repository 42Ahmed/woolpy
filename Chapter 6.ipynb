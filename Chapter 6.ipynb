{
 "cells": [
  {
   "cell_type": "markdown",
   "id": "2fae3fff",
   "metadata": {},
   "source": [
    "# Multiple Regression Analysis: Further Issues"
   ]
  },
  {
   "cell_type": "code",
   "execution_count": 1,
   "id": "a18201db",
   "metadata": {},
   "outputs": [],
   "source": [
    "import pandas as pd\n",
    "import numpy as np\n",
    "import wooldridge\n",
    "import statsmodels.formula.api as smf\n",
    "import matplotlib.pyplot as plt\n",
    "from sklearn.preprocessing import StandardScaler"
   ]
  },
  {
   "cell_type": "code",
   "execution_count": 51,
   "id": "7b89ad63",
   "metadata": {},
   "outputs": [],
   "source": [
    "def duan_smearing_estimator(model):\n",
    "    \"\"\"\n",
    "    Compute Duan's smearing estimate (sigma0) from a fitted log-linear model.\n",
    "\n",
    "    Parameters:\n",
    "    model: A fitted statsmodels OLS model where the dependent variable is log(y).\n",
    "\n",
    "    Returns:\n",
    "    float: Smearing estimate sigma0.\n",
    "    \"\"\"\n",
    "    resid = model.resid  # residuals from log-linear model\n",
    "    sigma0 = np.mean(np.exp(resid))  # Duan's smearing estimate\n",
    "    return sigma0"
   ]
  },
  {
   "cell_type": "code",
   "execution_count": 2,
   "id": "aecfdeaf",
   "metadata": {},
   "outputs": [
    {
     "name": "stdout",
     "output_type": "stream",
     "text": [
      "  J.M. Wooldridge (2019) Introductory Econometrics: A Modern Approach,\n",
      "  Cengage Learning, 6th edition.\n",
      "\n",
      "  401k       401ksubs    admnrev       affairs     airfare\n",
      "  alcohol    apple       approval      athlet1     athlet2\n",
      "  attend     audit       barium        beauty      benefits\n",
      "  beveridge  big9salary  bwght         bwght2      campus\n",
      "  card       catholic    cement        census2000  ceosal1\n",
      "  ceosal2    charity     consump       corn        countymurders\n",
      "  cps78_85   cps91       crime1        crime2      crime3\n",
      "  crime4     discrim     driving       earns       econmath\n",
      "  elem94_95  engin       expendshares  ezanders    ezunem\n",
      "  fair       fertil1     fertil2       fertil3     fish\n",
      "  fringe     gpa1        gpa2          gpa3        happiness\n",
      "  hprice1    hprice2     hprice3       hseinv      htv\n",
      "  infmrt     injury      intdef        intqrt      inven\n",
      "  jtrain     jtrain2     jtrain3       kielmc      lawsch85\n",
      "  loanapp    lowbrth     mathpnl       meap00_01   meap01\n",
      "  meap93     meapsingle  minwage       mlb1        mroz\n",
      "  murder     nbasal      nyse          okun        openness\n",
      "  pension    phillips    pntsprd       prison      prminwge\n",
      "  rdchem     rdtelec     recid         rental      return\n",
      "  saving     sleep75     slp75_81      smoke       traffic1\n",
      "  traffic2   twoyear     volat         vote1       vote2\n",
      "  voucher    wage1       wage2         wagepan     wageprc\n",
      "  wine\n"
     ]
    }
   ],
   "source": [
    "wooldridge.data()"
   ]
  },
  {
   "cell_type": "markdown",
   "id": "3119613a",
   "metadata": {},
   "source": [
    "## Examples"
   ]
  },
  {
   "cell_type": "code",
   "execution_count": 3,
   "id": "0f96d25e",
   "metadata": {},
   "outputs": [],
   "source": [
    "pd.options.display.float_format = '{:.4f}'.format"
   ]
  },
  {
   "cell_type": "code",
   "execution_count": 39,
   "id": "2dbea186",
   "metadata": {},
   "outputs": [],
   "source": [
    "hprice2 = wooldridge.data(\"hprice2\")\n",
    "attend = wooldridge.data(\"attend\")\n",
    "ceosal1 = wooldridge.data('ceosal1')\n",
    "gpa2 = wooldridge.data('gpa2')\n",
    "ceosal2 = wooldridge.data('ceosal2')"
   ]
  },
  {
   "cell_type": "markdown",
   "id": "ddab58f3",
   "metadata": {},
   "source": [
    "### 6.1 Effects of Pollution on Housing Prices"
   ]
  },
  {
   "cell_type": "markdown",
   "id": "42940ba8",
   "metadata": {},
   "source": [
    "To make beta coefficients, I use `StandardScaler` from sklearn library"
   ]
  },
  {
   "cell_type": "code",
   "execution_count": 6,
   "id": "08665de3",
   "metadata": {},
   "outputs": [
    {
     "name": "stdout",
     "output_type": "stream",
     "text": [
      "name of dataset: hprice2\n",
      "no of variables: 12\n",
      "no of observations: 506\n",
      "\n",
      "+----------+-------------------------------+\n",
      "| variable | label                         |\n",
      "+----------+-------------------------------+\n",
      "| price    | median housing price, $       |\n",
      "| crime    | crimes committed per capita   |\n",
      "| nox      | nit ox concen; parts per 100m |\n",
      "| rooms    | avg number of rooms           |\n",
      "| dist     | wght dist to 5 employ centers |\n",
      "| radial   | access. index to rad. hghwys  |\n",
      "| proptax  | property tax per $1000        |\n",
      "| stratio  | average student-teacher ratio |\n",
      "| lowstat  | perc of people 'lower status' |\n",
      "| lprice   | log(price)                    |\n",
      "| lnox     | log(nox)                      |\n",
      "| lproptax | log(proptax)                  |\n",
      "+----------+-------------------------------+\n",
      "\n",
      "D. Harrison and D.L. Rubinfeld (1978), “Hedonic Housing Prices and the\n",
      "Demand for Clean Air,” by Harrison, D. and D.L.Rubinfeld, Journal of\n",
      "Environmental Economics and Management 5, 81-102. Diego Garcia, a\n",
      "former Ph.D. student in economics at MIT, kindly provided these data,\n",
      "which he obtained from the book Regression Diagnostics: Identifying\n",
      "Influential Data and Sources of Collinearity, by D.A. Belsey, E. Kuh,\n",
      "and R. Welsch, 1990. New York: Wiley.\n"
     ]
    }
   ],
   "source": [
    "wooldridge.data(\"hprice2\", description=True)"
   ]
  },
  {
   "cell_type": "code",
   "execution_count": 40,
   "id": "061799fb",
   "metadata": {},
   "outputs": [
    {
     "data": {
      "text/html": [
       "<div>\n",
       "<style scoped>\n",
       "    .dataframe tbody tr th:only-of-type {\n",
       "        vertical-align: middle;\n",
       "    }\n",
       "\n",
       "    .dataframe tbody tr th {\n",
       "        vertical-align: top;\n",
       "    }\n",
       "\n",
       "    .dataframe thead th {\n",
       "        text-align: right;\n",
       "    }\n",
       "</style>\n",
       "<table border=\"1\" class=\"dataframe\">\n",
       "  <thead>\n",
       "    <tr style=\"text-align: right;\">\n",
       "      <th></th>\n",
       "      <th>price</th>\n",
       "      <th>crime</th>\n",
       "      <th>nox</th>\n",
       "      <th>rooms</th>\n",
       "      <th>dist</th>\n",
       "      <th>radial</th>\n",
       "      <th>proptax</th>\n",
       "      <th>stratio</th>\n",
       "      <th>lowstat</th>\n",
       "      <th>lprice</th>\n",
       "      <th>lnox</th>\n",
       "      <th>lproptax</th>\n",
       "    </tr>\n",
       "  </thead>\n",
       "  <tbody>\n",
       "    <tr>\n",
       "      <th>0</th>\n",
       "      <td>24000.000</td>\n",
       "      <td>0.006</td>\n",
       "      <td>5.380</td>\n",
       "      <td>6.570</td>\n",
       "      <td>4.090</td>\n",
       "      <td>1</td>\n",
       "      <td>29.600</td>\n",
       "      <td>15.300</td>\n",
       "      <td>4.980</td>\n",
       "      <td>10.086</td>\n",
       "      <td>1.683</td>\n",
       "      <td>5.690</td>\n",
       "    </tr>\n",
       "    <tr>\n",
       "      <th>1</th>\n",
       "      <td>21599.000</td>\n",
       "      <td>0.027</td>\n",
       "      <td>4.690</td>\n",
       "      <td>6.420</td>\n",
       "      <td>4.970</td>\n",
       "      <td>2</td>\n",
       "      <td>24.200</td>\n",
       "      <td>17.800</td>\n",
       "      <td>9.140</td>\n",
       "      <td>9.980</td>\n",
       "      <td>1.545</td>\n",
       "      <td>5.489</td>\n",
       "    </tr>\n",
       "    <tr>\n",
       "      <th>2</th>\n",
       "      <td>34700.000</td>\n",
       "      <td>0.027</td>\n",
       "      <td>4.690</td>\n",
       "      <td>7.180</td>\n",
       "      <td>4.970</td>\n",
       "      <td>2</td>\n",
       "      <td>24.200</td>\n",
       "      <td>17.800</td>\n",
       "      <td>4.030</td>\n",
       "      <td>10.454</td>\n",
       "      <td>1.545</td>\n",
       "      <td>5.489</td>\n",
       "    </tr>\n",
       "    <tr>\n",
       "      <th>3</th>\n",
       "      <td>33400.000</td>\n",
       "      <td>0.032</td>\n",
       "      <td>4.580</td>\n",
       "      <td>7.000</td>\n",
       "      <td>6.060</td>\n",
       "      <td>3</td>\n",
       "      <td>22.200</td>\n",
       "      <td>18.700</td>\n",
       "      <td>2.940</td>\n",
       "      <td>10.416</td>\n",
       "      <td>1.522</td>\n",
       "      <td>5.403</td>\n",
       "    </tr>\n",
       "    <tr>\n",
       "      <th>4</th>\n",
       "      <td>36199.000</td>\n",
       "      <td>0.069</td>\n",
       "      <td>4.580</td>\n",
       "      <td>7.150</td>\n",
       "      <td>6.060</td>\n",
       "      <td>3</td>\n",
       "      <td>22.200</td>\n",
       "      <td>18.700</td>\n",
       "      <td>5.330</td>\n",
       "      <td>10.497</td>\n",
       "      <td>1.522</td>\n",
       "      <td>5.403</td>\n",
       "    </tr>\n",
       "  </tbody>\n",
       "</table>\n",
       "</div>"
      ],
      "text/plain": [
       "      price  crime   nox  rooms  dist  radial  proptax  stratio  lowstat  \\\n",
       "0 24000.000  0.006 5.380  6.570 4.090       1   29.600   15.300    4.980   \n",
       "1 21599.000  0.027 4.690  6.420 4.970       2   24.200   17.800    9.140   \n",
       "2 34700.000  0.027 4.690  7.180 4.970       2   24.200   17.800    4.030   \n",
       "3 33400.000  0.032 4.580  7.000 6.060       3   22.200   18.700    2.940   \n",
       "4 36199.000  0.069 4.580  7.150 6.060       3   22.200   18.700    5.330   \n",
       "\n",
       "   lprice  lnox  lproptax  \n",
       "0  10.086 1.683     5.690  \n",
       "1   9.980 1.545     5.489  \n",
       "2  10.454 1.545     5.489  \n",
       "3  10.416 1.522     5.403  \n",
       "4  10.497 1.522     5.403  "
      ]
     },
     "execution_count": 40,
     "metadata": {},
     "output_type": "execute_result"
    }
   ],
   "source": [
    "hprice2.head()"
   ]
  },
  {
   "cell_type": "code",
   "execution_count": 7,
   "id": "8c11cbc0",
   "metadata": {},
   "outputs": [],
   "source": [
    "df = hprice2.copy()\n",
    "vars_to_standardize = [\"price\", \"nox\", \"crime\", \"rooms\", \"dist\", \"stratio\"]\n",
    "df[vars_to_standardize] = StandardScaler().fit_transform(df[vars_to_standardize])"
   ]
  },
  {
   "cell_type": "code",
   "execution_count": 8,
   "id": "aab05dee",
   "metadata": {},
   "outputs": [
    {
     "data": {
      "text/html": [
       "<div>\n",
       "<style scoped>\n",
       "    .dataframe tbody tr th:only-of-type {\n",
       "        vertical-align: middle;\n",
       "    }\n",
       "\n",
       "    .dataframe tbody tr th {\n",
       "        vertical-align: top;\n",
       "    }\n",
       "\n",
       "    .dataframe thead th {\n",
       "        text-align: right;\n",
       "    }\n",
       "</style>\n",
       "<table border=\"1\" class=\"dataframe\">\n",
       "  <thead>\n",
       "    <tr style=\"text-align: right;\">\n",
       "      <th></th>\n",
       "      <th>price</th>\n",
       "      <th>crime</th>\n",
       "      <th>nox</th>\n",
       "      <th>rooms</th>\n",
       "      <th>dist</th>\n",
       "      <th>radial</th>\n",
       "      <th>proptax</th>\n",
       "      <th>stratio</th>\n",
       "      <th>lowstat</th>\n",
       "      <th>lprice</th>\n",
       "      <th>lnox</th>\n",
       "      <th>lproptax</th>\n",
       "    </tr>\n",
       "  </thead>\n",
       "  <tbody>\n",
       "    <tr>\n",
       "      <th>0</th>\n",
       "      <td>0.1618</td>\n",
       "      <td>-0.4201</td>\n",
       "      <td>-0.1467</td>\n",
       "      <td>0.4074</td>\n",
       "      <td>0.1398</td>\n",
       "      <td>1</td>\n",
       "      <td>29.6000</td>\n",
       "      <td>-1.4601</td>\n",
       "      <td>4.9800</td>\n",
       "      <td>10.0858</td>\n",
       "      <td>1.6827</td>\n",
       "      <td>5.6904</td>\n",
       "    </tr>\n",
       "    <tr>\n",
       "      <th>1</th>\n",
       "      <td>-0.0992</td>\n",
       "      <td>-0.4177</td>\n",
       "      <td>-0.7430</td>\n",
       "      <td>0.1937</td>\n",
       "      <td>0.5581</td>\n",
       "      <td>2</td>\n",
       "      <td>24.2000</td>\n",
       "      <td>-0.3047</td>\n",
       "      <td>9.1400</td>\n",
       "      <td>9.9804</td>\n",
       "      <td>1.5454</td>\n",
       "      <td>5.4889</td>\n",
       "    </tr>\n",
       "    <tr>\n",
       "      <th>2</th>\n",
       "      <td>1.3249</td>\n",
       "      <td>-0.4177</td>\n",
       "      <td>-0.7430</td>\n",
       "      <td>1.2765</td>\n",
       "      <td>0.5581</td>\n",
       "      <td>2</td>\n",
       "      <td>24.2000</td>\n",
       "      <td>-0.3047</td>\n",
       "      <td>4.0300</td>\n",
       "      <td>10.4545</td>\n",
       "      <td>1.5454</td>\n",
       "      <td>5.4889</td>\n",
       "    </tr>\n",
       "    <tr>\n",
       "      <th>3</th>\n",
       "      <td>1.1836</td>\n",
       "      <td>-0.4171</td>\n",
       "      <td>-0.8380</td>\n",
       "      <td>1.0200</td>\n",
       "      <td>1.0761</td>\n",
       "      <td>3</td>\n",
       "      <td>22.2000</td>\n",
       "      <td>0.1113</td>\n",
       "      <td>2.9400</td>\n",
       "      <td>10.4163</td>\n",
       "      <td>1.5217</td>\n",
       "      <td>5.4027</td>\n",
       "    </tr>\n",
       "    <tr>\n",
       "      <th>4</th>\n",
       "      <td>1.4878</td>\n",
       "      <td>-0.4128</td>\n",
       "      <td>-0.8380</td>\n",
       "      <td>1.2337</td>\n",
       "      <td>1.0761</td>\n",
       "      <td>3</td>\n",
       "      <td>22.2000</td>\n",
       "      <td>0.1113</td>\n",
       "      <td>5.3300</td>\n",
       "      <td>10.4968</td>\n",
       "      <td>1.5217</td>\n",
       "      <td>5.4027</td>\n",
       "    </tr>\n",
       "  </tbody>\n",
       "</table>\n",
       "</div>"
      ],
      "text/plain": [
       "    price   crime     nox  rooms   dist  radial  proptax  stratio  lowstat  \\\n",
       "0  0.1618 -0.4201 -0.1467 0.4074 0.1398       1  29.6000  -1.4601   4.9800   \n",
       "1 -0.0992 -0.4177 -0.7430 0.1937 0.5581       2  24.2000  -0.3047   9.1400   \n",
       "2  1.3249 -0.4177 -0.7430 1.2765 0.5581       2  24.2000  -0.3047   4.0300   \n",
       "3  1.1836 -0.4171 -0.8380 1.0200 1.0761       3  22.2000   0.1113   2.9400   \n",
       "4  1.4878 -0.4128 -0.8380 1.2337 1.0761       3  22.2000   0.1113   5.3300   \n",
       "\n",
       "   lprice   lnox  lproptax  \n",
       "0 10.0858 1.6827    5.6904  \n",
       "1  9.9804 1.5454    5.4889  \n",
       "2 10.4545 1.5454    5.4889  \n",
       "3 10.4163 1.5217    5.4027  \n",
       "4 10.4968 1.5217    5.4027  "
      ]
     },
     "execution_count": 8,
     "metadata": {},
     "output_type": "execute_result"
    }
   ],
   "source": [
    "df.head()"
   ]
  },
  {
   "cell_type": "code",
   "execution_count": 9,
   "id": "07b5f83c",
   "metadata": {},
   "outputs": [],
   "source": [
    "pd.set_option(\"display.float_format\", \"{:.3f}\".format)\n",
    "# pd.reset_option('display.float_format')"
   ]
  },
  {
   "cell_type": "code",
   "execution_count": 10,
   "id": "299ea600",
   "metadata": {},
   "outputs": [
    {
     "data": {
      "text/html": [
       "<div>\n",
       "<style scoped>\n",
       "    .dataframe tbody tr th:only-of-type {\n",
       "        vertical-align: middle;\n",
       "    }\n",
       "\n",
       "    .dataframe tbody tr th {\n",
       "        vertical-align: top;\n",
       "    }\n",
       "\n",
       "    .dataframe thead th {\n",
       "        text-align: right;\n",
       "    }\n",
       "</style>\n",
       "<table border=\"1\" class=\"dataframe\">\n",
       "  <thead>\n",
       "    <tr style=\"text-align: right;\">\n",
       "      <th></th>\n",
       "      <th>Coef.</th>\n",
       "      <th>Std.Err.</th>\n",
       "    </tr>\n",
       "  </thead>\n",
       "  <tbody>\n",
       "    <tr>\n",
       "      <th>Intercept</th>\n",
       "      <td>0.000</td>\n",
       "      <td>0.027</td>\n",
       "    </tr>\n",
       "    <tr>\n",
       "      <th>nox</th>\n",
       "      <td>-0.340</td>\n",
       "      <td>0.045</td>\n",
       "    </tr>\n",
       "    <tr>\n",
       "      <th>crime</th>\n",
       "      <td>-0.143</td>\n",
       "      <td>0.031</td>\n",
       "    </tr>\n",
       "    <tr>\n",
       "      <th>rooms</th>\n",
       "      <td>0.514</td>\n",
       "      <td>0.030</td>\n",
       "    </tr>\n",
       "    <tr>\n",
       "      <th>dist</th>\n",
       "      <td>-0.235</td>\n",
       "      <td>0.043</td>\n",
       "    </tr>\n",
       "    <tr>\n",
       "      <th>stratio</th>\n",
       "      <td>-0.270</td>\n",
       "      <td>0.030</td>\n",
       "    </tr>\n",
       "  </tbody>\n",
       "</table>\n",
       "</div>"
      ],
      "text/plain": [
       "           Coef.  Std.Err.\n",
       "Intercept  0.000     0.027\n",
       "nox       -0.340     0.045\n",
       "crime     -0.143     0.031\n",
       "rooms      0.514     0.030\n",
       "dist      -0.235     0.043\n",
       "stratio   -0.270     0.030"
      ]
     },
     "execution_count": 10,
     "metadata": {},
     "output_type": "execute_result"
    }
   ],
   "source": [
    "model01 = smf.ols(\"price ~ nox + crime + rooms + dist + stratio\", data=df).fit()\n",
    "model01.summary2().tables[1].iloc[:, :2]"
   ]
  },
  {
   "cell_type": "markdown",
   "id": "a6395800",
   "metadata": {},
   "source": [
    "One standard deviation in $nox$ decreases price by 0.34 standard deviations.  \n",
    "One standard deviation in $crime$ decreases price by 0.14 standard deviations.  \n",
    "nox affects price more than crime  \n",
    "t statistic does not change if we standardize data"
   ]
  },
  {
   "cell_type": "markdown",
   "id": "1c7e5684",
   "metadata": {},
   "source": [
    "### 6.2 Effects of Pollution on Housing Prices"
   ]
  },
  {
   "cell_type": "code",
   "execution_count": 11,
   "id": "f0b13bb7",
   "metadata": {},
   "outputs": [
    {
     "data": {
      "text/html": [
       "<div>\n",
       "<style scoped>\n",
       "    .dataframe tbody tr th:only-of-type {\n",
       "        vertical-align: middle;\n",
       "    }\n",
       "\n",
       "    .dataframe tbody tr th {\n",
       "        vertical-align: top;\n",
       "    }\n",
       "\n",
       "    .dataframe thead th {\n",
       "        text-align: right;\n",
       "    }\n",
       "</style>\n",
       "<table border=\"1\" class=\"dataframe\">\n",
       "  <thead>\n",
       "    <tr style=\"text-align: right;\">\n",
       "      <th></th>\n",
       "      <th>Coef.</th>\n",
       "      <th>Std.Err.</th>\n",
       "      <th>t</th>\n",
       "      <th>P&gt;|t|</th>\n",
       "    </tr>\n",
       "  </thead>\n",
       "  <tbody>\n",
       "    <tr>\n",
       "      <th>Intercept</th>\n",
       "      <td>13.385</td>\n",
       "      <td>0.566</td>\n",
       "      <td>23.630</td>\n",
       "      <td>0.000</td>\n",
       "    </tr>\n",
       "    <tr>\n",
       "      <th>lnox</th>\n",
       "      <td>-0.902</td>\n",
       "      <td>0.115</td>\n",
       "      <td>-7.862</td>\n",
       "      <td>0.000</td>\n",
       "    </tr>\n",
       "    <tr>\n",
       "      <th>np.log(dist)</th>\n",
       "      <td>-0.087</td>\n",
       "      <td>0.043</td>\n",
       "      <td>-2.005</td>\n",
       "      <td>0.045</td>\n",
       "    </tr>\n",
       "    <tr>\n",
       "      <th>rooms</th>\n",
       "      <td>-0.545</td>\n",
       "      <td>0.165</td>\n",
       "      <td>-3.295</td>\n",
       "      <td>0.001</td>\n",
       "    </tr>\n",
       "    <tr>\n",
       "      <th>I(rooms ** 2)</th>\n",
       "      <td>0.062</td>\n",
       "      <td>0.013</td>\n",
       "      <td>4.862</td>\n",
       "      <td>0.000</td>\n",
       "    </tr>\n",
       "    <tr>\n",
       "      <th>stratio</th>\n",
       "      <td>-0.048</td>\n",
       "      <td>0.006</td>\n",
       "      <td>-8.129</td>\n",
       "      <td>0.000</td>\n",
       "    </tr>\n",
       "  </tbody>\n",
       "</table>\n",
       "</div>"
      ],
      "text/plain": [
       "               Coef.  Std.Err.      t  P>|t|\n",
       "Intercept     13.385     0.566 23.630  0.000\n",
       "lnox          -0.902     0.115 -7.862  0.000\n",
       "np.log(dist)  -0.087     0.043 -2.005  0.045\n",
       "rooms         -0.545     0.165 -3.295  0.001\n",
       "I(rooms ** 2)  0.062     0.013  4.862  0.000\n",
       "stratio       -0.048     0.006 -8.129  0.000"
      ]
     },
     "execution_count": 11,
     "metadata": {},
     "output_type": "execute_result"
    }
   ],
   "source": [
    "model02 = smf.ols(\n",
    "    \"lprice ~ lnox + np.log(dist) + rooms + I(rooms**2) + stratio\", data=hprice2\n",
    ").fit()\n",
    "model02.summary2().tables[1].iloc[:, :4]"
   ]
  },
  {
   "cell_type": "markdown",
   "id": "ae1f3a91",
   "metadata": {},
   "source": [
    "$rooms^2$ is statistically significant. Coefficient on $rooms$ is negative and $rooms^2$ is positive.  \n",
    "Rooms have negative effect on price until some point, the effect becomes positive. To get this point\n",
    "$$ 0.545/[2(0.062)] \\approx 4.4 $$"
   ]
  },
  {
   "cell_type": "markdown",
   "id": "eda43d32",
   "metadata": {},
   "source": [
    "3 rooms and less decreasing price is not practical, the negative result is due to the sample containing few observations with 3 rooms and less"
   ]
  },
  {
   "cell_type": "markdown",
   "id": "259aafce",
   "metadata": {},
   "source": [
    "Effect of adding one extra room\n",
    "$$ \\% \\Delta price \\approx 100[-0.545 + 2(0.062)]rooms]\\Delta rooms$$\n",
    "which is equal to\n",
    "$$ \\% \\Delta price  = [-54.5 + 12.4 \\, rooms] \\Delta rooms$$"
   ]
  },
  {
   "cell_type": "markdown",
   "id": "42fb8ec4",
   "metadata": {},
   "source": [
    "Note: effect of rooms depends on number of rooms, so we can't look at the coefficients alone"
   ]
  },
  {
   "cell_type": "markdown",
   "id": "709b4bbc",
   "metadata": {},
   "source": [
    "### 6.3 Effects of Attendance on Final Exam Performance"
   ]
  },
  {
   "cell_type": "code",
   "execution_count": 12,
   "id": "70f9949b",
   "metadata": {},
   "outputs": [
    {
     "name": "stdout",
     "output_type": "stream",
     "text": [
      "name of dataset: attend\n",
      "no of variables: 11\n",
      "no of observations: 680\n",
      "\n",
      "+----------+------------------------------+\n",
      "| variable | label                        |\n",
      "+----------+------------------------------+\n",
      "| attend   | classes attended out of 32   |\n",
      "| termGPA  | GPA for term                 |\n",
      "| priGPA   | cumulative GPA prior to term |\n",
      "| ACT      | ACT score                    |\n",
      "| final    | final exam score             |\n",
      "| atndrte  | percent classes attended     |\n",
      "| hwrte    | percent homework turned in   |\n",
      "| frosh    | =1 if freshman               |\n",
      "| soph     | =1 if sophomore              |\n",
      "| missed   | number of classes missed     |\n",
      "| stndfnl  | (final - mean)/sd            |\n",
      "+----------+------------------------------+\n",
      "\n",
      "These data were collected by Professors Ronald Fisher and Carl\n",
      "Liedholm during a term in which they both taught principles of\n",
      "microeconomics at Michigan State University. Professors Fisher and\n",
      "Liedholm kindly gave me permission to use a random subset of their\n",
      "data, and their research assistant at the time, Jeffrey Guilfoyle, who\n",
      "completed his Ph.D. in economics at MSU, provided helpful hints.\n"
     ]
    }
   ],
   "source": [
    "wooldridge.data(\"attend\", description=True)"
   ]
  },
  {
   "cell_type": "code",
   "execution_count": 13,
   "id": "fdfe5266",
   "metadata": {},
   "outputs": [
    {
     "data": {
      "text/html": [
       "<div>\n",
       "<style scoped>\n",
       "    .dataframe tbody tr th:only-of-type {\n",
       "        vertical-align: middle;\n",
       "    }\n",
       "\n",
       "    .dataframe tbody tr th {\n",
       "        vertical-align: top;\n",
       "    }\n",
       "\n",
       "    .dataframe thead th {\n",
       "        text-align: right;\n",
       "    }\n",
       "</style>\n",
       "<table border=\"1\" class=\"dataframe\">\n",
       "  <thead>\n",
       "    <tr style=\"text-align: right;\">\n",
       "      <th></th>\n",
       "      <th>Coef.</th>\n",
       "      <th>Std.Err.</th>\n",
       "      <th>t</th>\n",
       "      <th>P&gt;|t|</th>\n",
       "    </tr>\n",
       "  </thead>\n",
       "  <tbody>\n",
       "    <tr>\n",
       "      <th>Intercept</th>\n",
       "      <td>2.050</td>\n",
       "      <td>1.360</td>\n",
       "      <td>1.507</td>\n",
       "      <td>0.132</td>\n",
       "    </tr>\n",
       "    <tr>\n",
       "      <th>atndrte</th>\n",
       "      <td>-0.007</td>\n",
       "      <td>0.010</td>\n",
       "      <td>-0.656</td>\n",
       "      <td>0.512</td>\n",
       "    </tr>\n",
       "    <tr>\n",
       "      <th>priGPA</th>\n",
       "      <td>-1.629</td>\n",
       "      <td>0.481</td>\n",
       "      <td>-3.386</td>\n",
       "      <td>0.001</td>\n",
       "    </tr>\n",
       "    <tr>\n",
       "      <th>ACT</th>\n",
       "      <td>-0.128</td>\n",
       "      <td>0.098</td>\n",
       "      <td>-1.300</td>\n",
       "      <td>0.194</td>\n",
       "    </tr>\n",
       "    <tr>\n",
       "      <th>I(priGPA ** 2)</th>\n",
       "      <td>0.296</td>\n",
       "      <td>0.101</td>\n",
       "      <td>2.928</td>\n",
       "      <td>0.004</td>\n",
       "    </tr>\n",
       "    <tr>\n",
       "      <th>I(ACT ** 2)</th>\n",
       "      <td>0.005</td>\n",
       "      <td>0.002</td>\n",
       "      <td>2.083</td>\n",
       "      <td>0.038</td>\n",
       "    </tr>\n",
       "    <tr>\n",
       "      <th>I(priGPA * atndrte)</th>\n",
       "      <td>0.006</td>\n",
       "      <td>0.004</td>\n",
       "      <td>1.294</td>\n",
       "      <td>0.196</td>\n",
       "    </tr>\n",
       "  </tbody>\n",
       "</table>\n",
       "</div>"
      ],
      "text/plain": [
       "                     Coef.  Std.Err.      t  P>|t|\n",
       "Intercept            2.050     1.360  1.507  0.132\n",
       "atndrte             -0.007     0.010 -0.656  0.512\n",
       "priGPA              -1.629     0.481 -3.386  0.001\n",
       "ACT                 -0.128     0.098 -1.300  0.194\n",
       "I(priGPA ** 2)       0.296     0.101  2.928  0.004\n",
       "I(ACT ** 2)          0.005     0.002  2.083  0.038\n",
       "I(priGPA * atndrte)  0.006     0.004  1.294  0.196"
      ]
     },
     "execution_count": 13,
     "metadata": {},
     "output_type": "execute_result"
    }
   ],
   "source": [
    "model03 = smf.ols(\n",
    "    \"stndfnl ~ atndrte + priGPA + ACT + \" \\\n",
    "    \"I(priGPA**2)+ I(ACT**2)+ I(priGPA*atndrte)\",\n",
    "    data=attend,\n",
    ").fit()\n",
    "model03.summary2().tables[1].iloc[:, :4]"
   ]
  },
  {
   "cell_type": "markdown",
   "id": "e8ea17ea",
   "metadata": {},
   "source": [
    "When $priGPA = 0$, attendance has a negative effect on exam score  \n",
    " t statistic is misleading. Check the F test"
   ]
  },
  {
   "cell_type": "code",
   "execution_count": 14,
   "id": "c63a3694",
   "metadata": {},
   "outputs": [
    {
     "data": {
      "text/plain": [
       "Index(['Intercept', 'atndrte', 'priGPA', 'ACT', 'I(priGPA ** 2)',\n",
       "       'I(ACT ** 2)', 'I(priGPA * atndrte)'],\n",
       "      dtype='object')"
      ]
     },
     "execution_count": 14,
     "metadata": {},
     "output_type": "execute_result"
    }
   ],
   "source": [
    "model03.params.index"
   ]
  },
  {
   "cell_type": "code",
   "execution_count": 15,
   "id": "265c4430",
   "metadata": {},
   "outputs": [
    {
     "data": {
      "text/plain": [
       "<class 'statsmodels.stats.contrast.ContrastResults'>\n",
       "<F test: F=4.319021763197198, p=0.013683848684002065, df_denom=673, df_num=2>"
      ]
     },
     "execution_count": 15,
     "metadata": {},
     "output_type": "execute_result"
    }
   ],
   "source": [
    "model03.f_test(\"atndrte = 0, I(priGPA * atndrte) = 0\")"
   ]
  },
  {
   "cell_type": "markdown",
   "id": "41ad049e",
   "metadata": {},
   "source": [
    "To estimate partial effect of $atndrte$, plug values for $priorGPA$ in the interaction term"
   ]
  },
  {
   "cell_type": "code",
   "execution_count": 16,
   "id": "f30f1c68",
   "metadata": {},
   "outputs": [
    {
     "data": {
      "text/plain": [
       "np.float64(2.586774999078582)"
      ]
     },
     "execution_count": 16,
     "metadata": {},
     "output_type": "execute_result"
    }
   ],
   "source": [
    "attend['priGPA'].mean()"
   ]
  },
  {
   "cell_type": "markdown",
   "id": "feaa53a6",
   "metadata": {},
   "source": [
    "Effect of $atndrte$ is\n",
    "$$ -0,0067 + 0.0056(2.59) \\approx 0.0078$$  \n",
    "if attendance rate increases by 10 percentage points, final exam score increase by 0.078 standard deviations  \n",
    "To test if the 0.0078 is significant from zero"
   ]
  },
  {
   "cell_type": "code",
   "execution_count": 17,
   "id": "1ca20776",
   "metadata": {},
   "outputs": [
    {
     "data": {
      "text/html": [
       "<div>\n",
       "<style scoped>\n",
       "    .dataframe tbody tr th:only-of-type {\n",
       "        vertical-align: middle;\n",
       "    }\n",
       "\n",
       "    .dataframe tbody tr th {\n",
       "        vertical-align: top;\n",
       "    }\n",
       "\n",
       "    .dataframe thead th {\n",
       "        text-align: right;\n",
       "    }\n",
       "</style>\n",
       "<table border=\"1\" class=\"dataframe\">\n",
       "  <thead>\n",
       "    <tr style=\"text-align: right;\">\n",
       "      <th></th>\n",
       "      <th>Coef.</th>\n",
       "      <th>Std.Err.</th>\n",
       "      <th>t</th>\n",
       "      <th>P&gt;|t|</th>\n",
       "    </tr>\n",
       "  </thead>\n",
       "  <tbody>\n",
       "    <tr>\n",
       "      <th>Intercept</th>\n",
       "      <td>2.050</td>\n",
       "      <td>1.360</td>\n",
       "      <td>1.507</td>\n",
       "      <td>0.132</td>\n",
       "    </tr>\n",
       "    <tr>\n",
       "      <th>atndrte</th>\n",
       "      <td>0.008</td>\n",
       "      <td>0.003</td>\n",
       "      <td>2.938</td>\n",
       "      <td>0.003</td>\n",
       "    </tr>\n",
       "    <tr>\n",
       "      <th>priGPA</th>\n",
       "      <td>-1.629</td>\n",
       "      <td>0.481</td>\n",
       "      <td>-3.386</td>\n",
       "      <td>0.001</td>\n",
       "    </tr>\n",
       "    <tr>\n",
       "      <th>ACT</th>\n",
       "      <td>-0.128</td>\n",
       "      <td>0.098</td>\n",
       "      <td>-1.300</td>\n",
       "      <td>0.194</td>\n",
       "    </tr>\n",
       "    <tr>\n",
       "      <th>I(priGPA ** 2)</th>\n",
       "      <td>0.296</td>\n",
       "      <td>0.101</td>\n",
       "      <td>2.928</td>\n",
       "      <td>0.004</td>\n",
       "    </tr>\n",
       "    <tr>\n",
       "      <th>I(ACT ** 2)</th>\n",
       "      <td>0.005</td>\n",
       "      <td>0.002</td>\n",
       "      <td>2.083</td>\n",
       "      <td>0.038</td>\n",
       "    </tr>\n",
       "    <tr>\n",
       "      <th>I((priGPA - 2.59) * atndrte)</th>\n",
       "      <td>0.006</td>\n",
       "      <td>0.004</td>\n",
       "      <td>1.294</td>\n",
       "      <td>0.196</td>\n",
       "    </tr>\n",
       "  </tbody>\n",
       "</table>\n",
       "</div>"
      ],
      "text/plain": [
       "                              Coef.  Std.Err.      t  P>|t|\n",
       "Intercept                     2.050     1.360  1.507  0.132\n",
       "atndrte                       0.008     0.003  2.938  0.003\n",
       "priGPA                       -1.629     0.481 -3.386  0.001\n",
       "ACT                          -0.128     0.098 -1.300  0.194\n",
       "I(priGPA ** 2)                0.296     0.101  2.928  0.004\n",
       "I(ACT ** 2)                   0.005     0.002  2.083  0.038\n",
       "I((priGPA - 2.59) * atndrte)  0.006     0.004  1.294  0.196"
      ]
     },
     "execution_count": 17,
     "metadata": {},
     "output_type": "execute_result"
    }
   ],
   "source": [
    "model032 = smf.ols(\n",
    "    \"stndfnl ~ atndrte + priGPA + ACT + \" \\\n",
    "    \"I(priGPA**2)+ I(ACT**2)+ I((priGPA-2.59)*atndrte)\",\n",
    "    data=attend,\n",
    ").fit()\n",
    "model032.summary2().tables[1].iloc[:, :4]"
   ]
  },
  {
   "cell_type": "markdown",
   "id": "856e5ac5",
   "metadata": {},
   "source": [
    "Using this method, $atndrte$ coefficient changes to our calculated 0.0078, with p value of 0.0034, statistically significant"
   ]
  },
  {
   "cell_type": "markdown",
   "id": "0298c23b",
   "metadata": {},
   "source": [
    "### 6.4 CEO Compensation and Firm Performance"
   ]
  },
  {
   "cell_type": "code",
   "execution_count": 18,
   "id": "84b724dc",
   "metadata": {},
   "outputs": [
    {
     "name": "stdout",
     "output_type": "stream",
     "text": [
      "name of dataset: ceosal1\n",
      "no of variables: 12\n",
      "no of observations: 209\n",
      "\n",
      "+----------+-------------------------------+\n",
      "| variable | label                         |\n",
      "+----------+-------------------------------+\n",
      "| salary   | 1990 salary, thousands $      |\n",
      "| pcsalary | % change salary, 89-90        |\n",
      "| sales    | 1990 firm sales, millions $   |\n",
      "| roe      | return on equity, 88-90 avg   |\n",
      "| pcroe    | % change roe, 88-90           |\n",
      "| ros      | return on firm's stock, 88-90 |\n",
      "| indus    | =1 if industrial firm         |\n",
      "| finance  | =1 if financial firm          |\n",
      "| consprod | =1 if consumer product firm   |\n",
      "| utility  | =1 if transport. or utilties  |\n",
      "| lsalary  | natural log of salary         |\n",
      "| lsales   | natural log of sales          |\n",
      "+----------+-------------------------------+\n",
      "\n",
      "I took a random sample of data reported in the May 6, 1991 issue of\n",
      "Businessweek.\n"
     ]
    }
   ],
   "source": [
    "wooldridge.data('ceosal1', description = True)"
   ]
  },
  {
   "cell_type": "code",
   "execution_count": 19,
   "id": "a3b60c2f",
   "metadata": {},
   "outputs": [
    {
     "data": {
      "text/plain": [
       "(np.float64(0.029171686607148084), np.float64(0.019746169001392255))"
      ]
     },
     "execution_count": 19,
     "metadata": {},
     "output_type": "execute_result"
    }
   ],
   "source": [
    "model04 = smf.ols('salary ~ sales + roe', data = ceosal1).fit()\n",
    "model04.rsquared, model04.rsquared_adj"
   ]
  },
  {
   "cell_type": "code",
   "execution_count": 20,
   "id": "82c1623f",
   "metadata": {},
   "outputs": [
    {
     "data": {
      "text/plain": [
       "(np.float64(0.28198874478633673), np.float64(0.2750177617260099))"
      ]
     },
     "execution_count": 20,
     "metadata": {},
     "output_type": "execute_result"
    }
   ],
   "source": [
    "model042 = smf.ols('lsalary ~ lsales + roe', data = ceosal1).fit()\n",
    "model042.rsquared, model042.rsquared_adj"
   ]
  },
  {
   "cell_type": "markdown",
   "id": "b445b04c",
   "metadata": {},
   "source": [
    "The second model has higher $R^2$ and $\\bar R^2$ because variation in $lsalary$ is lower due to taking the $\\log$"
   ]
  },
  {
   "cell_type": "code",
   "execution_count": 21,
   "id": "9c775888",
   "metadata": {},
   "outputs": [],
   "source": [
    "y = model04.model.endog\n",
    "y_bar = np.mean(y) \n",
    "TSS = np.sum((y - y_bar) ** 2)"
   ]
  },
  {
   "cell_type": "code",
   "execution_count": 22,
   "id": "117dab89",
   "metadata": {},
   "outputs": [],
   "source": [
    "y = model042.model.endog\n",
    "y_bar = np.mean(y) \n",
    "TSS2 = np.sum((y - y_bar) ** 2)"
   ]
  },
  {
   "cell_type": "code",
   "execution_count": 23,
   "id": "2008ba6d",
   "metadata": {},
   "outputs": [
    {
     "data": {
      "text/plain": [
       "(np.float64(391732982.00956935), np.float64(66.72216321299874))"
      ]
     },
     "execution_count": 23,
     "metadata": {},
     "output_type": "execute_result"
    }
   ],
   "source": [
    "TSS, TSS2"
   ]
  },
  {
   "cell_type": "markdown",
   "id": "f77e77be",
   "metadata": {},
   "source": [
    "### 6.5 Confidence Interval for Predicted College GPA"
   ]
  },
  {
   "cell_type": "code",
   "execution_count": 24,
   "id": "4a3508e2",
   "metadata": {},
   "outputs": [
    {
     "name": "stdout",
     "output_type": "stream",
     "text": [
      "name of dataset: gpa2\n",
      "no of variables: 12\n",
      "no of observations: 4137\n",
      "\n",
      "+----------+----------------------------------+\n",
      "| variable | label                            |\n",
      "+----------+----------------------------------+\n",
      "| sat      | combined SAT score               |\n",
      "| tothrs   | total hours through fall semest  |\n",
      "| colgpa   | GPA after fall semester          |\n",
      "| athlete  | =1 if athlete                    |\n",
      "| verbmath | verbal/math SAT score            |\n",
      "| hsize    | size grad. class, 100s           |\n",
      "| hsrank   | rank in grad. class              |\n",
      "| hsperc   | high school percentile, from top |\n",
      "| female   | =1 if female                     |\n",
      "| white    | =1 if white                      |\n",
      "| black    | =1 if black                      |\n",
      "| hsizesq  | hsize^2                          |\n",
      "+----------+----------------------------------+\n",
      "\n",
      "For confidentiality reasons, I cannot provide the source of these\n",
      "data. I can say that  they come from a midsize research university\n",
      "that also supports men’s and women’s athletics at the Division I\n",
      "level.\n"
     ]
    }
   ],
   "source": [
    "wooldridge.data('gpa2', description= True)"
   ]
  },
  {
   "cell_type": "code",
   "execution_count": 25,
   "id": "b5247e55",
   "metadata": {},
   "outputs": [
    {
     "data": {
      "text/html": [
       "<div>\n",
       "<style scoped>\n",
       "    .dataframe tbody tr th:only-of-type {\n",
       "        vertical-align: middle;\n",
       "    }\n",
       "\n",
       "    .dataframe tbody tr th {\n",
       "        vertical-align: top;\n",
       "    }\n",
       "\n",
       "    .dataframe thead th {\n",
       "        text-align: right;\n",
       "    }\n",
       "</style>\n",
       "<table border=\"1\" class=\"dataframe\">\n",
       "  <thead>\n",
       "    <tr style=\"text-align: right;\">\n",
       "      <th></th>\n",
       "      <th>Coef.</th>\n",
       "      <th>Std.Err.</th>\n",
       "    </tr>\n",
       "  </thead>\n",
       "  <tbody>\n",
       "    <tr>\n",
       "      <th>Intercept</th>\n",
       "      <td>1.493</td>\n",
       "      <td>0.075</td>\n",
       "    </tr>\n",
       "    <tr>\n",
       "      <th>sat</th>\n",
       "      <td>0.001</td>\n",
       "      <td>0.000</td>\n",
       "    </tr>\n",
       "    <tr>\n",
       "      <th>hsperc</th>\n",
       "      <td>-0.014</td>\n",
       "      <td>0.001</td>\n",
       "    </tr>\n",
       "    <tr>\n",
       "      <th>hsize</th>\n",
       "      <td>-0.061</td>\n",
       "      <td>0.017</td>\n",
       "    </tr>\n",
       "    <tr>\n",
       "      <th>hsizesq</th>\n",
       "      <td>0.005</td>\n",
       "      <td>0.002</td>\n",
       "    </tr>\n",
       "  </tbody>\n",
       "</table>\n",
       "</div>"
      ],
      "text/plain": [
       "           Coef.  Std.Err.\n",
       "Intercept  1.493     0.075\n",
       "sat        0.001     0.000\n",
       "hsperc    -0.014     0.001\n",
       "hsize     -0.061     0.017\n",
       "hsizesq    0.005     0.002"
      ]
     },
     "execution_count": 25,
     "metadata": {},
     "output_type": "execute_result"
    }
   ],
   "source": [
    "model05 = smf.ols('colgpa ~ sat + hsperc + hsize + hsizesq', data = gpa2).fit()\n",
    "model05.summary2().tables[1].iloc[:, :2]"
   ]
  },
  {
   "cell_type": "code",
   "execution_count": 26,
   "id": "f2ac0bec",
   "metadata": {},
   "outputs": [
    {
     "data": {
      "text/html": [
       "<div>\n",
       "<style scoped>\n",
       "    .dataframe tbody tr th:only-of-type {\n",
       "        vertical-align: middle;\n",
       "    }\n",
       "\n",
       "    .dataframe tbody tr th {\n",
       "        vertical-align: top;\n",
       "    }\n",
       "\n",
       "    .dataframe thead th {\n",
       "        text-align: right;\n",
       "    }\n",
       "</style>\n",
       "<table border=\"1\" class=\"dataframe\">\n",
       "  <thead>\n",
       "    <tr style=\"text-align: right;\">\n",
       "      <th></th>\n",
       "      <th>0</th>\n",
       "      <th>1</th>\n",
       "      <th>2</th>\n",
       "      <th>3</th>\n",
       "    </tr>\n",
       "  </thead>\n",
       "  <tbody>\n",
       "    <tr>\n",
       "      <th>0</th>\n",
       "      <td>Model:</td>\n",
       "      <td>OLS</td>\n",
       "      <td>Adj. R-squared:</td>\n",
       "      <td>0.277</td>\n",
       "    </tr>\n",
       "    <tr>\n",
       "      <th>1</th>\n",
       "      <td>Dependent Variable:</td>\n",
       "      <td>colgpa</td>\n",
       "      <td>AIC:</td>\n",
       "      <td>6945.8642</td>\n",
       "    </tr>\n",
       "    <tr>\n",
       "      <th>2</th>\n",
       "      <td>Date:</td>\n",
       "      <td>2025-07-29 13:43</td>\n",
       "      <td>BIC:</td>\n",
       "      <td>6977.5029</td>\n",
       "    </tr>\n",
       "    <tr>\n",
       "      <th>3</th>\n",
       "      <td>No. Observations:</td>\n",
       "      <td>4137</td>\n",
       "      <td>Log-Likelihood:</td>\n",
       "      <td>-3467.9</td>\n",
       "    </tr>\n",
       "    <tr>\n",
       "      <th>4</th>\n",
       "      <td>Df Model:</td>\n",
       "      <td>4</td>\n",
       "      <td>F-statistic:</td>\n",
       "      <td>398.0</td>\n",
       "    </tr>\n",
       "    <tr>\n",
       "      <th>5</th>\n",
       "      <td>Df Residuals:</td>\n",
       "      <td>4132</td>\n",
       "      <td>Prob (F-statistic):</td>\n",
       "      <td>2.13e-290</td>\n",
       "    </tr>\n",
       "    <tr>\n",
       "      <th>6</th>\n",
       "      <td>R-squared:</td>\n",
       "      <td>0.278</td>\n",
       "      <td>Scale:</td>\n",
       "      <td>0.31345</td>\n",
       "    </tr>\n",
       "  </tbody>\n",
       "</table>\n",
       "</div>"
      ],
      "text/plain": [
       "                     0                 1                    2          3\n",
       "0               Model:               OLS      Adj. R-squared:      0.277\n",
       "1  Dependent Variable:            colgpa                 AIC:  6945.8642\n",
       "2                Date:  2025-07-29 13:43                 BIC:  6977.5029\n",
       "3    No. Observations:              4137      Log-Likelihood:    -3467.9\n",
       "4            Df Model:                 4         F-statistic:      398.0\n",
       "5        Df Residuals:              4132  Prob (F-statistic):  2.13e-290\n",
       "6           R-squared:             0.278               Scale:    0.31345"
      ]
     },
     "execution_count": 26,
     "metadata": {},
     "output_type": "execute_result"
    }
   ],
   "source": [
    "model05.summary2().tables[0]"
   ]
  },
  {
   "cell_type": "code",
   "execution_count": 27,
   "id": "9fb08185",
   "metadata": {},
   "outputs": [
    {
     "data": {
      "text/plain": [
       "np.float64(0.5598638444189318)"
      ]
     },
     "execution_count": 27,
     "metadata": {},
     "output_type": "execute_result"
    }
   ],
   "source": [
    "se = model05.mse_resid ** 0.5\n",
    "se"
   ]
  },
  {
   "cell_type": "markdown",
   "id": "b702b10f",
   "metadata": {},
   "source": [
    "We can use the model to predict GPA at the values of the independent variables $SAT = 1200, hsperc = 30, hsize = 5$"
   ]
  },
  {
   "cell_type": "code",
   "execution_count": 28,
   "id": "28975bd5",
   "metadata": {},
   "outputs": [],
   "source": [
    "new_data = pd.DataFrame({\n",
    "    'sat': [1200],\n",
    "    'hsperc': [30],\n",
    "    'hsize': [5],\n",
    "    'hsizesq': [25]\n",
    "})"
   ]
  },
  {
   "cell_type": "code",
   "execution_count": 29,
   "id": "e537cee5",
   "metadata": {},
   "outputs": [
    {
     "data": {
      "text/plain": [
       "0   2.700\n",
       "dtype: float64"
      ]
     },
     "execution_count": 29,
     "metadata": {},
     "output_type": "execute_result"
    }
   ],
   "source": [
    "predicted_gpa = model05.predict(new_data)\n",
    "predicted_gpa"
   ]
  },
  {
   "cell_type": "markdown",
   "id": "b43045df",
   "metadata": {},
   "source": [
    "To calculate confidence interval for our predicted $2.7$, we subtract the values used for the prediction from the independent variables"
   ]
  },
  {
   "cell_type": "code",
   "execution_count": 30,
   "id": "6e0d88ca",
   "metadata": {},
   "outputs": [],
   "source": [
    "df = gpa2.copy()\n",
    "df['sat'] = gpa2['sat']-1200\n",
    "df['hsize'] = gpa2['hsize']-5\n",
    "df['hsperc'] = gpa2['hsperc']-30\n",
    "df['hsizesq'] = gpa2['hsizesq']-25"
   ]
  },
  {
   "cell_type": "code",
   "execution_count": 31,
   "id": "b4b399b7",
   "metadata": {},
   "outputs": [
    {
     "data": {
      "text/html": [
       "<div>\n",
       "<style scoped>\n",
       "    .dataframe tbody tr th:only-of-type {\n",
       "        vertical-align: middle;\n",
       "    }\n",
       "\n",
       "    .dataframe tbody tr th {\n",
       "        vertical-align: top;\n",
       "    }\n",
       "\n",
       "    .dataframe thead th {\n",
       "        text-align: right;\n",
       "    }\n",
       "</style>\n",
       "<table border=\"1\" class=\"dataframe\">\n",
       "  <thead>\n",
       "    <tr style=\"text-align: right;\">\n",
       "      <th></th>\n",
       "      <th>Coef.</th>\n",
       "      <th>Std.Err.</th>\n",
       "      <th>t</th>\n",
       "      <th>P&gt;|t|</th>\n",
       "      <th>[0.025</th>\n",
       "      <th>0.975]</th>\n",
       "    </tr>\n",
       "  </thead>\n",
       "  <tbody>\n",
       "    <tr>\n",
       "      <th>Intercept</th>\n",
       "      <td>2.700</td>\n",
       "      <td>0.020</td>\n",
       "      <td>135.833</td>\n",
       "      <td>0.000</td>\n",
       "      <td>2.661</td>\n",
       "      <td>2.739</td>\n",
       "    </tr>\n",
       "    <tr>\n",
       "      <th>sat</th>\n",
       "      <td>0.001</td>\n",
       "      <td>0.000</td>\n",
       "      <td>22.886</td>\n",
       "      <td>0.000</td>\n",
       "      <td>0.001</td>\n",
       "      <td>0.002</td>\n",
       "    </tr>\n",
       "    <tr>\n",
       "      <th>hsperc</th>\n",
       "      <td>-0.014</td>\n",
       "      <td>0.001</td>\n",
       "      <td>-24.698</td>\n",
       "      <td>0.000</td>\n",
       "      <td>-0.015</td>\n",
       "      <td>-0.013</td>\n",
       "    </tr>\n",
       "    <tr>\n",
       "      <th>hsize</th>\n",
       "      <td>-0.061</td>\n",
       "      <td>0.017</td>\n",
       "      <td>-3.690</td>\n",
       "      <td>0.000</td>\n",
       "      <td>-0.093</td>\n",
       "      <td>-0.029</td>\n",
       "    </tr>\n",
       "    <tr>\n",
       "      <th>hsizesq</th>\n",
       "      <td>0.005</td>\n",
       "      <td>0.002</td>\n",
       "      <td>2.406</td>\n",
       "      <td>0.016</td>\n",
       "      <td>0.001</td>\n",
       "      <td>0.010</td>\n",
       "    </tr>\n",
       "  </tbody>\n",
       "</table>\n",
       "</div>"
      ],
      "text/plain": [
       "           Coef.  Std.Err.       t  P>|t|  [0.025  0.975]\n",
       "Intercept  2.700     0.020 135.833  0.000   2.661   2.739\n",
       "sat        0.001     0.000  22.886  0.000   0.001   0.002\n",
       "hsperc    -0.014     0.001 -24.698  0.000  -0.015  -0.013\n",
       "hsize     -0.061     0.017  -3.690  0.000  -0.093  -0.029\n",
       "hsizesq    0.005     0.002   2.406  0.016   0.001   0.010"
      ]
     },
     "execution_count": 31,
     "metadata": {},
     "output_type": "execute_result"
    }
   ],
   "source": [
    "model052 = smf.ols('colgpa ~ sat + hsperc + hsize + hsizesq', data = df).fit()\n",
    "model052.summary2().tables[1].iloc[:]"
   ]
  },
  {
   "cell_type": "markdown",
   "id": "004b4e38",
   "metadata": {},
   "source": [
    "We get same coefficients as before except for the intercept value.  The confidence interval for the prediction is [2.66,2.74]"
   ]
  },
  {
   "cell_type": "code",
   "execution_count": 32,
   "id": "947ce8b3",
   "metadata": {},
   "outputs": [
    {
     "name": "stdout",
     "output_type": "stream",
     "text": [
      "\n",
      "======================================\n",
      "                 Uncentered  Centered \n",
      "--------------------------------------\n",
      "Intercept        1.4927***  2.7001*** \n",
      "                 (0.0753)   (0.0199)  \n",
      "sat              0.0015***  0.0015*** \n",
      "                 (0.0001)   (0.0001)  \n",
      "hsperc           -0.0139*** -0.0139***\n",
      "                 (0.0006)   (0.0006)  \n",
      "hsize            -0.0609*** -0.0609***\n",
      "                 (0.0165)   (0.0165)  \n",
      "hsizesq          0.0055**   0.0055**  \n",
      "                 (0.0023)   (0.0023)  \n",
      "R-squared        0.2781     0.2781    \n",
      "R-squared Adj.   0.2774     0.2774    \n",
      "No. observations 4137       4137      \n",
      "R-squared        0.2781     0.2781    \n",
      "======================================\n",
      "Standard errors in parentheses.\n",
      "* p<.1, ** p<.05, ***p<.01\n"
     ]
    }
   ],
   "source": [
    "from statsmodels.iolib.summary2 import summary_col\n",
    "\n",
    "summary = summary_col(\n",
    "    [model05, model052],\n",
    "    stars=True,\n",
    "    model_names=[\"Uncentered\", \"Centered\"],\n",
    "    info_dict={\n",
    "        \"R-squared\": lambda x: f\"{x.rsquared:.4f}\",\n",
    "        \"No. observations\": lambda x: f\"{int(x.nobs)}\",\n",
    "    },\n",
    ")\n",
    "\n",
    "print(summary)"
   ]
  },
  {
   "cell_type": "markdown",
   "id": "2d3b0c2e",
   "metadata": {},
   "source": [
    "Note: centering $hsize$ and then squaring it results in a different value than squaring $hsize$ and then centering it  \n",
    "The correct order is: $$square \\rightarrow center$$"
   ]
  },
  {
   "cell_type": "markdown",
   "id": "aa456455",
   "metadata": {},
   "source": [
    "### 6.6 Confidence Interval for Future College GPA"
   ]
  },
  {
   "cell_type": "markdown",
   "id": "7b4647d6",
   "metadata": {},
   "source": [
    "To get prediction confidence intervals"
   ]
  },
  {
   "cell_type": "code",
   "execution_count": 33,
   "id": "2d0d5c53",
   "metadata": {},
   "outputs": [
    {
     "data": {
      "text/html": [
       "<div>\n",
       "<style scoped>\n",
       "    .dataframe tbody tr th:only-of-type {\n",
       "        vertical-align: middle;\n",
       "    }\n",
       "\n",
       "    .dataframe tbody tr th {\n",
       "        vertical-align: top;\n",
       "    }\n",
       "\n",
       "    .dataframe thead th {\n",
       "        text-align: right;\n",
       "    }\n",
       "</style>\n",
       "<table border=\"1\" class=\"dataframe\">\n",
       "  <thead>\n",
       "    <tr style=\"text-align: right;\">\n",
       "      <th></th>\n",
       "      <th>Coef.</th>\n",
       "      <th>Std.Err.</th>\n",
       "    </tr>\n",
       "  </thead>\n",
       "  <tbody>\n",
       "    <tr>\n",
       "      <th>Intercept</th>\n",
       "      <td>1.493</td>\n",
       "      <td>0.075</td>\n",
       "    </tr>\n",
       "    <tr>\n",
       "      <th>sat</th>\n",
       "      <td>0.001</td>\n",
       "      <td>0.000</td>\n",
       "    </tr>\n",
       "    <tr>\n",
       "      <th>hsperc</th>\n",
       "      <td>-0.014</td>\n",
       "      <td>0.001</td>\n",
       "    </tr>\n",
       "    <tr>\n",
       "      <th>hsize</th>\n",
       "      <td>-0.061</td>\n",
       "      <td>0.017</td>\n",
       "    </tr>\n",
       "    <tr>\n",
       "      <th>hsizesq</th>\n",
       "      <td>0.005</td>\n",
       "      <td>0.002</td>\n",
       "    </tr>\n",
       "  </tbody>\n",
       "</table>\n",
       "</div>"
      ],
      "text/plain": [
       "           Coef.  Std.Err.\n",
       "Intercept  1.493     0.075\n",
       "sat        0.001     0.000\n",
       "hsperc    -0.014     0.001\n",
       "hsize     -0.061     0.017\n",
       "hsizesq    0.005     0.002"
      ]
     },
     "execution_count": 33,
     "metadata": {},
     "output_type": "execute_result"
    }
   ],
   "source": [
    "model06 = smf.ols('colgpa ~ sat + hsperc + hsize + hsizesq', data = gpa2).fit()\n",
    "model06.summary2().tables[1].iloc[:, :2]"
   ]
  },
  {
   "cell_type": "code",
   "execution_count": 34,
   "id": "d09f3586",
   "metadata": {},
   "outputs": [],
   "source": [
    "new_data = pd.DataFrame({\n",
    "    'sat': [1200],\n",
    "    'hsperc': [30],\n",
    "    'hsize': [5],\n",
    "    'hsizesq': [25]\n",
    "})"
   ]
  },
  {
   "cell_type": "code",
   "execution_count": 35,
   "id": "1906053b",
   "metadata": {},
   "outputs": [
    {
     "data": {
      "text/html": [
       "<div>\n",
       "<style scoped>\n",
       "    .dataframe tbody tr th:only-of-type {\n",
       "        vertical-align: middle;\n",
       "    }\n",
       "\n",
       "    .dataframe tbody tr th {\n",
       "        vertical-align: top;\n",
       "    }\n",
       "\n",
       "    .dataframe thead th {\n",
       "        text-align: right;\n",
       "    }\n",
       "</style>\n",
       "<table border=\"1\" class=\"dataframe\">\n",
       "  <thead>\n",
       "    <tr style=\"text-align: right;\">\n",
       "      <th></th>\n",
       "      <th>mean</th>\n",
       "      <th>mean_se</th>\n",
       "      <th>mean_ci_lower</th>\n",
       "      <th>mean_ci_upper</th>\n",
       "      <th>obs_ci_lower</th>\n",
       "      <th>obs_ci_upper</th>\n",
       "    </tr>\n",
       "  </thead>\n",
       "  <tbody>\n",
       "    <tr>\n",
       "      <th>0</th>\n",
       "      <td>2.700</td>\n",
       "      <td>0.020</td>\n",
       "      <td>2.661</td>\n",
       "      <td>2.739</td>\n",
       "      <td>1.602</td>\n",
       "      <td>3.798</td>\n",
       "    </tr>\n",
       "  </tbody>\n",
       "</table>\n",
       "</div>"
      ],
      "text/plain": [
       "   mean  mean_se  mean_ci_lower  mean_ci_upper  obs_ci_lower  obs_ci_upper\n",
       "0 2.700    0.020          2.661          2.739         1.602         3.798"
      ]
     },
     "execution_count": 35,
     "metadata": {},
     "output_type": "execute_result"
    }
   ],
   "source": [
    "pred = model06.get_prediction(new_data)\n",
    "pred.summary_frame()"
   ]
  },
  {
   "cell_type": "markdown",
   "id": "3be5c709",
   "metadata": {},
   "source": [
    "The confidence interval for the prediction is [1.6, 3.8]. Its wider because it accounts for individual specific variation [residual variation] due to unobserved factors"
   ]
  },
  {
   "cell_type": "markdown",
   "id": "8e279539",
   "metadata": {},
   "source": [
    "Note: in Example 6.5, we got confidence interval for average college GPA for students with the given characteristics.  \n",
    "In 6.6, we added residual variation"
   ]
  },
  {
   "cell_type": "markdown",
   "id": "6e0340d3",
   "metadata": {},
   "source": [
    "### 6.7 Predicting CEO Salaries"
   ]
  },
  {
   "cell_type": "code",
   "execution_count": 38,
   "id": "c70e5d2e",
   "metadata": {},
   "outputs": [
    {
     "name": "stdout",
     "output_type": "stream",
     "text": [
      "name of dataset: ceosal2\n",
      "no of variables: 15\n",
      "no of observations: 177\n",
      "\n",
      "+----------+--------------------------------+\n",
      "| variable | label                          |\n",
      "+----------+--------------------------------+\n",
      "| salary   | 1990 compensation, $1000s      |\n",
      "| age      | in years                       |\n",
      "| college  | =1 if attended college         |\n",
      "| grad     | =1 if attended graduate school |\n",
      "| comten   | years with company             |\n",
      "| ceoten   | years as ceo with company      |\n",
      "| sales    | 1990 firm sales, millions      |\n",
      "| profits  | 1990 profits, millions         |\n",
      "| mktval   | market value, end 1990, mills. |\n",
      "| lsalary  | log(salary)                    |\n",
      "| lsales   | log(sales)                     |\n",
      "| lmktval  | log(mktval)                    |\n",
      "| comtensq | comten^2                       |\n",
      "| ceotensq | ceoten^2                       |\n",
      "| profmarg | profits as % of sales          |\n",
      "+----------+--------------------------------+\n",
      "\n",
      "See CEOSAL1.RAW\n"
     ]
    }
   ],
   "source": [
    "wooldridge.data('ceosal2', description= True)"
   ]
  },
  {
   "cell_type": "code",
   "execution_count": 41,
   "id": "18337eb9",
   "metadata": {},
   "outputs": [
    {
     "data": {
      "text/html": [
       "<div>\n",
       "<style scoped>\n",
       "    .dataframe tbody tr th:only-of-type {\n",
       "        vertical-align: middle;\n",
       "    }\n",
       "\n",
       "    .dataframe tbody tr th {\n",
       "        vertical-align: top;\n",
       "    }\n",
       "\n",
       "    .dataframe thead th {\n",
       "        text-align: right;\n",
       "    }\n",
       "</style>\n",
       "<table border=\"1\" class=\"dataframe\">\n",
       "  <thead>\n",
       "    <tr style=\"text-align: right;\">\n",
       "      <th></th>\n",
       "      <th>Coef.</th>\n",
       "      <th>Std.Err.</th>\n",
       "    </tr>\n",
       "  </thead>\n",
       "  <tbody>\n",
       "    <tr>\n",
       "      <th>Intercept</th>\n",
       "      <td>4.504</td>\n",
       "      <td>0.257</td>\n",
       "    </tr>\n",
       "    <tr>\n",
       "      <th>lsales</th>\n",
       "      <td>0.163</td>\n",
       "      <td>0.039</td>\n",
       "    </tr>\n",
       "    <tr>\n",
       "      <th>lmktval</th>\n",
       "      <td>0.109</td>\n",
       "      <td>0.050</td>\n",
       "    </tr>\n",
       "    <tr>\n",
       "      <th>ceoten</th>\n",
       "      <td>0.012</td>\n",
       "      <td>0.005</td>\n",
       "    </tr>\n",
       "  </tbody>\n",
       "</table>\n",
       "</div>"
      ],
      "text/plain": [
       "           Coef.  Std.Err.\n",
       "Intercept  4.504     0.257\n",
       "lsales     0.163     0.039\n",
       "lmktval    0.109     0.050\n",
       "ceoten     0.012     0.005"
      ]
     },
     "execution_count": 41,
     "metadata": {},
     "output_type": "execute_result"
    }
   ],
   "source": [
    "model07 = smf.ols('lsalary ~ lsales + lmktval + ceoten', data = ceosal2).fit()\n",
    "model07.summary2().tables[1].iloc[:,:2]"
   ]
  },
  {
   "cell_type": "code",
   "execution_count": 42,
   "id": "82ac1d20",
   "metadata": {},
   "outputs": [],
   "source": [
    "resid = model07.resid\n",
    "n = model07.nobs"
   ]
  },
  {
   "cell_type": "markdown",
   "id": "40c2fb41",
   "metadata": {},
   "source": [
    "The Duan Smeaing estimate is $$n^{-1} \\sum \\exp(\\hat u)$$"
   ]
  },
  {
   "cell_type": "code",
   "execution_count": 48,
   "id": "9138058d",
   "metadata": {},
   "outputs": [
    {
     "data": {
      "text/plain": [
       "np.float64(1.1356613266630768)"
      ]
     },
     "execution_count": 48,
     "metadata": {},
     "output_type": "execute_result"
    }
   ],
   "source": [
    "sigma0 = np.sum(np.exp(resid))/n\n",
    "sigma0"
   ]
  },
  {
   "cell_type": "code",
   "execution_count": 52,
   "id": "0b2798d2",
   "metadata": {},
   "outputs": [
    {
     "data": {
      "text/plain": [
       "np.float64(1.1356613266630768)"
      ]
     },
     "execution_count": 52,
     "metadata": {},
     "output_type": "execute_result"
    }
   ],
   "source": [
    "duan_smearing_estimator(model07)"
   ]
  },
  {
   "cell_type": "markdown",
   "id": "da426df0",
   "metadata": {},
   "source": [
    "The prediction for $sales = 5000, mktval = 10000, ceoten = 10$"
   ]
  },
  {
   "cell_type": "code",
   "execution_count": 46,
   "id": "2a283b02",
   "metadata": {},
   "outputs": [],
   "source": [
    "new_data = pd.DataFrame({\n",
    "    'lsales': [np.log(5000)],\n",
    "    'lmktval': [np.log(10000)],\n",
    "    'ceoten': [10]\n",
    "})"
   ]
  },
  {
   "cell_type": "code",
   "execution_count": 49,
   "id": "04181add",
   "metadata": {},
   "outputs": [
    {
     "data": {
      "text/plain": [
       "0   7.014\n",
       "dtype: float64"
      ]
     },
     "execution_count": 49,
     "metadata": {},
     "output_type": "execute_result"
    }
   ],
   "source": [
    "prediction = model07.predict(new_data)\n",
    "prediction"
   ]
  },
  {
   "cell_type": "markdown",
   "id": "58d8f4cc",
   "metadata": {},
   "source": [
    "The predicted value is $$\\exp(y) * \\hat \\sigma_0$$"
   ]
  },
  {
   "cell_type": "code",
   "execution_count": 50,
   "id": "5ea91f96",
   "metadata": {},
   "outputs": [
    {
     "data": {
      "text/plain": [
       "0   1263.059\n",
       "dtype: float64"
      ]
     },
     "execution_count": 50,
     "metadata": {},
     "output_type": "execute_result"
    }
   ],
   "source": [
    "np.exp(prediction)* sigma0"
   ]
  },
  {
   "cell_type": "markdown",
   "id": "0f02c699",
   "metadata": {},
   "source": [
    "### 6.8 Predicting CEO Salaries"
   ]
  },
  {
   "cell_type": "code",
   "execution_count": 53,
   "id": "89a24bce",
   "metadata": {},
   "outputs": [
    {
     "data": {
      "text/html": [
       "<div>\n",
       "<style scoped>\n",
       "    .dataframe tbody tr th:only-of-type {\n",
       "        vertical-align: middle;\n",
       "    }\n",
       "\n",
       "    .dataframe tbody tr th {\n",
       "        vertical-align: top;\n",
       "    }\n",
       "\n",
       "    .dataframe thead th {\n",
       "        text-align: right;\n",
       "    }\n",
       "</style>\n",
       "<table border=\"1\" class=\"dataframe\">\n",
       "  <thead>\n",
       "    <tr style=\"text-align: right;\">\n",
       "      <th></th>\n",
       "      <th>Coef.</th>\n",
       "      <th>Std.Err.</th>\n",
       "    </tr>\n",
       "  </thead>\n",
       "  <tbody>\n",
       "    <tr>\n",
       "      <th>Intercept</th>\n",
       "      <td>4.504</td>\n",
       "      <td>0.257</td>\n",
       "    </tr>\n",
       "    <tr>\n",
       "      <th>lsales</th>\n",
       "      <td>0.163</td>\n",
       "      <td>0.039</td>\n",
       "    </tr>\n",
       "    <tr>\n",
       "      <th>lmktval</th>\n",
       "      <td>0.109</td>\n",
       "      <td>0.050</td>\n",
       "    </tr>\n",
       "    <tr>\n",
       "      <th>ceoten</th>\n",
       "      <td>0.012</td>\n",
       "      <td>0.005</td>\n",
       "    </tr>\n",
       "  </tbody>\n",
       "</table>\n",
       "</div>"
      ],
      "text/plain": [
       "           Coef.  Std.Err.\n",
       "Intercept  4.504     0.257\n",
       "lsales     0.163     0.039\n",
       "lmktval    0.109     0.050\n",
       "ceoten     0.012     0.005"
      ]
     },
     "execution_count": 53,
     "metadata": {},
     "output_type": "execute_result"
    }
   ],
   "source": [
    "model08 = smf.ols('lsalary ~ lsales + lmktval + ceoten', data = ceosal2).fit()\n",
    "model08.summary2().tables[1].iloc[:,:2]"
   ]
  },
  {
   "cell_type": "markdown",
   "id": "6bd622c0",
   "metadata": {},
   "source": [
    "To get $salary$ from our log model, we take the exponential $$\\hat m = \\exp{\\widehat{lsalary}}$$ "
   ]
  },
  {
   "cell_type": "markdown",
   "id": "ae28a9e9",
   "metadata": {},
   "source": [
    "We call it $\\hat m$ to avoid the confusion with $\\hat y$ that is predicted from the level model"
   ]
  },
  {
   "cell_type": "code",
   "execution_count": 58,
   "id": "4de2f0a7",
   "metadata": {},
   "outputs": [],
   "source": [
    "mhat = np.exp(model08.predict())\n",
    "df = ceosal2.copy()\n",
    "df['mhat'] = mhat"
   ]
  },
  {
   "cell_type": "markdown",
   "id": "0b3ecfb8",
   "metadata": {},
   "source": [
    "Then get the correlation between it and y and square it"
   ]
  },
  {
   "cell_type": "code",
   "execution_count": 61,
   "id": "b68742ad",
   "metadata": {},
   "outputs": [
    {
     "data": {
      "text/plain": [
       "np.float64(0.2430807795867979)"
      ]
     },
     "execution_count": 61,
     "metadata": {},
     "output_type": "execute_result"
    }
   ],
   "source": [
    "corr = df['mhat'].corr(df['salary'])\n",
    "np.square(corr)"
   ]
  },
  {
   "cell_type": "markdown",
   "id": "0ae19f45",
   "metadata": {},
   "source": [
    "The log model explains 24.3% of the variation in $salary$"
   ]
  },
  {
   "cell_type": "code",
   "execution_count": 62,
   "id": "5f42b3ad",
   "metadata": {},
   "outputs": [
    {
     "data": {
      "text/plain": [
       "np.float64(0.20127439139676495)"
      ]
     },
     "execution_count": 62,
     "metadata": {},
     "output_type": "execute_result"
    }
   ],
   "source": [
    "model082= smf.ols('salary ~ sales + mktval + ceoten', data = ceosal2).fit()\n",
    "model082.rsquared"
   ]
  },
  {
   "cell_type": "markdown",
   "id": "7fa6d80b",
   "metadata": {},
   "source": [
    "The level model explains 20% of the variation in $salary$ while the log model explains $24.3%$  \n",
    "The log model is preferred to the level model"
   ]
  },
  {
   "cell_type": "markdown",
   "id": "9c4bc3a6",
   "metadata": {},
   "source": [
    "## 🚧Computer Exercises"
   ]
  }
 ],
 "metadata": {
  "kernelspec": {
   "display_name": "base",
   "language": "python",
   "name": "python3"
  },
  "language_info": {
   "codemirror_mode": {
    "name": "ipython",
    "version": 3
   },
   "file_extension": ".py",
   "mimetype": "text/x-python",
   "name": "python",
   "nbconvert_exporter": "python",
   "pygments_lexer": "ipython3",
   "version": "3.12.11"
  }
 },
 "nbformat": 4,
 "nbformat_minor": 5
}
