{
 "cells": [
  {
   "cell_type": "markdown",
   "id": "baa894b8",
   "metadata": {},
   "source": [
    "# Multiple Regression Analysis with Qualitative Information"
   ]
  },
  {
   "cell_type": "code",
   "execution_count": 1,
   "id": "bf0b823f",
   "metadata": {},
   "outputs": [],
   "source": [
    "import pandas as pd\n",
    "import numpy as np\n",
    "import wooldridge\n",
    "import statsmodels.formula.api as smf\n",
    "import matplotlib.pyplot as plt"
   ]
  },
  {
   "cell_type": "code",
   "execution_count": null,
   "id": "bb62294b",
   "metadata": {},
   "outputs": [],
   "source": [
    "def report(model, option=3, return_info=False):\n",
    "    summary_table = model.summary2().tables[1]\n",
    "\n",
    "    # Select columns based on the option\n",
    "    if option == 1:\n",
    "        summary = summary_table[[\"Coef.\", \"Std.Err.\"]]\n",
    "    elif option == 2:\n",
    "        summary = summary_table[[\"Coef.\", \"Std.Err.\", \"t\"]]\n",
    "    elif option == 3:\n",
    "        summary = summary_table[[\"Coef.\", \"Std.Err.\", \"t\", \"P>|t|\"]]\n",
    "    elif option == 4:\n",
    "        summary = summary_table[[\"Coef.\", \"P>|t|\"]]\n",
    "    else:\n",
    "        summary = summary_table.copy()  # All columns\n",
    "\n",
    "    # Round the values for clean display\n",
    "    summary = summary.round(3)\n",
    "\n",
    "    # Model info\n",
    "    n = int(model.nobs)\n",
    "    r2 = round(model.rsquared, 3)\n",
    "    mse = round(np.sqrt(model.mse_resid), 3)\n",
    "    model_info = f\"R² = {r2}, n = {n}, SE = {mse}\"\n",
    "\n",
    "    if return_info:\n",
    "        return summary, model_info\n",
    "    else:\n",
    "        print(\"Model info:\", model_info)\n",
    "        return summary"
   ]
  },
  {
   "cell_type": "code",
   "execution_count": 3,
   "id": "0a61de1f",
   "metadata": {},
   "outputs": [
    {
     "name": "stdout",
     "output_type": "stream",
     "text": [
      "  J.M. Wooldridge (2019) Introductory Econometrics: A Modern Approach,\n",
      "  Cengage Learning, 6th edition.\n",
      "\n",
      "  401k       401ksubs    admnrev       affairs     airfare\n",
      "  alcohol    apple       approval      athlet1     athlet2\n",
      "  attend     audit       barium        beauty      benefits\n",
      "  beveridge  big9salary  bwght         bwght2      campus\n",
      "  card       catholic    cement        census2000  ceosal1\n",
      "  ceosal2    charity     consump       corn        countymurders\n",
      "  cps78_85   cps91       crime1        crime2      crime3\n",
      "  crime4     discrim     driving       earns       econmath\n",
      "  elem94_95  engin       expendshares  ezanders    ezunem\n",
      "  fair       fertil1     fertil2       fertil3     fish\n",
      "  fringe     gpa1        gpa2          gpa3        happiness\n",
      "  hprice1    hprice2     hprice3       hseinv      htv\n",
      "  infmrt     injury      intdef        intqrt      inven\n",
      "  jtrain     jtrain2     jtrain3       kielmc      lawsch85\n",
      "  loanapp    lowbrth     mathpnl       meap00_01   meap01\n",
      "  meap93     meapsingle  minwage       mlb1        mroz\n",
      "  murder     nbasal      nyse          okun        openness\n",
      "  pension    phillips    pntsprd       prison      prminwge\n",
      "  rdchem     rdtelec     recid         rental      return\n",
      "  saving     sleep75     slp75_81      smoke       traffic1\n",
      "  traffic2   twoyear     volat         vote1       vote2\n",
      "  voucher    wage1       wage2         wagepan     wageprc\n",
      "  wine\n"
     ]
    }
   ],
   "source": [
    "wooldridge.data()"
   ]
  },
  {
   "cell_type": "markdown",
   "id": "259d965d",
   "metadata": {},
   "source": [
    "## Examples"
   ]
  },
  {
   "cell_type": "code",
   "execution_count": null,
   "id": "5c1c3a07",
   "metadata": {},
   "outputs": [],
   "source": [
    "wage1 = wooldridge.data(\"wage1\")\n",
    "gpa1 = wooldridge.data(\"gpa1\")\n",
    "jtrain = wooldridge.data(\"jtrain\")\n",
    "hprice1 = wooldridge.data(\"hprice1\")\n",
    "beauty = wooldridge.data(\"beauty\")\n",
    "lawsch85 = wooldridge.data(\"lawsch85\")\n",
    "mlb1 = wooldridge.data(\"mlb1\")\n",
    "crime1 = wooldridge.data(\"crime1\")"
   ]
  },
  {
   "cell_type": "markdown",
   "id": "817f5ac2",
   "metadata": {},
   "source": [
    "### 7.1 Hourly Wage Equation"
   ]
  },
  {
   "cell_type": "code",
   "execution_count": null,
   "id": "20d87e32",
   "metadata": {},
   "outputs": [
    {
     "name": "stdout",
     "output_type": "stream",
     "text": [
      "name of dataset: wage1\n",
      "no of variables: 24\n",
      "no of observations: 526\n",
      "\n",
      "+----------+---------------------------------+\n",
      "| variable | label                           |\n",
      "+----------+---------------------------------+\n",
      "| wage     | average hourly earnings         |\n",
      "| educ     | years of education              |\n",
      "| exper    | years potential experience      |\n",
      "| tenure   | years with current employer     |\n",
      "| nonwhite | =1 if nonwhite                  |\n",
      "| female   | =1 if female                    |\n",
      "| married  | =1 if married                   |\n",
      "| numdep   | number of dependents            |\n",
      "| smsa     | =1 if live in SMSA              |\n",
      "| northcen | =1 if live in north central U.S |\n",
      "| south    | =1 if live in southern region   |\n",
      "| west     | =1 if live in western region    |\n",
      "| construc | =1 if work in construc. indus.  |\n",
      "| ndurman  | =1 if in nondur. manuf. indus.  |\n",
      "| trcommpu | =1 if in trans, commun, pub ut  |\n",
      "| trade    | =1 if in wholesale or retail    |\n",
      "| services | =1 if in services indus.        |\n",
      "| profserv | =1 if in prof. serv. indus.     |\n",
      "| profocc  | =1 if in profess. occupation    |\n",
      "| clerocc  | =1 if in clerical occupation    |\n",
      "| servocc  | =1 if in service occupation     |\n",
      "| lwage    | log(wage)                       |\n",
      "| expersq  | exper^2                         |\n",
      "| tenursq  | tenure^2                        |\n",
      "+----------+---------------------------------+\n",
      "\n",
      "These are data from the 1976 Current Population Survey, collected by\n",
      "Henry Farber when he and I were colleagues at MIT in 1988.\n"
     ]
    }
   ],
   "source": [
    "wooldridge.data(\"wage1\", description=True)"
   ]
  },
  {
   "cell_type": "code",
   "execution_count": null,
   "id": "83991b77",
   "metadata": {},
   "outputs": [
    {
     "name": "stdout",
     "output_type": "stream",
     "text": [
      "Model info: R² = 0.364, n = 526, SE = 2.958\n"
     ]
    },
    {
     "data": {
      "text/html": [
       "<div>\n",
       "<style scoped>\n",
       "    .dataframe tbody tr th:only-of-type {\n",
       "        vertical-align: middle;\n",
       "    }\n",
       "\n",
       "    .dataframe tbody tr th {\n",
       "        vertical-align: top;\n",
       "    }\n",
       "\n",
       "    .dataframe thead th {\n",
       "        text-align: right;\n",
       "    }\n",
       "</style>\n",
       "<table border=\"1\" class=\"dataframe\">\n",
       "  <thead>\n",
       "    <tr style=\"text-align: right;\">\n",
       "      <th></th>\n",
       "      <th>Coef.</th>\n",
       "      <th>Std.Err.</th>\n",
       "      <th>t</th>\n",
       "      <th>P&gt;|t|</th>\n",
       "    </tr>\n",
       "  </thead>\n",
       "  <tbody>\n",
       "    <tr>\n",
       "      <th>Intercept</th>\n",
       "      <td>-1.568</td>\n",
       "      <td>0.725</td>\n",
       "      <td>-2.164</td>\n",
       "      <td>0.031</td>\n",
       "    </tr>\n",
       "    <tr>\n",
       "      <th>female</th>\n",
       "      <td>-1.811</td>\n",
       "      <td>0.265</td>\n",
       "      <td>-6.838</td>\n",
       "      <td>0.000</td>\n",
       "    </tr>\n",
       "    <tr>\n",
       "      <th>educ</th>\n",
       "      <td>0.572</td>\n",
       "      <td>0.049</td>\n",
       "      <td>11.584</td>\n",
       "      <td>0.000</td>\n",
       "    </tr>\n",
       "    <tr>\n",
       "      <th>exper</th>\n",
       "      <td>0.025</td>\n",
       "      <td>0.012</td>\n",
       "      <td>2.195</td>\n",
       "      <td>0.029</td>\n",
       "    </tr>\n",
       "    <tr>\n",
       "      <th>tenure</th>\n",
       "      <td>0.141</td>\n",
       "      <td>0.021</td>\n",
       "      <td>6.663</td>\n",
       "      <td>0.000</td>\n",
       "    </tr>\n",
       "  </tbody>\n",
       "</table>\n",
       "</div>"
      ],
      "text/plain": [
       "           Coef.  Std.Err.       t  P>|t|\n",
       "Intercept -1.568     0.725  -2.164  0.031\n",
       "female    -1.811     0.265  -6.838  0.000\n",
       "educ       0.572     0.049  11.584  0.000\n",
       "exper      0.025     0.012   2.195  0.029\n",
       "tenure     0.141     0.021   6.663  0.000"
      ]
     },
     "execution_count": 6,
     "metadata": {},
     "output_type": "execute_result"
    }
   ],
   "source": [
    "model01 = smf.ols(\"wage ~ female + educ + exper + tenure\", data=wage1).fit()\n",
    "report(model01)"
   ]
  },
  {
   "cell_type": "markdown",
   "id": "c3032f5c",
   "metadata": {},
   "source": [
    "Men [Female = 0 ] has a negative intercept of -1.57 which isn't useful as no one has control variables with values of zero  \n",
    "On average, females with same education, experience and tenure as men earn less than men by $1.81 per hour "
   ]
  },
  {
   "cell_type": "code",
   "execution_count": null,
   "id": "693c69a8",
   "metadata": {},
   "outputs": [
    {
     "name": "stdout",
     "output_type": "stream",
     "text": [
      "Model info: R² = 0.116, n = 526, SE = 3.476\n"
     ]
    },
    {
     "data": {
      "text/html": [
       "<div>\n",
       "<style scoped>\n",
       "    .dataframe tbody tr th:only-of-type {\n",
       "        vertical-align: middle;\n",
       "    }\n",
       "\n",
       "    .dataframe tbody tr th {\n",
       "        vertical-align: top;\n",
       "    }\n",
       "\n",
       "    .dataframe thead th {\n",
       "        text-align: right;\n",
       "    }\n",
       "</style>\n",
       "<table border=\"1\" class=\"dataframe\">\n",
       "  <thead>\n",
       "    <tr style=\"text-align: right;\">\n",
       "      <th></th>\n",
       "      <th>Coef.</th>\n",
       "      <th>Std.Err.</th>\n",
       "      <th>t</th>\n",
       "      <th>P&gt;|t|</th>\n",
       "    </tr>\n",
       "  </thead>\n",
       "  <tbody>\n",
       "    <tr>\n",
       "      <th>Intercept</th>\n",
       "      <td>7.099</td>\n",
       "      <td>0.210</td>\n",
       "      <td>33.806</td>\n",
       "      <td>0.0</td>\n",
       "    </tr>\n",
       "    <tr>\n",
       "      <th>female</th>\n",
       "      <td>-2.512</td>\n",
       "      <td>0.303</td>\n",
       "      <td>-8.279</td>\n",
       "      <td>0.0</td>\n",
       "    </tr>\n",
       "  </tbody>\n",
       "</table>\n",
       "</div>"
      ],
      "text/plain": [
       "           Coef.  Std.Err.       t  P>|t|\n",
       "Intercept  7.099     0.210  33.806    0.0\n",
       "female    -2.512     0.303  -8.279    0.0"
      ]
     },
     "execution_count": 7,
     "metadata": {},
     "output_type": "execute_result"
    }
   ],
   "source": [
    "model012 = smf.ols(\"wage ~ female\", data=wage1).fit()\n",
    "report(model012)"
   ]
  },
  {
   "cell_type": "markdown",
   "id": "ad4700c1",
   "metadata": {},
   "source": [
    "In this simple model, men earn $7.1 per hour on average.\n",
    "Females earn on average $2.51 less than men, they earn $7.1- 2.51 = $4.59$ per hour "
   ]
  },
  {
   "cell_type": "markdown",
   "id": "049c6c40",
   "metadata": {},
   "source": [
    "The difference between the two groups is statistically significant $t=-8.3$"
   ]
  },
  {
   "cell_type": "markdown",
   "id": "26345dfc",
   "metadata": {},
   "source": [
    "Note: simple regression provides an easy way to do comparison of means test but assumes homoscedasticity "
   ]
  },
  {
   "cell_type": "markdown",
   "id": "c54525ae",
   "metadata": {},
   "source": [
    "### 7.2 Effects of Computer Ownership on College GPA"
   ]
  },
  {
   "cell_type": "code",
   "execution_count": null,
   "id": "a8cb0a2c",
   "metadata": {},
   "outputs": [
    {
     "name": "stdout",
     "output_type": "stream",
     "text": [
      "name of dataset: gpa1\n",
      "no of variables: 29\n",
      "no of observations: 141\n",
      "\n",
      "+----------+--------------------------------+\n",
      "| variable | label                          |\n",
      "+----------+--------------------------------+\n",
      "| age      | in years                       |\n",
      "| soph     | =1 if sophomore                |\n",
      "| junior   | =1 if junior                   |\n",
      "| senior   | =1 if senior                   |\n",
      "| senior5  | =1 if fifth year senior        |\n",
      "| male     | =1 if male                     |\n",
      "| campus   | =1 if live on campus           |\n",
      "| business | =1 if business major           |\n",
      "| engineer | =1 if engineering major        |\n",
      "| colGPA   | MSU GPA                        |\n",
      "| hsGPA    | high school GPA                |\n",
      "| ACT      | 'achievement' score            |\n",
      "| job19    | =1 if job <= 19 hours          |\n",
      "| job20    | =1 if job >= 20 hours          |\n",
      "| drive    | =1 if drive to campus          |\n",
      "| bike     | =1 if bicycle to campus        |\n",
      "| walk     | =1 if walk to campus           |\n",
      "| voluntr  | =1 if do volunteer work        |\n",
      "| PC       | =1 of pers computer at sch     |\n",
      "| greek    | =1 if fraternity or sorority   |\n",
      "| car      | =1 if own car                  |\n",
      "| siblings | =1 if have siblings            |\n",
      "| bgfriend | =1 if boy- or girlfriend       |\n",
      "| clubs    | =1 if belong to MSU club       |\n",
      "| skipped  | avg lectures missed per week   |\n",
      "| alcohol  | avg # days per week drink alc. |\n",
      "| gradMI   | =1 if Michigan high school     |\n",
      "| fathcoll | =1 if father college grad      |\n",
      "| mothcoll | =1 if mother college grad      |\n",
      "+----------+--------------------------------+\n",
      "\n",
      "Christopher Lemmon, a former MSU undergraduate, collected these data\n",
      "from a survey he took of MSU students in Fall 1994.\n"
     ]
    }
   ],
   "source": [
    "wooldridge.data(\"gpa1\", description=True)"
   ]
  },
  {
   "cell_type": "code",
   "execution_count": null,
   "id": "360ddec5",
   "metadata": {},
   "outputs": [
    {
     "name": "stdout",
     "output_type": "stream",
     "text": [
      "Model info: R² = 0.219, n = 141, SE = 0.333\n"
     ]
    },
    {
     "data": {
      "text/html": [
       "<div>\n",
       "<style scoped>\n",
       "    .dataframe tbody tr th:only-of-type {\n",
       "        vertical-align: middle;\n",
       "    }\n",
       "\n",
       "    .dataframe tbody tr th {\n",
       "        vertical-align: top;\n",
       "    }\n",
       "\n",
       "    .dataframe thead th {\n",
       "        text-align: right;\n",
       "    }\n",
       "</style>\n",
       "<table border=\"1\" class=\"dataframe\">\n",
       "  <thead>\n",
       "    <tr style=\"text-align: right;\">\n",
       "      <th></th>\n",
       "      <th>Coef.</th>\n",
       "      <th>Std.Err.</th>\n",
       "      <th>t</th>\n",
       "      <th>P&gt;|t|</th>\n",
       "    </tr>\n",
       "  </thead>\n",
       "  <tbody>\n",
       "    <tr>\n",
       "      <th>Intercept</th>\n",
       "      <td>1.264</td>\n",
       "      <td>0.333</td>\n",
       "      <td>3.793</td>\n",
       "      <td>0.000</td>\n",
       "    </tr>\n",
       "    <tr>\n",
       "      <th>PC</th>\n",
       "      <td>0.157</td>\n",
       "      <td>0.057</td>\n",
       "      <td>2.746</td>\n",
       "      <td>0.007</td>\n",
       "    </tr>\n",
       "    <tr>\n",
       "      <th>hsGPA</th>\n",
       "      <td>0.447</td>\n",
       "      <td>0.094</td>\n",
       "      <td>4.776</td>\n",
       "      <td>0.000</td>\n",
       "    </tr>\n",
       "    <tr>\n",
       "      <th>ACT</th>\n",
       "      <td>0.009</td>\n",
       "      <td>0.011</td>\n",
       "      <td>0.822</td>\n",
       "      <td>0.413</td>\n",
       "    </tr>\n",
       "  </tbody>\n",
       "</table>\n",
       "</div>"
      ],
      "text/plain": [
       "           Coef.  Std.Err.      t  P>|t|\n",
       "Intercept  1.264     0.333  3.793  0.000\n",
       "PC         0.157     0.057  2.746  0.007\n",
       "hsGPA      0.447     0.094  4.776  0.000\n",
       "ACT        0.009     0.011  0.822  0.413"
      ]
     },
     "execution_count": 9,
     "metadata": {},
     "output_type": "execute_result"
    }
   ],
   "source": [
    "model02 = smf.ols(formula=\"colGPA ~ PC + hsGPA + ACT\", data=gpa1).fit()\n",
    "report(model02)"
   ]
  },
  {
   "cell_type": "markdown",
   "id": "50767c5a",
   "metadata": {},
   "source": [
    "A student who has pc is expected to score on average 0.16 higher than other students with same ACT and high school GPA scores "
   ]
  },
  {
   "cell_type": "markdown",
   "id": "a0db9802",
   "metadata": {},
   "source": [
    "hsGPA is statically significant, so dropping it can change the coefficient of PC"
   ]
  },
  {
   "cell_type": "markdown",
   "id": "1c95435d",
   "metadata": {},
   "source": [
    "### 7.3 Effects of Training Grants on Hours of Training"
   ]
  },
  {
   "cell_type": "code",
   "execution_count": null,
   "id": "9219390c",
   "metadata": {},
   "outputs": [
    {
     "name": "stdout",
     "output_type": "stream",
     "text": [
      "name of dataset: jtrain\n",
      "no of variables: 30\n",
      "no of observations: 471\n",
      "\n",
      "+----------+---------------------------------+\n",
      "| variable | label                           |\n",
      "+----------+---------------------------------+\n",
      "| year     | 1987, 1988, or 1989             |\n",
      "| fcode    | firm code number                |\n",
      "| employ   | # employees at plant            |\n",
      "| sales    | annual sales, $                 |\n",
      "| avgsal   | average employee salary         |\n",
      "| scrap    | scrap rate (per 100 items)      |\n",
      "| rework   | rework rate (per 100 items)     |\n",
      "| tothrs   | total hours training            |\n",
      "| union    | =1 if unionized                 |\n",
      "| grant    | = 1 if received grant           |\n",
      "| d89      | = 1 if year = 1989              |\n",
      "| d88      | = 1 if year = 1988              |\n",
      "| totrain  | total employees trained         |\n",
      "| hrsemp   | tothrs/totrain                  |\n",
      "| lscrap   | log(scrap)                      |\n",
      "| lemploy  | log(employ)                     |\n",
      "| lsales   | log(sales)                      |\n",
      "| lrework  | log(rework)                     |\n",
      "| lhrsemp  | log(1 + hrsemp)                 |\n",
      "| lscrap_1 | lagged lscrap; missing 1987     |\n",
      "| grant_1  | lagged grant; assumed 0 in 1987 |\n",
      "| clscrap  | lscrap - lscrap_1; year > 1987  |\n",
      "| cgrant   | grant - grant_1                 |\n",
      "| clemploy | lemploy - lemploy[_n-1]         |\n",
      "| clsales  | lavgsal - lavgsal[_n-1]         |\n",
      "| lavgsal  | log(avgsal)                     |\n",
      "| clavgsal | lavgsal - lavgsal[_n-1]         |\n",
      "| cgrant_1 | cgrant[_n-1]                    |\n",
      "| chrsemp  | hrsemp - hrsemp[_n-1]           |\n",
      "| clhrsemp | lhrsemp - lhrsemp[_n-1]         |\n",
      "+----------+---------------------------------+\n",
      "\n",
      "H. Holzer, R. Block, M. Cheatham, and J. Knott (1993), “Are Training\n",
      "Subsidies Effective? The Michigan Experience,” Industrial and Labor\n",
      "Relations Review 46, 625-636. The authors kindly provided the data.\n"
     ]
    }
   ],
   "source": [
    "wooldridge.data(\"jtrain\", description=True)"
   ]
  },
  {
   "cell_type": "code",
   "execution_count": null,
   "id": "5b4d47c6",
   "metadata": {},
   "outputs": [
    {
     "name": "stdout",
     "output_type": "stream",
     "text": [
      "Model info: R² = 0.237, n = 105, SE = 24.38\n"
     ]
    },
    {
     "data": {
      "text/html": [
       "<div>\n",
       "<style scoped>\n",
       "    .dataframe tbody tr th:only-of-type {\n",
       "        vertical-align: middle;\n",
       "    }\n",
       "\n",
       "    .dataframe tbody tr th {\n",
       "        vertical-align: top;\n",
       "    }\n",
       "\n",
       "    .dataframe thead th {\n",
       "        text-align: right;\n",
       "    }\n",
       "</style>\n",
       "<table border=\"1\" class=\"dataframe\">\n",
       "  <thead>\n",
       "    <tr style=\"text-align: right;\">\n",
       "      <th></th>\n",
       "      <th>Coef.</th>\n",
       "      <th>Std.Err.</th>\n",
       "      <th>t</th>\n",
       "      <th>P&gt;|t|</th>\n",
       "    </tr>\n",
       "  </thead>\n",
       "  <tbody>\n",
       "    <tr>\n",
       "      <th>Intercept</th>\n",
       "      <td>46.665</td>\n",
       "      <td>43.412</td>\n",
       "      <td>1.075</td>\n",
       "      <td>0.285</td>\n",
       "    </tr>\n",
       "    <tr>\n",
       "      <th>grant</th>\n",
       "      <td>26.254</td>\n",
       "      <td>5.592</td>\n",
       "      <td>4.695</td>\n",
       "      <td>0.000</td>\n",
       "    </tr>\n",
       "    <tr>\n",
       "      <th>lsales</th>\n",
       "      <td>-0.985</td>\n",
       "      <td>3.540</td>\n",
       "      <td>-0.278</td>\n",
       "      <td>0.781</td>\n",
       "    </tr>\n",
       "    <tr>\n",
       "      <th>lemploy</th>\n",
       "      <td>-6.070</td>\n",
       "      <td>3.883</td>\n",
       "      <td>-1.563</td>\n",
       "      <td>0.121</td>\n",
       "    </tr>\n",
       "  </tbody>\n",
       "</table>\n",
       "</div>"
      ],
      "text/plain": [
       "            Coef.  Std.Err.      t  P>|t|\n",
       "Intercept  46.665    43.412  1.075  0.285\n",
       "grant      26.254     5.592  4.695  0.000\n",
       "lsales     -0.985     3.540 -0.278  0.781\n",
       "lemploy    -6.070     3.883 -1.563  0.121"
      ]
     },
     "execution_count": 11,
     "metadata": {},
     "output_type": "execute_result"
    }
   ],
   "source": [
    "df = jtrain.copy()\n",
    "df = df[df[\"year\"] == 1988]\n",
    "model03 = smf.ols(\"hrsemp ~ grant + lsales + lemploy\", data=df).fit()\n",
    "report(model03)"
   ]
  },
  {
   "cell_type": "markdown",
   "id": "c2cc2257",
   "metadata": {},
   "source": [
    "We used hrsemp in level form because it is zero in many rows  \n",
    "grant is statistically significant with a large coefficient"
   ]
  },
  {
   "cell_type": "markdown",
   "id": "d2a2eba6",
   "metadata": {},
   "source": [
    "### 7.4 Housing Price Regression"
   ]
  },
  {
   "cell_type": "code",
   "execution_count": null,
   "id": "4084a31e",
   "metadata": {},
   "outputs": [
    {
     "name": "stdout",
     "output_type": "stream",
     "text": [
      "name of dataset: hprice1\n",
      "no of variables: 10\n",
      "no of observations: 88\n",
      "\n",
      "+----------+------------------------------+\n",
      "| variable | label                        |\n",
      "+----------+------------------------------+\n",
      "| price    | house price, $1000s          |\n",
      "| assess   | assessed value, $1000s       |\n",
      "| bdrms    | number of bdrms              |\n",
      "| lotsize  | size of lot in square feet   |\n",
      "| sqrft    | size of house in square feet |\n",
      "| colonial | =1 if home is colonial style |\n",
      "| lprice   | log(price)                   |\n",
      "| lassess  | log(assess                   |\n",
      "| llotsize | log(lotsize)                 |\n",
      "| lsqrft   | log(sqrft)                   |\n",
      "+----------+------------------------------+\n",
      "\n",
      "Collected from the real estate pages of the Boston Globe during 1990.\n",
      "These are homes that sold in the Boston, MA area.\n"
     ]
    }
   ],
   "source": [
    "wooldridge.data(\"hprice1\", description=True)"
   ]
  },
  {
   "cell_type": "code",
   "execution_count": null,
   "id": "bb3d7baf",
   "metadata": {},
   "outputs": [
    {
     "name": "stdout",
     "output_type": "stream",
     "text": [
      "Model info: R² = 0.649, n = 88, SE = 0.184\n"
     ]
    },
    {
     "data": {
      "text/html": [
       "<div>\n",
       "<style scoped>\n",
       "    .dataframe tbody tr th:only-of-type {\n",
       "        vertical-align: middle;\n",
       "    }\n",
       "\n",
       "    .dataframe tbody tr th {\n",
       "        vertical-align: top;\n",
       "    }\n",
       "\n",
       "    .dataframe thead th {\n",
       "        text-align: right;\n",
       "    }\n",
       "</style>\n",
       "<table border=\"1\" class=\"dataframe\">\n",
       "  <thead>\n",
       "    <tr style=\"text-align: right;\">\n",
       "      <th></th>\n",
       "      <th>Coef.</th>\n",
       "      <th>Std.Err.</th>\n",
       "      <th>t</th>\n",
       "      <th>P&gt;|t|</th>\n",
       "    </tr>\n",
       "  </thead>\n",
       "  <tbody>\n",
       "    <tr>\n",
       "      <th>Intercept</th>\n",
       "      <td>-1.350</td>\n",
       "      <td>0.651</td>\n",
       "      <td>-2.073</td>\n",
       "      <td>0.041</td>\n",
       "    </tr>\n",
       "    <tr>\n",
       "      <th>llotsize</th>\n",
       "      <td>0.168</td>\n",
       "      <td>0.038</td>\n",
       "      <td>4.395</td>\n",
       "      <td>0.000</td>\n",
       "    </tr>\n",
       "    <tr>\n",
       "      <th>lsqrft</th>\n",
       "      <td>0.707</td>\n",
       "      <td>0.093</td>\n",
       "      <td>7.620</td>\n",
       "      <td>0.000</td>\n",
       "    </tr>\n",
       "    <tr>\n",
       "      <th>bdrms</th>\n",
       "      <td>0.027</td>\n",
       "      <td>0.029</td>\n",
       "      <td>0.934</td>\n",
       "      <td>0.353</td>\n",
       "    </tr>\n",
       "    <tr>\n",
       "      <th>colonial</th>\n",
       "      <td>0.054</td>\n",
       "      <td>0.045</td>\n",
       "      <td>1.202</td>\n",
       "      <td>0.233</td>\n",
       "    </tr>\n",
       "  </tbody>\n",
       "</table>\n",
       "</div>"
      ],
      "text/plain": [
       "           Coef.  Std.Err.      t  P>|t|\n",
       "Intercept -1.350     0.651 -2.073  0.041\n",
       "llotsize   0.168     0.038  4.395  0.000\n",
       "lsqrft     0.707     0.093  7.620  0.000\n",
       "bdrms      0.027     0.029  0.934  0.353\n",
       "colonial   0.054     0.045  1.202  0.233"
      ]
     },
     "execution_count": 13,
     "metadata": {},
     "output_type": "execute_result"
    }
   ],
   "source": [
    "model04 = smf.ols(\"lprice ~ llotsize + lsqrft + bdrms + colonial\", data=hprice1).fit()\n",
    "report(model04)"
   ]
  },
  {
   "cell_type": "markdown",
   "id": "8b1a88e3",
   "metadata": {},
   "source": [
    "Controlling for lotsize, bdrms, sqrft, colonial style house is priced $5.4\\%$ more than non colonial style house "
   ]
  },
  {
   "cell_type": "markdown",
   "id": "bc89aa78",
   "metadata": {},
   "source": [
    "### 7.5 Log Hourly Wage Equation"
   ]
  },
  {
   "cell_type": "code",
   "execution_count": null,
   "id": "4b668b02",
   "metadata": {},
   "outputs": [
    {
     "name": "stdout",
     "output_type": "stream",
     "text": [
      "Model info: R² = 0.441, n = 526, SE = 0.4\n"
     ]
    },
    {
     "data": {
      "text/html": [
       "<div>\n",
       "<style scoped>\n",
       "    .dataframe tbody tr th:only-of-type {\n",
       "        vertical-align: middle;\n",
       "    }\n",
       "\n",
       "    .dataframe tbody tr th {\n",
       "        vertical-align: top;\n",
       "    }\n",
       "\n",
       "    .dataframe thead th {\n",
       "        text-align: right;\n",
       "    }\n",
       "</style>\n",
       "<table border=\"1\" class=\"dataframe\">\n",
       "  <thead>\n",
       "    <tr style=\"text-align: right;\">\n",
       "      <th></th>\n",
       "      <th>Coef.</th>\n",
       "      <th>Std.Err.</th>\n",
       "      <th>t</th>\n",
       "      <th>P&gt;|t|</th>\n",
       "    </tr>\n",
       "  </thead>\n",
       "  <tbody>\n",
       "    <tr>\n",
       "      <th>Intercept</th>\n",
       "      <td>0.417</td>\n",
       "      <td>0.099</td>\n",
       "      <td>4.212</td>\n",
       "      <td>0.000</td>\n",
       "    </tr>\n",
       "    <tr>\n",
       "      <th>female</th>\n",
       "      <td>-0.297</td>\n",
       "      <td>0.036</td>\n",
       "      <td>-8.281</td>\n",
       "      <td>0.000</td>\n",
       "    </tr>\n",
       "    <tr>\n",
       "      <th>educ</th>\n",
       "      <td>0.080</td>\n",
       "      <td>0.007</td>\n",
       "      <td>11.868</td>\n",
       "      <td>0.000</td>\n",
       "    </tr>\n",
       "    <tr>\n",
       "      <th>exper</th>\n",
       "      <td>0.029</td>\n",
       "      <td>0.005</td>\n",
       "      <td>5.916</td>\n",
       "      <td>0.000</td>\n",
       "    </tr>\n",
       "    <tr>\n",
       "      <th>expersq</th>\n",
       "      <td>-0.001</td>\n",
       "      <td>0.000</td>\n",
       "      <td>-5.431</td>\n",
       "      <td>0.000</td>\n",
       "    </tr>\n",
       "    <tr>\n",
       "      <th>tenure</th>\n",
       "      <td>0.032</td>\n",
       "      <td>0.007</td>\n",
       "      <td>4.633</td>\n",
       "      <td>0.000</td>\n",
       "    </tr>\n",
       "    <tr>\n",
       "      <th>tenursq</th>\n",
       "      <td>-0.001</td>\n",
       "      <td>0.000</td>\n",
       "      <td>-2.493</td>\n",
       "      <td>0.013</td>\n",
       "    </tr>\n",
       "  </tbody>\n",
       "</table>\n",
       "</div>"
      ],
      "text/plain": [
       "           Coef.  Std.Err.       t  P>|t|\n",
       "Intercept  0.417     0.099   4.212  0.000\n",
       "female    -0.297     0.036  -8.281  0.000\n",
       "educ       0.080     0.007  11.868  0.000\n",
       "exper      0.029     0.005   5.916  0.000\n",
       "expersq   -0.001     0.000  -5.431  0.000\n",
       "tenure     0.032     0.007   4.633  0.000\n",
       "tenursq   -0.001     0.000  -2.493  0.013"
      ]
     },
     "execution_count": 14,
     "metadata": {},
     "output_type": "execute_result"
    }
   ],
   "source": [
    "model05 = smf.ols(\n",
    "    \"lwage ~ female + educ + exper + expersq + tenure + tenursq\", data=wage1\n",
    ").fit()\n",
    "report(model05)"
   ]
  },
  {
   "cell_type": "markdown",
   "id": "fe90560d",
   "metadata": {},
   "source": [
    "Controlling for educ, exper, tenure, women earn less than men by around 29.7%  \n",
    "A better approximation is $$\\exp(\\hat \\beta) - 1 $$  \n",
    "$\\exp(-0.297) - 1 \\approx -0.257$, women earn less than comparable men by 25.7%"
   ]
  },
  {
   "cell_type": "markdown",
   "id": "1679ce83",
   "metadata": {},
   "source": [
    "### 7.6 Log Hourly Wage Equation"
   ]
  },
  {
   "cell_type": "code",
   "execution_count": null,
   "id": "4b8c376f",
   "metadata": {},
   "outputs": [
    {
     "name": "stdout",
     "output_type": "stream",
     "text": [
      "name of dataset: wage1\n",
      "no of variables: 24\n",
      "no of observations: 526\n",
      "\n",
      "+----------+---------------------------------+\n",
      "| variable | label                           |\n",
      "+----------+---------------------------------+\n",
      "| wage     | average hourly earnings         |\n",
      "| educ     | years of education              |\n",
      "| exper    | years potential experience      |\n",
      "| tenure   | years with current employer     |\n",
      "| nonwhite | =1 if nonwhite                  |\n",
      "| female   | =1 if female                    |\n",
      "| married  | =1 if married                   |\n",
      "| numdep   | number of dependents            |\n",
      "| smsa     | =1 if live in SMSA              |\n",
      "| northcen | =1 if live in north central U.S |\n",
      "| south    | =1 if live in southern region   |\n",
      "| west     | =1 if live in western region    |\n",
      "| construc | =1 if work in construc. indus.  |\n",
      "| ndurman  | =1 if in nondur. manuf. indus.  |\n",
      "| trcommpu | =1 if in trans, commun, pub ut  |\n",
      "| trade    | =1 if in wholesale or retail    |\n",
      "| services | =1 if in services indus.        |\n",
      "| profserv | =1 if in prof. serv. indus.     |\n",
      "| profocc  | =1 if in profess. occupation    |\n",
      "| clerocc  | =1 if in clerical occupation    |\n",
      "| servocc  | =1 if in service occupation     |\n",
      "| lwage    | log(wage)                       |\n",
      "| expersq  | exper^2                         |\n",
      "| tenursq  | tenure^2                        |\n",
      "+----------+---------------------------------+\n",
      "\n",
      "These are data from the 1976 Current Population Survey, collected by\n",
      "Henry Farber when he and I were colleagues at MIT in 1988.\n"
     ]
    }
   ],
   "source": [
    "wooldridge.data(\"wage1\", description=True)"
   ]
  },
  {
   "cell_type": "code",
   "execution_count": null,
   "id": "8ec349fd",
   "metadata": {},
   "outputs": [],
   "source": [
    "df = wage1.copy()\n",
    "df[\"marrmale\"] = ((df[\"female\"] == 0) & (df[\"married\"] == 1)).astype(int)\n",
    "df[\"marrfem\"] = ((df[\"female\"] == 1) & (df[\"married\"] == 1)).astype(int)\n",
    "df[\"singfem\"] = ((df[\"female\"] == 1) & (df[\"married\"] == 0)).astype(int)"
   ]
  },
  {
   "cell_type": "code",
   "execution_count": null,
   "id": "d3e4150d",
   "metadata": {},
   "outputs": [
    {
     "name": "stdout",
     "output_type": "stream",
     "text": [
      "Model info: R² = 0.461, n = 526, SE = 0.393\n"
     ]
    },
    {
     "data": {
      "text/html": [
       "<div>\n",
       "<style scoped>\n",
       "    .dataframe tbody tr th:only-of-type {\n",
       "        vertical-align: middle;\n",
       "    }\n",
       "\n",
       "    .dataframe tbody tr th {\n",
       "        vertical-align: top;\n",
       "    }\n",
       "\n",
       "    .dataframe thead th {\n",
       "        text-align: right;\n",
       "    }\n",
       "</style>\n",
       "<table border=\"1\" class=\"dataframe\">\n",
       "  <thead>\n",
       "    <tr style=\"text-align: right;\">\n",
       "      <th></th>\n",
       "      <th>Coef.</th>\n",
       "      <th>Std.Err.</th>\n",
       "      <th>t</th>\n",
       "      <th>P&gt;|t|</th>\n",
       "    </tr>\n",
       "  </thead>\n",
       "  <tbody>\n",
       "    <tr>\n",
       "      <th>Intercept</th>\n",
       "      <td>0.321</td>\n",
       "      <td>0.100</td>\n",
       "      <td>3.213</td>\n",
       "      <td>0.001</td>\n",
       "    </tr>\n",
       "    <tr>\n",
       "      <th>marrmale</th>\n",
       "      <td>0.213</td>\n",
       "      <td>0.055</td>\n",
       "      <td>3.842</td>\n",
       "      <td>0.000</td>\n",
       "    </tr>\n",
       "    <tr>\n",
       "      <th>marrfem</th>\n",
       "      <td>-0.198</td>\n",
       "      <td>0.058</td>\n",
       "      <td>-3.428</td>\n",
       "      <td>0.001</td>\n",
       "    </tr>\n",
       "    <tr>\n",
       "      <th>singfem</th>\n",
       "      <td>-0.110</td>\n",
       "      <td>0.056</td>\n",
       "      <td>-1.980</td>\n",
       "      <td>0.048</td>\n",
       "    </tr>\n",
       "    <tr>\n",
       "      <th>educ</th>\n",
       "      <td>0.079</td>\n",
       "      <td>0.007</td>\n",
       "      <td>11.787</td>\n",
       "      <td>0.000</td>\n",
       "    </tr>\n",
       "    <tr>\n",
       "      <th>exper</th>\n",
       "      <td>0.027</td>\n",
       "      <td>0.005</td>\n",
       "      <td>5.112</td>\n",
       "      <td>0.000</td>\n",
       "    </tr>\n",
       "    <tr>\n",
       "      <th>expersq</th>\n",
       "      <td>-0.001</td>\n",
       "      <td>0.000</td>\n",
       "      <td>-4.847</td>\n",
       "      <td>0.000</td>\n",
       "    </tr>\n",
       "    <tr>\n",
       "      <th>tenure</th>\n",
       "      <td>0.029</td>\n",
       "      <td>0.007</td>\n",
       "      <td>4.302</td>\n",
       "      <td>0.000</td>\n",
       "    </tr>\n",
       "    <tr>\n",
       "      <th>tenursq</th>\n",
       "      <td>-0.001</td>\n",
       "      <td>0.000</td>\n",
       "      <td>-2.306</td>\n",
       "      <td>0.022</td>\n",
       "    </tr>\n",
       "  </tbody>\n",
       "</table>\n",
       "</div>"
      ],
      "text/plain": [
       "           Coef.  Std.Err.       t  P>|t|\n",
       "Intercept  0.321     0.100   3.213  0.001\n",
       "marrmale   0.213     0.055   3.842  0.000\n",
       "marrfem   -0.198     0.058  -3.428  0.001\n",
       "singfem   -0.110     0.056  -1.980  0.048\n",
       "educ       0.079     0.007  11.787  0.000\n",
       "exper      0.027     0.005   5.112  0.000\n",
       "expersq   -0.001     0.000  -4.847  0.000\n",
       "tenure     0.029     0.007   4.302  0.000\n",
       "tenursq   -0.001     0.000  -2.306  0.022"
      ]
     },
     "execution_count": 17,
     "metadata": {},
     "output_type": "execute_result"
    }
   ],
   "source": [
    "model06 = smf.ols(\n",
    "    \"lwage ~ marrmale + marrfem + singfem + educ  + exper + expersq + tenure + tenursq\",\n",
    "    data=df,\n",
    ").fit()\n",
    "report(model06)"
   ]
  },
  {
   "cell_type": "markdown",
   "id": "1d23f736",
   "metadata": {},
   "source": [
    "All the coefficients are statistically significant. Base group for the dummy variables is single males.  \n",
    "Married men are expected to earn more than single men by 21.3% with the same education, experience and tenure, while married women earns 19.8% less"
   ]
  },
  {
   "cell_type": "markdown",
   "id": "c57bab6a",
   "metadata": {},
   "source": [
    "### 7.7 Effects of Physical Attractiveness on Wage"
   ]
  },
  {
   "cell_type": "code",
   "execution_count": null,
   "id": "82dc2d45",
   "metadata": {},
   "outputs": [
    {
     "name": "stdout",
     "output_type": "stream",
     "text": [
      "name of dataset: beauty\n",
      "no of variables: 17\n",
      "no of observations: 1260\n",
      "\n",
      "+----------+-------------------------------+\n",
      "| variable | label                         |\n",
      "+----------+-------------------------------+\n",
      "| wage     | hourly wage                   |\n",
      "| lwage    | log(wage)                     |\n",
      "| belavg   | =1 if looks <= 2              |\n",
      "| abvavg   | =1 if looks >=4               |\n",
      "| exper    | years of workforce experience |\n",
      "| looks    | from 1 to 5                   |\n",
      "| union    | =1 if union member            |\n",
      "| goodhlth | =1 if good health             |\n",
      "| black    | =1 if black                   |\n",
      "| female   | =1 if female                  |\n",
      "| married  | =1 if married                 |\n",
      "| south    | =1 if live in south           |\n",
      "| bigcity  | =1 if live in big city        |\n",
      "| smllcity | =1 if live in small city      |\n",
      "| service  | =1 if service industry        |\n",
      "| expersq  | exper^2                       |\n",
      "| educ     | years of schooling            |\n",
      "+----------+-------------------------------+\n",
      "\n",
      "Hamermesh, D.S. and J.E. Biddle (1994), “Beauty and the Labor Market,”\n",
      "American Economic Review 84, 1174-1194. Professor Hamermesh kindly\n",
      "provided me with the data. For manageability, I have included only a\n",
      "subset of the variables, which results in somewhat larger sample sizes\n",
      "than reported for the regressions in the Hamermesh and Biddle paper.\n"
     ]
    }
   ],
   "source": [
    "wooldridge.data(\"beauty\", description=True)"
   ]
  },
  {
   "cell_type": "markdown",
   "id": "013cf264",
   "metadata": {},
   "source": [
    "### 7.8 Effects of Law School Rankings on Starting Salaries"
   ]
  },
  {
   "cell_type": "code",
   "execution_count": null,
   "id": "cba36758",
   "metadata": {},
   "outputs": [
    {
     "name": "stdout",
     "output_type": "stream",
     "text": [
      "name of dataset: lawsch85\n",
      "no of variables: 21\n",
      "no of observations: 156\n",
      "\n",
      "+----------+----------------------------+\n",
      "| variable | label                      |\n",
      "+----------+----------------------------+\n",
      "| rank     | law school ranking         |\n",
      "| salary   | median starting salary     |\n",
      "| cost     | law school cost            |\n",
      "| LSAT     | median LSAT score          |\n",
      "| GPA      | median college GPA         |\n",
      "| libvol   | no. volumes in lib., 1000s |\n",
      "| faculty  | no. of faculty             |\n",
      "| age      | age of law sch., years     |\n",
      "| clsize   | size of entering class     |\n",
      "| north    | =1 if law sch in north     |\n",
      "| south    | =1 if law sch in south     |\n",
      "| east     | =1 if law sch in east      |\n",
      "| west     | =1 if law sch in west      |\n",
      "| lsalary  | log(salary)                |\n",
      "| studfac  | student-faculty ratio      |\n",
      "| top10    | =1 if ranked in top 10     |\n",
      "| r11_25   | =1 if ranked 11-25         |\n",
      "| r26_40   | =1 if ranked 26-40         |\n",
      "| r41_60   | =1 if ranked 41-60         |\n",
      "| llibvol  | log(libvol)                |\n",
      "| lcost    | log(cost)                  |\n",
      "+----------+----------------------------+\n",
      "\n",
      "Collected by Kelly Barnett, an MSU economics student, for use in a\n",
      "term project. The data come from two sources: The Official Guide to\n",
      "U.S. Law Schools, 1986, Law School Admission Services, and The Gourman\n",
      "Report: A Ranking of Graduate and Professional Programs in American\n",
      "and International Universities, 1995, Washington, D.C.\n"
     ]
    }
   ],
   "source": [
    "wooldridge.data(\"lawsch85\", description=True)"
   ]
  },
  {
   "cell_type": "code",
   "execution_count": null,
   "id": "6b7e4eee",
   "metadata": {},
   "outputs": [],
   "source": [
    "df = lawsch85.copy()\n",
    "df[\"top10\"] = (df[\"rank\"] <= 10).astype(int)\n",
    "df[\"r11_25\"] = ((df[\"rank\"] > 10) & (df[\"rank\"] <= 25)).astype(int)\n",
    "df[\"r26_40\"] = ((df[\"rank\"] > 25) & (df[\"rank\"] <= 40)).astype(int)\n",
    "df[\"r41_60\"] = ((df[\"rank\"] > 40) & (df[\"rank\"] <= 60)).astype(int)\n",
    "df[\"r61_100\"] = ((df[\"rank\"] > 60) & (df[\"rank\"] <= 100)).astype(int)"
   ]
  },
  {
   "cell_type": "code",
   "execution_count": null,
   "id": "fa4d5b24",
   "metadata": {},
   "outputs": [
    {
     "data": {
      "image/png": "[encoded data removed]",
      "text/plain": [
       "<Figure size 640x480 with 1 Axes>"
      ]
     },
     "metadata": {},
     "output_type": "display_data"
    }
   ],
   "source": [
    "bins = [0, 10, 25, 40, 60, 100, lawsch85[\"rank\"].max()]\n",
    "labels = [\"Top 10\", \"11–25\", \"26–40\", \"41–60\", \"61–100\", \"101+\"]\n",
    "\n",
    "lawsch85[\"rank_group\"] = pd.cut(lawsch85[\"rank\"], bins=bins, labels=labels, right=True)\n",
    "\n",
    "rank_group_counts = lawsch85[\"rank_group\"].value_counts().sort_index()\n",
    "\n",
    "rank_group_counts.plot(kind=\"bar\", color=\"navy\", edgecolor=\"black\")\n",
    "plt.xlabel(\"School Rank Group\")\n",
    "plt.ylabel(\"Number of Schools\")\n",
    "plt.title(\"Number of Law Schools by Rank Group\")\n",
    "plt.xticks(rotation=45)\n",
    "plt.tight_layout()\n",
    "plt.show()"
   ]
  },
  {
   "cell_type": "code",
   "execution_count": null,
   "id": "bb36750b",
   "metadata": {},
   "outputs": [
    {
     "name": "stdout",
     "output_type": "stream",
     "text": [
      "Model info: R² = 0.911, n = 136, SE = 0.086\n"
     ]
    },
    {
     "data": {
      "text/html": [
       "<div>\n",
       "<style scoped>\n",
       "    .dataframe tbody tr th:only-of-type {\n",
       "        vertical-align: middle;\n",
       "    }\n",
       "\n",
       "    .dataframe tbody tr th {\n",
       "        vertical-align: top;\n",
       "    }\n",
       "\n",
       "    .dataframe thead th {\n",
       "        text-align: right;\n",
       "    }\n",
       "</style>\n",
       "<table border=\"1\" class=\"dataframe\">\n",
       "  <thead>\n",
       "    <tr style=\"text-align: right;\">\n",
       "      <th></th>\n",
       "      <th>Coef.</th>\n",
       "      <th>Std.Err.</th>\n",
       "      <th>t</th>\n",
       "      <th>P&gt;|t|</th>\n",
       "    </tr>\n",
       "  </thead>\n",
       "  <tbody>\n",
       "    <tr>\n",
       "      <th>Intercept</th>\n",
       "      <td>9.165</td>\n",
       "      <td>0.411</td>\n",
       "      <td>22.277</td>\n",
       "      <td>0.000</td>\n",
       "    </tr>\n",
       "    <tr>\n",
       "      <th>top10</th>\n",
       "      <td>0.700</td>\n",
       "      <td>0.053</td>\n",
       "      <td>13.078</td>\n",
       "      <td>0.000</td>\n",
       "    </tr>\n",
       "    <tr>\n",
       "      <th>r11_25</th>\n",
       "      <td>0.594</td>\n",
       "      <td>0.039</td>\n",
       "      <td>15.049</td>\n",
       "      <td>0.000</td>\n",
       "    </tr>\n",
       "    <tr>\n",
       "      <th>r26_40</th>\n",
       "      <td>0.375</td>\n",
       "      <td>0.034</td>\n",
       "      <td>11.005</td>\n",
       "      <td>0.000</td>\n",
       "    </tr>\n",
       "    <tr>\n",
       "      <th>r41_60</th>\n",
       "      <td>0.263</td>\n",
       "      <td>0.028</td>\n",
       "      <td>9.399</td>\n",
       "      <td>0.000</td>\n",
       "    </tr>\n",
       "    <tr>\n",
       "      <th>r61_100</th>\n",
       "      <td>0.132</td>\n",
       "      <td>0.021</td>\n",
       "      <td>6.254</td>\n",
       "      <td>0.000</td>\n",
       "    </tr>\n",
       "    <tr>\n",
       "      <th>LSAT</th>\n",
       "      <td>0.006</td>\n",
       "      <td>0.003</td>\n",
       "      <td>1.858</td>\n",
       "      <td>0.066</td>\n",
       "    </tr>\n",
       "    <tr>\n",
       "      <th>GPA</th>\n",
       "      <td>0.014</td>\n",
       "      <td>0.074</td>\n",
       "      <td>0.185</td>\n",
       "      <td>0.854</td>\n",
       "    </tr>\n",
       "    <tr>\n",
       "      <th>llibvol</th>\n",
       "      <td>0.036</td>\n",
       "      <td>0.026</td>\n",
       "      <td>1.398</td>\n",
       "      <td>0.165</td>\n",
       "    </tr>\n",
       "    <tr>\n",
       "      <th>lcost</th>\n",
       "      <td>0.001</td>\n",
       "      <td>0.025</td>\n",
       "      <td>0.033</td>\n",
       "      <td>0.973</td>\n",
       "    </tr>\n",
       "  </tbody>\n",
       "</table>\n",
       "</div>"
      ],
      "text/plain": [
       "           Coef.  Std.Err.       t  P>|t|\n",
       "Intercept  9.165     0.411  22.277  0.000\n",
       "top10      0.700     0.053  13.078  0.000\n",
       "r11_25     0.594     0.039  15.049  0.000\n",
       "r26_40     0.375     0.034  11.005  0.000\n",
       "r41_60     0.263     0.028   9.399  0.000\n",
       "r61_100    0.132     0.021   6.254  0.000\n",
       "LSAT       0.006     0.003   1.858  0.066\n",
       "GPA        0.014     0.074   0.185  0.854\n",
       "llibvol    0.036     0.026   1.398  0.165\n",
       "lcost      0.001     0.025   0.033  0.973"
      ]
     },
     "execution_count": 22,
     "metadata": {},
     "output_type": "execute_result"
    }
   ],
   "source": [
    "model08 = smf.ols(\n",
    "    \"lsalary ~ top10 + r11_25 + r26_40 + r41_60 + r61_100 + LSAT + GPA + llibvol + lcost\",\n",
    "    data=df,\n",
    ").fit()\n",
    "report(model08)"
   ]
  },
  {
   "cell_type": "markdown",
   "id": "afd7ba60",
   "metadata": {},
   "source": [
    "Schools below 100 is left as the base group.  \n",
    "All the ranks are statistically significant controlling for $LSAT, GPA, libvol, cost$.  \n",
    "The difference between $r61_100, r101+$ is relatively small, so using the approximation: Schools ranked 61 to 100 earn a median salary 13.2% higher than schools ranked 101+  \n",
    "Using exact formula with top10: $\\exp{0.7}-1 = 1.014$: Top 10 schools earn a median salary 100% higher than schools below 100.  \n",
    "\n",
    "Note: Rank of a school depends on other schools, so random sample assumption is violated. As long as the error term is uncorrelated with the explanatory variables, there is no problem caused."
   ]
  },
  {
   "cell_type": "markdown",
   "id": "00646c14",
   "metadata": {},
   "source": [
    "### 7.9 Effects of Computer Usage on Wages"
   ]
  },
  {
   "cell_type": "markdown",
   "id": "518231db",
   "metadata": {},
   "source": [
    "I will simulate the data because its not available"
   ]
  },
  {
   "cell_type": "code",
   "execution_count": null,
   "id": "27eca9b5",
   "metadata": {},
   "outputs": [],
   "source": [
    "np.random.seed(42)\n",
    "\n",
    "# Sample size\n",
    "n = 13379\n",
    "\n",
    "# Binary indicators\n",
    "compwork = np.random.binomial(1, 0.3, n)\n",
    "comphome = np.random.binomial(1, 0.2, n)\n",
    "interaction = compwork * comphome\n",
    "\n",
    "# Target betas\n",
    "beta0 = 1\n",
    "beta1 = 0.177\n",
    "beta2 = 0.070\n",
    "beta3 = 0.017\n",
    "\n",
    "# To hit target SEs approximately, set noise level accordingly\n",
    "# After experimentation, this works well\n",
    "sigma = 0.05  # Adjust noise scale\n",
    "\n",
    "# Generate lwage\n",
    "error = np.random.normal(0, sigma, n)\n",
    "lwage = beta0 + beta1 * compwork + beta2 * comphome + beta3 * interaction + error\n",
    "\n",
    "# Create DataFrame\n",
    "df = pd.DataFrame({\"lwage\": lwage, \"compwork\": compwork, \"comphome\": comphome})\n",
    "\n",
    "# Interaction term\n",
    "df[\"interaction\"] = df[\"compwork\"] * df[\"comphome\"]"
   ]
  },
  {
   "cell_type": "code",
   "execution_count": null,
   "id": "6dab8342",
   "metadata": {},
   "outputs": [
    {
     "name": "stdout",
     "output_type": "stream",
     "text": [
      "Model info: R² = 0.755, n = 13379, SE = 0.05\n"
     ]
    },
    {
     "data": {
      "text/html": [
       "<div>\n",
       "<style scoped>\n",
       "    .dataframe tbody tr th:only-of-type {\n",
       "        vertical-align: middle;\n",
       "    }\n",
       "\n",
       "    .dataframe tbody tr th {\n",
       "        vertical-align: top;\n",
       "    }\n",
       "\n",
       "    .dataframe thead th {\n",
       "        text-align: right;\n",
       "    }\n",
       "</style>\n",
       "<table border=\"1\" class=\"dataframe\">\n",
       "  <thead>\n",
       "    <tr style=\"text-align: right;\">\n",
       "      <th></th>\n",
       "      <th>Coef.</th>\n",
       "      <th>Std.Err.</th>\n",
       "      <th>t</th>\n",
       "      <th>P&gt;|t|</th>\n",
       "    </tr>\n",
       "  </thead>\n",
       "  <tbody>\n",
       "    <tr>\n",
       "      <th>Intercept</th>\n",
       "      <td>0.999</td>\n",
       "      <td>0.001</td>\n",
       "      <td>1738.802</td>\n",
       "      <td>0.0</td>\n",
       "    </tr>\n",
       "    <tr>\n",
       "      <th>compwork</th>\n",
       "      <td>0.177</td>\n",
       "      <td>0.001</td>\n",
       "      <td>166.199</td>\n",
       "      <td>0.0</td>\n",
       "    </tr>\n",
       "    <tr>\n",
       "      <th>comphome</th>\n",
       "      <td>0.071</td>\n",
       "      <td>0.001</td>\n",
       "      <td>55.295</td>\n",
       "      <td>0.0</td>\n",
       "    </tr>\n",
       "    <tr>\n",
       "      <th>interaction</th>\n",
       "      <td>0.016</td>\n",
       "      <td>0.002</td>\n",
       "      <td>6.835</td>\n",
       "      <td>0.0</td>\n",
       "    </tr>\n",
       "  </tbody>\n",
       "</table>\n",
       "</div>"
      ],
      "text/plain": [
       "             Coef.  Std.Err.         t  P>|t|\n",
       "Intercept    0.999     0.001  1738.802    0.0\n",
       "compwork     0.177     0.001   166.199    0.0\n",
       "comphome     0.071     0.001    55.295    0.0\n",
       "interaction  0.016     0.002     6.835    0.0"
      ]
     },
     "execution_count": 24,
     "metadata": {},
     "output_type": "execute_result"
    }
   ],
   "source": [
    "model09 = smf.ols(\"lwage ~ compwork + comphome + interaction\", data=df).fit()\n",
    "report(model09)"
   ]
  },
  {
   "cell_type": "markdown",
   "id": "cffaa823",
   "metadata": {},
   "source": [
    "Base group is people who don't use computer at home nor work.  \n",
    "Using computer at work only results in more wage than base group by 17.7%.  \n",
    "Using computer at home only results in more wage than base group by 7.1%.  \n",
    "Using computer at both places results in more wage than base group by $$(0.177 + 0.071 + 0.016)* 100 = 26.4\\% $$ or more accurately 30.2%\n"
   ]
  },
  {
   "cell_type": "code",
   "execution_count": null,
   "id": "5dfae4a7",
   "metadata": {},
   "outputs": [
    {
     "data": {
      "text/plain": [
       "(26.400000000000002, np.float64(0.30212819630089416))"
      ]
     },
     "execution_count": 25,
     "metadata": {},
     "output_type": "execute_result"
    }
   ],
   "source": [
    "(0.177 + 0.071 + 0.016) * 100, np.exp(0.177 + 0.071 + 0.016) - 1"
   ]
  },
  {
   "cell_type": "markdown",
   "id": "c501865c",
   "metadata": {},
   "source": [
    "### 7.10 Log Hourly Wage Equation"
   ]
  },
  {
   "cell_type": "markdown",
   "id": "1425dbd6",
   "metadata": {},
   "source": [
    "female*educ results in female, educ, interaction  \n",
    "female:educ results in interaction"
   ]
  },
  {
   "cell_type": "code",
   "execution_count": null,
   "id": "8f4d8d34",
   "metadata": {},
   "outputs": [
    {
     "name": "stdout",
     "output_type": "stream",
     "text": [
      "Model info: R² = 0.441, n = 526, SE = 0.4\n"
     ]
    },
    {
     "data": {
      "text/html": [
       "<div>\n",
       "<style scoped>\n",
       "    .dataframe tbody tr th:only-of-type {\n",
       "        vertical-align: middle;\n",
       "    }\n",
       "\n",
       "    .dataframe tbody tr th {\n",
       "        vertical-align: top;\n",
       "    }\n",
       "\n",
       "    .dataframe thead th {\n",
       "        text-align: right;\n",
       "    }\n",
       "</style>\n",
       "<table border=\"1\" class=\"dataframe\">\n",
       "  <thead>\n",
       "    <tr style=\"text-align: right;\">\n",
       "      <th></th>\n",
       "      <th>Coef.</th>\n",
       "      <th>Std.Err.</th>\n",
       "      <th>t</th>\n",
       "      <th>P&gt;|t|</th>\n",
       "    </tr>\n",
       "  </thead>\n",
       "  <tbody>\n",
       "    <tr>\n",
       "      <th>Intercept</th>\n",
       "      <td>0.389</td>\n",
       "      <td>0.119</td>\n",
       "      <td>3.276</td>\n",
       "      <td>0.001</td>\n",
       "    </tr>\n",
       "    <tr>\n",
       "      <th>female</th>\n",
       "      <td>-0.227</td>\n",
       "      <td>0.168</td>\n",
       "      <td>-1.354</td>\n",
       "      <td>0.176</td>\n",
       "    </tr>\n",
       "    <tr>\n",
       "      <th>educ</th>\n",
       "      <td>0.082</td>\n",
       "      <td>0.008</td>\n",
       "      <td>9.725</td>\n",
       "      <td>0.000</td>\n",
       "    </tr>\n",
       "    <tr>\n",
       "      <th>female:educ</th>\n",
       "      <td>-0.006</td>\n",
       "      <td>0.013</td>\n",
       "      <td>-0.426</td>\n",
       "      <td>0.670</td>\n",
       "    </tr>\n",
       "    <tr>\n",
       "      <th>exper</th>\n",
       "      <td>0.029</td>\n",
       "      <td>0.005</td>\n",
       "      <td>5.886</td>\n",
       "      <td>0.000</td>\n",
       "    </tr>\n",
       "    <tr>\n",
       "      <th>expersq</th>\n",
       "      <td>-0.001</td>\n",
       "      <td>0.000</td>\n",
       "      <td>-5.398</td>\n",
       "      <td>0.000</td>\n",
       "    </tr>\n",
       "    <tr>\n",
       "      <th>tenure</th>\n",
       "      <td>0.032</td>\n",
       "      <td>0.007</td>\n",
       "      <td>4.647</td>\n",
       "      <td>0.000</td>\n",
       "    </tr>\n",
       "    <tr>\n",
       "      <th>tenursq</th>\n",
       "      <td>-0.001</td>\n",
       "      <td>0.000</td>\n",
       "      <td>-2.509</td>\n",
       "      <td>0.012</td>\n",
       "    </tr>\n",
       "  </tbody>\n",
       "</table>\n",
       "</div>"
      ],
      "text/plain": [
       "             Coef.  Std.Err.      t  P>|t|\n",
       "Intercept    0.389     0.119  3.276  0.001\n",
       "female      -0.227     0.168 -1.354  0.176\n",
       "educ         0.082     0.008  9.725  0.000\n",
       "female:educ -0.006     0.013 -0.426  0.670\n",
       "exper        0.029     0.005  5.886  0.000\n",
       "expersq     -0.001     0.000 -5.398  0.000\n",
       "tenure       0.032     0.007  4.647  0.000\n",
       "tenursq     -0.001     0.000 -2.509  0.012"
      ]
     },
     "execution_count": 26,
     "metadata": {},
     "output_type": "execute_result"
    }
   ],
   "source": [
    "model010 = smf.ols(\n",
    "    \"lwage ~ female*educ  + exper + expersq + tenure + tenursq \", data=wage1\n",
    ").fit()\n",
    "report(model010)"
   ]
  },
  {
   "cell_type": "code",
   "execution_count": null,
   "id": "650114be",
   "metadata": {},
   "outputs": [
    {
     "data": {
      "image/png": "[encoded data removed]",
      "text/plain": [
       "<Figure size 800x600 with 1 Axes>"
      ]
     },
     "metadata": {},
     "output_type": "display_data"
    }
   ],
   "source": [
    "# Generate prediction data\n",
    "educ_range = np.linspace(wage1[\"educ\"].min(), wage1[\"educ\"].max(), 100)\n",
    "\n",
    "# Create a DataFrame with two groups: male (female=0) and female (female=1)\n",
    "pred_data = pd.DataFrame(\n",
    "    {\n",
    "        \"educ\": np.tile(educ_range, 2),\n",
    "        \"female\": np.repeat([0, 1], len(educ_range)),\n",
    "    }\n",
    ")\n",
    "\n",
    "# Add mean values for other covariates\n",
    "for var in [\"exper\", \"expersq\", \"tenure\", \"tenursq\"]:\n",
    "    pred_data[var] = wage1[var].mean()\n",
    "\n",
    "# Compute interaction term\n",
    "pred_data[\"female:educ\"] = pred_data[\"female\"] * pred_data[\"educ\"]\n",
    "\n",
    "# Predict log wages\n",
    "pred_data[\"lwage_pred\"] = model010.predict(pred_data)\n",
    "\n",
    "# Plot\n",
    "plt.figure(figsize=(8, 6))\n",
    "for gender, label in zip([0, 1], [\"Male\", \"Female\"]):\n",
    "    subset = pred_data[pred_data[\"female\"] == gender]\n",
    "    plt.plot(subset[\"educ\"], subset[\"lwage_pred\"], label=label)\n",
    "\n",
    "plt.xlabel(\"Education (Years)\")\n",
    "plt.ylabel(\"Predicted log(Wage)\")\n",
    "plt.title(\"Predicted log(Wage) by Education and Gender\")\n",
    "plt.legend()\n",
    "plt.grid(True)\n",
    "plt.show()"
   ]
  },
  {
   "cell_type": "markdown",
   "id": "5b03cf9b",
   "metadata": {},
   "source": [
    "Return on education for men is 8.2%  \n",
    "Return on education for women is $0.082 - 0.0056 = 7.6\\%$  \n",
    "The difference on education between men and women $8.2\\% - 7.6\\% $ is not statistically significant  \n",
    "female is no longer statistically significant, due to the multicollineairty [strong correlation between female and interaction term, standard error increased]"
   ]
  },
  {
   "cell_type": "markdown",
   "id": "5c7429b0",
   "metadata": {},
   "source": [
    "female coefficient measures salary difference between men and women controlling for education = 0 which is not common.\n",
    "A more useful value for education is the mean in the sample 12.5 [recall chapter 6] "
   ]
  },
  {
   "cell_type": "markdown",
   "id": "c1a0191a",
   "metadata": {},
   "source": [
    "### 7.11 Effects of Race on Baseball Player Salaries"
   ]
  },
  {
   "cell_type": "code",
   "execution_count": null,
   "id": "9f5c561b",
   "metadata": {},
   "outputs": [
    {
     "name": "stdout",
     "output_type": "stream",
     "text": [
      "name of dataset: mlb1\n",
      "no of variables: 47\n",
      "no of observations: 353\n",
      "\n",
      "+----------+----------------------------+\n",
      "| variable | label                      |\n",
      "+----------+----------------------------+\n",
      "| salary   | 1993 season salary         |\n",
      "| teamsal  | team payroll               |\n",
      "| nl       | =1 if national league      |\n",
      "| years    | years in major leagues     |\n",
      "| games    | career games played        |\n",
      "| atbats   | career at bats             |\n",
      "| runs     | career runs scored         |\n",
      "| hits     | career hits                |\n",
      "| doubles  | career doubles             |\n",
      "| triples  | career triples             |\n",
      "| hruns    | career home runs           |\n",
      "| rbis     | career runs batted in      |\n",
      "| bavg     | career batting average     |\n",
      "| bb       | career walks               |\n",
      "| so       | career strike outs         |\n",
      "| sbases   | career stolen bases        |\n",
      "| fldperc  | career fielding perc       |\n",
      "| frstbase | = 1 if first base          |\n",
      "| scndbase | =1 if second base          |\n",
      "| shrtstop | =1 if shortstop            |\n",
      "| thrdbase | =1 if third base           |\n",
      "| outfield | =1 if outfield             |\n",
      "| catcher  | =1 if catcher              |\n",
      "| yrsallst | years as all-star          |\n",
      "| hispan   | =1 if hispanic             |\n",
      "| black    | =1 if black                |\n",
      "| whitepop | white pop. in city         |\n",
      "| blackpop | black pop. in city         |\n",
      "| hisppop  | hispanic pop. in city      |\n",
      "| pcinc    | city per capita income     |\n",
      "| gamesyr  | games per year in league   |\n",
      "| hrunsyr  | home runs per year         |\n",
      "| atbatsyr | at bats per year           |\n",
      "| allstar  | perc. of years an all-star |\n",
      "| slugavg  | career slugging average    |\n",
      "| rbisyr   | rbis per year              |\n",
      "| sbasesyr | stolen bases per year      |\n",
      "| runsyr   | runs scored per year       |\n",
      "| percwhte | percent white in city      |\n",
      "| percblck | percent black in city      |\n",
      "| perchisp | percent hispanic in city   |\n",
      "| blckpb   | black*percblck             |\n",
      "| hispph   | hispan*perchisp            |\n",
      "| whtepw   | white*percwhte             |\n",
      "| blckph   | black*perchisp             |\n",
      "| hisppb   | hispan*percblck            |\n",
      "| lsalary  | log(salary)                |\n",
      "+----------+----------------------------+\n",
      "\n",
      "Collected by G. Mark Holmes, a former MSU undergraduate, for a term\n",
      "project. The salary data were obtained from the New York Times, April\n",
      "11, 1993. The baseball statistics are from The Baseball Encyclopedia,\n",
      "9th edition, and the city population figures are from the Statistical\n",
      "Abstract of the United States.\n"
     ]
    }
   ],
   "source": [
    "wooldridge.data(\"mlb1\", description=True)"
   ]
  },
  {
   "cell_type": "code",
   "execution_count": null,
   "id": "3662d0d7",
   "metadata": {},
   "outputs": [],
   "source": [
    "df = mlb1.copy()\n",
    "df = df[(df[\"percblck\"] != 0)]"
   ]
  },
  {
   "cell_type": "code",
   "execution_count": null,
   "id": "88d3aa24",
   "metadata": {},
   "outputs": [
    {
     "name": "stdout",
     "output_type": "stream",
     "text": [
      "Model info: R² = 0.638, n = 330, SE = 0.713\n"
     ]
    },
    {
     "data": {
      "text/html": [
       "<div>\n",
       "<style scoped>\n",
       "    .dataframe tbody tr th:only-of-type {\n",
       "        vertical-align: middle;\n",
       "    }\n",
       "\n",
       "    .dataframe tbody tr th {\n",
       "        vertical-align: top;\n",
       "    }\n",
       "\n",
       "    .dataframe thead th {\n",
       "        text-align: right;\n",
       "    }\n",
       "</style>\n",
       "<table border=\"1\" class=\"dataframe\">\n",
       "  <thead>\n",
       "    <tr style=\"text-align: right;\">\n",
       "      <th></th>\n",
       "      <th>Coef.</th>\n",
       "      <th>Std.Err.</th>\n",
       "      <th>t</th>\n",
       "      <th>P&gt;|t|</th>\n",
       "    </tr>\n",
       "  </thead>\n",
       "  <tbody>\n",
       "    <tr>\n",
       "      <th>Intercept</th>\n",
       "      <td>10.344</td>\n",
       "      <td>2.183</td>\n",
       "      <td>4.739</td>\n",
       "      <td>0.000</td>\n",
       "    </tr>\n",
       "    <tr>\n",
       "      <th>years</th>\n",
       "      <td>0.067</td>\n",
       "      <td>0.013</td>\n",
       "      <td>5.224</td>\n",
       "      <td>0.000</td>\n",
       "    </tr>\n",
       "    <tr>\n",
       "      <th>gamesyr</th>\n",
       "      <td>0.009</td>\n",
       "      <td>0.003</td>\n",
       "      <td>2.624</td>\n",
       "      <td>0.009</td>\n",
       "    </tr>\n",
       "    <tr>\n",
       "      <th>bavg</th>\n",
       "      <td>0.001</td>\n",
       "      <td>0.002</td>\n",
       "      <td>0.625</td>\n",
       "      <td>0.533</td>\n",
       "    </tr>\n",
       "    <tr>\n",
       "      <th>hrunsyr</th>\n",
       "      <td>0.015</td>\n",
       "      <td>0.016</td>\n",
       "      <td>0.889</td>\n",
       "      <td>0.375</td>\n",
       "    </tr>\n",
       "    <tr>\n",
       "      <th>rbisyr</th>\n",
       "      <td>0.004</td>\n",
       "      <td>0.008</td>\n",
       "      <td>0.593</td>\n",
       "      <td>0.553</td>\n",
       "    </tr>\n",
       "    <tr>\n",
       "      <th>runsyr</th>\n",
       "      <td>0.007</td>\n",
       "      <td>0.005</td>\n",
       "      <td>1.577</td>\n",
       "      <td>0.116</td>\n",
       "    </tr>\n",
       "    <tr>\n",
       "      <th>fldperc</th>\n",
       "      <td>0.001</td>\n",
       "      <td>0.002</td>\n",
       "      <td>0.513</td>\n",
       "      <td>0.609</td>\n",
       "    </tr>\n",
       "    <tr>\n",
       "      <th>allstar</th>\n",
       "      <td>0.008</td>\n",
       "      <td>0.003</td>\n",
       "      <td>2.621</td>\n",
       "      <td>0.009</td>\n",
       "    </tr>\n",
       "    <tr>\n",
       "      <th>black</th>\n",
       "      <td>-0.198</td>\n",
       "      <td>0.125</td>\n",
       "      <td>-1.578</td>\n",
       "      <td>0.116</td>\n",
       "    </tr>\n",
       "    <tr>\n",
       "      <th>hispan</th>\n",
       "      <td>-0.190</td>\n",
       "      <td>0.153</td>\n",
       "      <td>-1.241</td>\n",
       "      <td>0.215</td>\n",
       "    </tr>\n",
       "    <tr>\n",
       "      <th>black:percblck</th>\n",
       "      <td>0.012</td>\n",
       "      <td>0.005</td>\n",
       "      <td>2.509</td>\n",
       "      <td>0.013</td>\n",
       "    </tr>\n",
       "    <tr>\n",
       "      <th>hispan:perchisp</th>\n",
       "      <td>0.020</td>\n",
       "      <td>0.010</td>\n",
       "      <td>2.051</td>\n",
       "      <td>0.041</td>\n",
       "    </tr>\n",
       "  </tbody>\n",
       "</table>\n",
       "</div>"
      ],
      "text/plain": [
       "                  Coef.  Std.Err.      t  P>|t|\n",
       "Intercept        10.344     2.183  4.739  0.000\n",
       "years             0.067     0.013  5.224  0.000\n",
       "gamesyr           0.009     0.003  2.624  0.009\n",
       "bavg              0.001     0.002  0.625  0.533\n",
       "hrunsyr           0.015     0.016  0.889  0.375\n",
       "rbisyr            0.004     0.008  0.593  0.553\n",
       "runsyr            0.007     0.005  1.577  0.116\n",
       "fldperc           0.001     0.002  0.513  0.609\n",
       "allstar           0.008     0.003  2.621  0.009\n",
       "black            -0.198     0.125 -1.578  0.116\n",
       "hispan           -0.190     0.153 -1.241  0.215\n",
       "black:percblck    0.012     0.005  2.509  0.013\n",
       "hispan:perchisp   0.020     0.010  2.051  0.041"
      ]
     },
     "execution_count": 30,
     "metadata": {},
     "output_type": "execute_result"
    }
   ],
   "source": [
    "model011 = smf.ols(\n",
    "    \"lsalary ~ years + gamesyr + bavg + hrunsyr + rbisyr + runsyr + fldperc + allstar + black + hispan + black:percblck + hispan:perchisp\",\n",
    "    data=df,\n",
    ").fit()\n",
    "report(model011)"
   ]
  },
  {
   "cell_type": "markdown",
   "id": "f907957d",
   "metadata": {},
   "source": [
    "The base group is white players"
   ]
  },
  {
   "cell_type": "code",
   "execution_count": null,
   "id": "901cbc95",
   "metadata": {},
   "outputs": [
    {
     "data": {
      "text/plain": [
       "<class 'statsmodels.stats.contrast.ContrastResults'>\n",
       "<F test: F=2.647888304563977, p=0.03347614735675824, df_denom=317, df_num=4>"
      ]
     },
     "execution_count": 35,
     "metadata": {},
     "output_type": "execute_result"
    }
   ],
   "source": [
    "model011.f_test(\"black=0, hispan=0, black:percblck=0, hispan:perchisp=0\")"
   ]
  },
  {
   "cell_type": "markdown",
   "id": "8e261b6d",
   "metadata": {},
   "source": [
    "The race variables are statistically significant"
   ]
  },
  {
   "cell_type": "markdown",
   "id": "ef925993",
   "metadata": {},
   "source": [
    "black coefficient: if a black player plays in a city with no blacks [perclck = 0], he earns 19.8% less than white players.  \n",
    "\n",
    "black:percblck: if percentage of black increase by 10%, holding percentage of hispanic fixed [white percentage decreases by 10% as base group], wage increases by 1.2% and the black player earns [-0.198 + (0.0125*10)*100 =] 7.3% less than white players  \n",
    "\n",
    "To find percentage of hispanic that makes hispanic players earn as white people, solve for [-0.190 + 0.0201 perchisp = 0] to get perchisp = 9.45  \n",
    "\n",
    "Note: these findings can't prove discrimination, good black players prefer staying in cities with big black percentage."
   ]
  },
  {
   "cell_type": "markdown",
   "id": "05f19484",
   "metadata": {},
   "source": [
    "### 7.12 A Linear Probability Model of Arrests"
   ]
  },
  {
   "cell_type": "code",
   "execution_count": null,
   "id": "1e4825d7",
   "metadata": {},
   "outputs": [
    {
     "name": "stdout",
     "output_type": "stream",
     "text": [
      "name of dataset: crime1\n",
      "no of variables: 16\n",
      "no of observations: 2725\n",
      "\n",
      "+----------+---------------------------------+\n",
      "| variable | label                           |\n",
      "+----------+---------------------------------+\n",
      "| narr86   | # times arrested, 1986          |\n",
      "| nfarr86  | # felony arrests, 1986          |\n",
      "| nparr86  | # property crme arr., 1986      |\n",
      "| pcnv     | proportion of prior convictions |\n",
      "| avgsen   | avg sentence length, mos.       |\n",
      "| tottime  | time in prison since 18 (mos.)  |\n",
      "| ptime86  | mos. in prison during 1986      |\n",
      "| qemp86   | # quarters employed, 1986       |\n",
      "| inc86    | legal income, 1986, $100s       |\n",
      "| durat    | recent unemp duration           |\n",
      "| black    | =1 if black                     |\n",
      "| hispan   | =1 if Hispanic                  |\n",
      "| born60   | =1 if born in 1960              |\n",
      "| pcnvsq   | pcnv^2                          |\n",
      "| pt86sq   | ptime86^2                       |\n",
      "| inc86sq  | inc86^2                         |\n",
      "+----------+---------------------------------+\n",
      "\n",
      "J. Grogger (1991), “Certainty vs. Severity of Punishment,” Economic\n",
      "Inquiry 29, 297-309. Professor Grogger kindly provided a subset of the\n",
      "data he used in his article.\n"
     ]
    }
   ],
   "source": [
    "wooldridge.data(\"crime1\", description=True)"
   ]
  },
  {
   "cell_type": "code",
   "execution_count": null,
   "id": "3e126e9c",
   "metadata": {},
   "outputs": [],
   "source": [
    "df = crime1.copy()\n",
    "df[\"arr86\"] = (df[\"narr86\"] > 0).astype(int)"
   ]
  },
  {
   "cell_type": "code",
   "execution_count": null,
   "id": "ef9ec0c9",
   "metadata": {},
   "outputs": [
    {
     "name": "stdout",
     "output_type": "stream",
     "text": [
      "Model info: R² = 0.047, n = 2725, SE = 0.437\n"
     ]
    },
    {
     "data": {
      "text/html": [
       "<div>\n",
       "<style scoped>\n",
       "    .dataframe tbody tr th:only-of-type {\n",
       "        vertical-align: middle;\n",
       "    }\n",
       "\n",
       "    .dataframe tbody tr th {\n",
       "        vertical-align: top;\n",
       "    }\n",
       "\n",
       "    .dataframe thead th {\n",
       "        text-align: right;\n",
       "    }\n",
       "</style>\n",
       "<table border=\"1\" class=\"dataframe\">\n",
       "  <thead>\n",
       "    <tr style=\"text-align: right;\">\n",
       "      <th></th>\n",
       "      <th>Coef.</th>\n",
       "      <th>Std.Err.</th>\n",
       "      <th>t</th>\n",
       "      <th>P&gt;|t|</th>\n",
       "    </tr>\n",
       "  </thead>\n",
       "  <tbody>\n",
       "    <tr>\n",
       "      <th>Intercept</th>\n",
       "      <td>0.441</td>\n",
       "      <td>0.017</td>\n",
       "      <td>25.568</td>\n",
       "      <td>0.000</td>\n",
       "    </tr>\n",
       "    <tr>\n",
       "      <th>pcnv</th>\n",
       "      <td>-0.162</td>\n",
       "      <td>0.021</td>\n",
       "      <td>-7.649</td>\n",
       "      <td>0.000</td>\n",
       "    </tr>\n",
       "    <tr>\n",
       "      <th>avgsen</th>\n",
       "      <td>0.006</td>\n",
       "      <td>0.006</td>\n",
       "      <td>0.947</td>\n",
       "      <td>0.344</td>\n",
       "    </tr>\n",
       "    <tr>\n",
       "      <th>tottime</th>\n",
       "      <td>-0.002</td>\n",
       "      <td>0.005</td>\n",
       "      <td>-0.454</td>\n",
       "      <td>0.650</td>\n",
       "    </tr>\n",
       "    <tr>\n",
       "      <th>ptime86</th>\n",
       "      <td>-0.022</td>\n",
       "      <td>0.005</td>\n",
       "      <td>-4.739</td>\n",
       "      <td>0.000</td>\n",
       "    </tr>\n",
       "    <tr>\n",
       "      <th>qemp86</th>\n",
       "      <td>-0.043</td>\n",
       "      <td>0.005</td>\n",
       "      <td>-7.925</td>\n",
       "      <td>0.000</td>\n",
       "    </tr>\n",
       "  </tbody>\n",
       "</table>\n",
       "</div>"
      ],
      "text/plain": [
       "           Coef.  Std.Err.       t  P>|t|\n",
       "Intercept  0.441     0.017  25.568  0.000\n",
       "pcnv      -0.162     0.021  -7.649  0.000\n",
       "avgsen     0.006     0.006   0.947  0.344\n",
       "tottime   -0.002     0.005  -0.454  0.650\n",
       "ptime86   -0.022     0.005  -4.739  0.000\n",
       "qemp86    -0.043     0.005  -7.925  0.000"
      ]
     },
     "execution_count": 41,
     "metadata": {},
     "output_type": "execute_result"
    }
   ],
   "source": [
    "model012 = smf.ols(\"arr86 ~ pcnv + avgsen + tottime + ptime86 + qemp86\", data=df).fit()\n",
    "report(model012)"
   ]
  },
  {
   "cell_type": "code",
   "execution_count": null,
   "id": "9d620128",
   "metadata": {},
   "outputs": [
    {
     "data": {
      "text/plain": [
       "<class 'statsmodels.stats.contrast.ContrastResults'>\n",
       "<F test: F=1.059700444036282, p=0.346702695391494, df_denom=2.72e+03, df_num=2>"
      ]
     },
     "execution_count": 43,
     "metadata": {},
     "output_type": "execute_result"
    }
   ],
   "source": [
    "model012.f_test(\"avgsen = 0, tottime=0\")"
   ]
  },
  {
   "cell_type": "markdown",
   "id": "d591f766",
   "metadata": {},
   "source": [
    "intercept: probability of someone being arrested with no convictions is 0.441 \n",
    "\n",
    "avgsen, tottime: insignificant individually and jointly  \n",
    "\n",
    "ptime86: if a man is in prison for 12 months, probability of arrest is [0.441 - 0.22*12] = 0.177, which should be zero cuz he can't be arrested while already in prison    \n",
    "\n",
    "\n",
    "qemp86: if a man is employed for 12 months, he is  [-0.043*4 = 0.172] less likely to be arrested than a man who is no employed"
   ]
  },
  {
   "cell_type": "markdown",
   "id": "045f69e3",
   "metadata": {},
   "source": [
    "### 7.13 Evaluating a Job Training Program using Unrestricted Regression Adjustment"
   ]
  },
  {
   "cell_type": "markdown",
   "id": "6466a3f5",
   "metadata": {},
   "source": [
    "## 🚧Computer Exercises"
   ]
  }
 ],
 "metadata": {
  "kernelspec": {
   "display_name": "base",
   "language": "python",
   "name": "python3"
  },
  "language_info": {
   "codemirror_mode": {
    "name": "ipython",
    "version": 3
   },
   "file_extension": ".py",
   "mimetype": "text/x-python",
   "name": "python",
   "nbconvert_exporter": "python",
   "pygments_lexer": "ipython3",
   "version": "3.12.11"
  }
 },
 "nbformat": 4,
 "nbformat_minor": 5
}
