{
 "cells": [
  {
   "cell_type": "markdown",
   "id": "baa894b8",
   "metadata": {},
   "source": [
    "# Multiple Regression Analysis with Qualitative Information"
   ]
  },
  {
   "cell_type": "code",
   "execution_count": 1,
   "id": "bf0b823f",
   "metadata": {},
   "outputs": [],
   "source": [
    "import pandas as pd\n",
    "import numpy as np\n",
    "import wooldridge\n",
    "import statsmodels.formula.api as smf\n",
    "import matplotlib.pyplot as plt"
   ]
  },
  {
   "cell_type": "code",
   "execution_count": 2,
   "id": "bb62294b",
   "metadata": {},
   "outputs": [],
   "source": [
    "def report(model, option=3, return_info=False):\n",
    "    summary_table = model.summary2().tables[1]\n",
    "\n",
    "    # Select columns based on the option\n",
    "    if option == 1:\n",
    "        summary = summary_table[[\"Coef.\", \"Std.Err.\"]]\n",
    "    elif option == 2:\n",
    "        summary = summary_table[[\"Coef.\", \"Std.Err.\", \"t\"]]\n",
    "    elif option == 3:\n",
    "        summary = summary_table[[\"Coef.\", \"Std.Err.\", \"t\", \"P>|t|\"]]\n",
    "    elif option == 4:\n",
    "        summary = summary_table[[\"Coef.\", \"P>|t|\"]]\n",
    "    else:\n",
    "        summary = summary_table.copy()  # All columns\n",
    "\n",
    "    # Round the values for clean display\n",
    "    summary = summary.round(3)\n",
    "\n",
    "    # Model info\n",
    "    n = int(model.nobs)\n",
    "    r2 = round(model.rsquared, 3)\n",
    "    mse = round(np.sqrt(model.mse_resid), 3)\n",
    "    model_info = f\"R² = {r2}, n = {n}, SE = {mse}\"\n",
    "\n",
    "    if return_info:\n",
    "        return summary, model_info\n",
    "    else:\n",
    "        print(\"Model info:\", model_info)\n",
    "        return summary\n"
   ]
  },
  {
   "cell_type": "code",
   "execution_count": 3,
   "id": "0a61de1f",
   "metadata": {},
   "outputs": [
    {
     "name": "stdout",
     "output_type": "stream",
     "text": [
      "  J.M. Wooldridge (2019) Introductory Econometrics: A Modern Approach,\n",
      "  Cengage Learning, 6th edition.\n",
      "\n",
      "  401k       401ksubs    admnrev       affairs     airfare\n",
      "  alcohol    apple       approval      athlet1     athlet2\n",
      "  attend     audit       barium        beauty      benefits\n",
      "  beveridge  big9salary  bwght         bwght2      campus\n",
      "  card       catholic    cement        census2000  ceosal1\n",
      "  ceosal2    charity     consump       corn        countymurders\n",
      "  cps78_85   cps91       crime1        crime2      crime3\n",
      "  crime4     discrim     driving       earns       econmath\n",
      "  elem94_95  engin       expendshares  ezanders    ezunem\n",
      "  fair       fertil1     fertil2       fertil3     fish\n",
      "  fringe     gpa1        gpa2          gpa3        happiness\n",
      "  hprice1    hprice2     hprice3       hseinv      htv\n",
      "  infmrt     injury      intdef        intqrt      inven\n",
      "  jtrain     jtrain2     jtrain3       kielmc      lawsch85\n",
      "  loanapp    lowbrth     mathpnl       meap00_01   meap01\n",
      "  meap93     meapsingle  minwage       mlb1        mroz\n",
      "  murder     nbasal      nyse          okun        openness\n",
      "  pension    phillips    pntsprd       prison      prminwge\n",
      "  rdchem     rdtelec     recid         rental      return\n",
      "  saving     sleep75     slp75_81      smoke       traffic1\n",
      "  traffic2   twoyear     volat         vote1       vote2\n",
      "  voucher    wage1       wage2         wagepan     wageprc\n",
      "  wine\n"
     ]
    }
   ],
   "source": [
    "wooldridge.data()"
   ]
  },
  {
   "cell_type": "markdown",
   "id": "259d965d",
   "metadata": {},
   "source": [
    "## Examples"
   ]
  },
  {
   "cell_type": "code",
   "execution_count": 19,
   "id": "5c1c3a07",
   "metadata": {},
   "outputs": [],
   "source": [
    "wage1 = wooldridge.data('wage1')\n",
    "gpa1 = wooldridge.data('gpa1')\n",
    "jtrain = wooldridge.data('jtrain')\n",
    "hprice1 = wooldridge.data('hprice1')\n",
    "beauty = wooldridge.data('beauty')"
   ]
  },
  {
   "cell_type": "markdown",
   "id": "817f5ac2",
   "metadata": {},
   "source": [
    "### 7.1 Hourly Wage Equation"
   ]
  },
  {
   "cell_type": "code",
   "execution_count": 5,
   "id": "20d87e32",
   "metadata": {},
   "outputs": [
    {
     "name": "stdout",
     "output_type": "stream",
     "text": [
      "name of dataset: wage1\n",
      "no of variables: 24\n",
      "no of observations: 526\n",
      "\n",
      "+----------+---------------------------------+\n",
      "| variable | label                           |\n",
      "+----------+---------------------------------+\n",
      "| wage     | average hourly earnings         |\n",
      "| educ     | years of education              |\n",
      "| exper    | years potential experience      |\n",
      "| tenure   | years with current employer     |\n",
      "| nonwhite | =1 if nonwhite                  |\n",
      "| female   | =1 if female                    |\n",
      "| married  | =1 if married                   |\n",
      "| numdep   | number of dependents            |\n",
      "| smsa     | =1 if live in SMSA              |\n",
      "| northcen | =1 if live in north central U.S |\n",
      "| south    | =1 if live in southern region   |\n",
      "| west     | =1 if live in western region    |\n",
      "| construc | =1 if work in construc. indus.  |\n",
      "| ndurman  | =1 if in nondur. manuf. indus.  |\n",
      "| trcommpu | =1 if in trans, commun, pub ut  |\n",
      "| trade    | =1 if in wholesale or retail    |\n",
      "| services | =1 if in services indus.        |\n",
      "| profserv | =1 if in prof. serv. indus.     |\n",
      "| profocc  | =1 if in profess. occupation    |\n",
      "| clerocc  | =1 if in clerical occupation    |\n",
      "| servocc  | =1 if in service occupation     |\n",
      "| lwage    | log(wage)                       |\n",
      "| expersq  | exper^2                         |\n",
      "| tenursq  | tenure^2                        |\n",
      "+----------+---------------------------------+\n",
      "\n",
      "These are data from the 1976 Current Population Survey, collected by\n",
      "Henry Farber when he and I were colleagues at MIT in 1988.\n"
     ]
    }
   ],
   "source": [
    "wooldridge.data('wage1', description= True)"
   ]
  },
  {
   "cell_type": "code",
   "execution_count": 6,
   "id": "83991b77",
   "metadata": {},
   "outputs": [
    {
     "name": "stdout",
     "output_type": "stream",
     "text": [
      "Model info: R² = 0.364, n = 526, SE = 2.958\n"
     ]
    },
    {
     "data": {
      "text/html": [
       "<div>\n",
       "<style scoped>\n",
       "    .dataframe tbody tr th:only-of-type {\n",
       "        vertical-align: middle;\n",
       "    }\n",
       "\n",
       "    .dataframe tbody tr th {\n",
       "        vertical-align: top;\n",
       "    }\n",
       "\n",
       "    .dataframe thead th {\n",
       "        text-align: right;\n",
       "    }\n",
       "</style>\n",
       "<table border=\"1\" class=\"dataframe\">\n",
       "  <thead>\n",
       "    <tr style=\"text-align: right;\">\n",
       "      <th></th>\n",
       "      <th>Coef.</th>\n",
       "      <th>Std.Err.</th>\n",
       "      <th>t</th>\n",
       "      <th>P&gt;|t|</th>\n",
       "    </tr>\n",
       "  </thead>\n",
       "  <tbody>\n",
       "    <tr>\n",
       "      <th>Intercept</th>\n",
       "      <td>-1.568</td>\n",
       "      <td>0.725</td>\n",
       "      <td>-2.164</td>\n",
       "      <td>0.031</td>\n",
       "    </tr>\n",
       "    <tr>\n",
       "      <th>female</th>\n",
       "      <td>-1.811</td>\n",
       "      <td>0.265</td>\n",
       "      <td>-6.838</td>\n",
       "      <td>0.000</td>\n",
       "    </tr>\n",
       "    <tr>\n",
       "      <th>educ</th>\n",
       "      <td>0.572</td>\n",
       "      <td>0.049</td>\n",
       "      <td>11.584</td>\n",
       "      <td>0.000</td>\n",
       "    </tr>\n",
       "    <tr>\n",
       "      <th>exper</th>\n",
       "      <td>0.025</td>\n",
       "      <td>0.012</td>\n",
       "      <td>2.195</td>\n",
       "      <td>0.029</td>\n",
       "    </tr>\n",
       "    <tr>\n",
       "      <th>tenure</th>\n",
       "      <td>0.141</td>\n",
       "      <td>0.021</td>\n",
       "      <td>6.663</td>\n",
       "      <td>0.000</td>\n",
       "    </tr>\n",
       "  </tbody>\n",
       "</table>\n",
       "</div>"
      ],
      "text/plain": [
       "           Coef.  Std.Err.       t  P>|t|\n",
       "Intercept -1.568     0.725  -2.164  0.031\n",
       "female    -1.811     0.265  -6.838  0.000\n",
       "educ       0.572     0.049  11.584  0.000\n",
       "exper      0.025     0.012   2.195  0.029\n",
       "tenure     0.141     0.021   6.663  0.000"
      ]
     },
     "execution_count": 6,
     "metadata": {},
     "output_type": "execute_result"
    }
   ],
   "source": [
    "model01 = smf.ols('wage ~ female + educ + exper + tenure', data = wage1).fit()\n",
    "report(model01)"
   ]
  },
  {
   "cell_type": "markdown",
   "id": "c3032f5c",
   "metadata": {},
   "source": [
    "Men [Female = 0 ] has a negative intercept of -1.57 which isn't useful as no one has control variables with values of zero  \n",
    "On average, females with same education, experience and tenure as men earn less than men by $1.81 per hour "
   ]
  },
  {
   "cell_type": "code",
   "execution_count": 7,
   "id": "693c69a8",
   "metadata": {},
   "outputs": [
    {
     "name": "stdout",
     "output_type": "stream",
     "text": [
      "Model info: R² = 0.116, n = 526, SE = 3.476\n"
     ]
    },
    {
     "data": {
      "text/html": [
       "<div>\n",
       "<style scoped>\n",
       "    .dataframe tbody tr th:only-of-type {\n",
       "        vertical-align: middle;\n",
       "    }\n",
       "\n",
       "    .dataframe tbody tr th {\n",
       "        vertical-align: top;\n",
       "    }\n",
       "\n",
       "    .dataframe thead th {\n",
       "        text-align: right;\n",
       "    }\n",
       "</style>\n",
       "<table border=\"1\" class=\"dataframe\">\n",
       "  <thead>\n",
       "    <tr style=\"text-align: right;\">\n",
       "      <th></th>\n",
       "      <th>Coef.</th>\n",
       "      <th>Std.Err.</th>\n",
       "      <th>t</th>\n",
       "      <th>P&gt;|t|</th>\n",
       "    </tr>\n",
       "  </thead>\n",
       "  <tbody>\n",
       "    <tr>\n",
       "      <th>Intercept</th>\n",
       "      <td>7.099</td>\n",
       "      <td>0.210</td>\n",
       "      <td>33.806</td>\n",
       "      <td>0.0</td>\n",
       "    </tr>\n",
       "    <tr>\n",
       "      <th>female</th>\n",
       "      <td>-2.512</td>\n",
       "      <td>0.303</td>\n",
       "      <td>-8.279</td>\n",
       "      <td>0.0</td>\n",
       "    </tr>\n",
       "  </tbody>\n",
       "</table>\n",
       "</div>"
      ],
      "text/plain": [
       "           Coef.  Std.Err.       t  P>|t|\n",
       "Intercept  7.099     0.210  33.806    0.0\n",
       "female    -2.512     0.303  -8.279    0.0"
      ]
     },
     "execution_count": 7,
     "metadata": {},
     "output_type": "execute_result"
    }
   ],
   "source": [
    "model012 = smf.ols('wage ~ female', data = wage1).fit()\n",
    "report(model012)"
   ]
  },
  {
   "cell_type": "markdown",
   "id": "ad4700c1",
   "metadata": {},
   "source": [
    "In this simple model, men earn $7.1 per hour on average.\n",
    "Females earn on average $2.51 less than men, they earn $7.1- 2.51 = $4.59$ per hour "
   ]
  },
  {
   "cell_type": "markdown",
   "id": "049c6c40",
   "metadata": {},
   "source": [
    "The difference between the two groups is statistically significant $t=-8.3$"
   ]
  },
  {
   "cell_type": "markdown",
   "id": "26345dfc",
   "metadata": {},
   "source": [
    "Note: simple regression provides an easy way to do comparison of means test but assumes homoscedasticity "
   ]
  },
  {
   "cell_type": "markdown",
   "id": "c54525ae",
   "metadata": {},
   "source": [
    "### 7.2 Effects of Computer Ownership on College GPA"
   ]
  },
  {
   "cell_type": "code",
   "execution_count": 8,
   "id": "a8cb0a2c",
   "metadata": {},
   "outputs": [
    {
     "name": "stdout",
     "output_type": "stream",
     "text": [
      "name of dataset: gpa1\n",
      "no of variables: 29\n",
      "no of observations: 141\n",
      "\n",
      "+----------+--------------------------------+\n",
      "| variable | label                          |\n",
      "+----------+--------------------------------+\n",
      "| age      | in years                       |\n",
      "| soph     | =1 if sophomore                |\n",
      "| junior   | =1 if junior                   |\n",
      "| senior   | =1 if senior                   |\n",
      "| senior5  | =1 if fifth year senior        |\n",
      "| male     | =1 if male                     |\n",
      "| campus   | =1 if live on campus           |\n",
      "| business | =1 if business major           |\n",
      "| engineer | =1 if engineering major        |\n",
      "| colGPA   | MSU GPA                        |\n",
      "| hsGPA    | high school GPA                |\n",
      "| ACT      | 'achievement' score            |\n",
      "| job19    | =1 if job <= 19 hours          |\n",
      "| job20    | =1 if job >= 20 hours          |\n",
      "| drive    | =1 if drive to campus          |\n",
      "| bike     | =1 if bicycle to campus        |\n",
      "| walk     | =1 if walk to campus           |\n",
      "| voluntr  | =1 if do volunteer work        |\n",
      "| PC       | =1 of pers computer at sch     |\n",
      "| greek    | =1 if fraternity or sorority   |\n",
      "| car      | =1 if own car                  |\n",
      "| siblings | =1 if have siblings            |\n",
      "| bgfriend | =1 if boy- or girlfriend       |\n",
      "| clubs    | =1 if belong to MSU club       |\n",
      "| skipped  | avg lectures missed per week   |\n",
      "| alcohol  | avg # days per week drink alc. |\n",
      "| gradMI   | =1 if Michigan high school     |\n",
      "| fathcoll | =1 if father college grad      |\n",
      "| mothcoll | =1 if mother college grad      |\n",
      "+----------+--------------------------------+\n",
      "\n",
      "Christopher Lemmon, a former MSU undergraduate, collected these data\n",
      "from a survey he took of MSU students in Fall 1994.\n"
     ]
    }
   ],
   "source": [
    "wooldridge.data('gpa1', description= True)"
   ]
  },
  {
   "cell_type": "code",
   "execution_count": 9,
   "id": "360ddec5",
   "metadata": {},
   "outputs": [
    {
     "name": "stdout",
     "output_type": "stream",
     "text": [
      "Model info: R² = 0.219, n = 141, SE = 0.333\n"
     ]
    },
    {
     "data": {
      "text/html": [
       "<div>\n",
       "<style scoped>\n",
       "    .dataframe tbody tr th:only-of-type {\n",
       "        vertical-align: middle;\n",
       "    }\n",
       "\n",
       "    .dataframe tbody tr th {\n",
       "        vertical-align: top;\n",
       "    }\n",
       "\n",
       "    .dataframe thead th {\n",
       "        text-align: right;\n",
       "    }\n",
       "</style>\n",
       "<table border=\"1\" class=\"dataframe\">\n",
       "  <thead>\n",
       "    <tr style=\"text-align: right;\">\n",
       "      <th></th>\n",
       "      <th>Coef.</th>\n",
       "      <th>Std.Err.</th>\n",
       "      <th>t</th>\n",
       "      <th>P&gt;|t|</th>\n",
       "    </tr>\n",
       "  </thead>\n",
       "  <tbody>\n",
       "    <tr>\n",
       "      <th>Intercept</th>\n",
       "      <td>1.264</td>\n",
       "      <td>0.333</td>\n",
       "      <td>3.793</td>\n",
       "      <td>0.000</td>\n",
       "    </tr>\n",
       "    <tr>\n",
       "      <th>PC</th>\n",
       "      <td>0.157</td>\n",
       "      <td>0.057</td>\n",
       "      <td>2.746</td>\n",
       "      <td>0.007</td>\n",
       "    </tr>\n",
       "    <tr>\n",
       "      <th>hsGPA</th>\n",
       "      <td>0.447</td>\n",
       "      <td>0.094</td>\n",
       "      <td>4.776</td>\n",
       "      <td>0.000</td>\n",
       "    </tr>\n",
       "    <tr>\n",
       "      <th>ACT</th>\n",
       "      <td>0.009</td>\n",
       "      <td>0.011</td>\n",
       "      <td>0.822</td>\n",
       "      <td>0.413</td>\n",
       "    </tr>\n",
       "  </tbody>\n",
       "</table>\n",
       "</div>"
      ],
      "text/plain": [
       "           Coef.  Std.Err.      t  P>|t|\n",
       "Intercept  1.264     0.333  3.793  0.000\n",
       "PC         0.157     0.057  2.746  0.007\n",
       "hsGPA      0.447     0.094  4.776  0.000\n",
       "ACT        0.009     0.011  0.822  0.413"
      ]
     },
     "execution_count": 9,
     "metadata": {},
     "output_type": "execute_result"
    }
   ],
   "source": [
    "model02= smf.ols(formula='colGPA ~ PC + hsGPA + ACT', data=gpa1).fit()\n",
    "report(model02)"
   ]
  },
  {
   "cell_type": "markdown",
   "id": "50767c5a",
   "metadata": {},
   "source": [
    "A student who has pc is expected to score on average 0.16 higher than other students with same ACT and high school GPA scores "
   ]
  },
  {
   "cell_type": "markdown",
   "id": "a0db9802",
   "metadata": {},
   "source": [
    "hsGPA is statically significant, so dropping it can change the coefficient of PC"
   ]
  },
  {
   "cell_type": "markdown",
   "id": "1c95435d",
   "metadata": {},
   "source": [
    "### 7.3 Effects of Training Grants on Hours of Training"
   ]
  },
  {
   "cell_type": "code",
   "execution_count": 10,
   "id": "9219390c",
   "metadata": {},
   "outputs": [
    {
     "name": "stdout",
     "output_type": "stream",
     "text": [
      "name of dataset: jtrain\n",
      "no of variables: 30\n",
      "no of observations: 471\n",
      "\n",
      "+----------+---------------------------------+\n",
      "| variable | label                           |\n",
      "+----------+---------------------------------+\n",
      "| year     | 1987, 1988, or 1989             |\n",
      "| fcode    | firm code number                |\n",
      "| employ   | # employees at plant            |\n",
      "| sales    | annual sales, $                 |\n",
      "| avgsal   | average employee salary         |\n",
      "| scrap    | scrap rate (per 100 items)      |\n",
      "| rework   | rework rate (per 100 items)     |\n",
      "| tothrs   | total hours training            |\n",
      "| union    | =1 if unionized                 |\n",
      "| grant    | = 1 if received grant           |\n",
      "| d89      | = 1 if year = 1989              |\n",
      "| d88      | = 1 if year = 1988              |\n",
      "| totrain  | total employees trained         |\n",
      "| hrsemp   | tothrs/totrain                  |\n",
      "| lscrap   | log(scrap)                      |\n",
      "| lemploy  | log(employ)                     |\n",
      "| lsales   | log(sales)                      |\n",
      "| lrework  | log(rework)                     |\n",
      "| lhrsemp  | log(1 + hrsemp)                 |\n",
      "| lscrap_1 | lagged lscrap; missing 1987     |\n",
      "| grant_1  | lagged grant; assumed 0 in 1987 |\n",
      "| clscrap  | lscrap - lscrap_1; year > 1987  |\n",
      "| cgrant   | grant - grant_1                 |\n",
      "| clemploy | lemploy - lemploy[_n-1]         |\n",
      "| clsales  | lavgsal - lavgsal[_n-1]         |\n",
      "| lavgsal  | log(avgsal)                     |\n",
      "| clavgsal | lavgsal - lavgsal[_n-1]         |\n",
      "| cgrant_1 | cgrant[_n-1]                    |\n",
      "| chrsemp  | hrsemp - hrsemp[_n-1]           |\n",
      "| clhrsemp | lhrsemp - lhrsemp[_n-1]         |\n",
      "+----------+---------------------------------+\n",
      "\n",
      "H. Holzer, R. Block, M. Cheatham, and J. Knott (1993), “Are Training\n",
      "Subsidies Effective? The Michigan Experience,” Industrial and Labor\n",
      "Relations Review 46, 625-636. The authors kindly provided the data.\n"
     ]
    }
   ],
   "source": [
    "wooldridge.data('jtrain', description= True)"
   ]
  },
  {
   "cell_type": "code",
   "execution_count": 11,
   "id": "5b4d47c6",
   "metadata": {},
   "outputs": [
    {
     "name": "stdout",
     "output_type": "stream",
     "text": [
      "Model info: R² = 0.237, n = 105, SE = 24.38\n"
     ]
    },
    {
     "data": {
      "text/html": [
       "<div>\n",
       "<style scoped>\n",
       "    .dataframe tbody tr th:only-of-type {\n",
       "        vertical-align: middle;\n",
       "    }\n",
       "\n",
       "    .dataframe tbody tr th {\n",
       "        vertical-align: top;\n",
       "    }\n",
       "\n",
       "    .dataframe thead th {\n",
       "        text-align: right;\n",
       "    }\n",
       "</style>\n",
       "<table border=\"1\" class=\"dataframe\">\n",
       "  <thead>\n",
       "    <tr style=\"text-align: right;\">\n",
       "      <th></th>\n",
       "      <th>Coef.</th>\n",
       "      <th>Std.Err.</th>\n",
       "      <th>t</th>\n",
       "      <th>P&gt;|t|</th>\n",
       "    </tr>\n",
       "  </thead>\n",
       "  <tbody>\n",
       "    <tr>\n",
       "      <th>Intercept</th>\n",
       "      <td>46.665</td>\n",
       "      <td>43.412</td>\n",
       "      <td>1.075</td>\n",
       "      <td>0.285</td>\n",
       "    </tr>\n",
       "    <tr>\n",
       "      <th>grant</th>\n",
       "      <td>26.254</td>\n",
       "      <td>5.592</td>\n",
       "      <td>4.695</td>\n",
       "      <td>0.000</td>\n",
       "    </tr>\n",
       "    <tr>\n",
       "      <th>lsales</th>\n",
       "      <td>-0.985</td>\n",
       "      <td>3.540</td>\n",
       "      <td>-0.278</td>\n",
       "      <td>0.781</td>\n",
       "    </tr>\n",
       "    <tr>\n",
       "      <th>lemploy</th>\n",
       "      <td>-6.070</td>\n",
       "      <td>3.883</td>\n",
       "      <td>-1.563</td>\n",
       "      <td>0.121</td>\n",
       "    </tr>\n",
       "  </tbody>\n",
       "</table>\n",
       "</div>"
      ],
      "text/plain": [
       "            Coef.  Std.Err.      t  P>|t|\n",
       "Intercept  46.665    43.412  1.075  0.285\n",
       "grant      26.254     5.592  4.695  0.000\n",
       "lsales     -0.985     3.540 -0.278  0.781\n",
       "lemploy    -6.070     3.883 -1.563  0.121"
      ]
     },
     "execution_count": 11,
     "metadata": {},
     "output_type": "execute_result"
    }
   ],
   "source": [
    "df = jtrain.copy()\n",
    "df = df[df['year'] == 1988]\n",
    "model03 = smf.ols('hrsemp ~ grant + lsales + lemploy', data = df ).fit()\n",
    "report(model03)"
   ]
  },
  {
   "cell_type": "markdown",
   "id": "c2cc2257",
   "metadata": {},
   "source": [
    "We used hrsemp in level form because it is zero in many rows  \n",
    "grant is statistically significant with a large coefficient"
   ]
  },
  {
   "cell_type": "markdown",
   "id": "d2a2eba6",
   "metadata": {},
   "source": [
    "### 7.4 Housing Price Regression"
   ]
  },
  {
   "cell_type": "code",
   "execution_count": 12,
   "id": "4084a31e",
   "metadata": {},
   "outputs": [
    {
     "name": "stdout",
     "output_type": "stream",
     "text": [
      "name of dataset: hprice1\n",
      "no of variables: 10\n",
      "no of observations: 88\n",
      "\n",
      "+----------+------------------------------+\n",
      "| variable | label                        |\n",
      "+----------+------------------------------+\n",
      "| price    | house price, $1000s          |\n",
      "| assess   | assessed value, $1000s       |\n",
      "| bdrms    | number of bdrms              |\n",
      "| lotsize  | size of lot in square feet   |\n",
      "| sqrft    | size of house in square feet |\n",
      "| colonial | =1 if home is colonial style |\n",
      "| lprice   | log(price)                   |\n",
      "| lassess  | log(assess                   |\n",
      "| llotsize | log(lotsize)                 |\n",
      "| lsqrft   | log(sqrft)                   |\n",
      "+----------+------------------------------+\n",
      "\n",
      "Collected from the real estate pages of the Boston Globe during 1990.\n",
      "These are homes that sold in the Boston, MA area.\n"
     ]
    }
   ],
   "source": [
    "wooldridge.data('hprice1', description = True)"
   ]
  },
  {
   "cell_type": "code",
   "execution_count": 13,
   "id": "bb3d7baf",
   "metadata": {},
   "outputs": [
    {
     "name": "stdout",
     "output_type": "stream",
     "text": [
      "Model info: R² = 0.649, n = 88, SE = 0.184\n"
     ]
    },
    {
     "data": {
      "text/html": [
       "<div>\n",
       "<style scoped>\n",
       "    .dataframe tbody tr th:only-of-type {\n",
       "        vertical-align: middle;\n",
       "    }\n",
       "\n",
       "    .dataframe tbody tr th {\n",
       "        vertical-align: top;\n",
       "    }\n",
       "\n",
       "    .dataframe thead th {\n",
       "        text-align: right;\n",
       "    }\n",
       "</style>\n",
       "<table border=\"1\" class=\"dataframe\">\n",
       "  <thead>\n",
       "    <tr style=\"text-align: right;\">\n",
       "      <th></th>\n",
       "      <th>Coef.</th>\n",
       "      <th>Std.Err.</th>\n",
       "      <th>t</th>\n",
       "      <th>P&gt;|t|</th>\n",
       "    </tr>\n",
       "  </thead>\n",
       "  <tbody>\n",
       "    <tr>\n",
       "      <th>Intercept</th>\n",
       "      <td>-1.350</td>\n",
       "      <td>0.651</td>\n",
       "      <td>-2.073</td>\n",
       "      <td>0.041</td>\n",
       "    </tr>\n",
       "    <tr>\n",
       "      <th>llotsize</th>\n",
       "      <td>0.168</td>\n",
       "      <td>0.038</td>\n",
       "      <td>4.395</td>\n",
       "      <td>0.000</td>\n",
       "    </tr>\n",
       "    <tr>\n",
       "      <th>lsqrft</th>\n",
       "      <td>0.707</td>\n",
       "      <td>0.093</td>\n",
       "      <td>7.620</td>\n",
       "      <td>0.000</td>\n",
       "    </tr>\n",
       "    <tr>\n",
       "      <th>bdrms</th>\n",
       "      <td>0.027</td>\n",
       "      <td>0.029</td>\n",
       "      <td>0.934</td>\n",
       "      <td>0.353</td>\n",
       "    </tr>\n",
       "    <tr>\n",
       "      <th>colonial</th>\n",
       "      <td>0.054</td>\n",
       "      <td>0.045</td>\n",
       "      <td>1.202</td>\n",
       "      <td>0.233</td>\n",
       "    </tr>\n",
       "  </tbody>\n",
       "</table>\n",
       "</div>"
      ],
      "text/plain": [
       "           Coef.  Std.Err.      t  P>|t|\n",
       "Intercept -1.350     0.651 -2.073  0.041\n",
       "llotsize   0.168     0.038  4.395  0.000\n",
       "lsqrft     0.707     0.093  7.620  0.000\n",
       "bdrms      0.027     0.029  0.934  0.353\n",
       "colonial   0.054     0.045  1.202  0.233"
      ]
     },
     "execution_count": 13,
     "metadata": {},
     "output_type": "execute_result"
    }
   ],
   "source": [
    "model04 = smf.ols('lprice ~ llotsize + lsqrft + bdrms + colonial', data = hprice1).fit()\n",
    "report(model04)"
   ]
  },
  {
   "cell_type": "markdown",
   "id": "8b1a88e3",
   "metadata": {},
   "source": [
    "Controlling for lotsize, bdrms, sqrft, colonial style house is priced $5.4\\%$ more than non colonial style house "
   ]
  },
  {
   "cell_type": "markdown",
   "id": "bc89aa78",
   "metadata": {},
   "source": [
    "### 7.5 Log Hourly Wage Equation"
   ]
  },
  {
   "cell_type": "code",
   "execution_count": 14,
   "id": "4b668b02",
   "metadata": {},
   "outputs": [
    {
     "name": "stdout",
     "output_type": "stream",
     "text": [
      "Model info: R² = 0.441, n = 526, SE = 0.4\n"
     ]
    },
    {
     "data": {
      "text/html": [
       "<div>\n",
       "<style scoped>\n",
       "    .dataframe tbody tr th:only-of-type {\n",
       "        vertical-align: middle;\n",
       "    }\n",
       "\n",
       "    .dataframe tbody tr th {\n",
       "        vertical-align: top;\n",
       "    }\n",
       "\n",
       "    .dataframe thead th {\n",
       "        text-align: right;\n",
       "    }\n",
       "</style>\n",
       "<table border=\"1\" class=\"dataframe\">\n",
       "  <thead>\n",
       "    <tr style=\"text-align: right;\">\n",
       "      <th></th>\n",
       "      <th>Coef.</th>\n",
       "      <th>Std.Err.</th>\n",
       "      <th>t</th>\n",
       "      <th>P&gt;|t|</th>\n",
       "    </tr>\n",
       "  </thead>\n",
       "  <tbody>\n",
       "    <tr>\n",
       "      <th>Intercept</th>\n",
       "      <td>0.417</td>\n",
       "      <td>0.099</td>\n",
       "      <td>4.212</td>\n",
       "      <td>0.000</td>\n",
       "    </tr>\n",
       "    <tr>\n",
       "      <th>female</th>\n",
       "      <td>-0.297</td>\n",
       "      <td>0.036</td>\n",
       "      <td>-8.281</td>\n",
       "      <td>0.000</td>\n",
       "    </tr>\n",
       "    <tr>\n",
       "      <th>educ</th>\n",
       "      <td>0.080</td>\n",
       "      <td>0.007</td>\n",
       "      <td>11.868</td>\n",
       "      <td>0.000</td>\n",
       "    </tr>\n",
       "    <tr>\n",
       "      <th>exper</th>\n",
       "      <td>0.029</td>\n",
       "      <td>0.005</td>\n",
       "      <td>5.916</td>\n",
       "      <td>0.000</td>\n",
       "    </tr>\n",
       "    <tr>\n",
       "      <th>expersq</th>\n",
       "      <td>-0.001</td>\n",
       "      <td>0.000</td>\n",
       "      <td>-5.431</td>\n",
       "      <td>0.000</td>\n",
       "    </tr>\n",
       "    <tr>\n",
       "      <th>tenure</th>\n",
       "      <td>0.032</td>\n",
       "      <td>0.007</td>\n",
       "      <td>4.633</td>\n",
       "      <td>0.000</td>\n",
       "    </tr>\n",
       "    <tr>\n",
       "      <th>tenursq</th>\n",
       "      <td>-0.001</td>\n",
       "      <td>0.000</td>\n",
       "      <td>-2.493</td>\n",
       "      <td>0.013</td>\n",
       "    </tr>\n",
       "  </tbody>\n",
       "</table>\n",
       "</div>"
      ],
      "text/plain": [
       "           Coef.  Std.Err.       t  P>|t|\n",
       "Intercept  0.417     0.099   4.212  0.000\n",
       "female    -0.297     0.036  -8.281  0.000\n",
       "educ       0.080     0.007  11.868  0.000\n",
       "exper      0.029     0.005   5.916  0.000\n",
       "expersq   -0.001     0.000  -5.431  0.000\n",
       "tenure     0.032     0.007   4.633  0.000\n",
       "tenursq   -0.001     0.000  -2.493  0.013"
      ]
     },
     "execution_count": 14,
     "metadata": {},
     "output_type": "execute_result"
    }
   ],
   "source": [
    "model05 = smf.ols('lwage ~ female + educ + exper + expersq + tenure + tenursq', data = wage1).fit()\n",
    "report(model05)"
   ]
  },
  {
   "cell_type": "markdown",
   "id": "fe90560d",
   "metadata": {},
   "source": [
    "Controlling for educ, exper, tenure, women earn less than men by around 29.7%  \n",
    "A better approximation is $$\\exp(\\hat \\beta) - 1 $$  \n",
    "$\\exp(-0.297) - 1 \\approx -0.257$, women earn less than comparable men by 25.7%"
   ]
  },
  {
   "cell_type": "markdown",
   "id": "1679ce83",
   "metadata": {},
   "source": [
    "### 7.6 Log Hourly Wage Equation"
   ]
  },
  {
   "cell_type": "code",
   "execution_count": 15,
   "id": "4b8c376f",
   "metadata": {},
   "outputs": [
    {
     "name": "stdout",
     "output_type": "stream",
     "text": [
      "name of dataset: wage1\n",
      "no of variables: 24\n",
      "no of observations: 526\n",
      "\n",
      "+----------+---------------------------------+\n",
      "| variable | label                           |\n",
      "+----------+---------------------------------+\n",
      "| wage     | average hourly earnings         |\n",
      "| educ     | years of education              |\n",
      "| exper    | years potential experience      |\n",
      "| tenure   | years with current employer     |\n",
      "| nonwhite | =1 if nonwhite                  |\n",
      "| female   | =1 if female                    |\n",
      "| married  | =1 if married                   |\n",
      "| numdep   | number of dependents            |\n",
      "| smsa     | =1 if live in SMSA              |\n",
      "| northcen | =1 if live in north central U.S |\n",
      "| south    | =1 if live in southern region   |\n",
      "| west     | =1 if live in western region    |\n",
      "| construc | =1 if work in construc. indus.  |\n",
      "| ndurman  | =1 if in nondur. manuf. indus.  |\n",
      "| trcommpu | =1 if in trans, commun, pub ut  |\n",
      "| trade    | =1 if in wholesale or retail    |\n",
      "| services | =1 if in services indus.        |\n",
      "| profserv | =1 if in prof. serv. indus.     |\n",
      "| profocc  | =1 if in profess. occupation    |\n",
      "| clerocc  | =1 if in clerical occupation    |\n",
      "| servocc  | =1 if in service occupation     |\n",
      "| lwage    | log(wage)                       |\n",
      "| expersq  | exper^2                         |\n",
      "| tenursq  | tenure^2                        |\n",
      "+----------+---------------------------------+\n",
      "\n",
      "These are data from the 1976 Current Population Survey, collected by\n",
      "Henry Farber when he and I were colleagues at MIT in 1988.\n"
     ]
    }
   ],
   "source": [
    "wooldridge.data('wage1', description= True)"
   ]
  },
  {
   "cell_type": "code",
   "execution_count": 16,
   "id": "8ec349fd",
   "metadata": {},
   "outputs": [],
   "source": [
    "df = wage1.copy()\n",
    "df['marrmale'] = ((df['female'] == 0) & (df['married'] == 1)).astype(int)\n",
    "df['marrfem'] = ((df['female'] == 1) & (df['married'] == 1)).astype(int)\n",
    "df['singfem'] = ((df['female'] == 1) & (df['married'] == 0)).astype(int)"
   ]
  },
  {
   "cell_type": "code",
   "execution_count": 17,
   "id": "d3e4150d",
   "metadata": {},
   "outputs": [
    {
     "name": "stdout",
     "output_type": "stream",
     "text": [
      "Model info: R² = 0.461, n = 526, SE = 0.393\n"
     ]
    },
    {
     "data": {
      "text/html": [
       "<div>\n",
       "<style scoped>\n",
       "    .dataframe tbody tr th:only-of-type {\n",
       "        vertical-align: middle;\n",
       "    }\n",
       "\n",
       "    .dataframe tbody tr th {\n",
       "        vertical-align: top;\n",
       "    }\n",
       "\n",
       "    .dataframe thead th {\n",
       "        text-align: right;\n",
       "    }\n",
       "</style>\n",
       "<table border=\"1\" class=\"dataframe\">\n",
       "  <thead>\n",
       "    <tr style=\"text-align: right;\">\n",
       "      <th></th>\n",
       "      <th>Coef.</th>\n",
       "      <th>Std.Err.</th>\n",
       "      <th>t</th>\n",
       "      <th>P&gt;|t|</th>\n",
       "    </tr>\n",
       "  </thead>\n",
       "  <tbody>\n",
       "    <tr>\n",
       "      <th>Intercept</th>\n",
       "      <td>0.321</td>\n",
       "      <td>0.100</td>\n",
       "      <td>3.213</td>\n",
       "      <td>0.001</td>\n",
       "    </tr>\n",
       "    <tr>\n",
       "      <th>marrmale</th>\n",
       "      <td>0.213</td>\n",
       "      <td>0.055</td>\n",
       "      <td>3.842</td>\n",
       "      <td>0.000</td>\n",
       "    </tr>\n",
       "    <tr>\n",
       "      <th>marrfem</th>\n",
       "      <td>-0.198</td>\n",
       "      <td>0.058</td>\n",
       "      <td>-3.428</td>\n",
       "      <td>0.001</td>\n",
       "    </tr>\n",
       "    <tr>\n",
       "      <th>singfem</th>\n",
       "      <td>-0.110</td>\n",
       "      <td>0.056</td>\n",
       "      <td>-1.980</td>\n",
       "      <td>0.048</td>\n",
       "    </tr>\n",
       "    <tr>\n",
       "      <th>educ</th>\n",
       "      <td>0.079</td>\n",
       "      <td>0.007</td>\n",
       "      <td>11.787</td>\n",
       "      <td>0.000</td>\n",
       "    </tr>\n",
       "    <tr>\n",
       "      <th>exper</th>\n",
       "      <td>0.027</td>\n",
       "      <td>0.005</td>\n",
       "      <td>5.112</td>\n",
       "      <td>0.000</td>\n",
       "    </tr>\n",
       "    <tr>\n",
       "      <th>expersq</th>\n",
       "      <td>-0.001</td>\n",
       "      <td>0.000</td>\n",
       "      <td>-4.847</td>\n",
       "      <td>0.000</td>\n",
       "    </tr>\n",
       "    <tr>\n",
       "      <th>tenure</th>\n",
       "      <td>0.029</td>\n",
       "      <td>0.007</td>\n",
       "      <td>4.302</td>\n",
       "      <td>0.000</td>\n",
       "    </tr>\n",
       "    <tr>\n",
       "      <th>tenursq</th>\n",
       "      <td>-0.001</td>\n",
       "      <td>0.000</td>\n",
       "      <td>-2.306</td>\n",
       "      <td>0.022</td>\n",
       "    </tr>\n",
       "  </tbody>\n",
       "</table>\n",
       "</div>"
      ],
      "text/plain": [
       "           Coef.  Std.Err.       t  P>|t|\n",
       "Intercept  0.321     0.100   3.213  0.001\n",
       "marrmale   0.213     0.055   3.842  0.000\n",
       "marrfem   -0.198     0.058  -3.428  0.001\n",
       "singfem   -0.110     0.056  -1.980  0.048\n",
       "educ       0.079     0.007  11.787  0.000\n",
       "exper      0.027     0.005   5.112  0.000\n",
       "expersq   -0.001     0.000  -4.847  0.000\n",
       "tenure     0.029     0.007   4.302  0.000\n",
       "tenursq   -0.001     0.000  -2.306  0.022"
      ]
     },
     "execution_count": 17,
     "metadata": {},
     "output_type": "execute_result"
    }
   ],
   "source": [
    "model06 = smf.ols('lwage ~ marrmale + marrfem + singfem + educ  + exper + expersq + tenure + tenursq', data=df).fit()\n",
    "report(model06)"
   ]
  },
  {
   "cell_type": "markdown",
   "id": "1d23f736",
   "metadata": {},
   "source": [
    "All the coefficients are statistically significant. Base group for the dummy variables is single males.  \n",
    "Married men are expected to earn more than single men by 21.3% with the same education, experience and tenure, while married women earns 19.8% less"
   ]
  },
  {
   "cell_type": "markdown",
   "id": "c57bab6a",
   "metadata": {},
   "source": [
    "### 7.7 Effects of Physical Attractiveness on Wage"
   ]
  },
  {
   "cell_type": "code",
   "execution_count": 18,
   "id": "82dc2d45",
   "metadata": {},
   "outputs": [
    {
     "name": "stdout",
     "output_type": "stream",
     "text": [
      "name of dataset: beauty\n",
      "no of variables: 17\n",
      "no of observations: 1260\n",
      "\n",
      "+----------+-------------------------------+\n",
      "| variable | label                         |\n",
      "+----------+-------------------------------+\n",
      "| wage     | hourly wage                   |\n",
      "| lwage    | log(wage)                     |\n",
      "| belavg   | =1 if looks <= 2              |\n",
      "| abvavg   | =1 if looks >=4               |\n",
      "| exper    | years of workforce experience |\n",
      "| looks    | from 1 to 5                   |\n",
      "| union    | =1 if union member            |\n",
      "| goodhlth | =1 if good health             |\n",
      "| black    | =1 if black                   |\n",
      "| female   | =1 if female                  |\n",
      "| married  | =1 if married                 |\n",
      "| south    | =1 if live in south           |\n",
      "| bigcity  | =1 if live in big city        |\n",
      "| smllcity | =1 if live in small city      |\n",
      "| service  | =1 if service industry        |\n",
      "| expersq  | exper^2                       |\n",
      "| educ     | years of schooling            |\n",
      "+----------+-------------------------------+\n",
      "\n",
      "Hamermesh, D.S. and J.E. Biddle (1994), “Beauty and the Labor Market,”\n",
      "American Economic Review 84, 1174-1194. Professor Hamermesh kindly\n",
      "provided me with the data. For manageability, I have included only a\n",
      "subset of the variables, which results in somewhat larger sample sizes\n",
      "than reported for the regressions in the Hamermesh and Biddle paper.\n"
     ]
    }
   ],
   "source": [
    "wooldridge.data('beauty', description= True)"
   ]
  },
  {
   "cell_type": "markdown",
   "id": "013cf264",
   "metadata": {},
   "source": [
    "### 7.8 Effects of Law School Rankings on Starting Salaries"
   ]
  },
  {
   "cell_type": "markdown",
   "id": "00646c14",
   "metadata": {},
   "source": [
    "### 7.9 Effects of Computer Usage on Wages"
   ]
  },
  {
   "cell_type": "markdown",
   "id": "c501865c",
   "metadata": {},
   "source": [
    "### 7.10 Log Hourly Wage Equation"
   ]
  },
  {
   "cell_type": "markdown",
   "id": "c1a0191a",
   "metadata": {},
   "source": [
    "### 7.11 Effects of Race on Baseball Player Salaries"
   ]
  },
  {
   "cell_type": "markdown",
   "id": "05f19484",
   "metadata": {},
   "source": [
    "### 7.12 A Linear Probability Model of Arrests"
   ]
  },
  {
   "cell_type": "markdown",
   "id": "045f69e3",
   "metadata": {},
   "source": [
    "### 7.13 Evaluating a Job Training Program using Unrestricted Regression Adjustment"
   ]
  },
  {
   "cell_type": "markdown",
   "id": "6466a3f5",
   "metadata": {},
   "source": [
    "## 🚧Computer Exercises"
   ]
  }
 ],
 "metadata": {
  "kernelspec": {
   "display_name": "base",
   "language": "python",
   "name": "python3"
  },
  "language_info": {
   "codemirror_mode": {
    "name": "ipython",
    "version": 3
   },
   "file_extension": ".py",
   "mimetype": "text/x-python",
   "name": "python",
   "nbconvert_exporter": "python",
   "pygments_lexer": "ipython3",
   "version": "3.12.11"
  }
 },
 "nbformat": 4,
 "nbformat_minor": 5
}
